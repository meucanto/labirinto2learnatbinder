{
 "cells": [
  {
   "cell_type": "markdown",
   "metadata": {},
   "source": [
    "### Starting the publishers\n",
    "\n",
    "Both scripts [publisher-g1.py](./publisher-g1.py) and [publisher-uol.py](./publisher-uol.py) will retrieve news from [RSS / XML](https://en.wikipedia.org/wiki/RSS) sources and publish them in the broker accordingly the following JSON structure:\n",
    "\n",
    "```json\n",
    "    {'title':   \"Titulo da noticia\",\n",
    "     'summary': \"Resumo da noticia\",\n",
    "     'link':    \"http://...\",\n",
    "     'source':  \"uol\",\n",
    "     'author':  \"Asdrubal\"\n",
    "     }\n",
    "```"
   ]
  },
  {
   "cell_type": "code",
   "execution_count": null,
   "metadata": {},
   "outputs": [],
   "source": [
    "import subprocess\n",
    "publisher1 = subprocess.Popen([\"python3\",\"publisher-g1.py\"])\n",
    "publisher2 = subprocess.Popen([\"python3\",\"publisher-uol.py\"])"
   ]
  },
  {
   "cell_type": "markdown",
   "metadata": {},
   "source": [
    "### Terminal-based consumer \n",
    "\n",
    "Open a terminal and listen to the `news/stream` topic in the broker. \n",
    "\n",
    "In a terminal session enter:\n",
    "```bash\n",
    "mosquitto_sub -t \"news/stream\"\n",
    "```"
   ]
  },
  {
   "cell_type": "markdown",
   "metadata": {},
   "source": [
    "### Connecting to the local MQTT broker"
   ]
  },
  {
   "cell_type": "code",
   "execution_count": null,
   "metadata": {},
   "outputs": [],
   "source": [
    "import paho.mqtt.client as paho\n",
    "import json\n",
    "from IPython.display import clear_output\n",
    "from IPython.core.display import display, HTML\n",
    "\n",
    "broker = \"localhost\" \n",
    "port = 1883\n",
    "\n",
    "client1 = paho.Client(\"client1\")                      #create client object\n",
    "\n",
    "c = client1.connect(broker,port)                      #establishing the connection"
   ]
  },
  {
   "cell_type": "markdown",
   "metadata": {},
   "source": [
    "### Subscribing to the \"news/stream\" topic"
   ]
  },
  {
   "cell_type": "code",
   "execution_count": null,
   "metadata": {},
   "outputs": [],
   "source": [
    "pub_topic=\"news/stream\"\n",
    "status = client1.subscribe(\"news/stream\")"
   ]
  },
  {
   "cell_type": "markdown",
   "metadata": {},
   "source": [
    "### Listening to all messages"
   ]
  },
  {
   "cell_type": "code",
   "execution_count": null,
   "metadata": {},
   "outputs": [],
   "source": [
    "def on_message(client, userdata, message):\n",
    "    \n",
    "    jsonObject = json.loads(str(message.payload.decode(\"utf-8\")))\n",
    "    display(HTML('<a target=\"_blank\" href=\"{0}\"> {1} </a>'.format(jsonObject['link'],jsonObject['title'])))\n",
    "    print(\"msg.topic:     {0}\"   .format(message.topic))\n",
    "    print(\"news.title:    {0}\"   .format(jsonObject['title']))\n",
    "    print(\"news.source:   {0}\"   .format(jsonObject['source']))\n",
    "    print(\"news.author:   {0}\"   .format(jsonObject['author']))\n",
    "    print(\"news.approved: {0}\"   .format(jsonObject['approved']))\n",
    "    clear_output(wait=True)\n",
    "    \n",
    "client1.on_message = on_message\n",
    "client1.loop_start()    #start the loop\n",
    "clear_output(wait=True)"
   ]
  },
  {
   "cell_type": "markdown",
   "metadata": {},
   "source": [
    "### Filtering by the _source_ field (g1)"
   ]
  },
  {
   "cell_type": "code",
   "execution_count": null,
   "metadata": {},
   "outputs": [],
   "source": [
    "def on_message(client, userdata, message):\n",
    "    \n",
    "    jsonObject = json.loads(str(message.payload.decode(\"utf-8\")))\n",
    "    \n",
    "    if(jsonObject['source'] == \"g1\"):\n",
    "        display(HTML('<a target=\"_blank\" href=\"{0}\"> {1} </a>'.format(jsonObject['link'],jsonObject['title'])))\n",
    "        print(\"msg.topic:     {0}\"   .format(message.topic))\n",
    "        print(\"news.title:    {0}\"   .format(jsonObject['title']))\n",
    "        print(\"news.source:   {0}\"   .format(jsonObject['source']))\n",
    "        print(\"news.author:   {0}\"   .format(jsonObject['author']))\n",
    "        print(\"news.approved: {0}\"   .format(jsonObject['approved']))\n",
    "        clear_output(wait=True)\n",
    "\n",
    "    \n",
    "client1.on_message = on_message\n",
    "client1.loop_start()           #start the loop\n",
    "clear_output(wait=True)"
   ]
  },
  {
   "cell_type": "markdown",
   "metadata": {},
   "source": [
    "### Filtering by the _author_ field (Asdrubal)"
   ]
  },
  {
   "cell_type": "code",
   "execution_count": null,
   "metadata": {},
   "outputs": [],
   "source": [
    "def on_message(client, userdata, message):\n",
    "    \n",
    "    jsonObject = json.loads(str(message.payload.decode(\"utf-8\")))\n",
    "    \n",
    "    if(jsonObject['author'] == \"Asdrubal\"):\n",
    "        display(HTML('<a target=\"_blank\" href=\"{0}\"> {1} </a>'.format(jsonObject['link'],jsonObject['title'])))\n",
    "        print(\"msg.topic:     {0}\"   .format(message.topic))\n",
    "        print(\"news.title:    {0}\"   .format(jsonObject['title']))\n",
    "        print(\"news.source:   {0}\"   .format(jsonObject['source']))\n",
    "        print(\"news.author:   {0}\"   .format(jsonObject['author']))\n",
    "        print(\"news.approved: {0}\"   .format(jsonObject['approved']))\n",
    "        clear_output(wait=True)\n",
    "\n",
    "    \n",
    "client1.on_message = on_message\n",
    "client1.loop_start()    #start the loop\n",
    "clear_output(wait=True)"
   ]
  },
  {
   "cell_type": "markdown",
   "metadata": {},
   "source": [
    "### Filtering by the _approved_ field "
   ]
  },
  {
   "cell_type": "code",
   "execution_count": null,
   "metadata": {},
   "outputs": [],
   "source": [
    "# do it yourself"
   ]
  }
 ],
 "metadata": {
  "kernelspec": {
   "display_name": "Python 3",
   "language": "python",
   "name": "python3"
  },
  "language_info": {
   "codemirror_mode": {
    "name": "ipython",
    "version": 3
   },
   "file_extension": ".py",
   "mimetype": "text/x-python",
   "name": "python",
   "nbconvert_exporter": "python",
   "pygments_lexer": "ipython3",
   "version": "3.7.3"
  }
 },
 "nbformat": 4,
 "nbformat_minor": 2
}
