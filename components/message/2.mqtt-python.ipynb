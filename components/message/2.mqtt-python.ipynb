{
 "cells": [
  {
   "cell_type": "markdown",
   "metadata": {},
   "source": [
    "### Consumindo mensagens usando Python"
   ]
  },
  {
   "cell_type": "code",
   "execution_count": null,
   "metadata": {},
   "outputs": [],
   "source": [
    "import paho.mqtt.client as paho\n",
    "from IPython.display import clear_output\n",
    "from IPython.core.display import display, HTML\n",
    "import json\n",
    "\n",
    "topic = \"news/stream/#\"\n",
    "\n",
    "client1 = paho.Client()                        # create client object\n",
    "c = client1.connect(\"localhost\",1883)          # establishing the connection\n",
    "status = client1.subscribe((topic))            # subscribing to a topic\n",
    "\n",
    "def on_message(client, userdata, message):\n",
    "    message = str(message.payload.decode(\"utf-8\"))\n",
    "    print(message)\n",
    "                  \n",
    "client1.on_message = on_message\n",
    "client1.loop_start()    "
   ]
  }
 ],
 "metadata": {
  "kernelspec": {
   "display_name": "Java",
   "language": "java",
   "name": "java"
  },
  "language_info": {
   "codemirror_mode": "text/x-java",
   "file_extension": ".java",
   "mimetype": "",
   "name": "Java",
   "nbconverter_exporter": "",
   "version": "11.0.4"
  }
 },
 "nbformat": 4,
 "nbformat_minor": 2
}
