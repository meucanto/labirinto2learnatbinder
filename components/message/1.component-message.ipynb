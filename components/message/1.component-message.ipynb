{
 "cells": [
  {
   "cell_type": "markdown",
   "metadata": {},
   "source": [
    "# Digital Content Components\n",
    "\n",
    "Learn and try to instantiate and customize Digital Content Components (DCCs) at [DCC Playground](http://datasci4health.github.io/harena-space/src/adonisjs/public/dccs/playground/).\n",
    "\n",
    "## Examples to try in the playground\n",
    "\n",
    "### `Trigger DCC`\n",
    "\n",
    "~~~html\n",
    "<dcc-trigger label=\"On\" action=\"button/on/clicked\" parameter=\"message to you\"></dcc-trigger>\n",
    "\n",
    "<div style=\"width: 100px\">\n",
    "   <dcc-trigger label=\"Check\" image=\"icons/icon-check.svg\"></dcc-trigger>\n",
    "</div>\n",
    "~~~\n",
    "\n",
    "### `Lively Talk DCC`\n",
    "\n",
    "~~~html\n",
    "<dcc-lively-talk duration=\"2s\" character=\"nurse\" speech=\"Doctor, please you have to evaluate a man\">\n",
    "</dcc-lively-talk>\n",
    "\n",
    "<dcc-lively-talk duration=\"2s\" delay=\"2s\" direction=\"right\"\n",
    "         character=\"doctor\"\n",
    "         speech=\"Ok.\">\n",
    "</dcc-lively-talk>\n",
    "~~~\n",
    "\n",
    "### `Connecting two components`\n",
    "\n",
    "~~~html\n",
    "<dcc-trigger label=\"Message\" action=\"send/message\" parameter=\"Hello man!\">\n",
    "</dcc-trigger>\n",
    "\n",
    "<dcc-lively-talk id=\"doctor\" duration=\"0s\"\n",
    "         character=\"doctor\"\n",
    "         speech=\"...\">\n",
    "  <subscribe-dcc message=\"send/message\"></subscribe>\n",
    "</dcc-lively-talk>\n",
    "~~~"
   ]
  },
  {
   "cell_type": "markdown",
   "metadata": {
    "scrolled": false
   },
   "source": [
    "# Tarefas\n",
    "\n",
    "Entre na URL (http://datasci4health.github.io/harena-space/src/adonisjs/public/dccs/playground/)\n",
    "\n",
    "## Tarefa 1\n",
    "\n",
    "Teste as composições acima.\n",
    "\n",
    "## Tarefa 2\n",
    "\n",
    "Crie um compoenente trigger com rótulo `Ativar` que envie a mensagem com parâmetro `ativar dispositivo` com o tópico `controle/dispositivo`."
   ]
  },
  {
   "cell_type": "markdown",
   "metadata": {},
   "source": []
  },
  {
   "cell_type": "markdown",
   "metadata": {},
   "source": [
    "## Tarefa 3\n",
    "\n",
    "Crie udois componentes lively talk que assinem e recebam mensagens do mesmo botão."
   ]
  },
  {
   "cell_type": "markdown",
   "metadata": {},
   "source": []
  },
  {
   "cell_type": "markdown",
   "metadata": {},
   "source": [
    "## Tarefa 4\n",
    "\n",
    "Crie três componentes lively talk que assinem três canais em níveis diferentes:\n",
    "1) Médico: Todas as notícias\n",
    "2) Enfermeira: Todas as notícias sobre doenças\n",
    "3) Paciente: Todas as notícias sobre esportes\n",
    "\n",
    "Crie dois botões, um que envie notícias uma notícia sobre medicamentos e outra sobre doenças."
   ]
  },
  {
   "cell_type": "markdown",
   "metadata": {},
   "source": []
  }
 ],
 "metadata": {
  "kernelspec": {
   "display_name": "Python 3",
   "language": "python",
   "name": "python3"
  },
  "language_info": {
   "codemirror_mode": {
    "name": "ipython",
    "version": 3
   },
   "file_extension": ".py",
   "mimetype": "text/x-python",
   "name": "python",
   "nbconvert_exporter": "python",
   "pygments_lexer": "ipython3",
   "version": "3.7.3"
  },
  "toc": {
   "base_numbering": 1,
   "nav_menu": {},
   "number_sections": false,
   "sideBar": false,
   "skip_h1_title": false,
   "title_cell": "Table of Contents",
   "title_sidebar": "Contents",
   "toc_cell": false,
   "toc_position": {},
   "toc_section_display": false,
   "toc_window_display": false
  }
 },
 "nbformat": 4,
 "nbformat_minor": 2
}
