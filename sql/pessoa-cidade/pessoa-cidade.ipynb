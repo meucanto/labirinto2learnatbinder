{
 "cells": [
  {
   "cell_type": "code",
   "execution_count": 1,
   "metadata": {},
   "outputs": [],
   "source": [
    "%defaultDatasource jdbc:h2:mem:db"
   ]
  },
  {
   "cell_type": "code",
   "execution_count": 2,
   "metadata": {},
   "outputs": [],
   "source": [
    "DROP TABLE IF EXISTS Cidade;\n",
    "DROP TABLE IF EXISTS Pessoa;"
   ]
  },
  {
   "cell_type": "code",
   "execution_count": 3,
   "metadata": {},
   "outputs": [],
   "source": [
    "-- Pessoa(nome, nome_da_mãe, ano_nascimento, nome_cidade_natal)\n",
    "--   nome_cidade_natal → CHE Cidade\n",
    "-- Cidade(nome_cidade, sigla_estado)\n",
    "\n",
    "CREATE TABLE Cidade (\n",
    "  Nome_Cidade VARCHAR(100) NOT NULL,\n",
    "  Sigla_Estado VARCHAR(2) NOT NULL,\n",
    "  PRIMARY KEY(Nome_Cidade)\n",
    ");\n",
    "\n",
    "CREATE TABLE Pessoa (\n",
    "  Nome VARCHAR(100) NOT NULL,\n",
    "  Nome_Mae VARCHAR(100),\n",
    "  Ano_Nascimento INTEGER NOT NULL,\n",
    "  Nome_Cidade_Natal VARCHAR(100) NOT NULL,\n",
    "  PRIMARY KEY(Nome),\n",
    "  FOREIGN KEY(Nome_Mae)\n",
    "    REFERENCES Pessoa(Nome)\n",
    "      ON DELETE NO ACTION\n",
    "      ON UPDATE NO ACTION,\n",
    "  FOREIGN KEY(Nome_Cidade_Natal)\n",
    "    REFERENCES Cidade(Nome_Cidade)\n",
    "      ON DELETE NO ACTION\n",
    "      ON UPDATE NO ACTION\n",
    ");"
   ]
  },
  {
   "cell_type": "code",
   "execution_count": 4,
   "metadata": {},
   "outputs": [],
   "source": [
    "INSERT INTO Cidade VALUES ('Salvador', 'BA');\n",
    "INSERT INTO Cidade VALUES ('Itabuna', 'BA');\n",
    "INSERT INTO Cidade VALUES ('Campinas', 'SP');\n",
    "INSERT INTO Cidade VALUES ('Petrolina', 'PE');\n",
    "INSERT INTO Cidade VALUES ('Juazeiro', 'BA');\n",
    "\n",
    "INSERT INTO Pessoa VALUES ('Melissa', NULL, 1930, 'Salvador');\n",
    "INSERT INTO Pessoa VALUES ('Asdrubal', 'Melissa', 1970, 'Salvador');\n",
    "INSERT INTO Pessoa VALUES ('Quincas', 'Melissa', 1973, 'Salvador');\n",
    "INSERT INTO Pessoa VALUES ('Doriana', NULL, 1970, 'Campinas');\n",
    "INSERT INTO Pessoa VALUES ('Alcebiades', 'Doriana', 2010, 'Campinas');\n",
    "INSERT INTO Pessoa VALUES ('Lucinda', 'Melissa', 1970, 'Itabuna');\n",
    "INSERT INTO Pessoa VALUES ('Mirabela', 'Melissa', 1972, 'Salvador');\n",
    "\n",
    "INSERT INTO Pessoa VALUES ('Horacio Junior', 'Lucinda', 1998, 'Itabuna');\n",
    "INSERT INTO Pessoa VALUES ('Tecodonte', 'Lucinda', 2000, 'Petrolina');\n",
    "INSERT INTO Pessoa VALUES ('Piteco', 'Mirabela', 2001, 'Juazeiro');\n",
    "INSERT INTO Pessoa VALUES ('Melissinha', 'Mirabela', 2003, 'Juazeiro');"
   ]
  },
  {
   "cell_type": "code",
   "execution_count": 5,
   "metadata": {},
   "outputs": [
    {
     "data": {
      "application/vnd.jupyter.widget-view+json": {
       "model_id": "40232eb6-abd8-4a3b-96fd-5271e31b7c3b",
       "version_major": 2,
       "version_minor": 0
      },
      "method": "display_data"
     },
     "metadata": {},
     "output_type": "display_data"
    }
   ],
   "source": [
    "SELECT * FROM Cidade;"
   ]
  },
  {
   "cell_type": "code",
   "execution_count": 6,
   "metadata": {},
   "outputs": [
    {
     "data": {
      "application/vnd.jupyter.widget-view+json": {
       "model_id": "ff07be79-dd7b-4745-82d0-54ee4272a65b",
       "version_major": 2,
       "version_minor": 0
      },
      "method": "display_data"
     },
     "metadata": {},
     "output_type": "display_data"
    }
   ],
   "source": [
    "SELECT * FROM Pessoa;"
   ]
  },
  {
   "cell_type": "code",
   "execution_count": 7,
   "metadata": {},
   "outputs": [
    {
     "data": {
      "application/vnd.jupyter.widget-view+json": {
       "model_id": "194c7433-b01e-493c-810c-8b29a6226523",
       "version_major": 2,
       "version_minor": 0
      },
      "method": "display_data"
     },
     "metadata": {},
     "output_type": "display_data"
    }
   ],
   "source": [
    "SELECT DISTINCT Nome_Mae FROM Pessoa WHERE Nome_Mae IS NOT NULL;"
   ]
  },
  {
   "cell_type": "code",
   "execution_count": 8,
   "metadata": {},
   "outputs": [
    {
     "data": {
      "application/vnd.jupyter.widget-view+json": {
       "model_id": "8b42cb2d-f007-4b90-8b8f-5631a889a76e",
       "version_major": 2,
       "version_minor": 0
      },
      "method": "display_data"
     },
     "metadata": {},
     "output_type": "display_data"
    }
   ],
   "source": [
    "SELECT DISTINCT Nome_Mae\n",
    "       FROM Pessoa\n",
    "       WHERE Nome_Mae IS NOT NULL AND\n",
    "             Ano_Nascimento <= 2009;"
   ]
  },
  {
   "cell_type": "code",
   "execution_count": 9,
   "metadata": {},
   "outputs": [
    {
     "data": {
      "application/vnd.jupyter.widget-view+json": {
       "model_id": "86ce675a-be16-48b3-a31d-3bd9b121fde2",
       "version_major": 2,
       "version_minor": 0
      },
      "method": "display_data"
     },
     "metadata": {},
     "output_type": "display_data"
    }
   ],
   "source": [
    "SELECT P.Nome, C.Sigla_Estado\n",
    "       FROM Pessoa P, Cidade C\n",
    "       WHERE P.Nome_Cidade_Natal = C.Nome_Cidade AND C.Sigla_Estado = 'SP';"
   ]
  },
  {
   "cell_type": "code",
   "execution_count": 10,
   "metadata": {},
   "outputs": [
    {
     "data": {
      "application/vnd.jupyter.widget-view+json": {
       "model_id": "097668cd-5b45-4725-b85a-a65470074f9f",
       "version_major": 2,
       "version_minor": 0
      },
      "method": "display_data"
     },
     "metadata": {},
     "output_type": "display_data"
    }
   ],
   "source": [
    "SELECT P.Nome, C.Sigla_Estado\n",
    "       FROM Pessoa P JOIN Cidade C\n",
    "            ON P.Nome_Cidade_Natal = C.Nome_Cidade\n",
    "       WHERE C.Sigla_Estado = 'SP';"
   ]
  },
  {
   "cell_type": "code",
   "execution_count": 11,
   "metadata": {},
   "outputs": [
    {
     "data": {
      "application/vnd.jupyter.widget-view+json": {
       "model_id": "6b851973-4c5a-42b2-8af8-35f5a73de147",
       "version_major": 2,
       "version_minor": 0
      },
      "method": "display_data"
     },
     "metadata": {},
     "output_type": "display_data"
    }
   ],
   "source": [
    "SELECT C.Sigla_Estado, COUNT(*) Quantidade_Pessoas\n",
    "       FROM Pessoa P, Cidade C\n",
    "       WHERE P.Nome_Cidade_Natal = C.Nome_Cidade\n",
    "       GROUP BY C.Sigla_Estado;"
   ]
  },
  {
   "cell_type": "markdown",
   "metadata": {},
   "source": [
    "# ALIAS\n",
    "\n",
    "## Mesma Tabela com dois ALIAS\n",
    "\n",
    "A mesma tabela pode aparecer em dois pontos a consulta com nomes diferentes como se fossem duas tabelas, cada uma com um ALIAS.\n",
    "\n",
    "Tabela de Pessoas:"
   ]
  },
  {
   "cell_type": "code",
   "execution_count": 12,
   "metadata": {},
   "outputs": [
    {
     "data": {
      "application/vnd.jupyter.widget-view+json": {
       "model_id": "fcf60947-66be-482c-afc3-bca45d7af02f",
       "version_major": 2,
       "version_minor": 0
      },
      "method": "display_data"
     },
     "metadata": {},
     "output_type": "display_data"
    }
   ],
   "source": [
    "SELECT * FROM Pessoa;"
   ]
  },
  {
   "cell_type": "markdown",
   "metadata": {},
   "source": [
    "Nomes das pessoas que nasceram na mesma cidade de Asdrúbal:"
   ]
  },
  {
   "cell_type": "code",
   "execution_count": 13,
   "metadata": {},
   "outputs": [
    {
     "data": {
      "application/vnd.jupyter.widget-view+json": {
       "model_id": "378ade7d-9e61-45ad-8ed2-d0c02800d3b5",
       "version_major": 2,
       "version_minor": 0
      },
      "method": "display_data"
     },
     "metadata": {},
     "output_type": "display_data"
    }
   ],
   "source": [
    "SELECT P2.Nome\n",
    "FROM Pessoa P1, Pessoa P2\n",
    "WHERE P1.Nome = 'Asdrubal' AND\n",
    "      P2.Nome_Cidade_Natal = P1.Nome_Cidade_Natal AND\n",
    "      P2.Nome <> 'Asdrubal'"
   ]
  },
  {
   "cell_type": "code",
   "execution_count": 14,
   "metadata": {},
   "outputs": [
    {
     "data": {
      "application/vnd.jupyter.widget-view+json": {
       "model_id": "0d8dd42a-9383-4b60-83d2-443b78d583d4",
       "version_major": 2,
       "version_minor": 0
      },
      "method": "display_data"
     },
     "metadata": {},
     "output_type": "display_data"
    }
   ],
   "source": [
    "SELECT * FROM Cidade;"
   ]
  },
  {
   "cell_type": "markdown",
   "metadata": {},
   "source": [
    "Nomes das pessoas que nasceram no mesmo estado de Asdrúbal:"
   ]
  },
  {
   "cell_type": "code",
   "execution_count": 15,
   "metadata": {},
   "outputs": [
    {
     "data": {
      "application/vnd.jupyter.widget-view+json": {
       "model_id": "b9245321-ac00-4df2-9a07-e83e7fc1268a",
       "version_major": 2,
       "version_minor": 0
      },
      "method": "display_data"
     },
     "metadata": {},
     "output_type": "display_data"
    }
   ],
   "source": [
    "SELECT P2.Nome \n",
    "FROM Pessoa P1, Cidade C1, Pessoa P2, Cidade C2 \n",
    "WHERE P1.Nome = 'Asdrubal' AND\n",
    "      P1.Nome_Cidade_Natal = C1.Nome_Cidade AND\n",
    "      P2.Nome <> 'Asdrubal' AND\n",
    "      P2.Nome_Cidade_Natal = C2.Nome_Cidade AND\n",
    "      C1.Sigla_Estado = C2.Sigla_Estado"
   ]
  },
  {
   "cell_type": "markdown",
   "metadata": {},
   "source": [
    "# Exercício\n",
    "\n",
    "Nome de todos os primos que podem ser inferidos a partir da tabela."
   ]
  },
  {
   "cell_type": "code",
   "execution_count": 16,
   "metadata": {},
   "outputs": [
    {
     "data": {
      "application/vnd.jupyter.widget-view+json": {
       "model_id": "4f2bb2c9-0d15-4525-afb3-18e770d488d3",
       "version_major": 2,
       "version_minor": 0
      },
      "method": "display_data"
     },
     "metadata": {},
     "output_type": "display_data"
    }
   ],
   "source": [
    "SELECT DISTINCT P1.Nome\n",
    "FROM Pessoa P1, Pessoa P2, Pessoa P3, Pessoa P4\n",
    "WHERE P1.Nome_Mae = P2.Nome AND\n",
    "      P3.Nome_Mae = P4.Nome AND\n",
    "      P2.Nome_Mae = P4.Nome_Mae AND\n",
    "      P2.Nome <> P4.Nome"
   ]
  }
 ],
 "metadata": {
  "kernelspec": {
   "display_name": "SQL",
   "language": "SQL",
   "name": "sql"
  },
  "language_info": {
   "codemirror_mode": "sql",
   "file_extension": ".sql",
   "mimetype": "",
   "name": "SQL",
   "nbconverter_exporter": "",
   "version": ""
  },
  "toc": {
   "base_numbering": 1,
   "nav_menu": {},
   "number_sections": false,
   "sideBar": false,
   "skip_h1_title": false,
   "title_cell": "Table of Contents",
   "title_sidebar": "Contents",
   "toc_cell": false,
   "toc_position": {},
   "toc_section_display": false,
   "toc_window_display": false
  }
 },
 "nbformat": 4,
 "nbformat_minor": 5
}
