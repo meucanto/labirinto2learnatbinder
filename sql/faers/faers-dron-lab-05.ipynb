{
 "cells": [
  {
   "cell_type": "code",
   "execution_count": 1,
   "metadata": {},
   "outputs": [],
   "source": [
    "%defaultDatasource jdbc:h2:mem:db"
   ]
  },
  {
   "cell_type": "code",
   "execution_count": 2,
   "metadata": {},
   "outputs": [],
   "source": [
    "DROP TABLE IF EXISTS Drug;\n",
    "DROP TABLE IF EXISTS Pathology;\n",
    "DROP TABLE IF EXISTS Indication;\n",
    "DROP TABLE IF EXISTS Person;\n",
    "DROP TABLE IF EXISTS SideEffect;\n",
    "DROP TABLE IF EXISTS DrugHierarchy;\n",
    "\n",
    "CREATE TABLE Person(\n",
    "    id INT NOT NULL,\n",
    "    age INT,\n",
    "    sex VARCHAR(1),\n",
    "    PRIMARY KEY(Id)\n",
    ") AS SELECT id, age, sex\n",
    "FROM CSVREAD('../../data/faers-2017-dron/demo.csv');\n",
    "\n",
    "CREATE TABLE Drug(\n",
    "  code VARCHAR(200) NOT NULL,\n",
    "  name VARCHAR(200) NOT NULL,\n",
    "  PRIMARY KEY(code)\n",
    ") AS SELECT code, name\n",
    "FROM CSVREAD('../../data/faers-2017-dron/drug.csv');\n",
    "\n",
    "CREATE TABLE Pathology(\n",
    "  code INT NOT NULL,\n",
    "  name VARCHAR(200) NOT NULL,\n",
    "  PRIMARY KEY(code)\n",
    ") AS SELECT code, name\n",
    "FROM CSVREAD('../../data/faers-2017-dron/pathology.csv');\n",
    "\n",
    "CREATE TABLE Indication(\n",
    "  idPerson INT NOT NULL,\n",
    "  codePathology INT NOT NULL,\n",
    "  codeDrug VARCHAR(200) NOT NULL,\n",
    "  FOREIGN KEY(idPerson)\n",
    "    REFERENCES Person(id)\n",
    "      ON DELETE NO ACTION\n",
    "      ON UPDATE NO ACTION,\n",
    "  FOREIGN KEY(codePathology)\n",
    "    REFERENCES Pathology(code)\n",
    "      ON DELETE NO ACTION\n",
    "      ON UPDATE NO ACTION,\n",
    "  FOREIGN KEY(codeDrug)\n",
    "    REFERENCES Drug(code)\n",
    "      ON DELETE NO ACTION\n",
    "      ON UPDATE NO ACTION,\n",
    ") AS SELECT idperson, codepathology, codedrug\n",
    "FROM CSVREAD('../../data/faers-2017-dron/indication.csv');\n",
    "\n",
    "CREATE TABLE SideEffect(\n",
    "  idPerson INT NOT NULL,\n",
    "  codePathology INT NOT NULL,\n",
    "  FOREIGN KEY(idPerson)\n",
    "    REFERENCES Person(id)\n",
    "      ON DELETE NO ACTION\n",
    "      ON UPDATE NO ACTION,\n",
    "  FOREIGN KEY(codePathology)\n",
    "    REFERENCES Pathology(code)\n",
    "      ON DELETE NO ACTION\n",
    "      ON UPDATE NO ACTION\n",
    ") AS SELECT idperson, codepathology\n",
    "FROM CSVREAD('../../data/faers-2017-dron/sideeffect.csv');\n",
    "\n",
    "CREATE TABLE DrugHierarchy(\n",
    "  codeDrug VARCHAR(200) NOT NULL,\n",
    "  parent VARCHAR(200),\n",
    "  FOREIGN KEY(codeDrug)\n",
    "    REFERENCES Drug(code)\n",
    "      ON DELETE NO ACTION\n",
    "      ON UPDATE NO ACTION,\n",
    "  FOREIGN KEY(parent)\n",
    "    REFERENCES Drug(code)\n",
    "      ON DELETE NO ACTION\n",
    "      ON UPDATE NO ACTION\n",
    ") AS SELECT codedrug, parent\n",
    "FROM CSVREAD('../../data/faers-2017-dron/drughierarchy.csv');"
   ]
  },
  {
   "cell_type": "code",
   "execution_count": 3,
   "metadata": {},
   "outputs": [
    {
     "data": {
      "application/vnd.jupyter.widget-view+json": {
       "model_id": "5c033504-5ee5-4955-8ffd-92b3871b6c2c",
       "version_major": 2,
       "version_minor": 0
      },
      "method": "display_data"
     },
     "metadata": {},
     "output_type": "display_data"
    },
    {
     "data": {
      "application/vnd.jupyter.widget-view+json": {
       "model_id": "e291a29b-1108-472c-8dfa-be0d6affbb9a",
       "version_major": 2,
       "version_minor": 0
      },
      "method": "display_data"
     },
     "metadata": {},
     "output_type": "display_data"
    },
    {
     "data": {
      "application/vnd.jupyter.widget-view+json": {
       "model_id": "96b4235d-5667-4dc8-b8ae-c395d419c5af",
       "version_major": 2,
       "version_minor": 0
      },
      "method": "display_data"
     },
     "metadata": {},
     "output_type": "display_data"
    },
    {
     "data": {
      "application/vnd.jupyter.widget-view+json": {
       "model_id": "8eaabb77-6b88-438c-b86b-21a8fae34404",
       "version_major": 2,
       "version_minor": 0
      },
      "method": "display_data"
     },
     "metadata": {},
     "output_type": "display_data"
    },
    {
     "data": {
      "application/vnd.jupyter.widget-view+json": {
       "model_id": "16f353b5-787a-4a2d-b43e-f6ae5b9231b3",
       "version_major": 2,
       "version_minor": 0
      },
      "method": "display_data"
     },
     "metadata": {},
     "output_type": "display_data"
    },
    {
     "data": {
      "application/vnd.jupyter.widget-view+json": {
       "model_id": "8fdb2c11-0133-4c26-98bf-8ab7982160d6",
       "version_major": 2,
       "version_minor": 0
      },
      "method": "display_data"
     },
     "metadata": {},
     "output_type": "display_data"
    }
   ],
   "source": [
    "SELECT * FROM Person;\n",
    "SELECT * FROM Drug;\n",
    "SELECT * FROM Pathology;\n",
    "SELECT * FROM Indication;\n",
    "SELECT * FROM SideEffect;\n",
    "SELECT * FROM DrugHierarchy;"
   ]
  }
 ],
 "metadata": {
  "kernelspec": {
   "display_name": "SQL",
   "language": "SQL",
   "name": "sql"
  },
  "language_info": {
   "codemirror_mode": "sql",
   "file_extension": ".sql",
   "mimetype": "",
   "name": "SQL",
   "nbconverter_exporter": "",
   "version": ""
  },
  "toc": {
   "base_numbering": 1,
   "nav_menu": {},
   "number_sections": false,
   "sideBar": false,
   "skip_h1_title": false,
   "title_cell": "Table of Contents",
   "title_sidebar": "Contents",
   "toc_cell": false,
   "toc_position": {},
   "toc_section_display": false,
   "toc_window_display": false
  }
 },
 "nbformat": 4,
 "nbformat_minor": 2
}
