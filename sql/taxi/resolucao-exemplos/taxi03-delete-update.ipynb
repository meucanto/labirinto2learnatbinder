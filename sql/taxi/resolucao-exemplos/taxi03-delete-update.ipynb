{
 "cells": [
  {
   "cell_type": "code",
   "execution_count": 1,
   "metadata": {},
   "outputs": [],
   "source": [
    "%defaultDatasource jdbc:h2:mem:db"
   ]
  },
  {
   "cell_type": "markdown",
   "metadata": {},
   "source": [
    "# Primeiro conjunto de tabelas para consultas básicas"
   ]
  },
  {
   "cell_type": "code",
   "execution_count": 2,
   "metadata": {},
   "outputs": [],
   "source": [
    "DROP TABLE IF EXISTS Taxi;\n",
    "DROP TABLE IF EXISTS Cliente;\n",
    "DROP TABLE IF EXISTS Corrida;\n",
    "\n",
    "CREATE TABLE Taxi (\n",
    "  Placa VARCHAR(7) NOT NULL,\n",
    "  Marca VARCHAR(30) NOT NULL,\n",
    "  Modelo VARCHAR(30) NOT NULL,\n",
    "  AnoFab INTEGER,\n",
    "  Licenca VARCHAR(9),\n",
    "  PRIMARY KEY(Placa)\n",
    ");\n",
    "\n",
    "CREATE TABLE Cliente (\n",
    "  CliId VARCHAR(4) NOT NULL,\n",
    "  Nome VARCHAR(80) NOT NULL,\n",
    "  CPF VARCHAR(14) NOT NULL,\n",
    "  PRIMARY KEY(CliId)\n",
    ");\n",
    "\n",
    "CREATE TABLE Corrida (\n",
    "  CliId VARCHAR(4) NOT NULL,\n",
    "  Placa VARCHAR(7) NOT NULL,\n",
    "  DataPedido DATE NOT NULL,\n",
    "  PRIMARY KEY(CliId, Placa, DataPedido),\n",
    "  FOREIGN KEY(CliId)\n",
    "    REFERENCES Cliente(CliId)\n",
    "      ON DELETE NO ACTION\n",
    "      ON UPDATE NO ACTION,\n",
    "  FOREIGN KEY(Placa)\n",
    "    REFERENCES Taxi(Placa)\n",
    "      ON DELETE NO ACTION\n",
    "      ON UPDATE NO ACTION\n",
    ");"
   ]
  },
  {
   "cell_type": "code",
   "execution_count": 3,
   "metadata": {},
   "outputs": [],
   "source": [
    "INSERT INTO Cliente VALUES ('1532', 'Asdrúbal', '448.754.253-65');\n",
    "INSERT INTO Cliente VALUES ('1755', 'Doriana', '567.387.387-44');\n",
    "INSERT INTO Cliente VALUES ('1780', 'Quincas', '546.373.762-02');\n",
    "\n",
    "INSERT INTO Taxi VALUES ('DAE6534', 'Ford', 'Fiesta', 1999, 'MN572345');\n",
    "INSERT INTO Taxi VALUES ('DKL4598', 'Wolkswagen', 'Gol', 2001, 'AU876543');\n",
    "INSERT INTO Taxi VALUES ('DKL7878', 'Ford', 'Fiesta', 2001, 'OP102938');\n",
    "INSERT INTO Taxi VALUES ('JDM8776', 'Wolkswagen', 'Santana', 2002, 'QM365923');\n",
    "INSERT INTO Taxi VALUES ('JJM3692', 'Chevrolet', 'Corsa', 1999, 'UU335577');\n",
    "\n",
    "INSERT INTO Corrida VALUES ('1755', 'DAE6534', '2003-02-15');\n",
    "INSERT INTO Corrida VALUES ('1780', 'JDM8776', '2003-02-18');\n",
    "INSERT INTO Corrida VALUES ('1755', 'DKL7878', '2003-02-16');\n",
    "INSERT INTO Corrida VALUES ('1780', 'DKL4598', '2003-02-17');\n",
    "INSERT INTO Corrida VALUES ('1532', 'DKL4598', '2003-02-18');\n",
    "INSERT INTO Corrida VALUES ('1780', 'DAE6534', '2003-02-16');"
   ]
  },
  {
   "cell_type": "markdown",
   "metadata": {},
   "source": [
    "# DELETE"
   ]
  },
  {
   "cell_type": "markdown",
   "metadata": {},
   "source": [
    "### Excluindo as corridas feitas pelo Táxi de placa `DAE6534`\n",
    "\n",
    "Tabela de Corridas antes:"
   ]
  },
  {
   "cell_type": "code",
   "execution_count": 4,
   "metadata": {},
   "outputs": [
    {
     "data": {
      "application/vnd.jupyter.widget-view+json": {
       "model_id": "56ce8b66-1fde-4c21-b2e5-aec9500573b7",
       "version_major": 2,
       "version_minor": 0
      },
      "method": "display_data"
     },
     "metadata": {},
     "output_type": "display_data"
    }
   ],
   "source": [
    "SELECT * FROM Corrida;"
   ]
  },
  {
   "cell_type": "markdown",
   "metadata": {},
   "source": [
    "Excluindo:"
   ]
  },
  {
   "cell_type": "code",
   "execution_count": 5,
   "metadata": {},
   "outputs": [],
   "source": [
    "DELETE FROM Corrida\n",
    "       WHERE Placa = 'DAE6534';"
   ]
  },
  {
   "cell_type": "markdown",
   "metadata": {},
   "source": [
    "Tabela depois:"
   ]
  },
  {
   "cell_type": "code",
   "execution_count": 6,
   "metadata": {},
   "outputs": [
    {
     "data": {
      "application/vnd.jupyter.widget-view+json": {
       "model_id": "2d3cf2b7-c70f-4f80-941b-6b89ed113f66",
       "version_major": 2,
       "version_minor": 0
      },
      "method": "display_data"
     },
     "metadata": {},
     "output_type": "display_data"
    }
   ],
   "source": [
    "SELECT * FROM Corrida;"
   ]
  },
  {
   "cell_type": "markdown",
   "metadata": {},
   "source": [
    "## Violação de Integridade\n",
    "\n",
    "### Excluindo um Táxi que possui corridas associadas\n",
    "\n",
    "Este exemplo irá gerar um erro de violação de chave estrangeira.\n",
    "\n",
    "Tabela de Táxis:"
   ]
  },
  {
   "cell_type": "code",
   "execution_count": 7,
   "metadata": {},
   "outputs": [
    {
     "data": {
      "application/vnd.jupyter.widget-view+json": {
       "model_id": "f6c1d01d-6f8e-4eff-ac9c-c957d067160f",
       "version_major": 2,
       "version_minor": 0
      },
      "method": "display_data"
     },
     "metadata": {},
     "output_type": "display_data"
    }
   ],
   "source": [
    "SELECT * FROM Taxi;"
   ]
  },
  {
   "cell_type": "markdown",
   "metadata": {},
   "source": [
    "Corridas para o Taxi de placa `DKL4598`:"
   ]
  },
  {
   "cell_type": "code",
   "execution_count": 8,
   "metadata": {},
   "outputs": [
    {
     "data": {
      "application/vnd.jupyter.widget-view+json": {
       "model_id": "122fd14e-51f5-44ee-837d-1c7ae9ecadc1",
       "version_major": 2,
       "version_minor": 0
      },
      "method": "display_data"
     },
     "metadata": {},
     "output_type": "display_data"
    }
   ],
   "source": [
    "SELECT * FROM Corrida WHERE Placa = 'DKL4598';"
   ]
  },
  {
   "cell_type": "markdown",
   "metadata": {},
   "source": [
    "Tentativa de excluir o Táxi da tabela:"
   ]
  },
  {
   "cell_type": "code",
   "execution_count": 9,
   "metadata": {},
   "outputs": [
    {
     "ename": "org.h2.jdbc.JdbcSQLException",
     "evalue": " Referential integrity constraint violation",
     "output_type": "error",
     "traceback": [
      "\u001b[1;31morg.h2.jdbc.JdbcSQLException: Referential integrity constraint violation: \"CONSTRAINT_63B: PUBLIC.CORRIDA FOREIGN KEY(PLACA) REFERENCES PUBLIC.TAXI(PLACA) ('DKL4598')\"; SQL statement:\u001b[0;0m",
      "\u001b[1;31mDELETE FROM Taxi WHERE Placa = 'DKL4598' [23503-193]\u001b[0;0m"
     ]
    }
   ],
   "source": [
    "DELETE FROM Taxi WHERE Placa = 'DKL4598';"
   ]
  },
  {
   "cell_type": "markdown",
   "metadata": {},
   "source": [
    "Excluindo as corridas desse Taxi:"
   ]
  },
  {
   "cell_type": "code",
   "execution_count": 10,
   "metadata": {},
   "outputs": [],
   "source": [
    "DELETE FROM Corrida WHERE Placa = 'DKL4598';"
   ]
  },
  {
   "cell_type": "markdown",
   "metadata": {},
   "source": [
    "Agora a exclusão funciona:"
   ]
  },
  {
   "cell_type": "code",
   "execution_count": 11,
   "metadata": {},
   "outputs": [],
   "source": [
    "DELETE FROM Taxi WHERE Placa = 'DKL4598';"
   ]
  },
  {
   "cell_type": "markdown",
   "metadata": {},
   "source": [
    "Tabela sem o Taxi:"
   ]
  },
  {
   "cell_type": "code",
   "execution_count": 12,
   "metadata": {
    "scrolled": true
   },
   "outputs": [
    {
     "data": {
      "application/vnd.jupyter.widget-view+json": {
       "model_id": "a2f801d7-82b2-4dde-9e1a-79906b20507a",
       "version_major": 2,
       "version_minor": 0
      },
      "method": "display_data"
     },
     "metadata": {},
     "output_type": "display_data"
    }
   ],
   "source": [
    "SELECT * FROM Taxi;"
   ]
  },
  {
   "cell_type": "markdown",
   "metadata": {},
   "source": [
    "# UPDATE"
   ]
  },
  {
   "cell_type": "markdown",
   "metadata": {},
   "source": [
    "### Alterando o ano de fabricação (para 2002) do Táxi que possui placa `DKL7878`"
   ]
  },
  {
   "cell_type": "code",
   "execution_count": 13,
   "metadata": {},
   "outputs": [],
   "source": [
    "UPDATE Taxi\n",
    "       SET AnoFab = 2002\n",
    "       WHERE Placa = 'DKL7878';"
   ]
  },
  {
   "cell_type": "code",
   "execution_count": 14,
   "metadata": {},
   "outputs": [
    {
     "data": {
      "application/vnd.jupyter.widget-view+json": {
       "model_id": "0f6eef3f-de89-4cd0-bc4b-daa8e51116a5",
       "version_major": 2,
       "version_minor": 0
      },
      "method": "display_data"
     },
     "metadata": {},
     "output_type": "display_data"
    }
   ],
   "source": [
    "SELECT * FROM Taxi;"
   ]
  },
  {
   "cell_type": "markdown",
   "metadata": {},
   "source": [
    "Expressões de atualização:"
   ]
  },
  {
   "cell_type": "code",
   "execution_count": 15,
   "metadata": {},
   "outputs": [],
   "source": [
    "UPDATE Taxi\n",
    "       SET AnoFab = AnoFab + 1\n",
    "       WHERE Placa = 'DKL7878';"
   ]
  },
  {
   "cell_type": "code",
   "execution_count": 16,
   "metadata": {},
   "outputs": [
    {
     "data": {
      "application/vnd.jupyter.widget-view+json": {
       "model_id": "803d0c71-d934-4f9e-98e9-a29fadeb587c",
       "version_major": 2,
       "version_minor": 0
      },
      "method": "display_data"
     },
     "metadata": {},
     "output_type": "display_data"
    }
   ],
   "source": [
    "SELECT * FROM Taxi;"
   ]
  },
  {
   "cell_type": "markdown",
   "metadata": {},
   "source": [
    "## UPDATE em mais de uma Tabela\n",
    "\n",
    "### Alterando a Placa de um Taxi\n",
    "\n",
    "Tabela de Corridas:"
   ]
  },
  {
   "cell_type": "code",
   "execution_count": 17,
   "metadata": {},
   "outputs": [
    {
     "data": {
      "application/vnd.jupyter.widget-view+json": {
       "model_id": "f3bb33a3-9a8e-44a9-a455-ae8e12f8a5b4",
       "version_major": 2,
       "version_minor": 0
      },
      "method": "display_data"
     },
     "metadata": {},
     "output_type": "display_data"
    }
   ],
   "source": [
    "SELECT * FROM Corrida;"
   ]
  },
  {
   "cell_type": "markdown",
   "metadata": {},
   "source": [
    "Tentativa de alterar a placa do Táxi `JDM8776` que possui uma corrida associada (violação de integridade):"
   ]
  },
  {
   "cell_type": "code",
   "execution_count": 18,
   "metadata": {},
   "outputs": [
    {
     "ename": "org.h2.jdbc.JdbcSQLException",
     "evalue": " Referential integrity constraint violation",
     "output_type": "error",
     "traceback": [
      "\u001b[1;31morg.h2.jdbc.JdbcSQLException: Referential integrity constraint violation: \"CONSTRAINT_63B: PUBLIC.CORRIDA FOREIGN KEY(PLACA) REFERENCES PUBLIC.TAXI(PLACA) ('JDM8776')\"; SQL statement:\u001b[0;0m",
      "\u001b[1;31mUPDATE Taxi\u001b[0;0m",
      "\u001b[1;31mSET Placa = 'JDM8700'\u001b[0;0m",
      "\u001b[1;31mWHERE Placa = 'JDM8776' [23503-193]\u001b[0;0m"
     ]
    }
   ],
   "source": [
    "UPDATE Taxi\n",
    "       SET Placa = 'JDM8700'\n",
    "       WHERE Placa = 'JDM8776';"
   ]
  },
  {
   "cell_type": "markdown",
   "metadata": {},
   "source": [
    "Alterando a cláusula da tabela `Corrida` para `CASCADE`:"
   ]
  },
  {
   "cell_type": "code",
   "execution_count": 19,
   "metadata": {},
   "outputs": [],
   "source": [
    "DROP TABLE Corrida;\n",
    "\n",
    "CREATE TABLE Corrida (\n",
    "  CliId VARCHAR(4) NOT NULL,\n",
    "  Placa VARCHAR(7) NOT NULL,\n",
    "  DataPedido DATE NOT NULL,\n",
    "  PRIMARY KEY(CliId, Placa, DataPedido),\n",
    "  FOREIGN KEY(CliId)\n",
    "    REFERENCES Cliente(CliId)\n",
    "      ON DELETE NO ACTION\n",
    "      ON UPDATE CASCADE,\n",
    "  FOREIGN KEY(Placa)\n",
    "    REFERENCES Taxi(Placa)\n",
    "      ON DELETE NO ACTION\n",
    "      ON UPDATE CASCADE\n",
    ");"
   ]
  },
  {
   "cell_type": "code",
   "execution_count": 20,
   "metadata": {},
   "outputs": [],
   "source": [
    "INSERT INTO Corrida VALUES ('1755', 'DKL7878', '2003-02-16');\n",
    "INSERT INTO Corrida VALUES ('1780', 'JDM8776', '2003-02-18');"
   ]
  },
  {
   "cell_type": "markdown",
   "metadata": {},
   "source": [
    "Agora a atualização funciona em cascata, ou seja, a placa é alterada tanto na tabela `Taxi` quanto na tabela `Corrida`:"
   ]
  },
  {
   "cell_type": "code",
   "execution_count": 21,
   "metadata": {},
   "outputs": [],
   "source": [
    "UPDATE Taxi\n",
    "       SET Placa = 'JDM8700'\n",
    "       WHERE Placa = 'JDM8776';"
   ]
  },
  {
   "cell_type": "markdown",
   "metadata": {},
   "source": [
    "Tabelas modificadas:"
   ]
  },
  {
   "cell_type": "code",
   "execution_count": 22,
   "metadata": {},
   "outputs": [
    {
     "data": {
      "application/vnd.jupyter.widget-view+json": {
       "model_id": "ce4437b5-1419-4f5f-b522-df5a2205b46d",
       "version_major": 2,
       "version_minor": 0
      },
      "method": "display_data"
     },
     "metadata": {},
     "output_type": "display_data"
    },
    {
     "data": {
      "application/vnd.jupyter.widget-view+json": {
       "model_id": "6a6ecdf1-2e8d-41b2-bd36-cf30cca6244c",
       "version_major": 2,
       "version_minor": 0
      },
      "method": "display_data"
     },
     "metadata": {},
     "output_type": "display_data"
    }
   ],
   "source": [
    "SELECT * FROM Taxi;\n",
    "SELECT * FROM Corrida;"
   ]
  },
  {
   "cell_type": "markdown",
   "metadata": {},
   "source": [
    "# Segundo conjunto de tabelas para consultas avançadas"
   ]
  },
  {
   "cell_type": "code",
   "execution_count": 23,
   "metadata": {},
   "outputs": [],
   "source": [
    "DROP TABLE IF EXISTS Motorista;\n",
    "DROP TABLE IF EXISTS Zona;\n",
    "DROP TABLE IF EXISTS Fila;\n",
    "\n",
    "CREATE TABLE Motorista (\n",
    "  CNH VARCHAR(6) NOT NULL,\n",
    "  Nome VARCHAR(80) NOT NULL,\n",
    "  Ativo BOOLEAN,\n",
    "  Placa VARCHAR(7) NOT NULL,\n",
    "  PRIMARY KEY(CNH),\n",
    "  FOREIGN KEY(Placa)\n",
    "    REFERENCES Taxi(Placa)\n",
    "      ON DELETE NO ACTION\n",
    "      ON UPDATE NO ACTION\n",
    ");\n",
    "\n",
    "CREATE TABLE Zona (\n",
    "  Zona VARCHAR(40) NOT NULL,\n",
    "  PRIMARY KEY(Zona)\n",
    ");\n",
    "\n",
    "CREATE TABLE Fila (\n",
    "   Zona VARCHAR(40) NOT NULL,\n",
    "   CNH VARCHAR(6) NOT NULL,\n",
    "   DataHoraIn TIMESTAMP,\n",
    "   DataHoraOut TIMESTAMP,\n",
    "   KmIn INTEGER,\n",
    "   PRIMARY KEY (Zona, CNH),\n",
    "   FOREIGN KEY(Zona)\n",
    "     REFERENCES Zona(Zona)\n",
    "       ON DELETE NO ACTION\n",
    "       ON UPDATE NO ACTION,\n",
    "   FOREIGN KEY(CNH)\n",
    "     REFERENCES Motorista(CNH)\n",
    "       ON DELETE NO ACTION\n",
    "       ON UPDATE NO ACTION\n",
    ");"
   ]
  },
  {
   "cell_type": "code",
   "execution_count": 24,
   "metadata": {},
   "outputs": [],
   "source": [
    "INSERT INTO Taxi VALUES ('DXF5263', 'Ford', 'Escort', 2001, 'GG5263526');\n",
    "INSERT INTO Taxi VALUES ('MJN6578', 'Wolkswagen', 'Santana', 1998, 'KL856326');\n",
    "INSERT INTO Taxi VALUES ('MLA4545', 'Wolkswagen', 'Gol', 2000, 'YK6574837');\n",
    "INSERT INTO Taxi VALUES ('DXA7878', 'Ford', 'Escort', 2000, 'GG5263526');\n",
    "INSERT INTO Taxi VALUES ('DXF6767', 'Wolkswagen', 'Santana', 1998, 'YK7890081');\n",
    "INSERT INTO Taxi VALUES ('DXF6868', 'Wolkswagen', 'Santana', 1998, 'YK7890082');\n",
    "INSERT INTO Taxi VALUES ('DXB7070', 'Ford', 'Fiesta', 2015, 'GG101112');\n",
    "\n",
    "INSERT INTO Motorista VALUES ('657483', 'Asdrubal', TRUE, 'DXF5263');\n",
    "INSERT INTO Motorista VALUES ('567892', 'Quincas', TRUE, 'MLA4545');\n",
    "INSERT INTO Motorista VALUES ('452635', 'Zandor', TRUE, 'DXA7878');\n",
    "INSERT INTO Motorista VALUES ('452452', 'Alcebiades', TRUE, 'DXF6767');\n",
    "INSERT INTO Motorista VALUES ('555555', 'Bonerges', TRUE, 'DAE6534');\n",
    "INSERT INTO Motorista VALUES ('987543', 'Horacio', TRUE, 'DXB7070');\n",
    "INSERT INTO Motorista VALUES ('987654', 'Doriana', TRUE, 'JDM8700');\n",
    "INSERT INTO Motorista VALUES ('389204', 'Melissa', TRUE, 'DXF6868');\n",
    "\n",
    "INSERT INTO Zona VALUES ('Barão Geraldo');\n",
    "INSERT INTO Zona VALUES ('Cambuí');\n",
    "INSERT INTO Zona VALUES ('Taquaral');\n",
    "INSERT INTO Zona VALUES ('Unicamp');\n",
    "\n",
    "INSERT INTO Fila VALUES ('Barão Geraldo', '567892', '2002-06-05 09:00:00', '2002-06-05 09:30:00', 4630);\n",
    "INSERT INTO Fila VALUES ('Barão Geraldo', '657483', '2002-06-05 07:30:00', '2002-06-05 07:45:00', 1567);\n",
    "INSERT INTO Fila VALUES ('Taquaral', '452452', '2002-06-05 09:00:00', '2002-06-05 09:50:00', 5000);\n",
    "INSERT INTO Fila VALUES ('Taquaral', '657483', '2002-06-06 08:00:00', '2002-06-06 08:07:00', 7900);\n",
    "INSERT INTO Fila VALUES ('Unicamp', '452635', '2002-06-02 08:00:00', '2002-06-02 08:00:00', 4800);\n",
    "INSERT INTO Fila VALUES ('Unicamp', '567892', '2002-06-06 06:00:00', '2002-06-06 06:00:00', 5263);\n",
    "INSERT INTO Fila VALUES ('Unicamp', '657483', '2002-06-06 23:00:00', '2002-06-06 23:00:00', 4541);\n",
    "INSERT INTO Fila VALUES ('Unicamp', '452452', '2002-06-05 10:30:00', '2002-06-05 10:30:00', 7800);\n",
    "INSERT INTO Fila VALUES ('Taquaral', '555555', '2002-06-06 08:10:00', '2002-06-06 08:10:00', 7910);\n",
    "INSERT INTO Fila VALUES ('Unicamp', '987654', '2002-06-05 10:30:00', '2002-06-05 10:35:00', 7850);"
   ]
  },
  {
   "cell_type": "markdown",
   "metadata": {},
   "source": [
    "# Aninhamento na Atualização (`UPDATE/SELECT`)\n",
    "\n",
    "O SELECT aninhado pode ser parte de uma operação de UPDATE.\n",
    "\n",
    "Observe a relação de todos os motoristas. Note que todos os motoristas têm CNH válido."
   ]
  },
  {
   "cell_type": "code",
   "execution_count": 25,
   "metadata": {},
   "outputs": [
    {
     "data": {
      "application/vnd.jupyter.widget-view+json": {
       "model_id": "07a8e4d8-cb9d-48ed-b8fd-dfa941f26d0e",
       "version_major": 2,
       "version_minor": 0
      },
      "method": "display_data"
     },
     "metadata": {},
     "output_type": "display_data"
    }
   ],
   "source": [
    "SELECT CNH, Nome, Ativo\n",
    "       FROM Motorista;"
   ]
  },
  {
   "cell_type": "markdown",
   "metadata": {},
   "source": [
    "Considere que queremos considerar ativos apenas aqueles motoristas que estão na Fila.\n",
    "\n",
    "Relação de Motoristas na Fila:"
   ]
  },
  {
   "cell_type": "code",
   "execution_count": 26,
   "metadata": {},
   "outputs": [
    {
     "data": {
      "application/vnd.jupyter.widget-view+json": {
       "model_id": "1059ac62-1226-4fa0-bd8b-a9ca2afae2b1",
       "version_major": 2,
       "version_minor": 0
      },
      "method": "display_data"
     },
     "metadata": {},
     "output_type": "display_data"
    }
   ],
   "source": [
    "SELECT DISTINCT CNH\n",
    "       FROM Fila;"
   ]
  },
  {
   "cell_type": "markdown",
   "metadata": {},
   "source": [
    "A seguinte consulta retorna aqueles motoristas que não estão em nenhuma fila:"
   ]
  },
  {
   "cell_type": "code",
   "execution_count": 27,
   "metadata": {},
   "outputs": [
    {
     "data": {
      "application/vnd.jupyter.widget-view+json": {
       "model_id": "0709d69e-628d-44e7-99d1-84acc42629c3",
       "version_major": 2,
       "version_minor": 0
      },
      "method": "display_data"
     },
     "metadata": {},
     "output_type": "display_data"
    }
   ],
   "source": [
    "SELECT M.CNH, M.Nome\n",
    "       FROM Motorista M\n",
    "       WHERE M.CNH NOT IN (\n",
    "           SELECT DISTINCT F.CNH\n",
    "           FROM Fila F)"
   ]
  },
  {
   "cell_type": "markdown",
   "metadata": {},
   "source": [
    "Usando o UPDATE com SELECT aninhado, é possível tornar não ativos todos os motoristas que não aparecem em nenhuma fila:"
   ]
  },
  {
   "cell_type": "code",
   "execution_count": 28,
   "metadata": {},
   "outputs": [],
   "source": [
    "UPDATE Motorista M\n",
    "       SET M.Ativo = FALSE\n",
    "       WHERE M.CNH NOT IN (\n",
    "           SELECT DISTINCT F.CNH\n",
    "           FROM Fila F);"
   ]
  },
  {
   "cell_type": "markdown",
   "metadata": {},
   "source": [
    "Resultado após o UPDATE:"
   ]
  },
  {
   "cell_type": "code",
   "execution_count": 29,
   "metadata": {},
   "outputs": [
    {
     "data": {
      "application/vnd.jupyter.widget-view+json": {
       "model_id": "3b0476a5-8a86-4f44-a020-1f2aa202e9bd",
       "version_major": 2,
       "version_minor": 0
      },
      "method": "display_data"
     },
     "metadata": {},
     "output_type": "display_data"
    }
   ],
   "source": [
    "SELECT CNH, Nome, Ativo\n",
    "       FROM Motorista;"
   ]
  },
  {
   "cell_type": "markdown",
   "metadata": {},
   "source": [
    "# Aninhamento na Exclusão (`DELETE/SELECT`)"
   ]
  },
  {
   "cell_type": "markdown",
   "metadata": {},
   "source": [
    "O SELECT aninhado pode ser parte de uma operação de UPDATE.\n",
    "\n",
    "Dando continuidade à questão anterior, em vez de tornar inativos os Motoristas que não aparecem em nenhuma Fila, podemos decidir excluí-los:"
   ]
  },
  {
   "cell_type": "code",
   "execution_count": 30,
   "metadata": {},
   "outputs": [],
   "source": [
    "DELETE FROM Motorista M\n",
    "       WHERE M.CNH NOT IN (\n",
    "           SELECT DISTINCT F.CNH\n",
    "           FROM Fila F);"
   ]
  },
  {
   "cell_type": "markdown",
   "metadata": {},
   "source": [
    "Resultado após o DELETE:"
   ]
  },
  {
   "cell_type": "code",
   "execution_count": 31,
   "metadata": {},
   "outputs": [
    {
     "data": {
      "application/vnd.jupyter.widget-view+json": {
       "model_id": "5eca145c-85a8-4969-8858-e381584fbf1d",
       "version_major": 2,
       "version_minor": 0
      },
      "method": "display_data"
     },
     "metadata": {},
     "output_type": "display_data"
    }
   ],
   "source": [
    "SELECT CNH, Ativo\n",
    "       FROM Motorista;"
   ]
  }
 ],
 "metadata": {
  "kernelspec": {
   "display_name": "SQL",
   "language": "SQL",
   "name": "sql"
  },
  "language_info": {
   "codemirror_mode": "sql",
   "file_extension": ".sql",
   "mimetype": "",
   "name": "SQL",
   "nbconverter_exporter": "",
   "version": ""
  },
  "toc": {
   "base_numbering": 1,
   "nav_menu": {},
   "number_sections": false,
   "sideBar": false,
   "skip_h1_title": false,
   "title_cell": "Table of Contents",
   "title_sidebar": "Contents",
   "toc_cell": false,
   "toc_position": {},
   "toc_section_display": false,
   "toc_window_display": false
  }
 },
 "nbformat": 4,
 "nbformat_minor": 2
}
