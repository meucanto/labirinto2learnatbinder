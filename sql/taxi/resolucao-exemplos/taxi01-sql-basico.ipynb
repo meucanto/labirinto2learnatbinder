{
 "cells": [
  {
   "cell_type": "markdown",
   "metadata": {},
   "source": [
    "# TÁXI\n",
    "## SQL Básico\n",
    "\n",
    "Baseado no exemplo criado por prof. Geovane Cayres Magalhães http://www.ic.unicamp.br/~geovane/mo410-091/caso.html\n",
    "\n",
    "## Resoluções e Explicações\n",
    "\n",
    "Este notebook tem resoluções (algumas passo a passo) dos exercícios do notebook de mesmo nome na pasta `exercicios`, mas também tem exemplos demonstrativos e explicações extra dos assuntos.\n",
    "\n",
    "Ativando uma conexão de banco de dados em memória usando o SGBD H2:"
   ]
  },
  {
   "cell_type": "code",
   "execution_count": 1,
   "metadata": {},
   "outputs": [],
   "source": [
    "%defaultDatasource jdbc:h2:mem:db"
   ]
  },
  {
   "cell_type": "markdown",
   "metadata": {},
   "source": [
    "## Conjunto de tabelas para consultas básicas"
   ]
  },
  {
   "cell_type": "code",
   "execution_count": 2,
   "metadata": {},
   "outputs": [],
   "source": [
    "DROP TABLE IF EXISTS Taxi;\n",
    "DROP TABLE IF EXISTS Cliente;\n",
    "DROP TABLE IF EXISTS Corrida;"
   ]
  },
  {
   "cell_type": "code",
   "execution_count": 3,
   "metadata": {},
   "outputs": [],
   "source": [
    "CREATE TABLE Taxi (\n",
    "  Placa VARCHAR(7) NOT NULL,\n",
    "  Marca VARCHAR(30) NOT NULL,\n",
    "  Modelo VARCHAR(30) NOT NULL,\n",
    "  AnoFab INTEGER,\n",
    "  Licenca VARCHAR(9),\n",
    "  PRIMARY KEY(Placa)\n",
    ");\n",
    "\n",
    "CREATE TABLE Cliente (\n",
    "  CliId VARCHAR(4) NOT NULL,\n",
    "  Nome VARCHAR(80) NOT NULL,\n",
    "  CPF VARCHAR(14) NOT NULL,\n",
    "  PRIMARY KEY(CliId)\n",
    ");\n",
    "\n",
    "CREATE TABLE Corrida (\n",
    "  CliId VARCHAR(4) NOT NULL,\n",
    "  Placa VARCHAR(7) NOT NULL,\n",
    "  DataPedido DATE NOT NULL,\n",
    "  PRIMARY KEY(CliId, Placa, DataPedido),\n",
    "  FOREIGN KEY(CliId)\n",
    "    REFERENCES Cliente(CliId)\n",
    "      ON DELETE NO ACTION\n",
    "      ON UPDATE NO ACTION,\n",
    "  FOREIGN KEY(Placa)\n",
    "    REFERENCES Taxi(Placa)\n",
    "      ON DELETE NO ACTION\n",
    "      ON UPDATE NO ACTION\n",
    ");"
   ]
  },
  {
   "cell_type": "code",
   "execution_count": 4,
   "metadata": {},
   "outputs": [],
   "source": [
    "INSERT INTO Cliente VALUES ('1532', 'Asdrúbal', '448.754.253-65');\n",
    "INSERT INTO Cliente VALUES ('1755', 'Doriana', '567.387.387-44');\n",
    "INSERT INTO Cliente VALUES ('1780', 'Quincas', '546.373.762-02');\n",
    "INSERT INTO Cliente VALUES ('1888', 'Melissa', '123.456.789-10');\n",
    "\n",
    "INSERT INTO Taxi VALUES ('DAE6534', 'Ford', 'Fiesta', 1999, 'MN572345');\n",
    "INSERT INTO Taxi VALUES ('DKL4598', 'Wolkswagen', 'Gol', 2001, 'AU876543');\n",
    "INSERT INTO Taxi VALUES ('DKL7878', 'Ford', 'Fiesta', 2001, 'OP102938');\n",
    "INSERT INTO Taxi VALUES ('JDM8776', 'Wolkswagen', 'Santana', 2002, 'QM365923');\n",
    "INSERT INTO Taxi VALUES ('JJM3692', 'Chevrolet', 'Corsa', 1999, 'UU335577');\n",
    "\n",
    "INSERT INTO Corrida VALUES ('1755', 'DAE6534', '2003-02-15');\n",
    "INSERT INTO Corrida VALUES ('1780', 'JDM8776', '2003-02-18');\n",
    "INSERT INTO Corrida VALUES ('1755', 'DKL7878', '2003-02-16');\n",
    "INSERT INTO Corrida VALUES ('1780', 'DKL4598', '2003-02-17');\n",
    "INSERT INTO Corrida VALUES ('1532', 'DKL4598', '2003-02-18');\n",
    "INSERT INTO Corrida VALUES ('1780', 'DAE6534', '2003-02-16');\n",
    "INSERT INTO Corrida VALUES ('1755', 'DAE6534', '2003-02-18');\n",
    "INSERT INTO Corrida VALUES ('1532', 'DKL4598', '2003-02-20');"
   ]
  },
  {
   "cell_type": "markdown",
   "metadata": {},
   "source": [
    "# Bloco I - SELECT Básico (com JOIN implícito) e Agrupamento"
   ]
  },
  {
   "cell_type": "markdown",
   "metadata": {},
   "source": [
    "# SELECT Básico"
   ]
  },
  {
   "cell_type": "markdown",
   "metadata": {},
   "source": [
    "### Todos os Táxis com todos os atributos"
   ]
  },
  {
   "cell_type": "code",
   "execution_count": 5,
   "metadata": {},
   "outputs": [
    {
     "data": {
      "application/vnd.jupyter.widget-view+json": {
       "model_id": "c5ef6fb1-5859-43bc-a452-8af766dacff0",
       "version_major": 2,
       "version_minor": 0
      },
      "method": "display_data"
     },
     "metadata": {},
     "output_type": "display_data"
    }
   ],
   "source": [
    "SELECT * FROM Taxi;"
   ]
  },
  {
   "cell_type": "markdown",
   "metadata": {},
   "source": [
    "### Marca e Modelo dos Taxis disponíveis"
   ]
  },
  {
   "cell_type": "code",
   "execution_count": 6,
   "metadata": {
    "scrolled": true
   },
   "outputs": [
    {
     "data": {
      "application/vnd.jupyter.widget-view+json": {
       "model_id": "c6c48e98-b108-49d4-9743-3117a201a9ba",
       "version_major": 2,
       "version_minor": 0
      },
      "method": "display_data"
     },
     "metadata": {},
     "output_type": "display_data"
    }
   ],
   "source": [
    "SELECT Marca, Modelo FROM Taxi;"
   ]
  },
  {
   "cell_type": "markdown",
   "metadata": {},
   "source": [
    "### Taxis fabricados depois do ano 2000"
   ]
  },
  {
   "cell_type": "code",
   "execution_count": 7,
   "metadata": {},
   "outputs": [
    {
     "data": {
      "application/vnd.jupyter.widget-view+json": {
       "model_id": "69358c0d-c221-4e38-8daf-bd34e935b3c4",
       "version_major": 2,
       "version_minor": 0
      },
      "method": "display_data"
     },
     "metadata": {},
     "output_type": "display_data"
    }
   ],
   "source": [
    "SELECT * FROM Taxi WHERE AnoFab > 2000;"
   ]
  },
  {
   "cell_type": "markdown",
   "metadata": {},
   "source": [
    "### Placas que comecem com DK"
   ]
  },
  {
   "cell_type": "code",
   "execution_count": 8,
   "metadata": {},
   "outputs": [
    {
     "data": {
      "application/vnd.jupyter.widget-view+json": {
       "model_id": "c56df008-dbe2-449c-8e8a-1a46c14ca548",
       "version_major": 2,
       "version_minor": 0
      },
      "method": "display_data"
     },
     "metadata": {},
     "output_type": "display_data"
    }
   ],
   "source": [
    "SELECT * FROM Taxi WHERE placa LIKE 'DK%';"
   ]
  },
  {
   "cell_type": "markdown",
   "metadata": {},
   "source": [
    "### Placas com '7' na penultima posicao"
   ]
  },
  {
   "cell_type": "code",
   "execution_count": 9,
   "metadata": {},
   "outputs": [
    {
     "data": {
      "application/vnd.jupyter.widget-view+json": {
       "model_id": "79e8359b-cc74-4b5f-8ad8-325cb0571b00",
       "version_major": 2,
       "version_minor": 0
      },
      "method": "display_data"
     },
     "metadata": {},
     "output_type": "display_data"
    }
   ],
   "source": [
    "SELECT * FROM Taxi WHERE placa LIKE '%7_';"
   ]
  },
  {
   "cell_type": "markdown",
   "metadata": {},
   "source": [
    "# Produto Cartesiano"
   ]
  },
  {
   "cell_type": "markdown",
   "metadata": {},
   "source": [
    "### Produto Cartesiano entre Clientes e Corridas"
   ]
  },
  {
   "cell_type": "code",
   "execution_count": 10,
   "metadata": {},
   "outputs": [
    {
     "data": {
      "application/vnd.jupyter.widget-view+json": {
       "model_id": "0f4c95c2-b556-45f9-8e0b-ee83a89584b8",
       "version_major": 2,
       "version_minor": 0
      },
      "method": "display_data"
     },
     "metadata": {},
     "output_type": "display_data"
    }
   ],
   "source": [
    "SELECT Cliente.CliId, Cliente.Nome, Corrida.Placa, Corrida.DataPedido\n",
    "FROM Cliente, Corrida"
   ]
  },
  {
   "cell_type": "markdown",
   "metadata": {},
   "source": [
    "# JOIN Implícito"
   ]
  },
  {
   "cell_type": "markdown",
   "metadata": {},
   "source": [
    "### Cientes e as respectivas corridas - Join Implícito"
   ]
  },
  {
   "cell_type": "code",
   "execution_count": 11,
   "metadata": {},
   "outputs": [
    {
     "data": {
      "application/vnd.jupyter.widget-view+json": {
       "model_id": "2d890124-3a78-43c8-8290-f92c6450c11c",
       "version_major": 2,
       "version_minor": 0
      },
      "method": "display_data"
     },
     "metadata": {},
     "output_type": "display_data"
    }
   ],
   "source": [
    "SELECT Cliente.CliId, Cliente.Nome, Corrida.Placa, Corrida.DataPedido\n",
    "FROM Cliente, Corrida\n",
    "WHERE Cliente.CliId = Corrida.CliId"
   ]
  },
  {
   "cell_type": "markdown",
   "metadata": {},
   "source": [
    "### Modelo de taxi para cada corrida"
   ]
  },
  {
   "cell_type": "code",
   "execution_count": 12,
   "metadata": {},
   "outputs": [
    {
     "data": {
      "application/vnd.jupyter.widget-view+json": {
       "model_id": "5b57aa51-608a-4365-bc4a-1f3f96a23386",
       "version_major": 2,
       "version_minor": 0
      },
      "method": "display_data"
     },
     "metadata": {},
     "output_type": "display_data"
    }
   ],
   "source": [
    "SELECT Corrida.DataPedido, Corrida.Placa, Taxi.Modelo\n",
    "       FROM Corrida, Taxi\n",
    "       WHERE Corrida.Placa = Taxi.Placa;"
   ]
  },
  {
   "cell_type": "markdown",
   "metadata": {},
   "source": [
    "### Modelos de Táxi por Cliente (estágio 1)"
   ]
  },
  {
   "cell_type": "code",
   "execution_count": 13,
   "metadata": {},
   "outputs": [
    {
     "data": {
      "application/vnd.jupyter.widget-view+json": {
       "model_id": "474ccf6d-1f84-4c1d-ad70-7af8349ac5cb",
       "version_major": 2,
       "version_minor": 0
      },
      "method": "display_data"
     },
     "metadata": {},
     "output_type": "display_data"
    }
   ],
   "source": [
    "SELECT Cliente.Nome, Corrida.DataPedido, Corrida.Placa, Taxi.Modelo\n",
    "       FROM Cliente, Corrida, Taxi\n",
    "       WHERE Cliente.CliId = Corrida.CliId AND Corrida.Placa = Taxi.Placa;"
   ]
  },
  {
   "cell_type": "markdown",
   "metadata": {},
   "source": [
    "### Modelos de Táxi por Cliente (estágio 2)"
   ]
  },
  {
   "cell_type": "code",
   "execution_count": 14,
   "metadata": {},
   "outputs": [
    {
     "data": {
      "application/vnd.jupyter.widget-view+json": {
       "model_id": "6d4c9fab-f677-439d-9c77-4d056b5aff49",
       "version_major": 2,
       "version_minor": 0
      },
      "method": "display_data"
     },
     "metadata": {},
     "output_type": "display_data"
    }
   ],
   "source": [
    "SELECT DISTINCT Cliente.Nome, Taxi.Modelo\n",
    "       FROM Cliente, Corrida, Taxi\n",
    "       WHERE Cliente.CliId = Corrida.CliId AND Corrida.Placa = Taxi.Placa;"
   ]
  },
  {
   "cell_type": "markdown",
   "metadata": {},
   "source": [
    "## ORDER BY"
   ]
  },
  {
   "cell_type": "markdown",
   "metadata": {},
   "source": [
    "### Nome dos clientes ordenado alfabeticamente"
   ]
  },
  {
   "cell_type": "code",
   "execution_count": 15,
   "metadata": {},
   "outputs": [
    {
     "data": {
      "application/vnd.jupyter.widget-view+json": {
       "model_id": "439541c9-39c6-4301-9b34-158791f3591d",
       "version_major": 2,
       "version_minor": 0
      },
      "method": "display_data"
     },
     "metadata": {},
     "output_type": "display_data"
    }
   ],
   "source": [
    "SELECT Nome\n",
    "       FROM Cliente\n",
    "       ORDER BY Nome DESC;"
   ]
  },
  {
   "cell_type": "markdown",
   "metadata": {},
   "source": [
    "### Modelos de taxi e os clientes que os tomaram\n",
    "\n",
    "Ordena por Modelo, mas não por Cliente:"
   ]
  },
  {
   "cell_type": "code",
   "execution_count": 16,
   "metadata": {},
   "outputs": [
    {
     "data": {
      "application/vnd.jupyter.widget-view+json": {
       "model_id": "3cc34d8d-1704-43dc-b28a-1402dfe35e1e",
       "version_major": 2,
       "version_minor": 0
      },
      "method": "display_data"
     },
     "metadata": {},
     "output_type": "display_data"
    }
   ],
   "source": [
    "SELECT DISTINCT Cl.Nome, T.Modelo\n",
    "       FROM Cliente Cl, Corrida Co, Taxi T\n",
    "       WHERE Cl.CliId = Co.CliId AND\n",
    "             Co.Placa = T.Placa\n",
    "       ORDER BY T.Modelo;"
   ]
  },
  {
   "cell_type": "markdown",
   "metadata": {},
   "source": [
    "Ordena por Modelo e, para cada Modelo, por Cliente:"
   ]
  },
  {
   "cell_type": "code",
   "execution_count": 17,
   "metadata": {},
   "outputs": [
    {
     "data": {
      "application/vnd.jupyter.widget-view+json": {
       "model_id": "f8a46c74-00eb-47f3-996b-c29b07d9c0df",
       "version_major": 2,
       "version_minor": 0
      },
      "method": "display_data"
     },
     "metadata": {},
     "output_type": "display_data"
    }
   ],
   "source": [
    "SELECT DISTINCT Cl.Nome, T.Modelo\n",
    "       FROM Cliente Cl, Corrida Co, Taxi T\n",
    "       WHERE Cl.CliId = Co.CliId AND\n",
    "             Co.Placa = T.Placa\n",
    "       ORDER BY T.Modelo, Cl.Nome;"
   ]
  },
  {
   "cell_type": "markdown",
   "metadata": {},
   "source": [
    "### Cliente e os modelos de taxi tomados\n",
    "Ordena por Cliente, mas não por Modelo:"
   ]
  },
  {
   "cell_type": "code",
   "execution_count": 18,
   "metadata": {},
   "outputs": [
    {
     "data": {
      "application/vnd.jupyter.widget-view+json": {
       "model_id": "2dd2371c-20aa-41a9-a86b-a7556a4b0e18",
       "version_major": 2,
       "version_minor": 0
      },
      "method": "display_data"
     },
     "metadata": {},
     "output_type": "display_data"
    }
   ],
   "source": [
    "SELECT DISTINCT Cl.Nome, T.Modelo\n",
    "       FROM Cliente Cl, Corrida Co, Taxi T\n",
    "       WHERE Cl.CliId = Co.CliId AND\n",
    "             Co.Placa = T.Placa\n",
    "       ORDER BY Cl.Nome;"
   ]
  },
  {
   "cell_type": "markdown",
   "metadata": {},
   "source": [
    "Ordena por Cliente e, para cada Cliente, por Modelo"
   ]
  },
  {
   "cell_type": "code",
   "execution_count": 19,
   "metadata": {},
   "outputs": [
    {
     "data": {
      "application/vnd.jupyter.widget-view+json": {
       "model_id": "be058712-13b5-4f4a-8e54-942790711c22",
       "version_major": 2,
       "version_minor": 0
      },
      "method": "display_data"
     },
     "metadata": {},
     "output_type": "display_data"
    }
   ],
   "source": [
    "SELECT DISTINCT Cl.Nome, T.Modelo\n",
    "       FROM Cliente Cl, Corrida Co, Taxi T\n",
    "       WHERE Cl.CliId = Co.CliId AND\n",
    "             Co.Placa = T.Placa\n",
    "       ORDER BY Cl.Nome, T.Modelo;"
   ]
  },
  {
   "cell_type": "markdown",
   "metadata": {},
   "source": [
    "# GROUP BY"
   ]
  },
  {
   "cell_type": "markdown",
   "metadata": {},
   "source": [
    "### Modelos de Táxi cadastrados"
   ]
  },
  {
   "cell_type": "code",
   "execution_count": 20,
   "metadata": {},
   "outputs": [
    {
     "data": {
      "application/vnd.jupyter.widget-view+json": {
       "model_id": "b80e20ca-6f1a-48ea-9f90-ee338716312b",
       "version_major": 2,
       "version_minor": 0
      },
      "method": "display_data"
     },
     "metadata": {},
     "output_type": "display_data"
    }
   ],
   "source": [
    "SELECT T.Modelo\n",
    "       FROM Taxi T\n",
    "       GROUP BY T.Modelo;"
   ]
  },
  {
   "cell_type": "markdown",
   "metadata": {},
   "source": [
    "### Total de Táxis por Modelo\n",
    "\n",
    "Modelos de Táxi cadastrados e quantos táxis há em cada modelo:"
   ]
  },
  {
   "cell_type": "code",
   "execution_count": 21,
   "metadata": {},
   "outputs": [
    {
     "data": {
      "application/vnd.jupyter.widget-view+json": {
       "model_id": "e72f97ab-8d1a-4a5d-8a11-cafbc0777dfa",
       "version_major": 2,
       "version_minor": 0
      },
      "method": "display_data"
     },
     "metadata": {},
     "output_type": "display_data"
    }
   ],
   "source": [
    "SELECT T.Modelo, COUNT(*)\n",
    "       FROM Taxi T\n",
    "       GROUP BY T.Modelo;"
   ]
  },
  {
   "cell_type": "markdown",
   "metadata": {},
   "source": [
    "## Agregando em mais de um nível"
   ]
  },
  {
   "cell_type": "markdown",
   "metadata": {},
   "source": [
    "### Modelos de taxi tomados por cada cliente (agrupando por Cliente e por Modelo)"
   ]
  },
  {
   "cell_type": "code",
   "execution_count": 22,
   "metadata": {},
   "outputs": [
    {
     "data": {
      "application/vnd.jupyter.widget-view+json": {
       "model_id": "6ba03389-8d0a-40cc-970b-113b0779f339",
       "version_major": 2,
       "version_minor": 0
      },
      "method": "display_data"
     },
     "metadata": {},
     "output_type": "display_data"
    }
   ],
   "source": [
    "SELECT Cl.Nome, T.Modelo\n",
    "       FROM Cliente Cl, Corrida Co, Taxi T\n",
    "       WHERE Cl.CliId = Co.CliId AND\n",
    "             Co.Placa = T.Placa;"
   ]
  },
  {
   "cell_type": "code",
   "execution_count": 23,
   "metadata": {},
   "outputs": [
    {
     "data": {
      "application/vnd.jupyter.widget-view+json": {
       "model_id": "f17c2f26-43e4-4394-b1ce-0a5f241e9143",
       "version_major": 2,
       "version_minor": 0
      },
      "method": "display_data"
     },
     "metadata": {},
     "output_type": "display_data"
    }
   ],
   "source": [
    "SELECT DISTINCT Cl.Nome, T.Modelo\n",
    "       FROM Cliente Cl, Corrida Co, Taxi T\n",
    "       WHERE Cl.CliId = Co.CliId AND\n",
    "             Co.Placa = T.Placa;"
   ]
  },
  {
   "cell_type": "code",
   "execution_count": 24,
   "metadata": {},
   "outputs": [
    {
     "data": {
      "application/vnd.jupyter.widget-view+json": {
       "model_id": "6d156e27-8209-4ec7-afed-a6a2676ec532",
       "version_major": 2,
       "version_minor": 0
      },
      "method": "display_data"
     },
     "metadata": {},
     "output_type": "display_data"
    }
   ],
   "source": [
    "SELECT Cl.Nome, T.Modelo\n",
    "       FROM Cliente Cl, Corrida Co, Taxi T\n",
    "       WHERE Cl.CliId = Co.CliId AND\n",
    "             Co.Placa = T.Placa\n",
    "       GROUP BY Cl.Nome, T.Modelo;"
   ]
  },
  {
   "cell_type": "code",
   "execution_count": 25,
   "metadata": {},
   "outputs": [
    {
     "data": {
      "application/vnd.jupyter.widget-view+json": {
       "model_id": "d54d5b5f-bf22-430d-99cf-32b49430061e",
       "version_major": 2,
       "version_minor": 0
      },
      "method": "display_data"
     },
     "metadata": {},
     "output_type": "display_data"
    }
   ],
   "source": [
    "SELECT Cl.Nome, T.Modelo, COUNT(*)\n",
    "       FROM Cliente Cl, Corrida Co, Taxi T \n",
    "       WHERE Cl.CliId = Co.CliId AND \n",
    "             Co.Placa = T.Placa\n",
    "       GROUP BY Cl.Nome, T.Modelo;"
   ]
  },
  {
   "cell_type": "markdown",
   "metadata": {},
   "source": [
    "## Contando Itens Distintos"
   ]
  },
  {
   "cell_type": "markdown",
   "metadata": {},
   "source": [
    "### Quantos clientes distintos tomaram cada modelo de táxi\n",
    "\n",
    "Primeiro verificando cada modelo de taxi, clientes e quantas vezes tomaram o modelo."
   ]
  },
  {
   "cell_type": "code",
   "execution_count": 26,
   "metadata": {},
   "outputs": [
    {
     "data": {
      "application/vnd.jupyter.widget-view+json": {
       "model_id": "f7ed2766-ab2c-40bf-9b94-78da8692baa6",
       "version_major": 2,
       "version_minor": 0
      },
      "method": "display_data"
     },
     "metadata": {},
     "output_type": "display_data"
    }
   ],
   "source": [
    "SELECT T.Modelo, Cl.Nome, COUNT(*)\n",
    "       FROM Cliente Cl, Corrida Co, Taxi T \n",
    "       WHERE Cl.CliId = Co.CliId AND \n",
    "             Co.Placa = T.Placa\n",
    "       GROUP BY T.Modelo, Cl.Nome;"
   ]
  },
  {
   "cell_type": "markdown",
   "metadata": {},
   "source": [
    "#### Sem distinguir clientes"
   ]
  },
  {
   "cell_type": "code",
   "execution_count": 27,
   "metadata": {},
   "outputs": [
    {
     "data": {
      "application/vnd.jupyter.widget-view+json": {
       "model_id": "928c63e3-2b43-4141-8c09-6462203eb138",
       "version_major": 2,
       "version_minor": 0
      },
      "method": "display_data"
     },
     "metadata": {},
     "output_type": "display_data"
    }
   ],
   "source": [
    "SELECT T.Modelo, COUNT(*)\n",
    "       FROM Taxi T, Corrida Co\n",
    "       WHERE Co.Placa = T.Placa\n",
    "       GROUP BY T.Modelo;"
   ]
  },
  {
   "cell_type": "markdown",
   "metadata": {},
   "source": [
    "#### Com distinção de clientes"
   ]
  },
  {
   "cell_type": "code",
   "execution_count": 28,
   "metadata": {},
   "outputs": [
    {
     "data": {
      "application/vnd.jupyter.widget-view+json": {
       "model_id": "ad3e4282-c662-44f8-aa23-2d0675d07e72",
       "version_major": 2,
       "version_minor": 0
      },
      "method": "display_data"
     },
     "metadata": {},
     "output_type": "display_data"
    }
   ],
   "source": [
    "SELECT T.Modelo, COUNT(DISTINCT Co.CliId)\n",
    "       FROM Taxi T, Corrida Co\n",
    "       WHERE Co.Placa = T.Placa\n",
    "       GROUP BY T.Modelo;"
   ]
  },
  {
   "cell_type": "markdown",
   "metadata": {},
   "source": [
    "## Funções de agregação sem agrupamento\n",
    "\n",
    "### Maior e menor ano de fabricação para todos os Táxis e a média de anos\n",
    "\n",
    "Quando é usada função de agregação sem especificação de agrupamento, toda a tabela é agregada como se fosse um único grupo."
   ]
  },
  {
   "cell_type": "code",
   "execution_count": 29,
   "metadata": {},
   "outputs": [
    {
     "data": {
      "application/vnd.jupyter.widget-view+json": {
       "model_id": "5a4c6bb3-b0dd-4cff-b7a6-bea9a0099455",
       "version_major": 2,
       "version_minor": 0
      },
      "method": "display_data"
     },
     "metadata": {},
     "output_type": "display_data"
    }
   ],
   "source": [
    "SELECT Modelo, AnoFab FROM Taxi;"
   ]
  },
  {
   "cell_type": "code",
   "execution_count": 30,
   "metadata": {},
   "outputs": [
    {
     "data": {
      "application/vnd.jupyter.widget-view+json": {
       "model_id": "4916150f-315e-415e-a232-34c107950e3a",
       "version_major": 2,
       "version_minor": 0
      },
      "method": "display_data"
     },
     "metadata": {},
     "output_type": "display_data"
    }
   ],
   "source": [
    "SELECT Modelo, MIN(AnoFab), MAX(AnoFab), AVG(AnoFab)\n",
    "       FROM Taxi\n",
    "       GROUP BY Modelo;"
   ]
  },
  {
   "cell_type": "markdown",
   "metadata": {},
   "source": [
    "## Campos mostrados devem corresponder a agregação\n",
    "\n",
    "Exemplo sem agregação:"
   ]
  },
  {
   "cell_type": "code",
   "execution_count": 31,
   "metadata": {},
   "outputs": [
    {
     "data": {
      "application/vnd.jupyter.widget-view+json": {
       "model_id": "0124b93c-f35f-48b4-b729-b9cd3757770e",
       "version_major": 2,
       "version_minor": 0
      },
      "method": "display_data"
     },
     "metadata": {},
     "output_type": "display_data"
    }
   ],
   "source": [
    "SELECT Modelo, AnoFab\n",
    "       FROM Taxi;"
   ]
  },
  {
   "cell_type": "markdown",
   "metadata": {},
   "source": [
    "### Modelo e Ano de Fabricação\n",
    "\n",
    "Este exemplo com agregação produzirá um erro pois `AnoFab` (ano de fabricação) não foi agregado, portanto, pode haver mais de um ano de fabricação para o mesmo modelo."
   ]
  },
  {
   "cell_type": "code",
   "execution_count": 32,
   "metadata": {},
   "outputs": [
    {
     "ename": "org.h2.jdbc.JdbcSQLException",
     "evalue": " Column \"ANOFAB\" must be in the GROUP BY list; SQL statement",
     "output_type": "error",
     "traceback": [
      "\u001b[1;31morg.h2.jdbc.JdbcSQLException: Column \"ANOFAB\" must be in the GROUP BY list; SQL statement:\u001b[0;0m",
      "\u001b[1;31mSELECT Modelo, AnoFab\u001b[0;0m",
      "\u001b[1;31mFROM Taxi\u001b[0;0m",
      "\u001b[1;31mGROUP BY Modelo [90016-193]\u001b[0;0m"
     ]
    }
   ],
   "source": [
    "SELECT Modelo, AnoFab\n",
    "       FROM Taxi\n",
    "       GROUP BY Modelo;"
   ]
  },
  {
   "cell_type": "markdown",
   "metadata": {},
   "source": [
    "### Modelo e Maior Ano de Fabricação\n",
    "#### Corrigindo com função de agregação\n",
    "\n",
    "Este exemplo escolhe o maior ano para cada Modelo agregado."
   ]
  },
  {
   "cell_type": "code",
   "execution_count": 33,
   "metadata": {},
   "outputs": [
    {
     "data": {
      "application/vnd.jupyter.widget-view+json": {
       "model_id": "a89f3196-21b6-4e05-909c-66279fe73587",
       "version_major": 2,
       "version_minor": 0
      },
      "method": "display_data"
     },
     "metadata": {},
     "output_type": "display_data"
    }
   ],
   "source": [
    "SELECT Modelo, MAX(AnoFab)\n",
    "       FROM Taxi\n",
    "       GROUP BY Modelo;"
   ]
  },
  {
   "cell_type": "markdown",
   "metadata": {},
   "source": [
    "# HAVING"
   ]
  },
  {
   "cell_type": "markdown",
   "metadata": {},
   "source": [
    "### Número de Táxis por Modelo somente para os Táxis com ano de fabricação abaixo de 2000\n",
    "\n",
    "Exemplo com `WHERE` em que a condição é aplicada antes de se agregar:"
   ]
  },
  {
   "cell_type": "code",
   "execution_count": 34,
   "metadata": {},
   "outputs": [
    {
     "data": {
      "application/vnd.jupyter.widget-view+json": {
       "model_id": "db633311-885f-4b7a-9b0b-c68e56c1a316",
       "version_major": 2,
       "version_minor": 0
      },
      "method": "display_data"
     },
     "metadata": {},
     "output_type": "display_data"
    }
   ],
   "source": [
    "-- Todos os Táxis\n",
    "SELECT Modelo, AnoFab\n",
    "       FROM Taxi;"
   ]
  },
  {
   "cell_type": "code",
   "execution_count": 35,
   "metadata": {},
   "outputs": [
    {
     "data": {
      "application/vnd.jupyter.widget-view+json": {
       "model_id": "8d416f61-9d2f-43ab-85e4-d2cc8e3da9e3",
       "version_major": 2,
       "version_minor": 0
      },
      "method": "display_data"
     },
     "metadata": {},
     "output_type": "display_data"
    }
   ],
   "source": [
    "SELECT Modelo, AnoFab\n",
    "       FROM Taxi\n",
    "       WHERE AnoFab < 2000;"
   ]
  },
  {
   "cell_type": "code",
   "execution_count": 36,
   "metadata": {},
   "outputs": [
    {
     "data": {
      "application/vnd.jupyter.widget-view+json": {
       "model_id": "367263f6-4af6-4f6b-be81-cc66c9fbe5c0",
       "version_major": 2,
       "version_minor": 0
      },
      "method": "display_data"
     },
     "metadata": {},
     "output_type": "display_data"
    }
   ],
   "source": [
    "-- Selecionados e Agregados\n",
    "SELECT Modelo, COUNT(*) NUM\n",
    "       FROM Taxi\n",
    "       WHERE AnoFab < 2000\n",
    "       GROUP BY Modelo;"
   ]
  },
  {
   "cell_type": "markdown",
   "metadata": {},
   "source": [
    "### Modelos de Táxi que têm mais de um Táxi do respectivo modelo\n",
    "\n",
    "Exemplo com `HAVING` em que a condição é aplicada após se agregar:"
   ]
  },
  {
   "cell_type": "code",
   "execution_count": 37,
   "metadata": {},
   "outputs": [
    {
     "data": {
      "application/vnd.jupyter.widget-view+json": {
       "model_id": "cc2d4b89-ede9-4386-b5a8-bbaf1a419df1",
       "version_major": 2,
       "version_minor": 0
      },
      "method": "display_data"
     },
     "metadata": {},
     "output_type": "display_data"
    }
   ],
   "source": [
    "-- Agrupamento\n",
    "SELECT Modelo, COUNT(*) NUM\n",
    "       FROM Taxi\n",
    "       GROUP BY Modelo;"
   ]
  },
  {
   "cell_type": "code",
   "execution_count": 38,
   "metadata": {},
   "outputs": [
    {
     "data": {
      "application/vnd.jupyter.widget-view+json": {
       "model_id": "d0672f36-472d-4314-903b-add48f1981c6",
       "version_major": 2,
       "version_minor": 0
      },
      "method": "display_data"
     },
     "metadata": {},
     "output_type": "display_data"
    }
   ],
   "source": [
    "-- Agrupamento com HAVING\n",
    "SELECT Modelo, COUNT(*) NUM\n",
    "       FROM Taxi\n",
    "       GROUP BY Modelo\n",
    "       HAVING NUM > 1;"
   ]
  },
  {
   "cell_type": "markdown",
   "metadata": {},
   "source": [
    "## `HAVING` apenas para campos agregados \n",
    "\n",
    "### Modelos daqueles Táxis com ano de fabricação acima de 2000\n",
    "\n",
    "A seleção a seguir produzirá um erro pois está se aplicando uma condição `HAVING` para um campo não agregado. Deveria ter sido usado `WHERE` como foi feito anteriormente."
   ]
  },
  {
   "cell_type": "code",
   "execution_count": 39,
   "metadata": {},
   "outputs": [
    {
     "ename": "org.h2.jdbc.JdbcSQLException",
     "evalue": " Column \"ANOFAB\" must be in the GROUP BY list; SQL statement",
     "output_type": "error",
     "traceback": [
      "\u001b[1;31morg.h2.jdbc.JdbcSQLException: Column \"ANOFAB\" must be in the GROUP BY list; SQL statement:\u001b[0;0m",
      "\u001b[1;31mSELECT Modelo, COUNT(*) NUM\u001b[0;0m",
      "\u001b[1;31mFROM Taxi\u001b[0;0m",
      "\u001b[1;31mGROUP BY Modelo\u001b[0;0m",
      "\u001b[1;31mHAVING AnoFab > 2000 [90016-193]\u001b[0;0m"
     ]
    }
   ],
   "source": [
    "SELECT Modelo, COUNT(*) NUM\n",
    "       FROM Taxi\n",
    "       GROUP BY Modelo\n",
    "       HAVING AnoFab > 2000;"
   ]
  },
  {
   "cell_type": "markdown",
   "metadata": {},
   "source": [
    "## Exemplo de `HAVING` com funções de agregação\n",
    "\n",
    "### Modelos de Táxi cujo menor Ano de Fabricação seja após 2000"
   ]
  },
  {
   "cell_type": "code",
   "execution_count": 40,
   "metadata": {},
   "outputs": [
    {
     "data": {
      "application/vnd.jupyter.widget-view+json": {
       "model_id": "4e434aeb-6aa6-4c96-bc2c-7445a740f1e2",
       "version_major": 2,
       "version_minor": 0
      },
      "method": "display_data"
     },
     "metadata": {},
     "output_type": "display_data"
    }
   ],
   "source": [
    "-- sem agregacao (nao eh possível resolver a questao)\n",
    "SELECT Modelo, AnoFab\n",
    "       FROM Taxi\n",
    "       WHERE AnoFab < 2000;"
   ]
  },
  {
   "cell_type": "code",
   "execution_count": 41,
   "metadata": {},
   "outputs": [
    {
     "data": {
      "application/vnd.jupyter.widget-view+json": {
       "model_id": "3081b823-8940-414d-a92e-09eabb1543f7",
       "version_major": 2,
       "version_minor": 0
      },
      "method": "display_data"
     },
     "metadata": {},
     "output_type": "display_data"
    }
   ],
   "source": [
    "-- testando após a agregação\n",
    "SELECT Modelo, MAX(AnoFab) MaiorAno\n",
    "       FROM Taxi\n",
    "       GROUP BY Modelo\n",
    "       HAVING MaiorAno < 2000;"
   ]
  },
  {
   "cell_type": "markdown",
   "metadata": {},
   "source": [
    "# Bloco II - JOIN Explícito e VIEW"
   ]
  },
  {
   "cell_type": "markdown",
   "metadata": {},
   "source": [
    "## JOIN explícito"
   ]
  },
  {
   "cell_type": "markdown",
   "metadata": {},
   "source": [
    "### Clientes e respectivas corridas (para clientes que fizeram corrida)"
   ]
  },
  {
   "cell_type": "code",
   "execution_count": 42,
   "metadata": {},
   "outputs": [
    {
     "data": {
      "application/vnd.jupyter.widget-view+json": {
       "model_id": "511eb5e8-dd7b-4174-856b-96106706bfdb",
       "version_major": 2,
       "version_minor": 0
      },
      "method": "display_data"
     },
     "metadata": {},
     "output_type": "display_data"
    }
   ],
   "source": [
    "SELECT Cl.CliId, Cl.Nome,\n",
    "       Co.Placa, Co.DataPedido\n",
    "       FROM Cliente Cl JOIN Corrida Co\n",
    "            ON Cl.CliId = Co.CliId;"
   ]
  },
  {
   "cell_type": "markdown",
   "metadata": {},
   "source": [
    "### Taxis e respectivas corridas (para taxis que fizeram corrida)"
   ]
  },
  {
   "cell_type": "code",
   "execution_count": 43,
   "metadata": {},
   "outputs": [
    {
     "data": {
      "application/vnd.jupyter.widget-view+json": {
       "model_id": "80d3282c-f7fb-47c1-b743-2e49ee2e7564",
       "version_major": 2,
       "version_minor": 0
      },
      "method": "display_data"
     },
     "metadata": {},
     "output_type": "display_data"
    }
   ],
   "source": [
    "SELECT Tx.placa, Co.cliid\n",
    "       FROM Taxi Tx JOIN Corrida Co\n",
    "            ON Tx.placa = Co.placa;"
   ]
  },
  {
   "cell_type": "markdown",
   "metadata": {},
   "source": [
    "## NATURAL JOIN"
   ]
  },
  {
   "cell_type": "code",
   "execution_count": 44,
   "metadata": {},
   "outputs": [
    {
     "data": {
      "application/vnd.jupyter.widget-view+json": {
       "model_id": "b5e00a85-c518-4520-976f-f8102271f119",
       "version_major": 2,
       "version_minor": 0
      },
      "method": "display_data"
     },
     "metadata": {},
     "output_type": "display_data"
    }
   ],
   "source": [
    "SELECT Tx.placa, Co.cliid\n",
    "       FROM Taxi Tx\n",
    "            NATURAL JOIN Corrida Co;"
   ]
  },
  {
   "cell_type": "markdown",
   "metadata": {},
   "source": [
    "## LEFT JOIN\n",
    "\n",
    "### Clientes e respectivas corridas (para todos os clientes)"
   ]
  },
  {
   "cell_type": "code",
   "execution_count": 45,
   "metadata": {},
   "outputs": [
    {
     "data": {
      "application/vnd.jupyter.widget-view+json": {
       "model_id": "00ac07fc-c4d8-4c1f-86a0-c38ec81328c2",
       "version_major": 2,
       "version_minor": 0
      },
      "method": "display_data"
     },
     "metadata": {},
     "output_type": "display_data"
    }
   ],
   "source": [
    "SELECT Cl.CliId, Cl.Nome,\n",
    "       Co.Placa, Co.DataPedido\n",
    "       FROM Cliente Cl LEFT JOIN Corrida Co\n",
    "            ON Cl.CliId = Co.CliId;"
   ]
  },
  {
   "cell_type": "markdown",
   "metadata": {},
   "source": [
    "### Taxis e respectivas corridas (para todos os taxis)"
   ]
  },
  {
   "cell_type": "code",
   "execution_count": 46,
   "metadata": {},
   "outputs": [
    {
     "data": {
      "application/vnd.jupyter.widget-view+json": {
       "model_id": "e542ce7c-1b3c-49b9-af14-92d5835c31aa",
       "version_major": 2,
       "version_minor": 0
      },
      "method": "display_data"
     },
     "metadata": {},
     "output_type": "display_data"
    }
   ],
   "source": [
    "SELECT Tx.placa, Co.cliid\n",
    "       FROM Taxi Tx LEFT JOIN Corrida Co\n",
    "            ON Tx.placa = Co.placa;"
   ]
  },
  {
   "cell_type": "markdown",
   "metadata": {},
   "source": [
    "## RIGHT JOIN\n",
    "\n",
    "### Corridas e respectivos clientes (para todos os clientes)"
   ]
  },
  {
   "cell_type": "code",
   "execution_count": 47,
   "metadata": {},
   "outputs": [
    {
     "data": {
      "application/vnd.jupyter.widget-view+json": {
       "model_id": "8d9a5647-8787-4996-b52a-5a040a18087a",
       "version_major": 2,
       "version_minor": 0
      },
      "method": "display_data"
     },
     "metadata": {},
     "output_type": "display_data"
    }
   ],
   "source": [
    "SELECT Co.placa, Cl.nome\n",
    "       FROM Corrida Co RIGHT JOIN Cliente Cl\n",
    "            ON Co.cliid = Cl.cliid;"
   ]
  },
  {
   "cell_type": "markdown",
   "metadata": {},
   "source": [
    "# VIEW\n",
    "\n",
    "### Total de Táxis por Modelo\n",
    "\n",
    "Agrupamento sem o uso de `VIEW`:"
   ]
  },
  {
   "cell_type": "code",
   "execution_count": 48,
   "metadata": {},
   "outputs": [
    {
     "data": {
      "application/vnd.jupyter.widget-view+json": {
       "model_id": "d16c5bc0-a814-4120-8f99-cf454d270536",
       "version_major": 2,
       "version_minor": 0
      },
      "method": "display_data"
     },
     "metadata": {},
     "output_type": "display_data"
    }
   ],
   "source": [
    "SELECT Modelo, COUNT(*) Numero_Taxis\n",
    "       FROM taxi\n",
    "       GROUP BY Modelo;"
   ]
  },
  {
   "cell_type": "markdown",
   "metadata": {},
   "source": [
    "### Tabela de Total de Táxis por Modelo\n",
    "\n",
    "Transformando o agrupamento na tabela `Contagem_Modelo` com o `VIEW`:"
   ]
  },
  {
   "cell_type": "code",
   "execution_count": 49,
   "metadata": {},
   "outputs": [
    {
     "data": {
      "application/vnd.jupyter.widget-view+json": {
       "model_id": "00e2e4fc-f05c-4c53-9944-927e0185b51e",
       "version_major": 2,
       "version_minor": 0
      },
      "method": "display_data"
     },
     "metadata": {},
     "output_type": "display_data"
    }
   ],
   "source": [
    "CREATE VIEW Contagem_Modelo AS\n",
    "SELECT Modelo, COUNT(*) Numero_Taxis\n",
    "       FROM taxi\n",
    "       GROUP BY Modelo;\n",
    "\n",
    "SELECT * FROM Contagem_Modelo;"
   ]
  },
  {
   "cell_type": "markdown",
   "metadata": {},
   "source": [
    "Usando a tabela criada com a `VIEW`:"
   ]
  },
  {
   "cell_type": "code",
   "execution_count": 50,
   "metadata": {},
   "outputs": [
    {
     "data": {
      "text/plain": [
       "2"
      ]
     },
     "execution_count": 50,
     "metadata": {},
     "output_type": "execute_result"
    }
   ],
   "source": [
    "SELECT MAX(Numero_Taxis) FROM Contagem_Modelo;"
   ]
  },
  {
   "cell_type": "markdown",
   "metadata": {},
   "source": [
    "## VIEW se auto-atualiza\n",
    "\n",
    "A view é um recorte dinâmico, ela se auto-atualiza quando a tabela original é modificada."
   ]
  },
  {
   "cell_type": "code",
   "execution_count": 51,
   "metadata": {},
   "outputs": [
    {
     "data": {
      "application/vnd.jupyter.widget-view+json": {
       "model_id": "7195fa6c-725d-441b-942b-e566f19fc304",
       "version_major": 2,
       "version_minor": 0
      },
      "method": "display_data"
     },
     "metadata": {},
     "output_type": "display_data"
    }
   ],
   "source": [
    "INSERT INTO Taxi VALUES ('KMN3412', 'Chevrolet', 'Corsa', 2001, 'QJ572345');\n",
    "SELECT * FROM Contagem_Modelo;"
   ]
  }
 ],
 "metadata": {
  "kernelspec": {
   "display_name": "SQL",
   "language": "SQL",
   "name": "sql"
  },
  "language_info": {
   "codemirror_mode": "sql",
   "file_extension": ".sql",
   "mimetype": "",
   "name": "SQL",
   "nbconverter_exporter": "",
   "version": ""
  },
  "toc": {
   "base_numbering": 1,
   "nav_menu": {},
   "number_sections": false,
   "sideBar": false,
   "skip_h1_title": false,
   "title_cell": "Table of Contents",
   "title_sidebar": "Contents",
   "toc_cell": false,
   "toc_position": {},
   "toc_section_display": false,
   "toc_window_display": false
  }
 },
 "nbformat": 4,
 "nbformat_minor": 2
}
