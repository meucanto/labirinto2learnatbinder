{
 "cells": [
  {
   "cell_type": "code",
   "execution_count": 1,
   "metadata": {},
   "outputs": [],
   "source": [
    "%defaultDatasource jdbc:h2:mem:db"
   ]
  },
  {
   "cell_type": "code",
   "execution_count": 2,
   "metadata": {},
   "outputs": [],
   "source": [
    "DROP TABLE IF EXISTS DescEKGCases;\n",
    "\n",
    "CREATE TABLE DescEKGCases (\n",
    "  user INT NOT NULL,\n",
    "  casen VARCHAR(7),\n",
    "  stage VARCHAR(22),\n",
    "  answer VARCHAR(200),\n",
    "  points DECIMAL(3,1),\n",
    "  confidence INT,\n",
    "  time DECIMAL(8,2),\n",
    "  ctype VARCHAR(2),\n",
    "  PRIMARY KEY(user, casen, stage)\n",
    ") AS SELECT *\n",
    "  FROM CSVREAD('../../data/logx/AllT.csv');"
   ]
  },
  {
   "cell_type": "markdown",
   "metadata": {},
   "source": [
    "# Overall Average of the Accuracy\n",
    "\n",
    "Considering the accuracy in the second answer of each case.\n",
    "\n",
    "## For Description First"
   ]
  },
  {
   "cell_type": "code",
   "execution_count": 3,
   "metadata": {},
   "outputs": [
    {
     "data": {
      "application/vnd.jupyter.widget-view+json": {
       "model_id": "105d8fe6-bc0e-4dee-9ead-3744962dceb8",
       "version_major": 2,
       "version_minor": 0
      },
      "method": "display_data"
     },
     "metadata": {},
     "output_type": "display_data"
    }
   ],
   "source": [
    "SELECT ctype, AVG(points) AVG_points, STDDEV_SAMP(points) STD_Deviation_points\n",
    "FROM DescEKGCases\n",
    "WHERE ctype='DF' AND stage='EKG Hypothesis';"
   ]
  },
  {
   "cell_type": "markdown",
   "metadata": {},
   "source": [
    "# For EKG First"
   ]
  },
  {
   "cell_type": "code",
   "execution_count": 4,
   "metadata": {},
   "outputs": [
    {
     "data": {
      "application/vnd.jupyter.widget-view+json": {
       "model_id": "ec2757c4-4462-4c2a-8de7-0e0bc0a6fb83",
       "version_major": 2,
       "version_minor": 0
      },
      "method": "display_data"
     },
     "metadata": {},
     "output_type": "display_data"
    }
   ],
   "source": [
    "SELECT ctype, AVG(points) AVG_points, STDDEV_SAMP(points) STD_Deviation_points\n",
    "FROM DescEKGCases\n",
    "WHERE ctype='EF' AND stage='Description Hypothesis';"
   ]
  },
  {
   "cell_type": "code",
   "execution_count": 5,
   "metadata": {},
   "outputs": [
    {
     "data": {
      "application/vnd.jupyter.widget-view+json": {
       "model_id": "fccefbe2-67d4-4758-82a1-4fd1aea7d35e",
       "version_major": 2,
       "version_minor": 0
      },
      "method": "display_data"
     },
     "metadata": {},
     "output_type": "display_data"
    },
    {
     "data": {
      "application/vnd.jupyter.widget-view+json": {
       "model_id": "3f657232-03e7-45c8-8ab0-7cb38e31f866",
       "version_major": 2,
       "version_minor": 0
      },
      "method": "display_data"
     },
     "metadata": {},
     "output_type": "display_data"
    }
   ],
   "source": [
    "-- initial accuracy\n",
    "\n",
    "SELECT ctype, AVG(points) AVG_points, STDDEV_SAMP(points) STD_Deviation_points\n",
    "FROM DescEKGCases\n",
    "WHERE ctype='DF' AND stage='Description Hypothesis';\n",
    "\n",
    "SELECT ctype, AVG(points) AVG_points, STDDEV_SAMP(points) STD_Deviation_points\n",
    "FROM DescEKGCases\n",
    "WHERE ctype='EF' AND stage='EKG Hypothesis';"
   ]
  },
  {
   "cell_type": "markdown",
   "metadata": {},
   "source": [
    "# Accuracy in the First Task"
   ]
  },
  {
   "cell_type": "code",
   "execution_count": 6,
   "metadata": {},
   "outputs": [
    {
     "data": {
      "application/vnd.jupyter.widget-view+json": {
       "model_id": "50e3b9b0-0e70-440a-bd91-2d60bf1a9483",
       "version_major": 2,
       "version_minor": 0
      },
      "method": "display_data"
     },
     "metadata": {},
     "output_type": "display_data"
    }
   ],
   "source": [
    "SELECT casen, AVG(points) AVG_points, STDDEV_SAMP(points) STD_Deviation_points\n",
    "FROM DescEKGCases\n",
    "WHERE ctype='DF' AND stage='Description Hypothesis'\n",
    "GROUP BY casen\n",
    "ORDER BY casen;"
   ]
  },
  {
   "cell_type": "code",
   "execution_count": 7,
   "metadata": {},
   "outputs": [
    {
     "data": {
      "application/vnd.jupyter.widget-view+json": {
       "model_id": "246c044b-c86b-469a-ac11-016875018773",
       "version_major": 2,
       "version_minor": 0
      },
      "method": "display_data"
     },
     "metadata": {},
     "output_type": "display_data"
    }
   ],
   "source": [
    "SELECT casen, AVG(points) AVG_points, STDDEV_SAMP(points) STD_Deviation_points\n",
    "FROM DescEKGCases\n",
    "WHERE ctype='EF' AND stage='EKG Hypothesis'\n",
    "GROUP BY casen\n",
    "ORDER BY casen;"
   ]
  },
  {
   "cell_type": "code",
   "execution_count": 8,
   "metadata": {},
   "outputs": [
    {
     "data": {
      "application/vnd.jupyter.widget-view+json": {
       "model_id": "233badf0-a124-42fe-91cb-2063e1a2cf56",
       "version_major": 2,
       "version_minor": 0
      },
      "method": "display_data"
     },
     "metadata": {},
     "output_type": "display_data"
    },
    {
     "data": {
      "application/vnd.jupyter.widget-view+json": {
       "model_id": "c49b4fb6-b9a2-47d2-a39b-c52fdff15234",
       "version_major": 2,
       "version_minor": 0
      },
      "method": "display_data"
     },
     "metadata": {},
     "output_type": "display_data"
    }
   ],
   "source": [
    "-- final accuracy\n",
    "\n",
    "SELECT casen, AVG(points) AVG_points, STDDEV_SAMP(points) STD_Deviation_points\n",
    "FROM DescEKGCases\n",
    "WHERE ctype='DF' AND stage='EKG Hypothesis'\n",
    "GROUP BY casen\n",
    "ORDER BY casen;\n",
    "\n",
    "SELECT casen, AVG(points) AVG_points, STDDEV_SAMP(points) STD_Deviation_points\n",
    "FROM DescEKGCases\n",
    "WHERE ctype='EF' AND stage='Description Hypothesis'\n",
    "GROUP BY casen\n",
    "ORDER BY casen;"
   ]
  },
  {
   "cell_type": "code",
   "execution_count": 9,
   "metadata": {},
   "outputs": [
    {
     "data": {
      "application/vnd.jupyter.widget-view+json": {
       "model_id": "3e21dd62-30a9-448f-9d22-de0d505c2654",
       "version_major": 2,
       "version_minor": 0
      },
      "method": "display_data"
     },
     "metadata": {},
     "output_type": "display_data"
    }
   ],
   "source": [
    "DROP VIEW IF EXISTS G1;\n",
    "CREATE VIEW G1 AS\n",
    "SELECT user, casen, time, confidence\n",
    "FROM DescEKGCases\n",
    "WHERE ctype='EF' AND stage='EKG Hypothesis' AND points < 1;\n",
    "\n",
    "DROP VIEW IF EXISTS G2;\n",
    "CREATE VIEW G2 AS\n",
    "SELECT user, casen, time, confidence\n",
    "FROM DescEKGCases\n",
    "WHERE ctype='EF' AND stage='Description Hypothesis' AND points = 1;\n",
    "\n",
    "SELECT count(*), avg(G1.time) Time_First, AVG(G2.time) Time_Second, AVG(G1.confidence) Confidence_First, AVG(G2.confidence) Confidence_Second\n",
    "FROM G1, G2\n",
    "WHERE G1.user = G2.user AND G1.casen = G2.casen;"
   ]
  },
  {
   "cell_type": "code",
   "execution_count": 10,
   "metadata": {},
   "outputs": [
    {
     "data": {
      "application/vnd.jupyter.widget-view+json": {
       "model_id": "413451f9-ffa7-48cd-afff-6d8404a26999",
       "version_major": 2,
       "version_minor": 0
      },
      "method": "display_data"
     },
     "metadata": {},
     "output_type": "display_data"
    }
   ],
   "source": [
    "DROP VIEW IF EXISTS G1;\n",
    "CREATE VIEW G1 AS\n",
    "SELECT user, casen, time, confidence\n",
    "FROM DescEKGCases\n",
    "WHERE ctype='EF' AND stage='EKG Hypothesis' AND points < 1;\n",
    "\n",
    "DROP VIEW IF EXISTS G2;\n",
    "CREATE VIEW G2 AS\n",
    "SELECT user, casen, time, confidence\n",
    "FROM DescEKGCases\n",
    "WHERE ctype='EF' AND stage='Description Hypothesis' AND points < 1;\n",
    "\n",
    "SELECT count(*), avg(G1.time) Time_First, AVG(G2.time) Time_Second, AVG(G1.confidence) Confidence_First, AVG(G2.confidence) Confidence_Second\n",
    "FROM G1, G2\n",
    "WHERE G1.user = G2.user AND G1.casen = G2.casen;"
   ]
  },
  {
   "cell_type": "code",
   "execution_count": 11,
   "metadata": {},
   "outputs": [
    {
     "data": {
      "application/vnd.jupyter.widget-view+json": {
       "model_id": "bca966ad-586a-415f-8a82-ce8cf26d79a4",
       "version_major": 2,
       "version_minor": 0
      },
      "method": "display_data"
     },
     "metadata": {},
     "output_type": "display_data"
    }
   ],
   "source": [
    "DROP VIEW IF EXISTS G1;\n",
    "CREATE VIEW G1 AS\n",
    "SELECT user, casen, time, confidence\n",
    "FROM DescEKGCases\n",
    "WHERE ctype='EF' AND stage='EKG Hypothesis' AND points = 1;\n",
    "\n",
    "DROP VIEW IF EXISTS G2;\n",
    "CREATE VIEW G2 AS\n",
    "SELECT user, casen, time, confidence\n",
    "FROM DescEKGCases\n",
    "WHERE ctype='EF' AND stage='Description Hypothesis' AND points = 1;\n",
    "\n",
    "SELECT count(*), avg(G1.time) Time_First, AVG(G2.time) Time_Second, AVG(G1.confidence) Confidence_First, AVG(G2.confidence) Confidence_Second\n",
    "FROM G1, G2\n",
    "WHERE G1.user = G2.user AND G1.casen = G2.casen;"
   ]
  },
  {
   "cell_type": "code",
   "execution_count": 12,
   "metadata": {},
   "outputs": [
    {
     "data": {
      "application/vnd.jupyter.widget-view+json": {
       "model_id": "92cc3a1a-3a01-41e7-81a6-6aae5c236886",
       "version_major": 2,
       "version_minor": 0
      },
      "method": "display_data"
     },
     "metadata": {},
     "output_type": "display_data"
    }
   ],
   "source": [
    "DROP VIEW IF EXISTS G1;\n",
    "CREATE VIEW G1 AS\n",
    "SELECT user, casen, time, confidence\n",
    "FROM DescEKGCases\n",
    "WHERE ctype='DF' AND stage='Description Hypothesis' AND points < 1;\n",
    "\n",
    "DROP VIEW IF EXISTS G2;\n",
    "CREATE VIEW G2 AS\n",
    "SELECT user, casen, time, confidence\n",
    "FROM DescEKGCases\n",
    "WHERE ctype='DF' AND stage='EKG Hypothesis' AND points = 1;\n",
    "\n",
    "SELECT count(*), avg(G1.time) Time_First, AVG(G2.time) Time_Second, AVG(G1.confidence) Confidence_First, AVG(G2.confidence) Confidence_Second\n",
    "FROM G1, G2\n",
    "WHERE G1.user = G2.user AND G1.casen = G2.casen;"
   ]
  },
  {
   "cell_type": "code",
   "execution_count": 13,
   "metadata": {},
   "outputs": [
    {
     "data": {
      "application/vnd.jupyter.widget-view+json": {
       "model_id": "3321c537-f3a7-4875-b20e-a77aa198475c",
       "version_major": 2,
       "version_minor": 0
      },
      "method": "display_data"
     },
     "metadata": {},
     "output_type": "display_data"
    }
   ],
   "source": [
    "DROP VIEW IF EXISTS G1;\n",
    "CREATE VIEW G1 AS\n",
    "SELECT user, casen, time, confidence\n",
    "FROM DescEKGCases\n",
    "WHERE ctype='DF' AND stage='Description Hypothesis' AND points < 1;\n",
    "\n",
    "DROP VIEW IF EXISTS G2;\n",
    "CREATE VIEW G2 AS\n",
    "SELECT user, casen, time, confidence\n",
    "FROM DescEKGCases\n",
    "WHERE ctype='DF' AND stage='EKG Hypothesis' AND points < 1;\n",
    "\n",
    "SELECT count(*), avg(G1.time) Time_First, AVG(G2.time) Time_Second, AVG(G1.confidence) Confidence_First, AVG(G2.confidence) Confidence_Second\n",
    "FROM G1, G2\n",
    "WHERE G1.user = G2.user AND G1.casen = G2.casen;"
   ]
  },
  {
   "cell_type": "code",
   "execution_count": 14,
   "metadata": {},
   "outputs": [
    {
     "data": {
      "application/vnd.jupyter.widget-view+json": {
       "model_id": "94336300-c38a-45db-9e11-565322a16d60",
       "version_major": 2,
       "version_minor": 0
      },
      "method": "display_data"
     },
     "metadata": {},
     "output_type": "display_data"
    }
   ],
   "source": [
    "DROP VIEW IF EXISTS G1;\n",
    "CREATE VIEW G1 AS\n",
    "SELECT user, casen, time, confidence\n",
    "FROM DescEKGCases\n",
    "WHERE ctype='DF' AND stage='Description Hypothesis' AND points = 1;\n",
    "\n",
    "DROP VIEW IF EXISTS G2;\n",
    "CREATE VIEW G2 AS\n",
    "SELECT user, casen, time, confidence\n",
    "FROM DescEKGCases\n",
    "WHERE ctype='DF' AND stage='EKG Hypothesis' AND points = 1;\n",
    "\n",
    "SELECT count(*), avg(G1.time) Time_First, AVG(G2.time) Time_Second, AVG(G1.confidence) Confidence_First, AVG(G2.confidence) Confidence_Second\n",
    "FROM G1, G2\n",
    "WHERE G1.user = G2.user AND G1.casen = G2.casen;"
   ]
  },
  {
   "cell_type": "markdown",
   "metadata": {},
   "source": [
    "# Question 01\n",
    "The order of the presentation affects the confidence"
   ]
  },
  {
   "cell_type": "code",
   "execution_count": 15,
   "metadata": {},
   "outputs": [
    {
     "data": {
      "application/vnd.jupyter.widget-view+json": {
       "model_id": "ae58cf1d-aa97-4690-b78d-c4c65580895c",
       "version_major": 2,
       "version_minor": 0
      },
      "method": "display_data"
     },
     "metadata": {},
     "output_type": "display_data"
    }
   ],
   "source": [
    "SELECT ctype, AVG(confidence) AVG_confidence, STDDEV_SAMP(confidence) STD_Deviation_confidence FROM DescEKGCases GROUP BY ctype;"
   ]
  },
  {
   "cell_type": "markdown",
   "metadata": {},
   "source": [
    "# Question 02\n",
    "The confidence score (first stage) affects the time it takes to accomplish the second stage.\n",
    "\n",
    "## Description First"
   ]
  },
  {
   "cell_type": "code",
   "execution_count": 16,
   "metadata": {},
   "outputs": [
    {
     "data": {
      "application/vnd.jupyter.widget-view+json": {
       "model_id": "6f40ad0f-939c-4f0c-852f-b7256b4b8823",
       "version_major": 2,
       "version_minor": 0
      },
      "method": "display_data"
     },
     "metadata": {},
     "output_type": "display_data"
    }
   ],
   "source": [
    "DROP TABLE IF EXISTS Confidence_First_DF;\n",
    "CREATE VIEW Confidence_First_DF AS\n",
    "SELECT casen, AVG(confidence) AVG_confidence_first_stage\n",
    "FROM DescEKGCases\n",
    "WHERE stage = 'Description Hypothesis' AND ctype='DF'\n",
    "GROUP BY casen\n",
    "ORDER by casen;\n",
    "\n",
    "DROP VIEW IF EXISTS Time_Second_DF;\n",
    "CREATE VIEW Time_Second_DF AS\n",
    "SELECT casen, AVG(time) AVG_time_second_stage\n",
    "FROM DescEKGCases\n",
    "WHERE stage = 'EKG Hypothesis' AND ctype='DF'\n",
    "GROUP BY casen\n",
    "ORDER by casen;\n",
    "\n",
    "SELECT CF.casen, AVG_confidence_first_stage, AVG_time_second_stage\n",
    "FROM Confidence_First_DF CF, Time_Second_DF TS\n",
    "WHERE CF.casen = TS.casen;"
   ]
  },
  {
   "cell_type": "markdown",
   "metadata": {},
   "source": [
    "## EKG First"
   ]
  },
  {
   "cell_type": "code",
   "execution_count": 17,
   "metadata": {},
   "outputs": [
    {
     "data": {
      "application/vnd.jupyter.widget-view+json": {
       "model_id": "05480cad-5c28-4c2f-87a5-ae06e4c1175e",
       "version_major": 2,
       "version_minor": 0
      },
      "method": "display_data"
     },
     "metadata": {},
     "output_type": "display_data"
    }
   ],
   "source": [
    "DROP VIEW IF EXISTS Confidence_First_EF;\n",
    "CREATE VIEW Confidence_First_EF AS\n",
    "SELECT casen, AVG(confidence) AVG_confidence_first_stage\n",
    "FROM DescEKGCases\n",
    "WHERE stage = 'EKG Hypothesis' AND ctype='EF'\n",
    "GROUP BY casen\n",
    "ORDER by casen;\n",
    "\n",
    "DROP VIEW IF EXISTS Time_Second_EF;\n",
    "CREATE VIEW Time_Second_EF AS\n",
    "SELECT casen, AVG(time) AVG_time_second_stage\n",
    "FROM DescEKGCases\n",
    "WHERE stage = 'Description Hypothesis' AND ctype='EF'\n",
    "GROUP BY casen\n",
    "ORDER by casen;\n",
    "\n",
    "SELECT CF.casen, AVG_confidence_first_stage, AVG_time_second_stage\n",
    "FROM Confidence_First_EF CF, Time_Second_EF TS\n",
    "WHERE CF.casen = TS.casen;"
   ]
  },
  {
   "cell_type": "markdown",
   "metadata": {},
   "source": [
    "# Question 3\n",
    "\n",
    "The confidence score will influence the probability of changing the hypothesis.\n",
    "\n",
    "## Description First"
   ]
  },
  {
   "cell_type": "code",
   "execution_count": 18,
   "metadata": {},
   "outputs": [
    {
     "data": {
      "application/vnd.jupyter.widget-view+json": {
       "model_id": "cc0b3de2-3f95-4826-9a49-e806154d2efb",
       "version_major": 2,
       "version_minor": 0
      },
      "method": "display_data"
     },
     "metadata": {},
     "output_type": "display_data"
    }
   ],
   "source": [
    "DROP VIEW IF EXISTS First_Answer_DF;\n",
    "CREATE VIEW First_Answer_DF AS\n",
    "SELECT user, casen, answer First_Answer, confidence\n",
    "FROM DescEKGCases\n",
    "WHERE stage = 'Description Hypothesis' AND ctype = 'DF';\n",
    "\n",
    "DROP VIEW IF EXISTS Second_Answer_DF;\n",
    "CREATE VIEW Second_Answer_DF AS\n",
    "SELECT user, casen, answer Second_Answer\n",
    "FROM DescEKGCases\n",
    "WHERE stage = 'EKG Hypothesis' AND ctype = 'DF';\n",
    "\n",
    "SELECT D1.user, D1.casen, First_Answer, confidence, Second_Answer\n",
    "FROM First_Answer_DF D1, Second_Answer_DF D2\n",
    "WHERE D1.user = D2.user AND D1.casen = D2.casen;"
   ]
  },
  {
   "cell_type": "markdown",
   "metadata": {},
   "source": [
    "### AVG confidence for same answer"
   ]
  },
  {
   "cell_type": "code",
   "execution_count": 31,
   "metadata": {},
   "outputs": [
    {
     "data": {
      "application/vnd.jupyter.widget-view+json": {
       "model_id": "5012305e-c2ce-4e1e-ad13-8b1f389f0428",
       "version_major": 2,
       "version_minor": 0
      },
      "method": "display_data"
     },
     "metadata": {},
     "output_type": "display_data"
    }
   ],
   "source": [
    "SELECT D1.casen, AVG(confidence) AVG_confidence, COUNT(*)\n",
    "FROM First_Answer_DF D1, Second_Answer_DF D2\n",
    "WHERE D1.user = D2.user AND D1.casen = D2.casen AND First_Answer = Second_Answer\n",
    "GROUP BY D1.casen\n",
    "ORDER BY D1.casen;"
   ]
  },
  {
   "cell_type": "markdown",
   "metadata": {},
   "source": [
    "### AVG confidence for different answer"
   ]
  },
  {
   "cell_type": "code",
   "execution_count": 32,
   "metadata": {},
   "outputs": [
    {
     "data": {
      "application/vnd.jupyter.widget-view+json": {
       "model_id": "e03b5a62-d2ac-4923-af04-23d38d14e218",
       "version_major": 2,
       "version_minor": 0
      },
      "method": "display_data"
     },
     "metadata": {},
     "output_type": "display_data"
    }
   ],
   "source": [
    "SELECT D1.casen, AVG(confidence) AVG_confidence, COUNT(*)\n",
    "FROM First_Answer_DF D1, Second_Answer_DF D2\n",
    "WHERE D1.user = D2.user AND D1.casen = D2.casen AND First_Answer <> Second_Answer\n",
    "GROUP BY D1.casen\n",
    "ORDER BY D1.casen;"
   ]
  },
  {
   "cell_type": "markdown",
   "metadata": {},
   "source": [
    "## EKG First"
   ]
  },
  {
   "cell_type": "code",
   "execution_count": 21,
   "metadata": {},
   "outputs": [
    {
     "data": {
      "application/vnd.jupyter.widget-view+json": {
       "model_id": "be3bd0af-6af2-461e-b046-dd891be29556",
       "version_major": 2,
       "version_minor": 0
      },
      "method": "display_data"
     },
     "metadata": {},
     "output_type": "display_data"
    }
   ],
   "source": [
    "DROP VIEW IF EXISTS First_Answer_EF;\n",
    "CREATE VIEW First_Answer_EF AS\n",
    "SELECT user, casen, answer First_Answer, confidence\n",
    "FROM DescEKGCases\n",
    "WHERE stage = 'EKG Hypothesis' AND ctype = 'EF';\n",
    "\n",
    "DROP VIEW IF EXISTS Second_Answer_EF;\n",
    "CREATE VIEW Second_Answer_EF AS\n",
    "SELECT user, casen, answer Second_Answer\n",
    "FROM DescEKGCases\n",
    "WHERE stage = 'Description Hypothesis' AND ctype = 'EF';\n",
    "\n",
    "SELECT E1.user, E1.casen, First_Answer, confidence, Second_Answer\n",
    "FROM First_Answer_EF E1, Second_Answer_EF E2\n",
    "WHERE E1.user = E2.user AND E1.casen = E2.casen;"
   ]
  },
  {
   "cell_type": "markdown",
   "metadata": {},
   "source": [
    "### AVG confidence for same answer"
   ]
  },
  {
   "cell_type": "code",
   "execution_count": 34,
   "metadata": {},
   "outputs": [
    {
     "data": {
      "application/vnd.jupyter.widget-view+json": {
       "model_id": "d0ec41d2-ed6a-4208-a7dc-96554a12a2f2",
       "version_major": 2,
       "version_minor": 0
      },
      "method": "display_data"
     },
     "metadata": {},
     "output_type": "display_data"
    }
   ],
   "source": [
    "SELECT E1.casen, AVG(confidence) AVG_confidence, COUNT(*)\n",
    "FROM First_Answer_EF E1, Second_Answer_EF E2\n",
    "WHERE E1.user = E2.user AND E1.casen = E2.casen AND First_Answer = Second_Answer\n",
    "GROUP BY E1.casen\n",
    "ORDER BY E1.casen;"
   ]
  },
  {
   "cell_type": "markdown",
   "metadata": {},
   "source": [
    "### AVG confidence for different answer"
   ]
  },
  {
   "cell_type": "code",
   "execution_count": 35,
   "metadata": {},
   "outputs": [
    {
     "data": {
      "application/vnd.jupyter.widget-view+json": {
       "model_id": "fbe800a8-e443-46cb-8413-8dd8cb8cc2fe",
       "version_major": 2,
       "version_minor": 0
      },
      "method": "display_data"
     },
     "metadata": {},
     "output_type": "display_data"
    }
   ],
   "source": [
    "SELECT E1.casen, AVG(confidence) AVG_confidence, COUNT(*)\n",
    "FROM First_Answer_EF E1, Second_Answer_EF E2\n",
    "WHERE E1.user = E2.user AND E1.casen = E2.casen AND First_Answer <> Second_Answer\n",
    "GROUP BY E1.casen\n",
    "ORDER BY E1.casen;"
   ]
  },
  {
   "cell_type": "markdown",
   "metadata": {},
   "source": [
    "# Question 4\n",
    "\n",
    "The time to accomplish the first task between the groups."
   ]
  },
  {
   "cell_type": "code",
   "execution_count": 24,
   "metadata": {},
   "outputs": [
    {
     "data": {
      "application/vnd.jupyter.widget-view+json": {
       "model_id": "759f24bf-1132-430b-a177-106783273421",
       "version_major": 2,
       "version_minor": 0
      },
      "method": "display_data"
     },
     "metadata": {},
     "output_type": "display_data"
    }
   ],
   "source": [
    "DROP VIEW IF EXISTS Confidence_AVG_DF;\n",
    "CREATE VIEW Confidence_AVG_DF AS\n",
    "SELECT casen, AVG(time) AVG_Time_Description_First\n",
    "FROM DescEKGCases\n",
    "WHERE ctype='DF' AND stage = 'Description Hypothesis'\n",
    "GROUP BY casen\n",
    "ORDER BY casen;\n",
    "\n",
    "DROP VIEW IF EXISTS Confidence_AVG_EF;\n",
    "CREATE VIEW Confidence_AVG_EF AS\n",
    "SELECT casen, AVG(time) AVG_Time_EKG_First\n",
    "FROM DescEKGCases\n",
    "WHERE ctype='EF' AND stage = 'EKG Hypothesis'\n",
    "GROUP BY casen\n",
    "ORDER BY casen;\n",
    "\n",
    "SELECT DF.casen, AVG_Time_Description_First, AVG_Time_EKG_First\n",
    "FROM Confidence_AVG_DF DF, Confidence_AVG_EF EF\n",
    "WHERE DF.casen = EF.casen;"
   ]
  },
  {
   "cell_type": "markdown",
   "metadata": {},
   "source": [
    "# Time in the EKG"
   ]
  },
  {
   "cell_type": "code",
   "execution_count": 25,
   "metadata": {},
   "outputs": [
    {
     "data": {
      "application/vnd.jupyter.widget-view+json": {
       "model_id": "587e0560-f8e1-4102-a7e0-4ccb037debd6",
       "version_major": 2,
       "version_minor": 0
      },
      "method": "display_data"
     },
     "metadata": {},
     "output_type": "display_data"
    }
   ],
   "source": [
    "DROP VIEW IF EXISTS Confidence_AVG_DF;\n",
    "CREATE VIEW Confidence_AVG_DF AS\n",
    "SELECT casen, AVG(time) AVG_Time_Description_First\n",
    "FROM DescEKGCases\n",
    "WHERE ctype='DF' AND stage = 'EKG Hypothesis'\n",
    "GROUP BY casen\n",
    "ORDER BY casen;\n",
    "\n",
    "DROP VIEW IF EXISTS Confidence_AVG_EF;\n",
    "CREATE VIEW Confidence_AVG_EF AS\n",
    "SELECT casen, AVG(time) AVG_Time_EKG_First\n",
    "FROM DescEKGCases\n",
    "WHERE ctype='EF' AND stage = 'EKG Hypothesis'\n",
    "GROUP BY casen\n",
    "ORDER BY casen;\n",
    "\n",
    "SELECT DF.casen, AVG_Time_Description_First, AVG_Time_EKG_First\n",
    "FROM Confidence_AVG_DF DF, Confidence_AVG_EF EF\n",
    "WHERE DF.casen = EF.casen;"
   ]
  },
  {
   "cell_type": "markdown",
   "metadata": {},
   "source": [
    "# Time in the Description"
   ]
  },
  {
   "cell_type": "code",
   "execution_count": 26,
   "metadata": {},
   "outputs": [
    {
     "data": {
      "application/vnd.jupyter.widget-view+json": {
       "model_id": "81771e34-1389-45bb-8705-0543b650adc7",
       "version_major": 2,
       "version_minor": 0
      },
      "method": "display_data"
     },
     "metadata": {},
     "output_type": "display_data"
    }
   ],
   "source": [
    "DROP VIEW IF EXISTS Confidence_AVG_DF;\n",
    "CREATE VIEW Confidence_AVG_DF AS\n",
    "SELECT casen, AVG(time) AVG_Time_Description_First\n",
    "FROM DescEKGCases\n",
    "WHERE ctype='DF' AND stage = 'Description Hypothesis'\n",
    "GROUP BY casen\n",
    "ORDER BY casen;\n",
    "\n",
    "DROP VIEW IF EXISTS Confidence_AVG_EF;\n",
    "CREATE VIEW Confidence_AVG_EF AS\n",
    "SELECT casen, AVG(time) AVG_Time_EKG_First\n",
    "FROM DescEKGCases\n",
    "WHERE ctype='EF' AND stage = 'Description Hypothesis'\n",
    "GROUP BY casen\n",
    "ORDER BY casen;\n",
    "\n",
    "SELECT DF.casen, AVG_Time_Description_First, AVG_Time_EKG_First\n",
    "FROM Confidence_AVG_DF DF, Confidence_AVG_EF EF\n",
    "WHERE DF.casen = EF.casen;"
   ]
  },
  {
   "cell_type": "markdown",
   "metadata": {},
   "source": [
    "# AVG confidence first task"
   ]
  },
  {
   "cell_type": "code",
   "execution_count": 27,
   "metadata": {},
   "outputs": [
    {
     "data": {
      "application/vnd.jupyter.widget-view+json": {
       "model_id": "2e509af8-3983-4502-9631-6dea440cc1e5",
       "version_major": 2,
       "version_minor": 0
      },
      "method": "display_data"
     },
     "metadata": {},
     "output_type": "display_data"
    }
   ],
   "source": [
    "DROP VIEW IF EXISTS Confidence_AVG_DF;\n",
    "CREATE VIEW Confidence_AVG_DF AS\n",
    "SELECT casen, AVG(confidence) AVG_Confidence_Description_First\n",
    "FROM DescEKGCases\n",
    "WHERE ctype='DF' AND stage = 'Description Hypothesis'\n",
    "GROUP BY casen\n",
    "ORDER BY casen;\n",
    "\n",
    "DROP VIEW IF EXISTS Confidence_AVG_EF;\n",
    "CREATE VIEW Confidence_AVG_EF AS\n",
    "SELECT casen, AVG(confidence) AVG_Confidence_EKG_First\n",
    "FROM DescEKGCases\n",
    "WHERE ctype='EF' AND stage = 'EKG Hypothesis'\n",
    "GROUP BY casen\n",
    "ORDER BY casen;\n",
    "\n",
    "SELECT DF.casen, AVG_Confidence_Description_First, AVG_Confidence_EKG_First\n",
    "FROM Confidence_AVG_DF DF, Confidence_AVG_EF EF\n",
    "WHERE DF.casen = EF.casen;"
   ]
  },
  {
   "cell_type": "markdown",
   "metadata": {},
   "source": [
    "# AVG confidence second task"
   ]
  },
  {
   "cell_type": "code",
   "execution_count": 28,
   "metadata": {},
   "outputs": [
    {
     "data": {
      "application/vnd.jupyter.widget-view+json": {
       "model_id": "98710179-14f4-44c6-b622-d1ca3437c47f",
       "version_major": 2,
       "version_minor": 0
      },
      "method": "display_data"
     },
     "metadata": {},
     "output_type": "display_data"
    }
   ],
   "source": [
    "DROP VIEW IF EXISTS Confidence_AVG_DF;\n",
    "CREATE VIEW Confidence_AVG_DF AS\n",
    "SELECT casen, AVG(confidence) AVG_Confidence_Description_First\n",
    "FROM DescEKGCases\n",
    "WHERE ctype='DF' AND stage = 'EKG Hypothesis'\n",
    "GROUP BY casen\n",
    "ORDER BY casen;\n",
    "\n",
    "DROP VIEW IF EXISTS Confidence_AVG_EF;\n",
    "CREATE VIEW Confidence_AVG_EF AS\n",
    "SELECT casen, AVG(confidence) AVG_Confidence_EKG_First\n",
    "FROM DescEKGCases\n",
    "WHERE ctype='EF' AND stage = 'Description Hypothesis'\n",
    "GROUP BY casen\n",
    "ORDER BY casen;\n",
    "\n",
    "SELECT DF.casen, AVG_Confidence_Description_First, AVG_Confidence_EKG_First\n",
    "FROM Confidence_AVG_DF DF, Confidence_AVG_EF EF\n",
    "WHERE DF.casen = EF.casen;"
   ]
  },
  {
   "cell_type": "markdown",
   "metadata": {},
   "source": [
    "# Question 5\n",
    "\n",
    "The time between the first and the second task.\n",
    "\n",
    "## Description First"
   ]
  },
  {
   "cell_type": "code",
   "execution_count": 29,
   "metadata": {},
   "outputs": [
    {
     "data": {
      "application/vnd.jupyter.widget-view+json": {
       "model_id": "801d797c-7453-4d33-9ea9-17905253da64",
       "version_major": 2,
       "version_minor": 0
      },
      "method": "display_data"
     },
     "metadata": {},
     "output_type": "display_data"
    }
   ],
   "source": [
    "DROP VIEW IF EXISTS Confidence_AVG_Task1_DF;\n",
    "CREATE VIEW Confidence_AVG_Task1_DF AS\n",
    "SELECT casen, AVG(time) AVG_Time_Task1\n",
    "FROM DescEKGCases\n",
    "WHERE ctype='DF' AND stage = 'Description Hypothesis'\n",
    "GROUP BY casen\n",
    "ORDER BY casen;\n",
    "\n",
    "DROP VIEW IF EXISTS Confidence_AVG_Task2_DF;\n",
    "CREATE VIEW Confidence_AVG_Task2_DF AS\n",
    "SELECT casen, AVG(time) AVG_Time_Task2\n",
    "FROM DescEKGCases\n",
    "WHERE ctype='DF' AND stage = 'EKG Hypothesis'\n",
    "GROUP BY casen\n",
    "ORDER BY casen;\n",
    "\n",
    "SELECT T1.casen, AVG_Time_Task1, AVG_Time_Task2\n",
    "FROM Confidence_AVG_Task1_DF T1, Confidence_AVG_Task2_DF T2\n",
    "WHERE T1.casen = T2.casen;"
   ]
  },
  {
   "cell_type": "markdown",
   "metadata": {},
   "source": [
    "## EKG First"
   ]
  },
  {
   "cell_type": "code",
   "execution_count": 30,
   "metadata": {},
   "outputs": [
    {
     "data": {
      "application/vnd.jupyter.widget-view+json": {
       "model_id": "a7c03bfa-042b-445a-ba7c-9a42fc4cc961",
       "version_major": 2,
       "version_minor": 0
      },
      "method": "display_data"
     },
     "metadata": {},
     "output_type": "display_data"
    }
   ],
   "source": [
    "DROP VIEW IF EXISTS Confidence_AVG_Task1_EF;\n",
    "CREATE VIEW Confidence_AVG_Task1_EF AS\n",
    "SELECT casen, AVG(time) AVG_Time_Task1\n",
    "FROM DescEKGCases\n",
    "WHERE ctype='EF' AND stage = 'EKG Hypothesis'\n",
    "GROUP BY casen\n",
    "ORDER BY casen;\n",
    "\n",
    "DROP VIEW IF EXISTS Confidence_AVG_Task2_EF;\n",
    "CREATE VIEW Confidence_AVG_Task2_EF AS\n",
    "SELECT casen, AVG(time) AVG_Time_Task2\n",
    "FROM DescEKGCases\n",
    "WHERE ctype='EF' AND stage = 'Description Hypothesis'\n",
    "GROUP BY casen\n",
    "ORDER BY casen;\n",
    "\n",
    "SELECT T1.casen, AVG_Time_Task1, AVG_Time_Task2\n",
    "FROM Confidence_AVG_Task1_EF T1, Confidence_AVG_Task2_EF T2\n",
    "WHERE T1.casen = T2.casen;"
   ]
  },
  {
   "cell_type": "markdown",
   "metadata": {},
   "source": [
    "# Question 6\n",
    "\n",
    "The confidence level in the interpretation of EKG can indicate their proficiency."
   ]
  }
 ],
 "metadata": {
  "kernelspec": {
   "display_name": "SQL",
   "language": "SQL",
   "name": "sql"
  },
  "language_info": {
   "codemirror_mode": "sql",
   "file_extension": ".sql",
   "mimetype": "",
   "name": "SQL",
   "nbconverter_exporter": "",
   "version": ""
  },
  "toc": {
   "base_numbering": 1,
   "nav_menu": {},
   "number_sections": false,
   "sideBar": false,
   "skip_h1_title": false,
   "title_cell": "Table of Contents",
   "title_sidebar": "Contents",
   "toc_cell": false,
   "toc_position": {},
   "toc_section_display": false,
   "toc_window_display": false
  }
 },
 "nbformat": 4,
 "nbformat_minor": 2
}
