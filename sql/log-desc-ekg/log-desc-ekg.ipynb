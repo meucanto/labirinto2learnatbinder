{
 "cells": [
  {
   "cell_type": "code",
   "execution_count": 1,
   "metadata": {},
   "outputs": [],
   "source": [
    "%defaultDatasource jdbc:h2:mem:db"
   ]
  },
  {
   "cell_type": "code",
   "execution_count": 20,
   "metadata": {},
   "outputs": [],
   "source": [
    "DROP TABLE IF EXISTS DescEKGCases;\n",
    "\n",
    "CREATE TABLE DescEKGCases (\n",
    "  user INT NOT NULL,\n",
    "  case VARCHAR(7),\n",
    "  stage VARCHAR(22),\n",
    "  answer VARCHAR(200),\n",
    "  points DECIMAL(3,1),\n",
    "  confidence INT,\n",
    "  time DECIMAL(8,2),\n",
    "  PRIMARY KEY(user, case, stage)\n",
    ") AS SELECT *\n",
    "  FROM CSVREAD('../../data/logx/Combined061.csv');"
   ]
  },
  {
   "cell_type": "code",
   "execution_count": 21,
   "metadata": {},
   "outputs": [],
   "source": [
    "INSERT INTO DescEKGCases SELECT * FROM CSVREAD('../../data/logx/Combined062.csv');\n",
    "INSERT INTO DescEKGCases SELECT * FROM CSVREAD('../../data/logx/Combined063.csv');\n",
    "INSERT INTO DescEKGCases SELECT * FROM CSVREAD('../../data/logx/Combined064.csv');\n",
    "INSERT INTO DescEKGCases SELECT * FROM CSVREAD('../../data/logx/Combined065.csv');\n",
    "INSERT INTO DescEKGCases SELECT * FROM CSVREAD('../../data/logx/Combined066.csv');\n",
    "INSERT INTO DescEKGCases SELECT * FROM CSVREAD('../../data/logx/Combined067.csv');\n",
    "INSERT INTO DescEKGCases SELECT * FROM CSVREAD('../../data/logx/Combined068.csv');\n",
    "INSERT INTO DescEKGCases SELECT * FROM CSVREAD('../../data/logx/Combined069.csv');\n",
    "INSERT INTO DescEKGCases SELECT * FROM CSVREAD('../../data/logx/Combined070.csv');\n",
    "INSERT INTO DescEKGCases SELECT * FROM CSVREAD('../../data/logx/Combined071.csv');\n",
    "INSERT INTO DescEKGCases SELECT * FROM CSVREAD('../../data/logx/Combined072.csv');\n",
    "INSERT INTO DescEKGCases SELECT * FROM CSVREAD('../../data/logx/Combined073.csv');\n",
    "INSERT INTO DescEKGCases SELECT * FROM CSVREAD('../../data/logx/Combined075.csv');\n",
    "INSERT INTO DescEKGCases SELECT * FROM CSVREAD('../../data/logx/Combined076.csv');\n",
    "INSERT INTO DescEKGCases SELECT * FROM CSVREAD('../../data/logx/Combined077.csv');\n",
    "INSERT INTO DescEKGCases SELECT * FROM CSVREAD('../../data/logx/Combined078.csv');\n",
    "INSERT INTO DescEKGCases SELECT * FROM CSVREAD('../../data/logx/Combined079.csv');\n",
    "INSERT INTO DescEKGCases SELECT * FROM CSVREAD('../../data/logx/Combined080.csv');\n",
    "INSERT INTO DescEKGCases SELECT * FROM CSVREAD('../../data/logx/Combined081.csv');\n",
    "INSERT INTO DescEKGCases SELECT * FROM CSVREAD('../../data/logx/Combined082.csv');\n",
    "INSERT INTO DescEKGCases SELECT * FROM CSVREAD('../../data/logx/Combined083.csv');\n",
    "INSERT INTO DescEKGCases SELECT * FROM CSVREAD('../../data/logx/Combined084.csv');\n",
    "INSERT INTO DescEKGCases SELECT * FROM CSVREAD('../../data/logx/Combined085.csv');\n",
    "INSERT INTO DescEKGCases SELECT * FROM CSVREAD('../../data/logx/Combined086.csv');\n",
    "INSERT INTO DescEKGCases SELECT * FROM CSVREAD('../../data/logx/Combined088.csv');\n",
    "INSERT INTO DescEKGCases SELECT * FROM CSVREAD('../../data/logx/Combined090.csv');\n",
    "INSERT INTO DescEKGCases SELECT * FROM CSVREAD('../../data/logx/Combined091.csv');\n",
    "INSERT INTO DescEKGCases SELECT * FROM CSVREAD('../../data/logx/Combined092.csv');\n",
    "INSERT INTO DescEKGCases SELECT * FROM CSVREAD('../../data/logx/Combined093.csv');\n",
    "INSERT INTO DescEKGCases SELECT * FROM CSVREAD('../../data/logx/Combined094.csv');\n",
    "INSERT INTO DescEKGCases SELECT * FROM CSVREAD('../../data/logx/Combined095.csv');\n",
    "INSERT INTO DescEKGCases SELECT * FROM CSVREAD('../../data/logx/Combined096.csv');\n",
    "INSERT INTO DescEKGCases SELECT * FROM CSVREAD('../../data/logx/Combined097.csv');\n",
    "INSERT INTO DescEKGCases SELECT * FROM CSVREAD('../../data/logx/Combined098.csv');\n",
    "INSERT INTO DescEKGCases SELECT * FROM CSVREAD('../../data/logx/Combined099.csv');\n",
    "INSERT INTO DescEKGCases SELECT * FROM CSVREAD('../../data/logx/Combined100.csv');\n",
    "INSERT INTO DescEKGCases SELECT * FROM CSVREAD('../../data/logx/Combined101.csv');\n",
    "INSERT INTO DescEKGCases SELECT * FROM CSVREAD('../../data/logx/Combined102.csv');\n",
    "INSERT INTO DescEKGCases SELECT * FROM CSVREAD('../../data/logx/Combined103.csv');\n",
    "INSERT INTO DescEKGCases SELECT * FROM CSVREAD('../../data/logx/Combined104.csv');\n",
    "INSERT INTO DescEKGCases SELECT * FROM CSVREAD('../../data/logx/Combined105.csv');\n",
    "INSERT INTO DescEKGCases SELECT * FROM CSVREAD('../../data/logx/Combined106.csv');\n",
    "INSERT INTO DescEKGCases SELECT * FROM CSVREAD('../../data/logx/Combined107.csv');\n",
    "INSERT INTO DescEKGCases SELECT * FROM CSVREAD('../../data/logx/Combined108.csv');\n",
    "INSERT INTO DescEKGCases SELECT * FROM CSVREAD('../../data/logx/Combined109.csv');\n",
    "INSERT INTO DescEKGCases SELECT * FROM CSVREAD('../../data/logx/Combined110.csv');\n",
    "INSERT INTO DescEKGCases SELECT * FROM CSVREAD('../../data/logx/Combined111.csv');\n",
    "INSERT INTO DescEKGCases SELECT * FROM CSVREAD('../../data/logx/Combined112.csv');\n",
    "INSERT INTO DescEKGCases SELECT * FROM CSVREAD('../../data/logx/Combined113.csv');\n",
    "INSERT INTO DescEKGCases SELECT * FROM CSVREAD('../../data/logx/Combined115.csv');\n",
    "INSERT INTO DescEKGCases SELECT * FROM CSVREAD('../../data/logx/Combined116.csv');"
   ]
  },
  {
   "cell_type": "code",
   "execution_count": 22,
   "metadata": {},
   "outputs": [
    {
     "data": {
      "application/vnd.jupyter.widget-view+json": {
       "model_id": "e5534780-6f44-4028-b078-dfea94442c4f",
       "version_major": 2,
       "version_minor": 0
      },
      "method": "display_data"
     },
     "metadata": {},
     "output_type": "display_data"
    }
   ],
   "source": [
    "SELECT * FROM DescEKGCases;"
   ]
  },
  {
   "cell_type": "code",
   "execution_count": 23,
   "metadata": {},
   "outputs": [
    {
     "data": {
      "application/vnd.jupyter.widget-view+json": {
       "model_id": "54894493-e71f-404e-befb-93ccb4c8d123",
       "version_major": 2,
       "version_minor": 0
      },
      "method": "display_data"
     },
     "metadata": {},
     "output_type": "display_data"
    }
   ],
   "source": [
    "SELECT DISTINCT User FROM DescEKGCases;"
   ]
  },
  {
   "cell_type": "code",
   "execution_count": 15,
   "metadata": {},
   "outputs": [
    {
     "data": {
      "text/plain": [
       "1168"
      ]
     },
     "execution_count": 15,
     "metadata": {},
     "output_type": "execute_result"
    }
   ],
   "source": [
    "CALL CSVWRITE('../../data/logx/All.csv', 'SELECT * FROM DescEKGCases');"
   ]
  },
  {
   "cell_type": "code",
   "execution_count": 25,
   "metadata": {},
   "outputs": [],
   "source": [
    "DROP TABLE IF EXISTS DescEKGCases;\n",
    "\n",
    "CREATE TABLE DescEKGCases (\n",
    "  user INT NOT NULL,\n",
    "  casen VARCHAR(7),\n",
    "  stage VARCHAR(22),\n",
    "  answer VARCHAR(200),\n",
    "  points DECIMAL(3,1),\n",
    "  confidence INT,\n",
    "  time DECIMAL(8,2),\n",
    "  PRIMARY KEY(user, casen, stage)\n",
    ") AS SELECT *\n",
    "  FROM CSVREAD('../../data/logx/All.csv');"
   ]
  },
  {
   "cell_type": "code",
   "execution_count": 26,
   "metadata": {},
   "outputs": [
    {
     "data": {
      "application/vnd.jupyter.widget-view+json": {
       "model_id": "950bd13b-5701-48b8-b49b-6b9c8fb93695",
       "version_major": 2,
       "version_minor": 0
      },
      "method": "display_data"
     },
     "metadata": {},
     "output_type": "display_data"
    }
   ],
   "source": [
    "SELECT * FROM DescEKGCases;"
   ]
  },
  {
   "cell_type": "code",
   "execution_count": 27,
   "metadata": {},
   "outputs": [],
   "source": [
    "ALTER TABLE DescEKGCases\n",
    "ADD ctype varchar(2);"
   ]
  },
  {
   "cell_type": "code",
   "execution_count": 30,
   "metadata": {},
   "outputs": [],
   "source": [
    "UPDATE DescEKGCases\n",
    "SET ctype = 'EF'\n",
    "WHERE user >= 86;"
   ]
  },
  {
   "cell_type": "code",
   "execution_count": 31,
   "metadata": {},
   "outputs": [],
   "source": [
    "UPDATE DescEKGCases\n",
    "SET ctype = 'DF'\n",
    "WHERE user < 86;"
   ]
  },
  {
   "cell_type": "code",
   "execution_count": 32,
   "metadata": {},
   "outputs": [
    {
     "data": {
      "application/vnd.jupyter.widget-view+json": {
       "model_id": "12fb02b4-ec04-47cd-92dc-add702d4a6ea",
       "version_major": 2,
       "version_minor": 0
      },
      "method": "display_data"
     },
     "metadata": {},
     "output_type": "display_data"
    }
   ],
   "source": [
    "SELECT * FROM DescEKGCases;"
   ]
  },
  {
   "cell_type": "code",
   "execution_count": 33,
   "metadata": {},
   "outputs": [
    {
     "data": {
      "text/plain": [
       "1168"
      ]
     },
     "execution_count": 33,
     "metadata": {},
     "output_type": "execute_result"
    }
   ],
   "source": [
    "CALL CSVWRITE('../../data/logx/AllT.csv', 'SELECT * FROM DescEKGCases');"
   ]
  }
 ],
 "metadata": {
  "kernelspec": {
   "display_name": "SQL",
   "language": "SQL",
   "name": "sql"
  },
  "language_info": {
   "codemirror_mode": "sql",
   "file_extension": ".sql",
   "mimetype": "",
   "name": "SQL",
   "nbconverter_exporter": "",
   "version": ""
  },
  "toc": {
   "base_numbering": 1,
   "nav_menu": {},
   "number_sections": false,
   "sideBar": false,
   "skip_h1_title": false,
   "title_cell": "Table of Contents",
   "title_sidebar": "Contents",
   "toc_cell": false,
   "toc_position": {},
   "toc_section_display": false,
   "toc_window_display": false
  }
 },
 "nbformat": 4,
 "nbformat_minor": 2
}
