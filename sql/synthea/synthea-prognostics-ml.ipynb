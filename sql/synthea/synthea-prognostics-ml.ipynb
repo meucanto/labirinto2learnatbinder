{
 "cells": [
  {
   "cell_type": "markdown",
   "metadata": {},
   "source": [
    "# Synthea Case Study - Preparing for Machine Learning\n",
    "*Lab 28 April 2022*"
   ]
  },
  {
   "cell_type": "code",
   "execution_count": 1,
   "metadata": {},
   "outputs": [],
   "source": [
    "%defaultDatasource jdbc:h2:mem:db"
   ]
  },
  {
   "cell_type": "code",
   "execution_count": 2,
   "metadata": {},
   "outputs": [],
   "source": [
    "DROP TABLE IF EXISTS Patients;\n",
    "\n",
    "CREATE TABLE Patients(\n",
    "    id VARCHAR(36),\n",
    "    birthdate DATE,\n",
    "    deathdate DATE,\n",
    "    maiden VARCHAR(20),\n",
    "    marital CHAR,\n",
    "    race VARCHAR(10),\n",
    "    ethnicity VARCHAR(15),\n",
    "    gender CHAR,\n",
    "    birthplace VARCHAR(100),\n",
    "    address VARCHAR(50),\n",
    "    city VARCHAR(30),\n",
    "    state VARCHAR(30),\n",
    "    county VARCHAR(50),\n",
    "    zip VARCHAR(10),\n",
    "    lat DECIMAL(18,15),\n",
    "    lon DECIMAL(18,15),\n",
    "    PRIMARY KEY(id)\n",
    ") AS SELECT id,birthdate,deathdate,maiden,marital,race,ethnicity,gender,\n",
    "            birthplace,address,city,state,county,zip,lat,lon\n",
    "FROM CSVREAD('../../data/synthea/scenario01/csv/patients.csv');\n",
    "\n",
    "DROP TABLE IF EXISTS Encounters;\n",
    "\n",
    "CREATE TABLE Encounters(\n",
    "    id VARCHAR(36),\n",
    "    start DATETIME,\n",
    "    stop DATETIME,\n",
    "    patient VARCHAR(36),\n",
    "    organization VARCHAR(36),\n",
    "    provider VARCHAR(36),\n",
    "    encounterclass VARCHAR(20),\n",
    "    code VARCHAR(15),\n",
    "    description VARCHAR(100),\n",
    "    reasoncode VARCHAR(15),\n",
    "    reasondescription VARCHAR(100),\n",
    "    PRIMARY KEY(id)\n",
    ") AS SELECT id,start,stop,patient,organization,provider,encounterclass,code,description,\n",
    "            reasoncode,reasondescription\n",
    "FROM CSVREAD('../../data/synthea/scenario01/csv/encounters.csv');\n",
    "\n",
    "DROP TABLE IF EXISTS Conditions;\n",
    "\n",
    "CREATE TABLE Conditions(\n",
    "    start DATETIME,\n",
    "    stop DATETIME,\n",
    "    patient VARCHAR(36),\n",
    "    encounter VARCHAR(36),\n",
    "    code VARCHAR(20),\n",
    "    description_condition VARCHAR(100),\n",
    ") AS SELECT start,stop,patient,encounter,code,description\n",
    "FROM CSVREAD('../../data/synthea/scenario01/csv/conditions.csv');"
   ]
  },
  {
   "cell_type": "markdown",
   "metadata": {},
   "source": [
    "# Generation of the starting matrix initialized with 0"
   ]
  },
  {
   "cell_type": "code",
   "execution_count": 3,
   "metadata": {},
   "outputs": [
    {
     "data": {
      "application/vnd.jupyter.widget-view+json": {
       "model_id": "840e0447-7d0e-45c3-8951-cccddec02760",
       "version_major": 2,
       "version_minor": 0
      },
      "method": "display_data"
     },
     "metadata": {},
     "output_type": "display_data"
    }
   ],
   "source": [
    "DROP TABLE IF EXISTS EmergencyML;\n",
    "\n",
    "CREATE TABLE EmergencyML (\n",
    "  patient VARCHAR(36),\n",
    "  last_encounter DATETIME,\n",
    "  deathdate DATETIME,\n",
    "  cardiac_arrest SMALLINT DEFAULT 0,\n",
    "  myocardial_infarction SMALLINT DEFAULT 0,\n",
    "  PRIMARY KEY(patient)\n",
    ") AS\n",
    "SELECT e.patient, MAX(e.start) last_encounter, p.deathdate, 0, 0\n",
    "       FROM Encounters e, Patients p\n",
    "       WHERE e.patient = p.id AND encounterclass = 'emergency'\n",
    "       GROUP BY patient;\n",
    "       \n",
    "SELECT * FROM EmergencyML\n",
    "LIMIT 10;"
   ]
  },
  {
   "cell_type": "code",
   "execution_count": 4,
   "metadata": {},
   "outputs": [],
   "source": [
    "UPDATE EmergencyML e\n",
    "SET e.cardiac_arrest = 1\n",
    "WHERE EXISTS\n",
    "(SELECT c.patient\n",
    " FROM Conditions c\n",
    " WHERE c.patient=e.patient AND c.description_condition='Cardiac Arrest');\n",
    " \n",
    "UPDATE EmergencyML e\n",
    "SET e.myocardial_infarction = 1\n",
    "WHERE EXISTS\n",
    "(SELECT c.patient\n",
    " FROM Conditions c\n",
    " WHERE c.patient=e.patient AND c.description_condition='Myocardial Infarction');"
   ]
  },
  {
   "cell_type": "code",
   "execution_count": 5,
   "metadata": {
    "scrolled": true
   },
   "outputs": [
    {
     "data": {
      "application/vnd.jupyter.widget-view+json": {
       "model_id": "86b382a0-c5ea-4f11-8b11-47b700a43277",
       "version_major": 2,
       "version_minor": 0
      },
      "method": "display_data"
     },
     "metadata": {},
     "output_type": "display_data"
    }
   ],
   "source": [
    "SELECT * FROM EmergencyML;"
   ]
  },
  {
   "cell_type": "code",
   "execution_count": 6,
   "metadata": {},
   "outputs": [
    {
     "data": {
      "text/plain": [
       "800"
      ]
     },
     "execution_count": 6,
     "metadata": {},
     "output_type": "execute_result"
    }
   ],
   "source": [
    "CALL CSVWRITE('../../data/synthea/scenario01/csv-ml/emergency-ml.csv', 'SELECT * FROM EmergencyML');"
   ]
  }
 ],
 "metadata": {
  "kernelspec": {
   "display_name": "SQL",
   "language": "SQL",
   "name": "sql"
  },
  "language_info": {
   "codemirror_mode": "sql",
   "file_extension": ".sql",
   "mimetype": "",
   "name": "SQL",
   "nbconverter_exporter": "",
   "version": ""
  },
  "toc": {
   "base_numbering": 1,
   "nav_menu": {},
   "number_sections": false,
   "sideBar": false,
   "skip_h1_title": false,
   "title_cell": "Table of Contents",
   "title_sidebar": "Contents",
   "toc_cell": false,
   "toc_position": {},
   "toc_section_display": false,
   "toc_window_display": false
  }
 },
 "nbformat": 4,
 "nbformat_minor": 2
}
