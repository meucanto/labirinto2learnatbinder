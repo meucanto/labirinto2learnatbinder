{
 "cells": [
  {
   "cell_type": "markdown",
   "metadata": {},
   "source": [
    "# Synthea Case Study\n",
    "*Lab 26 April 2022*\n",
    "\n",
    "* https://synthea.mitre.org/\n",
    "* https://github.com/synthetichealth/synthea"
   ]
  },
  {
   "cell_type": "code",
   "execution_count": 1,
   "metadata": {},
   "outputs": [],
   "source": [
    "%defaultDatasource jdbc:h2:mem:db"
   ]
  },
  {
   "cell_type": "code",
   "execution_count": 2,
   "metadata": {},
   "outputs": [],
   "source": [
    "DROP TABLE IF EXISTS Patients;\n",
    "\n",
    "CREATE TABLE Patients(\n",
    "    id VARCHAR(36),\n",
    "    birthdate DATE,\n",
    "    deathdate DATE,\n",
    "    ssn VARCHAR(11),\n",
    "    drivers VARCHAR(9),\n",
    "    passport VARCHAR(15),\n",
    "    prefix VARCHAR(4),\n",
    "    first VARCHAR(20),\n",
    "    last VARCHAR(20),\n",
    "    suffix VARCHAR(5),\n",
    "    maiden VARCHAR(20),\n",
    "    marital CHAR,\n",
    "    race VARCHAR(10),\n",
    "    ethnicity VARCHAR(15),\n",
    "    gender CHAR,\n",
    "    birthplace VARCHAR(100),\n",
    "    address VARCHAR(50),\n",
    "    city VARCHAR(30),\n",
    "    state VARCHAR(30),\n",
    "    county VARCHAR(50),\n",
    "    zip VARCHAR(10),\n",
    "    lat DECIMAL(18,15),\n",
    "    lon DECIMAL(18,15),\n",
    "    healthcare_expenses VARCHAR(20),\n",
    "    healthcare_coverage VARCHAR(20),\n",
    "    PRIMARY KEY(id)\n",
    ") AS SELECT id,birthdate,deathdate,ssn,drivers,passport,prefix,first,last,suffix,maiden,marital,race,ethnicity,gender,\n",
    "            birthplace,address,city,state,county,zip,lat,lon,healthcare_expenses,healthcare_coverage\n",
    "FROM CSVREAD('../../data/synthea/scenario01/csv/patients.csv');\n",
    "\n",
    "DROP TABLE IF EXISTS Encounters;\n",
    "\n",
    "CREATE TABLE Encounters(\n",
    "    id VARCHAR(36),\n",
    "    start DATETIME,\n",
    "    stop DATETIME,\n",
    "    patient VARCHAR(36),\n",
    "    organization VARCHAR(36),\n",
    "    provider VARCHAR(36),\n",
    "    payer  VARCHAR(36),\n",
    "    encounterclass VARCHAR(20),\n",
    "    code VARCHAR(15),\n",
    "    description VARCHAR(100),\n",
    "    base_encounter_cost DECIMAL(8,2),\n",
    "    total_claim_cost DECIMAL(8,2),\n",
    "    payer_coverage DECIMAL(8,2),\n",
    "    reasoncode VARCHAR(15),\n",
    "    reasondescription VARCHAR(100),\n",
    "    PRIMARY KEY(id)\n",
    ") AS SELECT id,start,stop,patient,organization,provider,payer,encounterclass,code,description,base_encounter_cost,\n",
    "            total_claim_cost,payer_coverage,reasoncode,reasondescription\n",
    "FROM CSVREAD('../../data/synthea/scenario01/csv/encounters.csv');\n",
    "\n",
    "DROP TABLE IF EXISTS Conditions;\n",
    "\n",
    "CREATE TABLE Conditions(\n",
    "    start DATETIME,\n",
    "    stop DATETIME,\n",
    "    patient VARCHAR(36),\n",
    "    encounter VARCHAR(36),\n",
    "    code VARCHAR(20),\n",
    "    description_condition VARCHAR(100),\n",
    ") AS SELECT start,stop,patient,encounter,code,description\n",
    "FROM CSVREAD('../../data/synthea/scenario01/csv/conditions.csv');"
   ]
  },
  {
   "cell_type": "markdown",
   "metadata": {},
   "source": [
    "## Listing Patients"
   ]
  },
  {
   "cell_type": "code",
   "execution_count": 3,
   "metadata": {},
   "outputs": [
    {
     "data": {
      "application/vnd.jupyter.widget-view+json": {
       "model_id": "f7e90413-6258-462f-b94d-b16d58dc4dcc",
       "version_major": 2,
       "version_minor": 0
      },
      "method": "display_data"
     },
     "metadata": {},
     "output_type": "display_data"
    }
   ],
   "source": [
    "SELECT id, to_char(birthdate,'dd-mm-yyyy') birth, to_char(deathdate,'dd-mm-yyyy') death,\n",
    "       deathdate-birthdate days_life\n",
    "FROM Patients\n",
    "LIMIT 5;"
   ]
  },
  {
   "cell_type": "markdown",
   "metadata": {},
   "source": [
    "## Number of Dead Patients"
   ]
  },
  {
   "cell_type": "code",
   "execution_count": 4,
   "metadata": {},
   "outputs": [
    {
     "data": {
      "text/plain": [
       "174"
      ]
     },
     "execution_count": 4,
     "metadata": {},
     "output_type": "execute_result"
    }
   ],
   "source": [
    "SELECT COUNT(*) FROM Patients WHERE deathdate IS NOT NULL;"
   ]
  },
  {
   "cell_type": "markdown",
   "metadata": {},
   "source": [
    "## Listing Encounters"
   ]
  },
  {
   "cell_type": "code",
   "execution_count": 5,
   "metadata": {},
   "outputs": [
    {
     "data": {
      "application/vnd.jupyter.widget-view+json": {
       "model_id": "5db45ba7-942d-452b-b177-93e1f2203ea7",
       "version_major": 2,
       "version_minor": 0
      },
      "method": "display_data"
     },
     "metadata": {},
     "output_type": "display_data"
    }
   ],
   "source": [
    "SELECT id, to_char(start,'dd-mm-yyyy') start, encounterclass, description\n",
    "FROM Encounters\n",
    "LIMIT 5;"
   ]
  },
  {
   "cell_type": "markdown",
   "metadata": {},
   "source": [
    "# Encounters in the Emergency"
   ]
  },
  {
   "cell_type": "markdown",
   "metadata": {},
   "source": [
    "## Number of Patients that Visited the Emergency"
   ]
  },
  {
   "cell_type": "code",
   "execution_count": 8,
   "metadata": {},
   "outputs": [
    {
     "data": {
      "text/plain": [
       "800"
      ]
     },
     "execution_count": 8,
     "metadata": {},
     "output_type": "execute_result"
    }
   ],
   "source": [
    "SELECT COUNT(DISTINCT patient) FROM Encounters\n",
    "       WHERE encounterclass = 'emergency';"
   ]
  },
  {
   "cell_type": "markdown",
   "metadata": {},
   "source": [
    "## Number of Patients with Cardiac Arrest or Myocardial Infarction"
   ]
  },
  {
   "cell_type": "code",
   "execution_count": 9,
   "metadata": {},
   "outputs": [
    {
     "data": {
      "text/plain": [
       "73"
      ]
     },
     "execution_count": 9,
     "metadata": {},
     "output_type": "execute_result"
    }
   ],
   "source": [
    "SELECT count(DISTINCT patient) FROM Encounters\n",
    "       WHERE encounterclass = 'emergency' AND\n",
    "       (description = 'Cardiac Arrest' OR description='Myocardial Infarction');"
   ]
  },
  {
   "cell_type": "markdown",
   "metadata": {},
   "source": [
    "## Last Encounter in the Emergency"
   ]
  },
  {
   "cell_type": "code",
   "execution_count": 10,
   "metadata": {},
   "outputs": [],
   "source": [
    "DROP VIEW IF EXISTS Emergency;\n",
    "\n",
    "CREATE VIEW Emergency AS\n",
    "SELECT patient, MAX(start) last_encounter\n",
    "       FROM Encounters\n",
    "       WHERE encounterclass = 'emergency'\n",
    "       GROUP BY patient;"
   ]
  },
  {
   "cell_type": "markdown",
   "metadata": {},
   "source": [
    "## Conditions in the Last Encounter"
   ]
  },
  {
   "cell_type": "code",
   "execution_count": 11,
   "metadata": {},
   "outputs": [
    {
     "data": {
      "application/vnd.jupyter.widget-view+json": {
       "model_id": "39363c8c-ab03-44df-be5f-5a2bf9ca2377",
       "version_major": 2,
       "version_minor": 0
      },
      "method": "display_data"
     },
     "metadata": {},
     "output_type": "display_data"
    }
   ],
   "source": [
    "SELECT e.patient, c.description_condition\n",
    "       FROM Emergency e, Conditions c\n",
    "       WHERE e.patient = c.patient\n",
    "       LIMIT 10;"
   ]
  },
  {
   "cell_type": "markdown",
   "metadata": {},
   "source": [
    "## Patients that had a Cardiac Arrest or Myocardial Infarction in the Last Encounter"
   ]
  },
  {
   "cell_type": "code",
   "execution_count": 12,
   "metadata": {},
   "outputs": [
    {
     "data": {
      "text/plain": [
       "74"
      ]
     },
     "execution_count": 12,
     "metadata": {},
     "output_type": "execute_result"
    }
   ],
   "source": [
    "SELECT COUNT(DISTINCT e.patient)\n",
    "       FROM Emergency e, Conditions c\n",
    "       WHERE e.patient = c.patient AND\n",
    "            (c.description_condition='Cardiac Arrest' OR\n",
    "             c.description_condition='Myocardial Infarction');"
   ]
  },
  {
   "cell_type": "markdown",
   "metadata": {},
   "source": [
    "## Patients with a Cardiac Arrest or Myocardial Infarction that Died 30 days after the Last Encounter"
   ]
  },
  {
   "cell_type": "code",
   "execution_count": 13,
   "metadata": {},
   "outputs": [
    {
     "data": {
      "application/vnd.jupyter.widget-view+json": {
       "model_id": "1c252eff-769d-4a08-8e34-72ad6c02a2b6",
       "version_major": 2,
       "version_minor": 0
      },
      "method": "display_data"
     },
     "metadata": {},
     "output_type": "display_data"
    },
    {
     "data": {
      "application/vnd.jupyter.widget-view+json": {
       "model_id": "0d70f087-ad06-4309-a77c-1f310b07896b",
       "version_major": 2,
       "version_minor": 0
      },
      "method": "display_data"
     },
     "metadata": {},
     "output_type": "display_data"
    }
   ],
   "source": [
    "SELECT COUNT(*)\n",
    "       FROM Patients p, Emergency s, Conditions c\n",
    "       WHERE p.id=s.patient AND s.patient=c.patient AND\n",
    "             p.deathdate IS NOT NULL AND p.deathdate-s.last_encounter <= 30 AND\n",
    "             (c.description_condition='Cardiac Arrest' OR\n",
    "              c.description_condition='Myocardial Infarction');\n",
    "\n",
    "SELECT DISTINCT p.first, p.last,\n",
    "                to_char(p.birthdate,'dd-mm-yyyy') birth, to_char(p.deathdate,'dd-mm-yyyy') death,\n",
    "                (p.deathdate-p.birthdate)/365 age,\n",
    "                to_char(s.last_encounter,'dd-mm-yyyy') last_encounter,\n",
    "                p.deathdate-s.last_encounter days\n",
    "       FROM Patients p, Emergency s, Conditions c\n",
    "       WHERE p.id=s.patient AND s.patient=c.patient AND\n",
    "             p.deathdate IS NOT NULL AND p.deathdate-s.last_encounter <= 30 AND\n",
    "             (c.description_condition='Cardiac Arrest' OR\n",
    "              c.description_condition='Myocardial Infarction');"
   ]
  },
  {
   "cell_type": "markdown",
   "metadata": {},
   "source": [
    "## Conditions in the Last Encounter with Code"
   ]
  },
  {
   "cell_type": "code",
   "execution_count": 14,
   "metadata": {},
   "outputs": [
    {
     "data": {
      "application/vnd.jupyter.widget-view+json": {
       "model_id": "c26fa0d7-0192-4b92-b4bc-1dc8d9e7e593",
       "version_major": 2,
       "version_minor": 0
      },
      "method": "display_data"
     },
     "metadata": {},
     "output_type": "display_data"
    }
   ],
   "source": [
    "SELECT e.patient, c.code, c.description_condition\n",
    "       FROM Emergency e, Conditions c\n",
    "       WHERE e.patient = c.patient\n",
    "       LIMIT 10;"
   ]
  },
  {
   "cell_type": "markdown",
   "metadata": {},
   "source": [
    "## Patients that had Hypertension (code 59621000) in the Last Encounter"
   ]
  },
  {
   "cell_type": "code",
   "execution_count": 16,
   "metadata": {},
   "outputs": [
    {
     "data": {
      "text/plain": [
       "202"
      ]
     },
     "execution_count": 16,
     "metadata": {},
     "output_type": "execute_result"
    }
   ],
   "source": [
    "SELECT COUNT(DISTINCT e.patient)\n",
    "       FROM Emergency e, Conditions c\n",
    "       WHERE e.patient = c.patient AND c.code='59621000';"
   ]
  },
  {
   "cell_type": "markdown",
   "metadata": {},
   "source": [
    "## Patients with Hypertension that died 30 days after the Last Encounter"
   ]
  },
  {
   "cell_type": "code",
   "execution_count": 17,
   "metadata": {},
   "outputs": [
    {
     "data": {
      "application/vnd.jupyter.widget-view+json": {
       "model_id": "352af06a-c9c2-4772-a545-e12f7d5422e4",
       "version_major": 2,
       "version_minor": 0
      },
      "method": "display_data"
     },
     "metadata": {},
     "output_type": "display_data"
    },
    {
     "data": {
      "application/vnd.jupyter.widget-view+json": {
       "model_id": "f5d06323-0356-45bf-a3eb-26e0037b662f",
       "version_major": 2,
       "version_minor": 0
      },
      "method": "display_data"
     },
     "metadata": {},
     "output_type": "display_data"
    }
   ],
   "source": [
    "SELECT COUNT(*)\n",
    "       FROM Patients p, Emergency s, Conditions c\n",
    "       WHERE p.id=s.patient AND s.patient=c.patient AND\n",
    "             p.deathdate IS NOT NULL AND p.deathdate-s.last_encounter <= 30 AND\n",
    "             c.code='59621000';\n",
    "\n",
    "SELECT DISTINCT p.first, p.last,\n",
    "                to_char(p.birthdate,'dd-mm-yyyy') birth, to_char(p.deathdate,'dd-mm-yyyy') death,\n",
    "                (p.deathdate-p.birthdate)/365 age,\n",
    "                to_char(s.last_encounter,'dd-mm-yyyy') last_encounter,\n",
    "                p.deathdate-s.last_encounter days\n",
    "       FROM Patients p, Emergency s, Conditions c\n",
    "       WHERE p.id=s.patient AND s.patient=c.patient AND\n",
    "             p.deathdate IS NOT NULL AND p.deathdate-s.last_encounter <= 30 AND\n",
    "             c.code='59621000';"
   ]
  },
  {
   "cell_type": "markdown",
   "metadata": {},
   "source": [
    "## Description of Conditions versus Encounters"
   ]
  },
  {
   "cell_type": "code",
   "execution_count": 18,
   "metadata": {},
   "outputs": [
    {
     "data": {
      "application/vnd.jupyter.widget-view+json": {
       "model_id": "90672d68-33f6-457e-8b0a-c68581a5b6a5",
       "version_major": 2,
       "version_minor": 0
      },
      "method": "display_data"
     },
     "metadata": {},
     "output_type": "display_data"
    }
   ],
   "source": [
    "SELECT DISTINCT c.description_condition, e.description\n",
    "       FROM conditions c, encounters e\n",
    "       WHERE c.encounter = e.id AND encounterclass = 'emergency';"
   ]
  },
  {
   "cell_type": "markdown",
   "metadata": {},
   "source": [
    "## Description of Conditions"
   ]
  },
  {
   "cell_type": "code",
   "execution_count": 19,
   "metadata": {},
   "outputs": [
    {
     "data": {
      "application/vnd.jupyter.widget-view+json": {
       "model_id": "9a5ea4b3-0c86-40c8-ba06-c4a2b9199f60",
       "version_major": 2,
       "version_minor": 0
      },
      "method": "display_data"
     },
     "metadata": {},
     "output_type": "display_data"
    }
   ],
   "source": [
    "SELECT DISTINCT c.description_condition\n",
    "       FROM conditions c, encounters e\n",
    "       WHERE c.encounter = e.id AND encounterclass = 'emergency'\n",
    "       ORDER BY c.description_condition;"
   ]
  },
  {
   "cell_type": "code",
   "execution_count": null,
   "metadata": {},
   "outputs": [],
   "source": []
  }
 ],
 "metadata": {
  "kernelspec": {
   "display_name": "SQL",
   "language": "SQL",
   "name": "sql"
  },
  "language_info": {
   "codemirror_mode": "sql",
   "file_extension": ".sql",
   "mimetype": "",
   "name": "SQL",
   "nbconverter_exporter": "",
   "version": ""
  },
  "toc": {
   "base_numbering": 1,
   "nav_menu": {},
   "number_sections": false,
   "sideBar": false,
   "skip_h1_title": false,
   "title_cell": "Table of Contents",
   "title_sidebar": "Contents",
   "toc_cell": false,
   "toc_position": {},
   "toc_section_display": false,
   "toc_window_display": false
  }
 },
 "nbformat": 4,
 "nbformat_minor": 2
}
