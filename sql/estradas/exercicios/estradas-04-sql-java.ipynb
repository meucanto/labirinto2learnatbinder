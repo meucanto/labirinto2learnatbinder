{
 "cells": [
  {
   "cell_type": "markdown",
   "metadata": {},
   "source": [
    "# Acesso ao banco em Java\n",
    "\n",
    "Esta rotina conecta o banco de estradas, carrega a tabela de Cidades e lista."
   ]
  },
  {
   "cell_type": "code",
   "execution_count": 23,
   "metadata": {},
   "outputs": [
    {
     "data": {
      "text/plain": [
       "com.twosigma.beaker.javash.bkrd412bec4.AppListaCidades"
      ]
     },
     "execution_count": 23,
     "metadata": {},
     "output_type": "execute_result"
    }
   ],
   "source": [
    "%classpath add jar ../../lib/h2-1.4.197.jar\n",
    "\n",
    "import java.sql.Connection;\n",
    "import java.sql.DriverManager;\n",
    "import java.sql.ResultSet;\n",
    "import java.sql.SQLException;\n",
    "import java.sql.Statement;\n",
    "\n",
    "public class AppListaCidades\n",
    "{\n",
    "      public static void listaCidades()\n",
    "      {\n",
    "        try {\n",
    "            // carrega classe com implementacao para o driver\n",
    "            //   neste caso o driver MySQL\n",
    "            Class.forName(\"org.h2.Driver\");\n",
    "\n",
    "            // estabelece conexao com a base de dados\n",
    "            Connection conexao = DriverManager.getConnection(\"jdbc:h2:file:~/data/estradas/estradas\");\n",
    "\n",
    "            // cria um objeto de comandos SQL para a base\n",
    "            Statement comando = conexao.createStatement();\n",
    "\n",
    "            // aciona metodo que executa comando SQL (este metodo e especialmente usado para acesso)\n",
    "            ResultSet resultado = comando.executeQuery(\"SELECT * FROM Cidade\");\n",
    "            \n",
    "            System.out.println(\"===== Cidades =====\");\n",
    "            System.out.println(\"cidadeid, nome\");\n",
    "            \n",
    "            // lista o conteudo da tabela no console\n",
    "            boolean temConteudo = resultado.next();\n",
    "            while (temConteudo)\n",
    "            {\n",
    "              String cidadeid = resultado.getString(\"cidadeid\");\n",
    "              String nome = resultado.getString(\"nome\");\n",
    "              System.out.println(cidadeid + \", \" + nome);\n",
    "              temConteudo = resultado.next();\n",
    "            }\n",
    "\n",
    "            comando.close();\n",
    "            conexao.close();\n",
    "        } catch (ClassNotFoundException erro) {\n",
    "            System.out.println(\"ClassNotFoundException: \" + erro.getMessage());\n",
    "        } catch (SQLException erro) {\n",
    "            System.out.println(\"Erro no SQL: \" + erro.getMessage());\n",
    "        }\n",
    "      }\n",
    "}"
   ]
  },
  {
   "cell_type": "code",
   "execution_count": 24,
   "metadata": {},
   "outputs": [
    {
     "name": "stdout",
     "output_type": "stream",
     "text": [
      "===== Cidades =====\n",
      "cidadeid, nome\n",
      "SSA, Salvador\n",
      "SP, Sao Paulo\n",
      "RJ, Rio de Janeiro\n",
      "FLO, Florianopolis\n",
      "CUR, Curitiba\n"
     ]
    },
    {
     "data": {
      "text/plain": [
       "null"
      ]
     },
     "execution_count": 24,
     "metadata": {},
     "output_type": "execute_result"
    }
   ],
   "source": [
    "AppListaCidades.listaCidades();"
   ]
  }
 ],
 "metadata": {
  "kernelspec": {
   "display_name": "Java",
   "language": "java",
   "name": "java"
  },
  "language_info": {
   "codemirror_mode": "text/x-java",
   "file_extension": ".java",
   "mimetype": "",
   "name": "Java",
   "nbconverter_exporter": "",
   "version": "1.8.0_152-release"
  }
 },
 "nbformat": 4,
 "nbformat_minor": 2
}
