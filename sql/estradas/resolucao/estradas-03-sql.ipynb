{
 "cells": [
  {
   "cell_type": "markdown",
   "metadata": {},
   "source": [
    "# Estradas e Trajetos\n",
    "\n",
    "## Exercícios com SQL\n",
    "\n",
    "Partindo do problema desenvolvido no notebook de modelagem (vide diretório `model/estradas`), um sistema de mapeamento de estradas e trajetos precisa gerenciar e relacionar os seguintes elementos: cidades, estradas e trajetos entre cidades. A seguir a descrição o papel de cada elemento:\n",
    "* _Cidades_: mantém um cadastro de cidades.\n",
    "* _Estradas_: registra estradas que ligam uma cidade (cidade_origem) a outra (cidade_destino), bem como sua quilometragem.\n",
    "* _Trajeto_: cada registro da tabela Trajeto identifica um trajeto, que consiste em uma sequência ordenada de estradas que ligam duas cidades (cidade_origem e cidade_destino), por exemplo, um trajeto entre Salvador e Curitiba, pode envolver uma sequência de estradas: Salvador-Belo Horizonte, Belo Horizonte-São Paulo e São Paulo-Curitiba. Um Trajeto agrega um conjunto de Segmentos.\n",
    "* _Segmento_: associa estradas a trajetos. O campo ordem é um campo numérico sequencial (iniciado de 1 para cada trajeto) usado para ordenar os segmentos (estradas) dentro de um trajeto.\n",
    "\n",
    "No notebook de modelagem foram concebidos os seguintes modelos ER e relacional:\n",
    "\n",
    "### Modelo ER\n",
    "\n",
    "![ER](er-estradas.png)\n",
    "\n",
    "### Esquema Relacional\n",
    "As chaves primárias têm underscore antes e depois `_chave_`:\n",
    "~~~\n",
    "Cidade(_nome_)\n",
    "\n",
    "Estrada(_nome_, km, origem, destino)\n",
    "  CHE (origem) -> Cidade\n",
    "  CHE (destino) -> Cidade\n",
    "\n",
    "Trajeto(_id_, origem, destino)\n",
    "  CHE (origem) -> Cidade\n",
    "  CHE (destino) -> Cidade\n",
    "\n",
    "Segmento(_idTrajeto_, _nomeEstrada_, ordem)\n",
    "  CHE (idTrajeto) -> Trajeto\n",
    "  CHE(nomeEstrada) -> Estrada\n",
    "~~~\n",
    "\n",
    "Considere que acrescentamos o atributo `id` além de `nome` para `Cidade` e `Estrada`, permitindo que Cidades e Estradas diferentes que tenham o mesmo nome possam se diferenciar. A partir disso, foi produzido o seguinte modelo UML e mapeamento para o modelo relacional representado graficamente:\n",
    "\n",
    "### Modelo UML modificado\n",
    "\n",
    "![UML](uml-estradas.png)\n",
    "\n",
    "### Modelo Relacional modificado (representado graficamente)\n",
    "\n",
    "![Relacional](relacional-estradas.png)\n",
    "\n",
    "A seguir são apresentadas a criação das tabelas desse modelo em SQL."
   ]
  },
  {
   "cell_type": "code",
   "execution_count": 1,
   "metadata": {},
   "outputs": [],
   "source": [
    "%defaultDatasource jdbc:h2:file:~/data/estradas/estradas\n",
    "\n",
    "DROP View IF EXISTS Maior;\n",
    "DROP View IF EXISTS Distancia;\n",
    "\n",
    "DROP Table IF EXISTS Cidade;\n",
    "DROP Table IF EXISTS Estrada;\n",
    "DROP Table IF EXISTS Trajeto;\n",
    "DROP Table IF EXISTS Segmento;"
   ]
  },
  {
   "cell_type": "code",
   "execution_count": 2,
   "metadata": {},
   "outputs": [
    {
     "data": {
      "application/vnd.jupyter.widget-view+json": {
       "model_id": "e5b0a566-fd21-4f3d-9e7c-d09ae197f77c",
       "version_major": 2,
       "version_minor": 0
      },
      "method": "display_data"
     },
     "metadata": {},
     "output_type": "display_data"
    },
    {
     "data": {
      "application/vnd.jupyter.widget-view+json": {
       "model_id": "238eaa72-eed4-440f-b6be-d6ff326a78f0",
       "version_major": 2,
       "version_minor": 0
      },
      "method": "display_data"
     },
     "metadata": {},
     "output_type": "display_data"
    },
    {
     "data": {
      "application/vnd.jupyter.widget-view+json": {
       "model_id": "5110e3bb-8482-4572-8040-7c00b3846977",
       "version_major": 2,
       "version_minor": 0
      },
      "method": "display_data"
     },
     "metadata": {},
     "output_type": "display_data"
    },
    {
     "data": {
      "application/vnd.jupyter.widget-view+json": {
       "model_id": "029c56b5-e7ca-4b62-9e6a-9b0337b4ebe5",
       "version_major": 2,
       "version_minor": 0
      },
      "method": "display_data"
     },
     "metadata": {},
     "output_type": "display_data"
    }
   ],
   "source": [
    "CREATE TABLE Cidade (\n",
    "  cidadeid VARCHAR(5) NOT NULL ,\n",
    "  nome VARCHAR(100) ,\n",
    "  PRIMARY KEY (cidadeid) );\n",
    "\n",
    "INSERT INTO Cidade VALUES ('SSA', 'Salvador');\n",
    "INSERT INTO Cidade VALUES ('SP',  'Sao Paulo');\n",
    "INSERT INTO Cidade VALUES ('RJ',  'Rio de Janeiro');\n",
    "INSERT INTO Cidade VALUES ('FLO', 'Florianopolis');\n",
    "INSERT INTO Cidade VALUES ('CUR', 'Curitiba');\n",
    "\n",
    "CREATE TABLE Estrada (\n",
    "  estradaid VARCHAR(5) NOT NULL ,\n",
    "  nome VARCHAR(100) ,\n",
    "  cidade_origem VARCHAR(5) NOT NULL ,\n",
    "  cidade_destino VARCHAR(5) NOT NULL ,\n",
    "  extensao_km INT ,\n",
    "  PRIMARY KEY (estradaid) ,\n",
    "  FOREIGN KEY (cidade_origem )\n",
    "    REFERENCES Cidade (cidadeid )\n",
    "    ON DELETE NO ACTION\n",
    "    ON UPDATE NO ACTION,\n",
    "  FOREIGN KEY (cidade_destino )\n",
    "    REFERENCES Cidade (cidadeid )\n",
    "    ON DELETE NO ACTION\n",
    "    ON UPDATE NO ACTION);\n",
    "\n",
    "INSERT INTO Estrada VALUES ('4545', 'Estrada 4545', 'SSA', 'RJ', 1800);\n",
    "INSERT INTO Estrada VALUES ('2835', 'Estrada 2835', 'RJ', 'SP', 400);\n",
    "INSERT INTO Estrada VALUES ('1012', 'Estrada 1012', 'SP', 'FLO', 600);\n",
    "INSERT INTO Estrada VALUES ('1212', 'Estrada 1212', 'SP', 'CUR', 800);\n",
    "INSERT INTO Estrada VALUES ('6032', 'Estrada 6032', 'FLO', 'CUR', 200);\n",
    "\n",
    "CREATE TABLE Trajeto (\n",
    "  trajetoid VARCHAR(5) NOT NULL ,\n",
    "  cidade_origem VARCHAR(5) NOT NULL ,\n",
    "  cidade_destino VARCHAR(5) NOT NULL ,\n",
    "  PRIMARY KEY (trajetoid) ,\n",
    "  FOREIGN KEY (cidade_origem )\n",
    "    REFERENCES Cidade (cidadeid )\n",
    "    ON DELETE NO ACTION\n",
    "    ON UPDATE NO ACTION,\n",
    "  FOREIGN KEY (cidade_destino )\n",
    "    REFERENCES Cidade (cidadeid )\n",
    "    ON DELETE NO ACTION\n",
    "    ON UPDATE NO ACTION);\n",
    "\n",
    "INSERT INTO Trajeto VALUES ('TJ001', 'SSA', 'SP');\n",
    "INSERT INTO Trajeto VALUES ('TJ002', 'SSA', 'FLO');\n",
    "INSERT INTO Trajeto VALUES ('TJ003', 'SP', 'CUR');\n",
    "INSERT INTO Trajeto VALUES ('TJ004', 'SP', 'CUR');\n",
    "INSERT INTO Trajeto VALUES ('TJ005', 'RJ', 'CUR');\n",
    "\n",
    "CREATE TABLE Segmento (\n",
    "  trajetoid VARCHAR(5) NOT NULL ,\n",
    "  estradaid VARCHAR(5) NOT NULL ,\n",
    "  ordem INT ,\n",
    "  PRIMARY KEY (trajetoid, estradaid) ,\n",
    "  FOREIGN KEY (estradaid )\n",
    "    REFERENCES Estrada (estradaid )\n",
    "    ON DELETE NO ACTION\n",
    "    ON UPDATE NO ACTION,\n",
    "  FOREIGN KEY (trajetoid )\n",
    "    REFERENCES Trajeto (trajetoid )\n",
    "    ON DELETE NO ACTION\n",
    "    ON UPDATE NO ACTION);\n",
    "\n",
    "INSERT INTO Segmento VALUES ('TJ001', '4545', 1);\n",
    "INSERT INTO Segmento VALUES ('TJ001', '2835', 2);\n",
    "INSERT INTO Segmento VALUES ('TJ002', '4545', 1);\n",
    "INSERT INTO Segmento VALUES ('TJ002', '2835', 2);\n",
    "INSERT INTO Segmento VALUES ('TJ002', '1012', 3);\n",
    "INSERT INTO Segmento VALUES ('TJ003', '4545', 1);\n",
    "INSERT INTO Segmento VALUES ('TJ003', '2835', 2);\n",
    "INSERT INTO Segmento VALUES ('TJ003', '1012', 3);\n",
    "INSERT INTO Segmento VALUES ('TJ004', '4545', 1);\n",
    "INSERT INTO Segmento VALUES ('TJ004', '2835', 2);\n",
    "INSERT INTO Segmento VALUES ('TJ004', '1012', 3);\n",
    "INSERT INTO Segmento VALUES ('TJ004', '6032', 4);\n",
    "INSERT INTO Segmento VALUES ('TJ005', '1012', 1);\n",
    "INSERT INTO Segmento VALUES ('TJ005', '6032', 2);\n",
    "\n",
    "SELECT * FROM Cidade;\n",
    "SELECT * FROM Estrada;\n",
    "SELECT * FROM Trajeto;\n",
    "SELECT * FROM Segmento;"
   ]
  },
  {
   "cell_type": "markdown",
   "metadata": {},
   "source": [
    "# Exercício 1\n",
    "Escreva uma sentença em SQL que indique qual o nome das estradas que compõem cada trajeto.\n",
    "## Resolução"
   ]
  },
  {
   "cell_type": "code",
   "execution_count": 3,
   "metadata": {},
   "outputs": [
    {
     "data": {
      "application/vnd.jupyter.widget-view+json": {
       "model_id": "9d6a8127-58a2-4ea0-8123-019ea69fe616",
       "version_major": 2,
       "version_minor": 0
      },
      "method": "display_data"
     },
     "metadata": {},
     "output_type": "display_data"
    }
   ],
   "source": [
    "SELECT S.trajetoid, E.estradaid, E.nome\n",
    "FROM Segmento S, Estrada E\n",
    "WHERE S.estradaid = E.estradaid;"
   ]
  },
  {
   "cell_type": "markdown",
   "metadata": {},
   "source": [
    "# Exercício 2\n",
    "Escreva uma sentença em SQL que indique qual o código de todos os trajetos que passam por São Paulo.\n",
    "\n",
    "## Resolução"
   ]
  },
  {
   "cell_type": "code",
   "execution_count": 4,
   "metadata": {},
   "outputs": [
    {
     "data": {
      "application/vnd.jupyter.widget-view+json": {
       "model_id": "85e9e255-9f85-41cc-a17c-c0d1f828fabf",
       "version_major": 2,
       "version_minor": 0
      },
      "method": "display_data"
     },
     "metadata": {},
     "output_type": "display_data"
    }
   ],
   "source": [
    "SELECT S.trajetoid, E.estradaid, E.nome, E.cidade_origem, E.cidade_destino\n",
    "FROM Segmento S, Estrada E\n",
    "WHERE S.estradaid = E.estradaid AND (E.cidade_origem = 'SP' OR E.cidade_destino = 'SP');"
   ]
  },
  {
   "cell_type": "code",
   "execution_count": 5,
   "metadata": {},
   "outputs": [
    {
     "data": {
      "application/vnd.jupyter.widget-view+json": {
       "model_id": "751584bd-172a-403e-b76d-1afa910ae87c",
       "version_major": 2,
       "version_minor": 0
      },
      "method": "display_data"
     },
     "metadata": {},
     "output_type": "display_data"
    }
   ],
   "source": [
    "SELECT DISTINCT S.trajetoid\n",
    "FROM Segmento S, Estrada E\n",
    "WHERE S.estradaid = E.estradaid AND (E.cidade_origem = 'SP' OR E.cidade_destino = 'SP');"
   ]
  },
  {
   "cell_type": "markdown",
   "metadata": {},
   "source": [
    "# Exercício 3\n",
    "\n",
    "Considerando que os trajetos não tem ciclos, escreva uma sentença SQL que mostre a última estrada de cada trajeto.\n",
    "\n",
    "## Resolução"
   ]
  },
  {
   "cell_type": "code",
   "execution_count": 6,
   "metadata": {},
   "outputs": [
    {
     "data": {
      "application/vnd.jupyter.widget-view+json": {
       "model_id": "cfa3be7e-3431-41e6-88d0-3c64f8ca3cb7",
       "version_major": 2,
       "version_minor": 0
      },
      "method": "display_data"
     },
     "metadata": {},
     "output_type": "display_data"
    }
   ],
   "source": [
    "SELECT T.trajetoid, E.nome\n",
    "FROM Trajeto T, Segmento S, Estrada E\n",
    "WHERE T.trajetoid = S.trajetoid AND S.estradaid = E.estradaid AND T.cidade_destino = E.cidade_destino"
   ]
  },
  {
   "cell_type": "markdown",
   "metadata": {},
   "source": [
    "# Exercício 4\n",
    "\n",
    "Escreva uma sentença em SQL que calcule a quilometragem total de cada Trajeto."
   ]
  },
  {
   "cell_type": "markdown",
   "metadata": {},
   "source": [
    "## Resolução\n",
    "\n",
    "### Passo 1 - Relacionando as três tabelas: Trajeto, Segmento e Estrada"
   ]
  },
  {
   "cell_type": "code",
   "execution_count": 7,
   "metadata": {},
   "outputs": [
    {
     "data": {
      "application/vnd.jupyter.widget-view+json": {
       "model_id": "c4deae77-725e-4053-9fdb-14ff49ae31f2",
       "version_major": 2,
       "version_minor": 0
      },
      "method": "display_data"
     },
     "metadata": {},
     "output_type": "display_data"
    }
   ],
   "source": [
    "SELECT T.trajetoid, S.ordem, E.nome, E.cidade_origem, E.cidade_destino, E.extensao_km\n",
    "FROM Trajeto T, Segmento S, Estrada E\n",
    "WHERE T.trajetoid = S.trajetoid AND\n",
    "      S.estradaid = E.estradaid\n",
    "ORDER BY T.trajetoid, S.ordem;"
   ]
  },
  {
   "cell_type": "markdown",
   "metadata": {},
   "source": [
    "### Passo 2 - Agrupando e Somando"
   ]
  },
  {
   "cell_type": "code",
   "execution_count": 8,
   "metadata": {},
   "outputs": [
    {
     "data": {
      "application/vnd.jupyter.widget-view+json": {
       "model_id": "56a3188e-850d-468c-8643-8ccf93ef66d4",
       "version_major": 2,
       "version_minor": 0
      },
      "method": "display_data"
     },
     "metadata": {},
     "output_type": "display_data"
    }
   ],
   "source": [
    "SELECT T.trajetoid, SUM(E.extensao_km)\n",
    "FROM Trajeto T, Segmento S, Estrada E\n",
    "WHERE T.trajetoid = S.trajetoid AND\n",
    "      S.estradaid = E.estradaid\n",
    "GROUP BY T.trajetoid;"
   ]
  },
  {
   "cell_type": "markdown",
   "metadata": {},
   "source": [
    "# Exercício 5\n",
    "\n",
    "Para que um trajeto seja consistente, a cidade de origem deste trajeto deve ser igual à cidade de origem cadastrada no primeiro segmento do respectivo trajeto. Escreva uma consulta SQL que mostre a identificação dos trajetos que não estão consistentes conforme este critério."
   ]
  },
  {
   "cell_type": "markdown",
   "metadata": {},
   "source": [
    "## Resolução\n",
    "\n",
    "### Passo 1 - Primeiro segmento de cada trajeto"
   ]
  },
  {
   "cell_type": "code",
   "execution_count": 9,
   "metadata": {},
   "outputs": [
    {
     "data": {
      "application/vnd.jupyter.widget-view+json": {
       "model_id": "2d42ded7-639c-473e-a5e3-9b821f52144e",
       "version_major": 2,
       "version_minor": 0
      },
      "method": "display_data"
     },
     "metadata": {},
     "output_type": "display_data"
    }
   ],
   "source": [
    "SELECT * FROM Segmento WHERE ordem=1;"
   ]
  },
  {
   "cell_type": "markdown",
   "metadata": {},
   "source": [
    "### Passo 2 - Associando o primeiro segmento ao respectivo Trajeto e respectiva Estrada"
   ]
  },
  {
   "cell_type": "code",
   "execution_count": 10,
   "metadata": {},
   "outputs": [
    {
     "data": {
      "application/vnd.jupyter.widget-view+json": {
       "model_id": "1da674b9-66f1-4767-879e-b66667cf918e",
       "version_major": 2,
       "version_minor": 0
      },
      "method": "display_data"
     },
     "metadata": {},
     "output_type": "display_data"
    }
   ],
   "source": [
    "SELECT T.trajetoid, S.ordem, E.nome, E.cidade_origem, E.cidade_destino, E.extensao_km\n",
    "FROM Estrada E, Segmento S, Trajeto T\n",
    "WHERE E.estradaid = S.estradaid AND\n",
    "      S.trajetoid = T.trajetoid AND\n",
    "      S.ordem = 1;"
   ]
  },
  {
   "cell_type": "markdown",
   "metadata": {},
   "source": [
    "### Passo 3 - Apresentando aqueles que são diferentes"
   ]
  },
  {
   "cell_type": "code",
   "execution_count": 11,
   "metadata": {},
   "outputs": [
    {
     "data": {
      "application/vnd.jupyter.widget-view+json": {
       "model_id": "f244638a-1675-4aa9-8cbe-710d68ad7555",
       "version_major": 2,
       "version_minor": 0
      },
      "method": "display_data"
     },
     "metadata": {},
     "output_type": "display_data"
    }
   ],
   "source": [
    "SELECT T.trajetoid\n",
    "FROM Trajeto T, Segmento S, Estrada E\n",
    "WHERE T.trajetoid = S.trajetoid AND\n",
    "      S.estradaid = E.estradaid AND\n",
    "      T.cidade_origem <> E.cidade_origem AND\n",
    "      S.ordem = 1;"
   ]
  },
  {
   "cell_type": "markdown",
   "metadata": {},
   "source": [
    "# Exercício 6\n",
    "\n",
    "Outro critério para que um trajeto seja consistente é que a cidade de destino deste trajeto deve ser igual à cidade de destino cadastrada no último segmento do respectivo trajeto. Escreva uma consulta SQL que mostre a identificação dos trajetos que não estão consistentes conforme este critério."
   ]
  },
  {
   "cell_type": "markdown",
   "metadata": {},
   "source": [
    "## Resolução\n",
    "\n",
    "### Passo 1 - Recuperando o número de ordem do último segmento de cada trajeto"
   ]
  },
  {
   "cell_type": "code",
   "execution_count": 12,
   "metadata": {},
   "outputs": [
    {
     "data": {
      "application/vnd.jupyter.widget-view+json": {
       "model_id": "e971482d-d694-41cd-963d-ee0b90e3f9d5",
       "version_major": 2,
       "version_minor": 0
      },
      "method": "display_data"
     },
     "metadata": {},
     "output_type": "display_data"
    }
   ],
   "source": [
    "SELECT trajetoid, MAX(ordem)\n",
    "FROM Segmento\n",
    "GROUP BY trajetoid;"
   ]
  },
  {
   "cell_type": "markdown",
   "metadata": {},
   "source": [
    "A query anterior pode ser explorada pelo caminho da `View` ou pelo caminho do `SELECT Aninhado`.\n",
    "\n",
    "### Caminho da `VIEW`\n",
    "### Passo 2 - Transformando a Query em `VIEW`"
   ]
  },
  {
   "cell_type": "code",
   "execution_count": 13,
   "metadata": {},
   "outputs": [
    {
     "data": {
      "application/vnd.jupyter.widget-view+json": {
       "model_id": "aa7f2146-6034-49f4-9b52-5c3ddd5de959",
       "version_major": 2,
       "version_minor": 0
      },
      "method": "display_data"
     },
     "metadata": {},
     "output_type": "display_data"
    }
   ],
   "source": [
    "CREATE VIEW Maior AS\n",
    "SELECT trajetoid, MAX(ordem) ordem_maior\n",
    "FROM Segmento\n",
    "GROUP BY trajetoid;\n",
    "\n",
    "SELECT * FROM Maior;"
   ]
  },
  {
   "cell_type": "markdown",
   "metadata": {},
   "source": [
    "### Caminho da `VIEW`\n",
    "### Passo 3 - Relacionando a `VIEW` com as demais tabelas"
   ]
  },
  {
   "cell_type": "code",
   "execution_count": 14,
   "metadata": {},
   "outputs": [
    {
     "data": {
      "text/plain": [
       "TJ003"
      ]
     },
     "execution_count": 14,
     "metadata": {},
     "output_type": "execute_result"
    }
   ],
   "source": [
    "SELECT T.trajetoid\n",
    "FROM Maior M, Trajeto T, Segmento S, Estrada E\n",
    "WHERE T.trajetoid = S.trajetoid AND\n",
    "      S.estradaid = E.estradaid AND\n",
    "      M.trajetoid = T.trajetoid AND\n",
    "      T.cidade_destino <> E.cidade_destino AND\n",
    "      S.ordem = M.ordem_maior;"
   ]
  },
  {
   "cell_type": "markdown",
   "metadata": {},
   "source": [
    "### Caminho do `SELECT` Aninhado\n",
    "### Passo 2 - Transformando a Query em `SELECT` aninhado e relacionando com as demais tabelas"
   ]
  },
  {
   "cell_type": "code",
   "execution_count": 15,
   "metadata": {},
   "outputs": [
    {
     "data": {
      "text/plain": [
       "TJ003"
      ]
     },
     "execution_count": 15,
     "metadata": {},
     "output_type": "execute_result"
    }
   ],
   "source": [
    "SELECT T.trajetoid\n",
    "FROM Trajeto T, Segmento S, Estrada E,\n",
    "     (SELECT trajetoid, MAX(ordem) ordem_maior\n",
    "      FROM Segmento\n",
    "      GROUP BY trajetoid) M\n",
    "WHERE T.trajetoid = S.trajetoid AND\n",
    "      S.estradaid = E.estradaid AND\n",
    "      M.trajetoid = T.trajetoid AND\n",
    "      T.cidade_destino <> E.cidade_destino AND\n",
    "      S.ordem = M.ordem_maior;"
   ]
  },
  {
   "cell_type": "markdown",
   "metadata": {},
   "source": [
    "# Exercício 7\n",
    "\n",
    "Retorne os trajetos de menor quilometragem entre cada origem/destino diferente. Esta consulta deve apresentar para cada um dos trajetos selecionados: cidade origem, cidade destino, menor quilometragem entre elas. A quilometragem de cada trajeto é calculada pela soma da quilometragem de todas as estradas que compõem o trajeto."
   ]
  },
  {
   "cell_type": "markdown",
   "metadata": {},
   "source": [
    "## Resolução\n",
    "\n",
    "### Passo 1 - Criando uma `VIEW` com as quilometragens totais"
   ]
  },
  {
   "cell_type": "code",
   "execution_count": 16,
   "metadata": {},
   "outputs": [
    {
     "data": {
      "application/vnd.jupyter.widget-view+json": {
       "model_id": "5294e736-c89a-4560-b198-127d14c674ef",
       "version_major": 2,
       "version_minor": 0
      },
      "method": "display_data"
     },
     "metadata": {},
     "output_type": "display_data"
    }
   ],
   "source": [
    "CREATE VIEW Distancia AS\n",
    "SELECT T.trajetoid, T.cidade_origem, T.cidade_destino, SUM(E.extensao_km) total_km\n",
    "FROM Trajeto T, Segmento S, Estrada E\n",
    "WHERE T.trajetoid = S.trajetoid AND\n",
    "      S.estradaid = E.estradaid\n",
    "GROUP BY T.trajetoid;\n",
    "\n",
    "SELECT * FROM Distancia;"
   ]
  },
  {
   "cell_type": "markdown",
   "metadata": {},
   "source": [
    "### Passo 2 - Extraindo os mínimos da `VIEW`\n",
    "\n",
    "Tal como na questão anterior, também seria possível o uso de SELECT Aninhado."
   ]
  },
  {
   "cell_type": "code",
   "execution_count": 17,
   "metadata": {},
   "outputs": [
    {
     "data": {
      "application/vnd.jupyter.widget-view+json": {
       "model_id": "b4a70483-95ea-4366-be4d-e770105dce0d",
       "version_major": 2,
       "version_minor": 0
      },
      "method": "display_data"
     },
     "metadata": {},
     "output_type": "display_data"
    }
   ],
   "source": [
    "SELECT cidade_origem, cidade_destino, MIN(total_km)\n",
    "FROM Distancia\n",
    "GROUP BY cidade_origem, cidade_destino;"
   ]
  },
  {
   "cell_type": "markdown",
   "metadata": {},
   "source": [
    "# Exercício 8\n",
    "\n",
    "Modifique a tabela de Trajetos para acrescentar um campo extensao_km que conterá a quilometragem total do trajeto, escreva uma sentença que calcule e atualize o campo extensao_km da tabela de Trajetos, baseando-se na soma da quilometragem das estradas."
   ]
  },
  {
   "cell_type": "code",
   "execution_count": null,
   "metadata": {},
   "outputs": [],
   "source": []
  },
  {
   "cell_type": "markdown",
   "metadata": {},
   "source": [
    "# Exercício 9\n",
    "\n",
    "Retorne o nome das cidades que não aparecem na origem de nenhum segmento."
   ]
  },
  {
   "cell_type": "code",
   "execution_count": null,
   "metadata": {},
   "outputs": [],
   "source": []
  }
 ],
 "metadata": {
  "kernelspec": {
   "display_name": "SQL",
   "language": "SQL",
   "name": "sql"
  },
  "language_info": {
   "codemirror_mode": "sql",
   "file_extension": ".sql",
   "mimetype": "",
   "name": "SQL",
   "nbconverter_exporter": "",
   "version": ""
  },
  "toc": {
   "base_numbering": 1,
   "nav_menu": {},
   "number_sections": false,
   "sideBar": false,
   "skip_h1_title": false,
   "title_cell": "Table of Contents",
   "title_sidebar": "Contents",
   "toc_cell": false,
   "toc_position": {},
   "toc_section_display": false,
   "toc_window_display": false
  }
 },
 "nbformat": 4,
 "nbformat_minor": 4
}
