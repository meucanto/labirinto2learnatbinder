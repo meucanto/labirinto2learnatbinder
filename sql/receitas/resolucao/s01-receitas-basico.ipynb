{
 "cells": [
  {
   "cell_type": "markdown",
   "metadata": {},
   "source": [
    "# Receitas\n",
    "## Bloco de Questões I - SQL Básico\n",
    "\n",
    "Considere os comandos SQL a seguir para criar tabelas que controlam Produtos e Receitas, bem como o respectivo esquema relacional simplificado abaixo. A tabela de Produto mantém um cadastro de produtos, com seu código, nome e custo_unitario, que corresponde ao custo de aquisição de uma unidade do produto. Cada Receita tem um código, nome, tipo (e.g., vegana, regular, light) e custo_total (corresponde ao custo de produção da receita inteira). Cada entrada na tabela Ingrediente indica que um Produto é componente de uma Receita em uma certa quantidade.\n",
    "\n",
    "### Esquema Relacional\n",
    "~~~\n",
    "Produto(codigo_produto, nome_produto, custo_unitario)\n",
    "Receita(codigo_receita, nome_receita, tipo_receita, custo_total)\n",
    "Ingrediente(codigo_receita, codigo_produto, quantidade)\n",
    "~~~"
   ]
  },
  {
   "cell_type": "markdown",
   "metadata": {},
   "source": [
    "Ativando uma conexão de banco de dados em memória usando o SGBD H2:"
   ]
  },
  {
   "cell_type": "code",
   "execution_count": 1,
   "metadata": {},
   "outputs": [],
   "source": [
    "%defaultDatasource jdbc:h2:mem:db"
   ]
  },
  {
   "cell_type": "code",
   "execution_count": 2,
   "metadata": {},
   "outputs": [
    {
     "data": {
      "application/vnd.jupyter.widget-view+json": {
       "model_id": "690357b3-8c49-49b6-a7ee-c271d8d03a5c",
       "version_major": 2,
       "version_minor": 0
      },
      "method": "display_data"
     },
     "metadata": {},
     "output_type": "display_data"
    },
    {
     "data": {
      "application/vnd.jupyter.widget-view+json": {
       "model_id": "70970a4c-30e7-4a66-8690-140efdc35ab5",
       "version_major": 2,
       "version_minor": 0
      },
      "method": "display_data"
     },
     "metadata": {},
     "output_type": "display_data"
    },
    {
     "data": {
      "application/vnd.jupyter.widget-view+json": {
       "model_id": "9f4b56f9-98dd-4edb-a20a-d0a2779386b5",
       "version_major": 2,
       "version_minor": 0
      },
      "method": "display_data"
     },
     "metadata": {},
     "output_type": "display_data"
    }
   ],
   "source": [
    "DROP Table IF EXISTS Ingrediente;\n",
    "DROP Table IF EXISTS Receita;\n",
    "DROP Table IF EXISTS Produto;\n",
    "\n",
    "CREATE TABLE Produto (\n",
    "  codigo_produto VARCHAR(7),\n",
    "  nome_produto VARCHAR(80),\n",
    "  custo_unitario DECIMAL(5,2),\n",
    "  PRIMARY KEY (codigo_produto)\n",
    ");\n",
    "\n",
    "CREATE TABLE Receita (\n",
    "  codigo_receita VARCHAR(7),\n",
    "  nome_receita VARCHAR(80),\n",
    "  tipo_receita VARCHAR(10),\n",
    "  custo_total DECIMAL(5,2),\n",
    "  PRIMARY KEY (codigo_receita));\n",
    "               \n",
    "CREATE TABLE Ingrediente (\n",
    "  codigo_receita VARCHAR(7),\n",
    "  codigo_produto VARCHAR(7),\n",
    "  quantidade DECIMAL(5,2),\n",
    "  PRIMARY KEY (codigo_receita, codigo_produto, quantidade),\n",
    "  FOREIGN KEY (codigo_receita)\n",
    "    REFERENCES Receita (codigo_receita),\n",
    "  FOREIGN KEY (codigo_produto)\n",
    "    REFERENCES Produto (codigo_produto) );\n",
    "\n",
    "INSERT INTO Produto VALUES ('CHOCO', 'Chocolate', 3.0);\n",
    "INSERT INTO Produto VALUES ('CENO', 'Cenoura', 1.5);\n",
    "INSERT INTO Produto VALUES ('ACU', 'Acucar', 0.5);\n",
    "INSERT INTO Produto VALUES ('SUCRA', 'Sucralose', 5.0);\n",
    "INSERT INTO Produto VALUES ('FAR', 'Farinha', 1.0);\n",
    "\n",
    "INSERT INTO Receita VALUES ('BOLOCE', 'Bolo Cenoura', 'vegana', 6.0);\n",
    "INSERT INTO Receita VALUES ('BOLOCH', 'Bolo Chocolate', 'regular', 6.7);\n",
    "INSERT INTO Receita VALUES ('BOLOCEL', 'Bolo Cenoura Light', 'light', 10.0);\n",
    "\n",
    "INSERT INTO Ingrediente VALUES ('BOLOCE', 'CENO', 1.0);\n",
    "INSERT INTO Ingrediente VALUES ('BOLOCE', 'ACU', 1.0);\n",
    "INSERT INTO Ingrediente VALUES ('BOLOCE', 'FAR', 3.0);\n",
    "INSERT INTO Ingrediente VALUES ('BOLOCE', 'ACU', 2.0);\n",
    "INSERT INTO Ingrediente VALUES ('BOLOCH', 'CHOCO', 1.0);\n",
    "INSERT INTO Ingrediente VALUES ('BOLOCH', 'ACU', 1.0);\n",
    "INSERT INTO Ingrediente VALUES ('BOLOCH', 'FAR', 3.0);\n",
    "INSERT INTO Ingrediente VALUES ('BOLOCEL', 'CENO', 1.0);\n",
    "INSERT INTO Ingrediente VALUES ('BOLOCEL', 'SUCRA', 1.0);\n",
    "INSERT INTO Ingrediente VALUES ('BOLOCEL', 'FAR', 3.0);\n",
    "\n",
    "SELECT * FROM Produto;\n",
    "SELECT * FROM Receita;\n",
    "SELECT * FROM Ingrediente;"
   ]
  },
  {
   "cell_type": "markdown",
   "metadata": {},
   "source": [
    "## Questão 1\n",
    "\n",
    "Liste o código de todas as receitas e o código dos ingredientes das receitas."
   ]
  },
  {
   "cell_type": "code",
   "execution_count": 3,
   "metadata": {},
   "outputs": [
    {
     "data": {
      "application/vnd.jupyter.widget-view+json": {
       "model_id": "e00ed3f1-cfa2-4d5a-a8f9-e5fdfa3e1f0c",
       "version_major": 2,
       "version_minor": 0
      },
      "method": "display_data"
     },
     "metadata": {},
     "output_type": "display_data"
    }
   ],
   "source": [
    "SELECT I.CODIGO_RECEITA, I.CODIGO_PRODUTO\n",
    "FROM Ingrediente I;"
   ]
  },
  {
   "cell_type": "markdown",
   "metadata": {},
   "source": [
    "## Questão 2\n",
    "\n",
    "Liste o nome de todas as receitas e o nome dos ingredientes das receitas."
   ]
  },
  {
   "cell_type": "code",
   "execution_count": 4,
   "metadata": {},
   "outputs": [
    {
     "data": {
      "application/vnd.jupyter.widget-view+json": {
       "model_id": "9e265046-04bc-45b4-8199-2fa022967655",
       "version_major": 2,
       "version_minor": 0
      },
      "method": "display_data"
     },
     "metadata": {},
     "output_type": "display_data"
    }
   ],
   "source": [
    "SELECT R.NOME_RECEITA, P.NOME_PRODUTO\n",
    "FROM Receita R, Ingrediente I, Produto P\n",
    "WHERE R.CODIGO_RECEITA = I.CODIGO_RECEITA AND I.CODIGO_PRODUTO = P.CODIGO_PRODUTO;"
   ]
  },
  {
   "cell_type": "markdown",
   "metadata": {},
   "source": [
    "## Questão 3\n",
    "Liste o nome de todos os produtos que aparecem em receitas veganas, cujo custo unitário é maior que 1.0. Nomes de produtos não devem aparecer duplicados."
   ]
  },
  {
   "cell_type": "code",
   "execution_count": 5,
   "metadata": {},
   "outputs": [
    {
     "data": {
      "text/plain": [
       "Cenoura"
      ]
     },
     "execution_count": 5,
     "metadata": {},
     "output_type": "execute_result"
    }
   ],
   "source": [
    "SELECT DISTINCT P.nome_produto\n",
    "FROM Produto P, Ingrediente I, Receita R\n",
    "WHERE R.codigo_receita=I.codigo_receita AND P.codigo_produto=I.codigo_produto\n",
    "      AND R.tipo_receita='vegana' AND P.custo_unitario > 1.0"
   ]
  },
  {
   "cell_type": "markdown",
   "metadata": {},
   "source": [
    "## Questão 4\n",
    "\n",
    "Em algumas receitas o mesmo produto aparece mais de uma vez com quantidades diferentes. Apresente a mesma tabela de Ingredientes de modo que não haja produtos que aparecem mais de uma vez. Para isso, junte os produtos que aparecem mais de uma vez na mesma receita e some as suas quantidades."
   ]
  },
  {
   "cell_type": "code",
   "execution_count": 6,
   "metadata": {},
   "outputs": [
    {
     "data": {
      "application/vnd.jupyter.widget-view+json": {
       "model_id": "737be214-89d2-4d5e-95fa-66c7267e2bf0",
       "version_major": 2,
       "version_minor": 0
      },
      "method": "display_data"
     },
     "metadata": {},
     "output_type": "display_data"
    }
   ],
   "source": [
    "SELECT CODIGO_RECEITA, CODIGO_PRODUTO, SUM(QUANTIDADE) QUANTIDADE\n",
    "FROM INGREDIENTE\n",
    "GROUP BY CODIGO_RECEITA, CODIGO_PRODUTO;"
   ]
  },
  {
   "cell_type": "markdown",
   "metadata": {},
   "source": [
    "## Questão 5\n",
    "Liste o nome dos Produtos que aparecem em mais de uma Receita."
   ]
  },
  {
   "cell_type": "code",
   "execution_count": 7,
   "metadata": {},
   "outputs": [
    {
     "data": {
      "application/vnd.jupyter.widget-view+json": {
       "model_id": "00775962-604d-4f8d-b3a2-7a4d1d690dd7",
       "version_major": 2,
       "version_minor": 0
      },
      "method": "display_data"
     },
     "metadata": {},
     "output_type": "display_data"
    }
   ],
   "source": [
    "SELECT P.nome_produto\n",
    "FROM PRODUTO P, INGREDIENTE I\n",
    "WHERE P.CODIGO_PRODUTO = I.CODIGO_PRODUTO\n",
    "GROUP BY I.CODIGO_PRODUTO\n",
    "HAVING COUNT(*) >= 2;"
   ]
  },
  {
   "cell_type": "markdown",
   "metadata": {},
   "source": [
    "## Questão 6\n",
    "\n",
    "A coluna `custo_total` de uma Receita deveria calculado pelo somatório do `custo_unitario` de cada ingrediente multiplicado pela sua quantidade na receita. Escreva para verificar se a coluna está correta. A consulta apresenta o nome de todas as receitas cujo custo_total não atende a este critério, seu custo presente na `coluna_total` e seu custo calculado a patir dos ingredientes.\n",
    "\n",
    "Tente fazer a questão diretamente. Se não conseguir, resolva o passo a passo a seguir (6.1 a 6.3)."
   ]
  },
  {
   "cell_type": "code",
   "execution_count": 8,
   "metadata": {},
   "outputs": [
    {
     "data": {
      "application/vnd.jupyter.widget-view+json": {
       "model_id": "fd2595d1-4069-4898-963f-4a2d1eb182e4",
       "version_major": 2,
       "version_minor": 0
      },
      "method": "display_data"
     },
     "metadata": {},
     "output_type": "display_data"
    }
   ],
   "source": [
    "SELECT R.NOME_RECEITA, R.CUSTO_TOTAL, SUM(I.quantidade * P.custo_unitario) CUSTO_CALCULADO\n",
    "FROM Receita R, Ingrediente I, Produto P\n",
    "WHERE R.CODIGO_RECEITA = I.CODIGO_RECEITA AND I.CODIGO_PRODUTO = P.CODIGO_PRODUTO\n",
    "GROUP BY I.CODIGO_RECEITA\n",
    "HAVING R.CUSTO_TOTAL <> CUSTO_CALCULADO;"
   ]
  },
  {
   "cell_type": "markdown",
   "metadata": {},
   "source": [
    "### Questão 6 - Passo 1\n",
    "Liste o nome de todas as receitas e o seu custo total (coluna `custo_total`)."
   ]
  },
  {
   "cell_type": "code",
   "execution_count": 9,
   "metadata": {},
   "outputs": [
    {
     "data": {
      "application/vnd.jupyter.widget-view+json": {
       "model_id": "d7898d31-26b3-4454-ae72-2bfa2e5cb86a",
       "version_major": 2,
       "version_minor": 0
      },
      "method": "display_data"
     },
     "metadata": {},
     "output_type": "display_data"
    }
   ],
   "source": [
    "SELECT R.NOME_RECEITA, R.CUSTO_TOTAL\n",
    "FROM RECEITA R;"
   ]
  },
  {
   "cell_type": "markdown",
   "metadata": {},
   "source": [
    "### Questão 6 - Passo 2\n",
    "Amplie a query do passo 1 acrescentando uma terceira coluna de custo calculado a partir dos ingredientes. Esse custo é calculado pelo somatório do custo de cada ingrediente multiplicado pela sua quantidade na receita."
   ]
  },
  {
   "cell_type": "code",
   "execution_count": 10,
   "metadata": {},
   "outputs": [
    {
     "data": {
      "application/vnd.jupyter.widget-view+json": {
       "model_id": "e8928197-cb7f-4961-93a0-326bebcf00ab",
       "version_major": 2,
       "version_minor": 0
      },
      "method": "display_data"
     },
     "metadata": {},
     "output_type": "display_data"
    }
   ],
   "source": [
    "SELECT R.NOME_RECEITA, R.CUSTO_TOTAL, SUM(I.quantidade * P.custo_unitario) CUSTO_CALCULADO\n",
    "FROM Receita R, Ingrediente I, Produto P\n",
    "WHERE R.CODIGO_RECEITA = I.CODIGO_RECEITA AND I.CODIGO_PRODUTO = P.CODIGO_PRODUTO\n",
    "GROUP BY I.CODIGO_RECEITA;"
   ]
  },
  {
   "cell_type": "markdown",
   "metadata": {},
   "source": [
    "### Questão 6 - Passo 3\n",
    "\n",
    "Apresente aquelas receitas em que o valor da coluna `custo_total` não corresponde ao custo calculado."
   ]
  },
  {
   "cell_type": "code",
   "execution_count": 11,
   "metadata": {},
   "outputs": [
    {
     "data": {
      "application/vnd.jupyter.widget-view+json": {
       "model_id": "7f70573c-9e7b-4648-ab75-8760fb0edbec",
       "version_major": 2,
       "version_minor": 0
      },
      "method": "display_data"
     },
     "metadata": {},
     "output_type": "display_data"
    }
   ],
   "source": [
    "SELECT R.NOME_RECEITA, R.CUSTO_TOTAL, SUM(I.quantidade * P.custo_unitario) CUSTO_CALCULADO\n",
    "FROM Receita R, Ingrediente I, Produto P\n",
    "WHERE R.CODIGO_RECEITA = I.CODIGO_RECEITA AND I.CODIGO_PRODUTO = P.CODIGO_PRODUTO\n",
    "GROUP BY I.CODIGO_RECEITA\n",
    "HAVING R.CUSTO_TOTAL <> CUSTO_CALCULADO;"
   ]
  },
  {
   "cell_type": "markdown",
   "metadata": {},
   "source": [
    "# Bloco de Questões sobre JOIN Explícito"
   ]
  },
  {
   "cell_type": "markdown",
   "metadata": {},
   "source": [
    "## Questão 2b\n",
    "\n",
    "Considerando a questão 2: liste o nome de todas as receitas e o nome dos ingredientes das receitas. Modifique-a de modo a apresentá-la com JOIN Explícito."
   ]
  },
  {
   "cell_type": "code",
   "execution_count": 12,
   "metadata": {},
   "outputs": [
    {
     "data": {
      "application/vnd.jupyter.widget-view+json": {
       "model_id": "b76103c7-010c-4319-9505-220d0fbbb721",
       "version_major": 2,
       "version_minor": 0
      },
      "method": "display_data"
     },
     "metadata": {},
     "output_type": "display_data"
    }
   ],
   "source": [
    "SELECT R.NOME_RECEITA, P.NOME_PRODUTO\n",
    "FROM Receita R JOIN Ingrediente I ON R.CODIGO_RECEITA = I.CODIGO_RECEITA\n",
    "               JOIN Produto P ON I.CODIGO_PRODUTO = P.CODIGO_PRODUTO;"
   ]
  }
 ],
 "metadata": {
  "kernelspec": {
   "display_name": "SQL",
   "language": "SQL",
   "name": "sql"
  },
  "language_info": {
   "codemirror_mode": "sql",
   "file_extension": ".sql",
   "mimetype": "",
   "name": "SQL",
   "nbconverter_exporter": "",
   "version": ""
  },
  "toc": {
   "base_numbering": 1,
   "nav_menu": {},
   "number_sections": false,
   "sideBar": false,
   "skip_h1_title": false,
   "title_cell": "Table of Contents",
   "title_sidebar": "Contents",
   "toc_cell": false,
   "toc_position": {},
   "toc_section_display": false,
   "toc_window_display": false
  }
 },
 "nbformat": 4,
 "nbformat_minor": 2
}
