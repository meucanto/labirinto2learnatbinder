{
 "cells": [
  {
   "cell_type": "code",
   "execution_count": 1,
   "metadata": {},
   "outputs": [],
   "source": [
    "%defaultDatasource jdbc:h2:mem:db"
   ]
  },
  {
   "cell_type": "markdown",
   "metadata": {},
   "source": [
    "# Navegando por Hierarquias\n",
    "\n",
    "A seguir exercícios envolvendo navegação por hierarquias."
   ]
  },
  {
   "cell_type": "markdown",
   "metadata": {},
   "source": [
    "# Marcadores e Taxonomia\n",
    "\n",
    "Considere o modelo de marcadores e taxonomia. Abaixo são apresentados modelos em Cypher e SQL.\n",
    "\n",
    "![UML](marcadores-taxonomia-uml.png) ![Relacional](marcadores-taxonomia-er.png)\n",
    "\n",
    "# Versão da hierarquia no Neo4J / Cypher\n",
    "\n",
    "Entre na sandbox do Cypher (https://neo4j.com/sandbox-v2/?ref=hcard#) e execute os comandos (um bloco por vez).\n",
    "\n",
    "## Criando um grafo de taxonomia e marcadores no Cypher\n",
    "\n",
    "```\n",
    "LOAD CSV WITH HEADERS FROM 'https://github.com/santanche/lab2learn/raw/master/data/bookmarks/taxonomia.csv' AS line\n",
    "CREATE (:Categoria {id: line.categoria})\n",
    "\n",
    "LOAD CSV WITH HEADERS FROM 'https://github.com/santanche/lab2learn/raw/master/data/bookmarks/taxonomia.csv' AS line\n",
    "MATCH (cat:Categoria {id:line.categoria})\n",
    "MATCH (sup:Categoria {id:line.superior})\n",
    "CREATE (cat)-[:Superior]->(sup)\n",
    "\n",
    "LOAD CSV WITH HEADERS FROM 'https://github.com/santanche/lab2learn/raw/master/data/bookmarks/marcadores.csv' AS line\n",
    "MATCH (cat:Categoria {id:line.categoria})\n",
    "CREATE (:Marcador {titulo:line.titulo,endereco:line.endereco,acessos:line.acessos})-[:Pertence]->(cat)\n",
    "\n",
    "MATCH (m:Marcador)\n",
    "MATCH (c:Categoria)\n",
    "RETURN m, c\n",
    "```\n",
    "\n",
    "## Exercício 1\n",
    "\n",
    "Escreva em Cypher uma consulta que retorne os marcadores da categoria Serviços.\n",
    "\n",
    "## Exercício 2\n",
    "\n",
    "Escreva um SQL aninhado para executar a mesma tarefa."
   ]
  },
  {
   "cell_type": "code",
   "execution_count": 2,
   "metadata": {},
   "outputs": [
    {
     "data": {
      "application/vnd.jupyter.widget-view+json": {
       "model_id": "f5caf08d-4b30-4020-9512-a895e0d9852b",
       "version_major": 2,
       "version_minor": 0
      },
      "method": "display_data"
     },
     "metadata": {},
     "output_type": "display_data"
    },
    {
     "data": {
      "application/vnd.jupyter.widget-view+json": {
       "model_id": "4541a607-93ae-46f0-8c34-c12ad5dd371f",
       "version_major": 2,
       "version_minor": 0
      },
      "method": "display_data"
     },
     "metadata": {},
     "output_type": "display_data"
    }
   ],
   "source": [
    "DROP TABLE IF EXISTS Taxonomia;\n",
    "DROP TABLE IF EXISTS Marcadores;\n",
    "\n",
    "CREATE TABLE Taxonomia (\n",
    "  Categoria VARCHAR(50) NOT NULL,\n",
    "  Superior  VARCHAR(50),\n",
    "  PRIMARY KEY(Categoria),\n",
    "  FOREIGN KEY(Superior)\n",
    "    REFERENCES Taxonomia(Categoria)\n",
    "      ON DELETE NO ACTION\n",
    "      ON UPDATE CASCADE\n",
    ");\n",
    "\n",
    "CREATE TABLE Marcadores (\n",
    "  Titulo VARCHAR(50) NOT NULL,\n",
    "  Endereco VARCHAR(80) NOT NULL,\n",
    "  Acessos INTEGER,\n",
    "  Categoria VARCHAR(50) NOT NULL,\n",
    "  PRIMARY KEY(Titulo),\n",
    "  FOREIGN KEY(Categoria)\n",
    "    REFERENCES Taxonomia(Categoria)\n",
    "      ON DELETE NO ACTION\n",
    "      ON UPDATE CASCADE\n",
    ");\n",
    "\n",
    "INSERT INTO Taxonomia VALUES ('Geral', NULL);\n",
    "INSERT INTO Taxonomia VALUES ('Serviços', 'Geral');\n",
    "INSERT INTO Taxonomia VALUES ('Acadêmico', 'Geral');\n",
    "INSERT INTO Taxonomia VALUES ('Relacionamento', 'Geral');\n",
    "INSERT INTO Taxonomia VALUES ('Busca', 'Serviços');\n",
    "INSERT INTO Taxonomia VALUES ('Portal', 'Serviços');\n",
    "INSERT INTO Taxonomia VALUES ('Mail', 'Serviços');\n",
    "INSERT INTO Taxonomia VALUES ('Vendas', 'Serviços');\n",
    "INSERT INTO Taxonomia VALUES ('Universidade', 'Acadêmico');\n",
    "INSERT INTO Taxonomia VALUES ('CG', 'Acadêmico');\n",
    "INSERT INTO Taxonomia VALUES ('Sociedade', 'Acadêmico');\n",
    "\n",
    "INSERT INTO Marcadores VALUES ('Terra', 'http://www.terra.com.br', 295, 'Portal');\n",
    "INSERT INTO Marcadores VALUES ('POVRay', 'http://www.povray.org', 2, 'CG');\n",
    "INSERT INTO Marcadores VALUES ('SBC', 'http://www.sbc.org.br', 26, 'Sociedade');\n",
    "INSERT INTO Marcadores VALUES ('Correios', 'http://www.correios.com.br', 45, 'Serviços');\n",
    "INSERT INTO Marcadores VALUES ('GMail', 'http://www.gmail.com', 296, 'Mail');\n",
    "INSERT INTO Marcadores VALUES ('Google', 'http://www.google.com', 1590, 'Busca');\n",
    "INSERT INTO Marcadores VALUES ('Yahoo', 'http://www.yahoo.com', 134, 'Serviços');\n",
    "INSERT INTO Marcadores VALUES ('Orkut', 'http://www.orkut.com', 45, 'Serviços');\n",
    "INSERT INTO Marcadores VALUES ('iBahia', 'http://www.ibahia.com', 3, 'Portal');\n",
    "INSERT INTO Marcadores VALUES ('Submarino', 'http://www.submarino.com.br', 320, 'Serviços');\n",
    "\n",
    "SELECT * FROM Taxonomia;\n",
    "SELECT * FROM Marcadores;"
   ]
  },
  {
   "cell_type": "markdown",
   "metadata": {},
   "source": [
    "## Versão Cypher\n",
    "```\n",
    "```"
   ]
  },
  {
   "cell_type": "code",
   "execution_count": 3,
   "metadata": {},
   "outputs": [],
   "source": [
    "// Versão SQL"
   ]
  },
  {
   "cell_type": "markdown",
   "metadata": {},
   "source": [
    "# Medicamentos\n",
    "\n",
    "Considere os medicamentos a seguir, suas indicações, patologias, efeitos colaterais e hierarquia de medicamentos.\n",
    "\n",
    "A seguir há o modelo em Cypher e SQL dos mesmos.\n",
    "\n",
    "## Exercício 3\n",
    "\n",
    "Proponha uma consulta em Cypher que explore a relação entre medicamentos x efeitos colaterais x hierarquia de medicamentos (tam.\n",
    "É possível executar esta consulta em SQL? Qual a dificuldade (opcional: escreva a consulta em SQL)\n",
    "\n",
    "```\n",
    "LOAD CSV WITH HEADERS FROM 'https://github.com/santanche/lab2learn/raw/master/data/faers-2017-dron/drug.csv' AS line\n",
    "CREATE (:Drug {code: line.code, name: line.name})\n",
    "\n",
    "LOAD CSV WITH HEADERS FROM 'https://github.com/santanche/lab2learn/raw/master/data/faers-2017-dron/drughierarchy.csv' AS line\n",
    "MATCH (codedrug:Drug {code:line.codedrug})\n",
    "MATCH (parent:Drug {code:line.parent})\n",
    "CREATE (codedrug)-[:IsA]->(parent)\n",
    "\n",
    "MATCH path=(:Drug {name: \"VITAMIN D\"})-[:IsA*]->(:Drug {name: \"THING\"})\n",
    "RETURN path\n",
    "```"
   ]
  },
  {
   "cell_type": "code",
   "execution_count": 4,
   "metadata": {},
   "outputs": [
    {
     "data": {
      "application/vnd.jupyter.widget-view+json": {
       "model_id": "f8f17f90-6250-4659-b64c-2aeef4d9c195",
       "version_major": 2,
       "version_minor": 0
      },
      "method": "display_data"
     },
     "metadata": {},
     "output_type": "display_data"
    },
    {
     "data": {
      "application/vnd.jupyter.widget-view+json": {
       "model_id": "a15ff6ae-c1e4-4633-a30d-5e810ef9f750",
       "version_major": 2,
       "version_minor": 0
      },
      "method": "display_data"
     },
     "metadata": {},
     "output_type": "display_data"
    },
    {
     "data": {
      "application/vnd.jupyter.widget-view+json": {
       "model_id": "f7a4bb06-af2e-4f10-86e8-095d56c6f4db",
       "version_major": 2,
       "version_minor": 0
      },
      "method": "display_data"
     },
     "metadata": {},
     "output_type": "display_data"
    },
    {
     "data": {
      "application/vnd.jupyter.widget-view+json": {
       "model_id": "246670b9-9ec6-44fd-b448-91a62b3bef5c",
       "version_major": 2,
       "version_minor": 0
      },
      "method": "display_data"
     },
     "metadata": {},
     "output_type": "display_data"
    },
    {
     "data": {
      "application/vnd.jupyter.widget-view+json": {
       "model_id": "9dcc69a6-3001-49af-aadd-dab3e4cff497",
       "version_major": 2,
       "version_minor": 0
      },
      "method": "display_data"
     },
     "metadata": {},
     "output_type": "display_data"
    },
    {
     "data": {
      "application/vnd.jupyter.widget-view+json": {
       "model_id": "d3416e68-1d9a-43a8-899e-b32a0ee9ed20",
       "version_major": 2,
       "version_minor": 0
      },
      "method": "display_data"
     },
     "metadata": {},
     "output_type": "display_data"
    }
   ],
   "source": [
    "DROP TABLE IF EXISTS Drug;\n",
    "DROP TABLE IF EXISTS Pathology;\n",
    "DROP TABLE IF EXISTS Indication;\n",
    "DROP TABLE IF EXISTS Person;\n",
    "DROP TABLE IF EXISTS SideEffect;\n",
    "DROP TABLE IF EXISTS DrugHierarchy;\n",
    "\n",
    "CREATE TABLE Person(\n",
    "    id INT NOT NULL,\n",
    "    age INT,\n",
    "    sex VARCHAR(1),\n",
    "    PRIMARY KEY(Id)\n",
    ") AS SELECT id, age, sex\n",
    "FROM CSVREAD('../../data/faers-2017-dron/demo.csv');\n",
    "\n",
    "CREATE TABLE Drug(\n",
    "  code VARCHAR(200) NOT NULL,\n",
    "  name VARCHAR(200) NOT NULL,\n",
    "  PRIMARY KEY(code)\n",
    ") AS SELECT code, name\n",
    "FROM CSVREAD('../../data/faers-2017-dron/drug.csv');\n",
    "\n",
    "CREATE TABLE Pathology(\n",
    "  code INT NOT NULL,\n",
    "  name VARCHAR(200) NOT NULL,\n",
    "  PRIMARY KEY(code)\n",
    ") AS SELECT code, name\n",
    "FROM CSVREAD('../../data/faers-2017-dron/pathology.csv');\n",
    "\n",
    "CREATE TABLE Indication(\n",
    "  idPerson INT NOT NULL,\n",
    "  codePathology INT NOT NULL,\n",
    "  codeDrug VARCHAR(200) NOT NULL,\n",
    "  FOREIGN KEY(idPerson)\n",
    "    REFERENCES Person(id)\n",
    "      ON DELETE NO ACTION\n",
    "      ON UPDATE NO ACTION,\n",
    "  FOREIGN KEY(codePathology)\n",
    "    REFERENCES Pathology(code)\n",
    "      ON DELETE NO ACTION\n",
    "      ON UPDATE NO ACTION,\n",
    "  FOREIGN KEY(codeDrug)\n",
    "    REFERENCES Drug(code)\n",
    "      ON DELETE NO ACTION\n",
    "      ON UPDATE NO ACTION,\n",
    ") AS SELECT idperson, codepathology, codedrug\n",
    "FROM CSVREAD('../../data/faers-2017-dron/indication.csv');\n",
    "\n",
    "CREATE TABLE SideEffect(\n",
    "  idPerson INT NOT NULL,\n",
    "  codePathology INT NOT NULL,\n",
    "  FOREIGN KEY(idPerson)\n",
    "    REFERENCES Person(id)\n",
    "      ON DELETE NO ACTION\n",
    "      ON UPDATE NO ACTION,\n",
    "  FOREIGN KEY(codePathology)\n",
    "    REFERENCES Pathology(code)\n",
    "      ON DELETE NO ACTION\n",
    "      ON UPDATE NO ACTION\n",
    ") AS SELECT idperson, codepathology\n",
    "FROM CSVREAD('../../data/faers-2017-dron/sideeffect.csv');\n",
    "\n",
    "CREATE TABLE DrugHierarchy(\n",
    "  codeDrug VARCHAR(200) NOT NULL,\n",
    "  parent VARCHAR(200),\n",
    "  FOREIGN KEY(codeDrug)\n",
    "    REFERENCES Drug(code)\n",
    "      ON DELETE NO ACTION\n",
    "      ON UPDATE NO ACTION,\n",
    "  FOREIGN KEY(parent)\n",
    "    REFERENCES Drug(code)\n",
    "      ON DELETE NO ACTION\n",
    "      ON UPDATE NO ACTION\n",
    ") AS SELECT codedrug, parent\n",
    "FROM CSVREAD('../../data/faers-2017-dron/drughierarchy.csv');\n",
    "\n",
    "SELECT * FROM Drug;\n",
    "SELECT * FROM Pathology;\n",
    "SELECT * FROM Indication;\n",
    "SELECT * FROM Person;\n",
    "SELECT * FROM SideEffect;\n",
    "SELECT * FROM DrugHierarchy;"
   ]
  }
 ],
 "metadata": {
  "kernelspec": {
   "display_name": "SQL",
   "language": "SQL",
   "name": "sql"
  },
  "language_info": {
   "codemirror_mode": "sql",
   "file_extension": ".sql",
   "mimetype": "",
   "name": "SQL",
   "nbconverter_exporter": "",
   "version": ""
  }
 },
 "nbformat": 4,
 "nbformat_minor": 2
}
