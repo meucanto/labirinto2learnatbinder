{
 "cells": [
  {
   "cell_type": "markdown",
   "metadata": {},
   "source": [
    "# IR in the Richard Cabot book\n",
    "\n",
    "Case teaching in medicine; by Cabot, Richard C. (Richard Clarke), 1868-1939.\n",
    "\n",
    "Accessing Solr via [pysolr]()"
   ]
  },
  {
   "cell_type": "markdown",
   "metadata": {},
   "source": [
    "## Downloading, unziping and starting Solr in cluster mode"
   ]
  },
  {
   "cell_type": "code",
   "execution_count": 3,
   "metadata": {},
   "outputs": [
    {
     "name": "stdout",
     "output_type": "stream",
     "text": [
      "Waiting up to 180 seconds to see Solr running on port 8983 [|] [/] [-] [\\] [|] [/] [-] [\\] [|] [/] [-] [\\] [|] [/] [-] [\\] [|] [/] [-] [\\] [|] [/] [-] [\\]  \n",
      "Started Solr server on port 8983 (pid=159). Happy searching!\n",
      "\n",
      "  "
     ]
    }
   ],
   "source": [
    "! wget http://ftp.unicamp.br/pub/apache/lucene/solr/8.2.0/solr-8.2.0.zip -q\n",
    "! unzip -qq solr-8.2.0.zip && rm solr-8.2.0.zip\n",
    "! ./solr-8.2.0/bin/solr start -c"
   ]
  },
  {
   "cell_type": "markdown",
   "metadata": {},
   "source": [
    "## Creating a collection"
   ]
  },
  {
   "cell_type": "code",
   "execution_count": 4,
   "metadata": {},
   "outputs": [
    {
     "name": "stdout",
     "output_type": "stream",
     "text": [
      "WARNING: Using _default configset with data driven schema functionality. NOT RECOMMENDED for production use.\n",
      "         To turn off: bin/solr config -c cabot -p 8983 -action set-user-property -property update.autoCreateFields -value false\n",
      "Created collection 'cabot' with 1 shard(s), 1 replica(s) with config-set 'cabot'\n"
     ]
    }
   ],
   "source": [
    "! ./solr-8.2.0/bin/solr create -c cabot -p 8983"
   ]
  },
  {
   "cell_type": "markdown",
   "metadata": {},
   "source": [
    "## Connecting to the Solr server"
   ]
  },
  {
   "cell_type": "code",
   "execution_count": 5,
   "metadata": {},
   "outputs": [],
   "source": [
    "import pysolr\n",
    "solr_server_url = 'http://localhost:8983/solr/'\n",
    "solr_collection = \"cabot\"\n",
    "solr = pysolr.Solr(solr_server_url + solr_collection)"
   ]
  },
  {
   "cell_type": "markdown",
   "metadata": {},
   "source": [
    "## Loading the CSV via Pandas"
   ]
  },
  {
   "cell_type": "code",
   "execution_count": 6,
   "metadata": {},
   "outputs": [
    {
     "data": {
      "text/html": [
       "<div>\n",
       "<style scoped>\n",
       "    .dataframe tbody tr th:only-of-type {\n",
       "        vertical-align: middle;\n",
       "    }\n",
       "\n",
       "    .dataframe tbody tr th {\n",
       "        vertical-align: top;\n",
       "    }\n",
       "\n",
       "    .dataframe thead th {\n",
       "        text-align: right;\n",
       "    }\n",
       "</style>\n",
       "<table border=\"1\" class=\"dataframe\">\n",
       "  <thead>\n",
       "    <tr style=\"text-align: right;\">\n",
       "      <th></th>\n",
       "      <th>case</th>\n",
       "    </tr>\n",
       "  </thead>\n",
       "  <tbody>\n",
       "    <tr>\n",
       "      <th>0</th>\n",
       "      <td>CASE 1\\n\\nA liquor dealer, 47 years old, is se...</td>\n",
       "    </tr>\n",
       "    <tr>\n",
       "      <th>1</th>\n",
       "      <td>CASE 2\\n\\nA fireman of 26 w&amp;s exercising engin...</td>\n",
       "    </tr>\n",
       "    <tr>\n",
       "      <th>2</th>\n",
       "      <td>CASE 3\\n\\nA medical s,tudent of 25 has been tr...</td>\n",
       "    </tr>\n",
       "    <tr>\n",
       "      <th>3</th>\n",
       "      <td>CASE 4 \\n\\nA married woman, 43 years old, is s...</td>\n",
       "    </tr>\n",
       "    <tr>\n",
       "      <th>4</th>\n",
       "      <td>CASE 5 \\n\\nA vigorous man of 62 comee of a gou...</td>\n",
       "    </tr>\n",
       "    <tr>\n",
       "      <th>5</th>\n",
       "      <td>CASE 6 \\n\\nA child, 7 years of age, of healthy...</td>\n",
       "    </tr>\n",
       "    <tr>\n",
       "      <th>6</th>\n",
       "      <td>CASE 7 \\n\\nA married woman of 50, has had thre...</td>\n",
       "    </tr>\n",
       "    <tr>\n",
       "      <th>7</th>\n",
       "      <td>CASE 8 \\n\\nA coachman, 42 years old, of good f...</td>\n",
       "    </tr>\n",
       "    <tr>\n",
       "      <th>8</th>\n",
       "      <td>CASE 9 \\n\\nJ. B., male, aged 32 (occupation, c...</td>\n",
       "    </tr>\n",
       "    <tr>\n",
       "      <th>9</th>\n",
       "      <td>CASE 10 \\n\\nThe patient is a contractor of 50....</td>\n",
       "    </tr>\n",
       "    <tr>\n",
       "      <th>10</th>\n",
       "      <td>CASE 11 \\n\\nA female domestic, 29 years old, s...</td>\n",
       "    </tr>\n",
       "    <tr>\n",
       "      <th>11</th>\n",
       "      <td>CASE 12 \\n\\nA Bchool-teacher, single, 24 years...</td>\n",
       "    </tr>\n",
       "    <tr>\n",
       "      <th>12</th>\n",
       "      <td>CASE 13 \\n\\nA factory overseer of 63 had long ...</td>\n",
       "    </tr>\n",
       "    <tr>\n",
       "      <th>13</th>\n",
       "      <td>CASE 14 \\n\\nJ. S-i aged 40 years, a merchant, ...</td>\n",
       "    </tr>\n",
       "    <tr>\n",
       "      <th>14</th>\n",
       "      <td>CASE 15\\n\\nA paper hanger, 45 years old, is se...</td>\n",
       "    </tr>\n",
       "    <tr>\n",
       "      <th>15</th>\n",
       "      <td>CASE 16 \\n\\nA clergyman, 60 yeara o)d, gave th...</td>\n",
       "    </tr>\n",
       "    <tr>\n",
       "      <th>16</th>\n",
       "      <td>CASE 17 \\n\\nA manufacturer, of 64, of good inh...</td>\n",
       "    </tr>\n",
       "    <tr>\n",
       "      <th>17</th>\n",
       "      <td>CASE 18 \\n\\nMrs, J., 65, an active, spare, ene...</td>\n",
       "    </tr>\n",
       "    <tr>\n",
       "      <th>18</th>\n",
       "      <td>CASE 19 \\n\\nA middle-aged man was Been writhin...</td>\n",
       "    </tr>\n",
       "    <tr>\n",
       "      <th>19</th>\n",
       "      <td>CASE 20 \\n\\nA married womac, aged 27, is seen ...</td>\n",
       "    </tr>\n",
       "    <tr>\n",
       "      <th>20</th>\n",
       "      <td>CASE 21 \\n\\nA painter, 23 years old. Family hi...</td>\n",
       "    </tr>\n",
       "    <tr>\n",
       "      <th>21</th>\n",
       "      <td>CASE 22 \\n\\nA lawyer, aged 68, has always wori...</td>\n",
       "    </tr>\n",
       "    <tr>\n",
       "      <th>22</th>\n",
       "      <td>CASE 23 \\n\\nMan, 50 years old, a hard drinker,...</td>\n",
       "    </tr>\n",
       "    <tr>\n",
       "      <th>23</th>\n",
       "      <td>CASE 24\\n\\nA tall boy of 19 is brought to the ...</td>\n",
       "    </tr>\n",
       "    <tr>\n",
       "      <th>24</th>\n",
       "      <td>CASE 25 \\n\\nA lawyer of 47, of good family his...</td>\n",
       "    </tr>\n",
       "    <tr>\n",
       "      <th>25</th>\n",
       "      <td>CASE 26 \\n\\nA boy, 14 years old, of gouty fami...</td>\n",
       "    </tr>\n",
       "    <tr>\n",
       "      <th>26</th>\n",
       "      <td>CASE 27 \\n\\nYoung salesman, always well till p...</td>\n",
       "    </tr>\n",
       "    <tr>\n",
       "      <th>27</th>\n",
       "      <td>CASE 28 \\n\\nA broker of 26, moderately alcohol...</td>\n",
       "    </tr>\n",
       "    <tr>\n",
       "      <th>28</th>\n",
       "      <td>CASE 29 \\n\\nPatient a man 55 years old; rather...</td>\n",
       "    </tr>\n",
       "    <tr>\n",
       "      <th>29</th>\n",
       "      <td>CASE 30 \\n\\nA. R,, aged 50, waa seen June 3, H...</td>\n",
       "    </tr>\n",
       "    <tr>\n",
       "      <th>...</th>\n",
       "      <td>...</td>\n",
       "    </tr>\n",
       "    <tr>\n",
       "      <th>48</th>\n",
       "      <td>CASE 49 \\n\\nA shoemaker of 24, who haa previou...</td>\n",
       "    </tr>\n",
       "    <tr>\n",
       "      <th>49</th>\n",
       "      <td>CASE 50 \\n\\nA married lady, childless, 55 year...</td>\n",
       "    </tr>\n",
       "    <tr>\n",
       "      <th>50</th>\n",
       "      <td>CASE 51 \\n\\nA bank president, 74 years old, of...</td>\n",
       "    </tr>\n",
       "    <tr>\n",
       "      <th>51</th>\n",
       "      <td>CASE 52 \\n\\nA well-developed and fairly well-n...</td>\n",
       "    </tr>\n",
       "    <tr>\n",
       "      <th>52</th>\n",
       "      <td>CASE 53 \\n\\nSingle Iftdy, 57 years old, always...</td>\n",
       "    </tr>\n",
       "    <tr>\n",
       "      <th>53</th>\n",
       "      <td>CASE 54 \\n\\nA sailor, 39 years old, is seen on...</td>\n",
       "    </tr>\n",
       "    <tr>\n",
       "      <th>54</th>\n",
       "      <td>CASE 55 \\n\\nA woman of 41, with good family hi...</td>\n",
       "    </tr>\n",
       "    <tr>\n",
       "      <th>55</th>\n",
       "      <td>CASE 56 \\n\\nA clerk, married, twenty-four, i9 ...</td>\n",
       "    </tr>\n",
       "    <tr>\n",
       "      <th>56</th>\n",
       "      <td>CASE 57 \\n\\nAn electrician, 31 years old, of g...</td>\n",
       "    </tr>\n",
       "    <tr>\n",
       "      <th>57</th>\n",
       "      <td>CASE 58 \\n\\nA plumber of 40, of good family an...</td>\n",
       "    </tr>\n",
       "    <tr>\n",
       "      <th>58</th>\n",
       "      <td>CASE 59 \\n\\nA business man, 58, with good fami...</td>\n",
       "    </tr>\n",
       "    <tr>\n",
       "      <th>59</th>\n",
       "      <td>CASE 60 \\n\\nP. J, G., 20 years old, a piano va...</td>\n",
       "    </tr>\n",
       "    <tr>\n",
       "      <th>60</th>\n",
       "      <td>CASE 61 \\n\\nFebruary 16 a lady of 30, married ...</td>\n",
       "    </tr>\n",
       "    <tr>\n",
       "      <th>61</th>\n",
       "      <td>CASE 62 \\n\\nA cigarmaker, 51 years of age, is ...</td>\n",
       "    </tr>\n",
       "    <tr>\n",
       "      <th>62</th>\n",
       "      <td>CASE 63 \\n\\nA physician, 51 yeais old, is seen...</td>\n",
       "    </tr>\n",
       "    <tr>\n",
       "      <th>63</th>\n",
       "      <td>CASE 64 \\n\\nA Degress of 67 has had \"falling o...</td>\n",
       "    </tr>\n",
       "    <tr>\n",
       "      <th>64</th>\n",
       "      <td>CASE 65 \\n\\nA laborer of 29 was seen March 5. ...</td>\n",
       "    </tr>\n",
       "    <tr>\n",
       "      <th>65</th>\n",
       "      <td>CASE 66 \\n\\nA prominent manufacturer, 62, of g...</td>\n",
       "    </tr>\n",
       "    <tr>\n",
       "      <th>66</th>\n",
       "      <td>CASE 67 \\n\\nA gentlenmD of 82 is seen April 17...</td>\n",
       "    </tr>\n",
       "    <tr>\n",
       "      <th>67</th>\n",
       "      <td>CASE 68 \\n\\nA young married woman of 21 had an...</td>\n",
       "    </tr>\n",
       "    <tr>\n",
       "      <th>68</th>\n",
       "      <td>CASE 69 \\n\\nMan, 66 years old, has had for fif...</td>\n",
       "    </tr>\n",
       "    <tr>\n",
       "      <th>69</th>\n",
       "      <td>CASE 70 \\n\\nA girl of 19 is seen May 26. Her m...</td>\n",
       "    </tr>\n",
       "    <tr>\n",
       "      <th>70</th>\n",
       "      <td>CASE 71 \\n\\nA coachman of 45, of a very neurot...</td>\n",
       "    </tr>\n",
       "    <tr>\n",
       "      <th>71</th>\n",
       "      <td>CASE 72 \\n\\nA single man, 37, in business, six...</td>\n",
       "    </tr>\n",
       "    <tr>\n",
       "      <th>72</th>\n",
       "      <td>CASE 73 \\n\\nJuly 20, 1905, a girl of 16, previ...</td>\n",
       "    </tr>\n",
       "    <tr>\n",
       "      <th>73</th>\n",
       "      <td>CASE 74 \\n\\nA lithuanian teamster, 48, entered...</td>\n",
       "    </tr>\n",
       "    <tr>\n",
       "      <th>74</th>\n",
       "      <td>CASE 75 \\n\\nMrs. M., 51, is seen August 9, 190...</td>\n",
       "    </tr>\n",
       "    <tr>\n",
       "      <th>75</th>\n",
       "      <td>CASE 76 \\n\\nMr. v., a theatre usher of 47, unm...</td>\n",
       "    </tr>\n",
       "    <tr>\n",
       "      <th>76</th>\n",
       "      <td>CASE 77 \\n\\nCalled to see a young girl of 21, ...</td>\n",
       "    </tr>\n",
       "    <tr>\n",
       "      <th>77</th>\n",
       "      <td>CASE 78 \\n\\nFireman, 57 years old, had scarlet...</td>\n",
       "    </tr>\n",
       "  </tbody>\n",
       "</table>\n",
       "<p>78 rows × 1 columns</p>\n",
       "</div>"
      ],
      "text/plain": [
       "                                                 case\n",
       "0   CASE 1\\n\\nA liquor dealer, 47 years old, is se...\n",
       "1   CASE 2\\n\\nA fireman of 26 w&s exercising engin...\n",
       "2   CASE 3\\n\\nA medical s,tudent of 25 has been tr...\n",
       "3   CASE 4 \\n\\nA married woman, 43 years old, is s...\n",
       "4   CASE 5 \\n\\nA vigorous man of 62 comee of a gou...\n",
       "..                                                ...\n",
       "73  CASE 74 \\n\\nA lithuanian teamster, 48, entered...\n",
       "74  CASE 75 \\n\\nMrs. M., 51, is seen August 9, 190...\n",
       "75  CASE 76 \\n\\nMr. v., a theatre usher of 47, unm...\n",
       "76  CASE 77 \\n\\nCalled to see a young girl of 21, ...\n",
       "77  CASE 78 \\n\\nFireman, 57 years old, had scarlet...\n",
       "\n",
       "[78 rows x 1 columns]"
      ]
     },
     "execution_count": 6,
     "metadata": {},
     "output_type": "execute_result"
    }
   ],
   "source": [
    "import pandas as pd\n",
    "cabot_book = pd.read_csv(\"../../data/case-teaching-cabot/case-teaching-cabot.csv\")\n",
    "cabot_book"
   ]
  },
  {
   "cell_type": "markdown",
   "metadata": {},
   "source": [
    "## Transferring CSV to Solr"
   ]
  },
  {
   "cell_type": "code",
   "execution_count": 7,
   "metadata": {},
   "outputs": [],
   "source": [
    "for index, row in cabot_book.iterrows():\n",
    "    solr.add([{\n",
    "                \"id\": index+1,\n",
    "                \"case\": row['case']\n",
    "              }], commit=True)"
   ]
  },
  {
   "cell_type": "markdown",
   "metadata": {},
   "source": [
    "# Querying in Solr\n",
    "\n",
    "The queries below follow the syntax described in: [Lucene Query Syntax](http://www.solrtutorial.com/solr-query-syntax.html).\n",
    "\n",
    "## Searching CASE 53"
   ]
  },
  {
   "cell_type": "code",
   "execution_count": 10,
   "metadata": {},
   "outputs": [
    {
     "name": "stdout",
     "output_type": "stream",
     "text": [
      "Found 1 documents\n",
      "[\"CASE 53 \\n\\nSingle Iftdy, 57 years old, always more or less of a nervoua invalid, \\nconsults a physician for palpitation and dyspncea on exertion. The \\nmenopause occurred five years ago, and since then she has been getting \\nvery stout and disinclined to exertion. She is thirsty and her skin is \\ndry and perspires very little. Of late, the feet have been swelling and \\nher face seems puffy all the time, not especially under the eyes. She \\nis troubled a great deal with headaches, worse, at night, and her hair has \\nbeen coming out of late. No sore throat, but the shin bones are tender \\nand the tissues over them pit slightly on pressure. The bowels are very \\ncostive, appetite capricious, sleep disturbed by headache. Her mem- \\nory is very poor and she takes little interest in anything. \\n\\nPhysical Examination: Heart's area cannot be marked out on ac- \\ncount of the great thickness of the fat layer. The apex is not seen \\nor felt; best heard in sixth space, one inch outside nipple. Sounds \\nheard feebly, action irregular. Pulmonic second sound accentuated; \\nno murmur. Lungs and abdomen negative. Temperature 97.8°, \\npulse 100. Urine 1018, acid, large trace of albumen, ho sugar. Amount \\ntwo quarts. Sediment: hyaline, granular casts, small diameter, some \\nwith cells adherent. Blood: Red 6,000,000; white 12,000. CEdema of \\nankles. Hands and feet cold. \\n\\n1. Cause of feeble heart sounds in this case? The thick fat I&yer. \\n\\n2. What are the common causes of teademess over the shins? (Edema, periostjtia. \\n\\n3. Why is the number of red cells bo large? This number is oftea found in periect \\n\\nhealth. Here it ia probably due to weak circulation and peripheral stasis. \\n\\n4. What causes of headache are common at 577 Arierio-BclepOBia, urtemia. \\n\\nfi. What further teats ate important for diagnosis? Measuteraent of the day and \\nthe night urine. The effects of thyroid extract. \\n\\n6. Diagnosis? Prognosis? Treatment? \\n\\nDiagnosis: (a) Obesity and its results, (6) arterio-eclerosb with involution \\npsychosis, and (c) myxtedema, should be considered. Neither of the first two \\noft«n produces dry skin or loss of hair. In favor of myxtedenia are the age \\nand sex, the cutaneous, facial, and mental changes, and the sub-normal tem- \\nperature.' The administration of thyroid extract was followed by a rapid and \\npermanent amelioration of all the symptoms (including those referable to the \\nheart and kidney), and the diagnosis of myxoedema was thus confirmed. \\nPrognosis: In most cases the symptoms can be permanently checked by the \\ncontinued use of thyroid extract; occasionally it is difficult rightly to gauge \\nthe dose, and a few patients do not at first bear the drug well. \\nTreatment: The thyroid preparations furnished by any of the leading pharma- \\nceutical firms are usually satisfactory. Beginning with two grains twice \\na day, the dose should be gradually increased until fifteen grains a day are \\ntaken. If at any time the pulse rises more than ten beats above its normal \\nlevel, the drug should be stopped until the rate becomes normal again. If \\nthis precaution is observed no serious symptoms of thyroidiam will occur. \\nIn the earlier stages of treatment, loss of weight is rapid and laudable. \"] \n",
      "\n"
     ]
    }
   ],
   "source": [
    "results = solr.search('case:\"CASE 53\"')\n",
    "\n",
    "print(\"Found {0} documents\".format(len(results)))\n",
    "\n",
    "for result in results:\n",
    "    print(result['case'], \"\\n\")"
   ]
  },
  {
   "cell_type": "markdown",
   "metadata": {},
   "source": [
    "## Documents about `arterio sclerosis`"
   ]
  },
  {
   "cell_type": "code",
   "execution_count": 11,
   "metadata": {},
   "outputs": [
    {
     "name": "stdout",
     "output_type": "stream",
     "text": [
      "Found 4 documents\n",
      "['CASE 29 \\n\\nPatient a man 55 years old; rather fat; subject to frequent attacks \\nof winter cough, with aathmatic tendency. For seven years the heart \\nhad been noticeably weak and irregular. Puke SO; first sound valvu- \\nlar. Apex beat art inch and a half directly below left nipple; no \\nmurmurs. No previous rheumatism. Several years ago there was \\nsudden and complete loss of memory, the same questions being re- \\npeated as soon as answered. The expression was at the time rather \\nvacant; the pupils were equal and responded to light; there was no \\nmotor paralysis. The amnesia lasted all day, disappearing the follow- \\ning morning. The pulse remained 50 for two days. The patient had \\nbeen previously very anffimic, and had had much fatigue and anxiety, \\nwith digestive disturbance. The urine always remained normal. In \\nthe following years there were occasional attacks of transient numbness \\nin the left arm and leg, and sometimes faint turns with pallor and \\nirregular, feeble pusle. Headache was a frequent symptom; dyspncea \\non exertion, impaired appetite, and insomnia were constant. There \\nwas no apparent loss of flesh. In 1897 life was endangered for two \\nweeks by cedema of both lungs, supervening on an attack of bronchitis. \\nIn the subsequent years the condition improved somewhat, so that the \\npatient could walk half a mile or more and was able to attend to con- \\nsiderable business. In autumn of 1904, be had several attacks of bron- \\nchitis, and, finally, an attack of complete hemiplegia resulted fatally \\nin twenty-four hours without recovery of consciousness. Respiration \\nwas of the Cheyne-Stokes type, and later stertorous. \\n\\n1. Significajice of etertoroiu reepiratioD? Any deep coma (even deep, healthy \\n\\nsleep) may produce it. \\n\\n2. What is meant by an aathmatic tendency — t\\'.e., on what physical signs should \\n\\nsuch a diagnosis be based? Squeaking and groaning rales present on slight \\nexertion or excitement, with or without typical asthmatic paroxysms at long \\nintervaJs. \\n\\n3. What are the relations ot bronchitis and other pulmonary lesions to disease of the \\n\\nheart? (a) Chronic bronchitis may lead to emphysema, and this to hyper- \\ntrophy, dilatation and weakening of the right ventricle with tricuspid leakage. \\n(j>} Mitral disease may favor the occurrence of bronchitis and pneumonia of \\nvarious types. Intracardiac thrombosis, occurring in weakened conditions \\nof the heart from valvular or myocardial disease, may result in pulmonary \\nembolism. Septic or bland emboli are occasionally washed into the lungs \\nfrom vegetations on the tricuspid valve. The rare lesions of the puhnonary \\nvalves involve malnutrition of the lungs and (in one case known to me) fre- \\nquent attacks of pneumonia. Phthisis and endocarditis rarely coexist. \\n\\n4. Diagnosis and Treatment? \\n\\nDiagnosis: The brain and heart seem to be the organs chiefly affected. In a man \\nof 65, weak, irregular heart and pulse, with dyspncea on exertion, but \\nwithout murmuis, are usually expUiued as reeulta of coronair sclerosia and \\nmjrocarditis. The \"aathmatic tendency,\" obetructii^ the puhnaiiBii7 circu- \\nlation and so increasing the work of the right ventricle, probably contribut«d \\nto weaken the heart. The acme of cardiac weakness (Miused the pulmonary \\noedema in 1897. The amneaia with bradycardia, the hemipartestheuie and faint \\nturns, and the tenninal coma of hemipl^pa, are results of cerebral arterio- \\nsclerosis with final hemorrhage. No other diagnosis is plausible, provided \\nthe urine remained normal and provided syphilis can tie excluded. \\nTreatment: The advance of arterio-sclerosis can perhaps be checked if life is \\nlived at a slower pace, avoiding strains of all kinds and following strictly the \\nlaws of hygiene. Small doses of KI and of nitroglycerine are pven by most \\ngood piuctititners for long periods.'] \n",
      "\n",
      "['CASE 66 \\n\\nA prominent manufacturer, 62, of good habits and family history. \\nNever previously sick. Has been much confined for a year and weight \\nhas increased from 164 to 174 lbs. Was seen February 15. \\n\\nShortly before Christmas he noticed shortness of breath on walking. \\nHis urine at that time was pronounced negative. The dyspnoea on \\nexertion got no better and substernal pain extending over the arms was \\nsoon superadded. This pain was not veiy severe, and came on only \\nduring exertion. About two weeks ago, after a hearty, rapid, and \\nrather indigestible mid-day dinner, he was taken at his mill, without \\nantecedent exertion, with a very severe attack of pain as above de- \\nscribed. When his physician reached him he was in a cold sweat and \\nseemed alarmingly ill. Pulse 80, regular. After two hours he was \\ndriven home four miles, arriving with pulse at 80 and temperature at \\n97.5°, The next day the pulse was 100, temperature 100°, rising to 120 \\nand 102° the next day. There was bloody expectoration, with signs \\nof consolidation at the right posterior base. For the past week the pulse \\nand temperature have been normal. When seen February 15 he stated \\nthat he felt perfectly well. He looked rather pale, lay in bed with his \\nhead low, breathing easily, not cyanotic. The pulse 80, intermitted \\noccasionally. The artery was soft, tension not high. No cedema. The \\nheart was not enlarged; sounds clear. A few rales without dulness \\nover the left posterior base. Percussion was dull with resistance an \\ninch below the right costal border, but the liver edge could not be felt. \\nThe urine, 52 to 54 oz. per diem, contained a decided trace of albumen \\nand a few hyaline casts, sp. gr. 1020, urea 2%. \\n\\n1. What diseases increase weight? Obesity, cardiac and renal disease, myxoedema. \\n\\n2. Causes of bloody expectoration? PhthisiB, pneumonia, infarction of the lung \\n\\ndue to congestion (as in mitral disease or from embolism), pulmonary abscess \\nor gangrene, wounds or malignant disease of the lung, ruptured esophageal \\nvarices (in cirrhotic liver), leaking aneurism, \\n\\n3. IMagnosis? Prognoais? Treatment? \\n\\nDiagnosis: In a man of 62 dyspncea and substernal pain produced by exertion, \\nextending to the arms and relieved by stopping, are-symptoms almost patho^ \\nnomic of coronary sclerosis with angina pectoris. The pain of aneurism is \\nsomewhat similar, but has not the close dependence on exertion. The severe \\nattack two weeks ago seems to have ended in pulmonary congestion and \\nhypostatic pneumonia. The examination of February 15 adds only the \\nevidence of an arterio-sclerotic kidney. It is surprising that arterial tension \\nappears low. Was the aortic second accentuated? \\n\\nPrognosis: With great care such cases may live many yeara, but any exertion \\nor excitement may prove fatal and the advance of the arterio-sclerosis lesions \\nin heart, brain, or kidney may kill at any time. \\n\\nTreatment: Avoid mental and physical strain. Use nitroglycerine in attacks \\nand KI st«adily. '] \n",
      "\n",
      "[\"CASE 78 \\n\\nFireman, 57 years old, had scarlet fever at 9 years, apparently \\nwithout ill results. Otherwise he has been always well till six months \\nago, when on a vacation he ate some canned oysters in the form of a \\nstew. One half hour afterwards breath was suddenly shut off. No \\npain, vomiting, or other symptoms. Troubled with respiration ever \\nsince when in midst of fire smoke. Lost 30 lbs, in three months. Four \\nweeks ago, when turning in bed, noticed a swelling in the left loin which \\nseemed to move with change of position. No pain or tenderness and \\nno change in urine. \\n\\nExamination: On left side two tumors are felt below the ribs; one \\nabove and in front feels like a spleen. The other is more rounded and \\ndeeper. Both move with respiration. The lower tumor is somewhat \\ntender and apparently elastic. Belly otherwise negative. Lungs nega- \\ntive. Heart not remarkable except for a loud ringing aortic second \\nsound. Brachials tortuous and move laterally. Urine 1018, 40 oz. in \\ntwenty-four hours. Slight trace of albumen. Few hyaline and fine \\ngranular casts, some with cells or fat on them. Blood normal, no fever. \\n\\n1. What are the common causes for the appearance of sli^t dyepncea in a man of \\n\\n57? Arterio-BcleroBis and its remilte, emphfBema, obeaitir. \\n\\n2. What was the action of the canned oyetersT Possibly dyspeptic flatulence, \\n\\nembarrassed cardiac action by direct pressure throu^ the diaphragm. Prob- \\nably, however, the aasociation was accidental. \\n\\n3. (a) What abdominal tumors move most freely with respiration? (6) What least \\n\\nfreely? (a) Those connected with the liver, stomach, and spleen; (b) those \\nconnected with the kidney and pancreas, \\n\\n4. Enumerate some of the conditions in which such a urine is often seen? In \\n\\npssMve congestion, fevera and after exertion, when'there is bile or sugar in \\nthe urine, in arterio-sclenMis and chronic interstitial nephritis, \\nfi. What imporlAnt and simple methods of examination have been omitted? In- \\nflation of the colon, palpation in a warm bath. \\n\\n6. What questions ^ould be asked with reference to the loss of weight? Have \\n\\nt^tpetite and sleep been as good as usualT \\n\\n7. Diagnosis? Prognosis? Treatment? \\n\\nDiagno»s: An abdominal tumor, painless, slow growing, and producing little \\nor no disturbance of any function, is the chief feature of the case. The tumor \\noccupies more nearly the position of the left kidney than of any other organ. \\nIt is rounded and elastic. Renal abscess, cyst, or hjrdronepbroHis suggest \\nthemselves. The absence of fever, pyuria, leucocytosis, and pain are against \\nabscess, and the absence of any pain or disturbance of micturition make hy- \\ndronephrosis unlikely. The inflated colon traverses the tumor. At opera- \\ntion a congenital cystic kidney weighing S70 grams was found and removed. \\nThe djrspnixa, however, continued, and a year latflr autopsy showed general \\narterio-sclerosis with cardiac hypertrophy and dilatation, general passive \\ncongestion and terminal streptococcus sepsis. \\n\\nPrognosis and Treatment are sufficiently suggested in what has been said.\"] \n",
      "\n",
      "['CASE 59 \\n\\nA business man, 58, with good family history and habita, had, about \\ntwenty-five years ago, a severe rheumatic fever, disabhng him for several \\nmonths. Ever since then his pulse has been more or less irregular; but \\nhe has suffered no inconvenience until about two years ago when he \\nnoticed that walking up hill caused dyspncea. Since then he has lost \\nupwards of fifty pounds in weight. For the past three months he has \\ndriven to his business for an hour a day only, and been kept awake by \\ndyspncea and pain in the right side of the abdomen. Appetite has been \\npoor and digestion impaired. \\n\\nPulse irregular, intermittent, rapd, not corresponding with the \\nheart-beat. Respiration easy when quiet, temperature 98.6°, \\n\\nComplexion sallow, with yellowish tinge to sclerotics. No cyanosis. \\nTongue heavily coated. Moderate cedema of lower legs. Lungs clear. \\nCardiac apex not defined to eye or touch. Percussion shows increase \\nin the transverse <Uameter of the heart, the action of which is so rapid \\nand irregular that only a doubtful systolic apex murmur can be \\nheard. The second sounds are clear, the pulmonic not specially \\n\\n\\n\\nThe belly is flabby, the navel not flushed. Pereuswon dulness in \\nthe flanks shifts with changing position. No fluctuation wave. Three \\ninches below the right costal border and across the epigastrium a solid \\nbody, tender, with a firm edge descending with inspiration, is felt. \\n\\nThe urine, normal in amount, specific gravity 1028, contains a \\nlarge trace of albumen, 2% of sugar, 1.26% urea, no bile, acetone, \\nor diacetic acid. Sediment, a few normal blood globules, a rare \\nhyaline cast. \\n\\n1. Common causea of sugar in the urine? Diabetes mellitus, neuroses (wony, \\n\\nfear, etc.), coma from any cause (including narcotics), pregnancy. \\n\\n2. How do you explain tlie loss of weight? Poor appetite and digestion combined \\n\\nwith arterio-ederosia and with glycoeuria. \\n\\n3. Commonest causes of pain in that r^on? Appendidtis, gall-stones, pelvic \\n\\ninflammation <in women). \\n\\n4. What caused the pain in the right side of the abdomen? Hepatic congestion. \\n\\n5. Diagnosis? Prognosis? Treatment? \\n\\nDiagnosis: Dyspncea, digestive disturbance, a dilated, rapid, and irregular \\nheart, swollen legs, ascites, enlarged liver with slight jaundice and a urine \\nshowing renal congestion,^ all point to an uncompensated cardiac lesion with \\npassive congestion of the lungs, stomach, liver, peritoneal cavity, kidney, \\nand legs. The exact condition of the heart cannot be stated. Its insufficient \\nstrength may be due to mitral regurgitation produced by the old rheumatic \\nendocarditis (see history) and compensated until two years ago. It is mora \\nlikely to be a myocardial weakness (with or without mitral disease) that pro- \\nduces the poor heart action. He is at the age for arterio-sclerosis and so for \\nmjrocardial weakneos, but we have no data here as to hig arteries. The \\n\\nglycosuria will probably persist. If so it ia to be classed as diabetes. \\nPrognosis: Impossible to state accurately. Probably he will not live over six \\n\\nmonths, but he may live years, or die suddenly in a few days. \\nTreatment: Rest, depletion, restriction of salt in diet; later, digitalis (cautiously) \\n\\nand Naubeim treatment, also with great caution. Genenl hygiene, diet, \\n\\nsleep, air, eQcourogement are of great importance. '] \n",
      "\n"
     ]
    }
   ],
   "source": [
    "results = solr.search('case:\"arterio sclerosis\"')\n",
    "\n",
    "print(\"Found {0} documents\".format(len(results)))\n",
    "\n",
    "for result in results:\n",
    "    print(result['case'], \"\\n\")"
   ]
  },
  {
   "cell_type": "markdown",
   "metadata": {},
   "source": [
    "## Text Highlighting"
   ]
  },
  {
   "cell_type": "code",
   "execution_count": 8,
   "metadata": {},
   "outputs": [],
   "source": [
    "from IPython.core.display import display, HTML"
   ]
  },
  {
   "cell_type": "code",
   "execution_count": 9,
   "metadata": {},
   "outputs": [
    {
     "name": "stdout",
     "output_type": "stream",
     "text": [
      "Found 4 documents\n",
      "=== Full result ===\n",
      "\n",
      "{'29': {'case': [', are results of cerebral <em>arterio</em>- \\n<em>sclerosis</em> with']}, '66': {'case': [' the advance of the <em>arterio</em>-<em>sclerosis</em> lesions \\nin']}, '78': {'case': [' general \\n<em>arterio</em>-<em>sclerosis</em> with cardiac hypertrophy and']}, '59': {'case': [' for <em>arterio</em>-<em>sclerosis</em> and so for \\nmjrocardial']}}\n",
      "\n",
      "=== Formating ===\n"
     ]
    },
    {
     "data": {
      "text/html": [
       "Case 29: , are results of cerebral <em>arterio</em>- \n",
       "<em>sclerosis</em> with<br>"
      ],
      "text/plain": [
       "<IPython.core.display.HTML object>"
      ]
     },
     "metadata": {},
     "output_type": "display_data"
    },
    {
     "data": {
      "text/html": [
       "Case 66:  the advance of the <em>arterio</em>-<em>sclerosis</em> lesions \n",
       "in<br>"
      ],
      "text/plain": [
       "<IPython.core.display.HTML object>"
      ]
     },
     "metadata": {},
     "output_type": "display_data"
    },
    {
     "data": {
      "text/html": [
       "Case 78:  general \n",
       "<em>arterio</em>-<em>sclerosis</em> with cardiac hypertrophy and<br>"
      ],
      "text/plain": [
       "<IPython.core.display.HTML object>"
      ]
     },
     "metadata": {},
     "output_type": "display_data"
    },
    {
     "data": {
      "text/html": [
       "Case 59:  for <em>arterio</em>-<em>sclerosis</em> and so for \n",
       "mjrocardial<br>"
      ],
      "text/plain": [
       "<IPython.core.display.HTML object>"
      ]
     },
     "metadata": {},
     "output_type": "display_data"
    }
   ],
   "source": [
    "results = solr.search('case:\"arterio sclerosis\"', **{\n",
    "        'hl': 'true',\n",
    "        'hl.fragsize': 50,\n",
    "        'hl.fl': 'case'\n",
    "    })\n",
    "\n",
    "print(\"Found {0} documents\".format(len(results)))\n",
    "\n",
    "print(\"=== Full result ===\\n\")\n",
    "\n",
    "print(results.highlighting)\n",
    "\n",
    "print(\"\\n=== Formating ===\")\n",
    "\n",
    "for result in results:\n",
    "    display(HTML(\"Case {0}: {1}<br>\".format(result['id'], results.highlighting[result['id']]['case'][0])))"
   ]
  },
  {
   "cell_type": "code",
   "execution_count": 10,
   "metadata": {},
   "outputs": [
    {
     "name": "stdout",
     "output_type": "stream",
     "text": [
      "Found 7 documents\n"
     ]
    },
    {
     "data": {
      "text/html": [
       "Case 8:  later puhnonary symptoms \n",
       "(sudden onset of ds^ncea and cyanosis) as pulmonary <em>embolism</em> from the<br>"
      ],
      "text/plain": [
       "<IPython.core.display.HTML object>"
      ]
     },
     "metadata": {},
     "output_type": "display_data"
    },
    {
     "data": {
      "text/html": [
       "Case 38:  (including cerebral hemorrfjage, throm- \n",
       "\n",
       "boeiB and <em>embolism</em>), unemia and hepatic toxsmia, diabetes, cerebral<br>"
      ],
      "text/plain": [
       "<IPython.core.display.HTML object>"
      ]
     },
     "metadata": {},
     "output_type": "display_data"
    },
    {
     "data": {
      "text/html": [
       "Case 55:  \n",
       "<em>embolism</em>. The presystolic murmur has disappeared owing to cardiac weak- \n",
       "ness. Cerebral syphilis is<br>"
      ],
      "text/plain": [
       "<IPython.core.display.HTML object>"
      ]
     },
     "metadata": {},
     "output_type": "display_data"
    },
    {
     "data": {
      "text/html": [
       "Case 66:  of the lung \n",
       "\n",
       "due to congestion (as in mitral disease or from <em>embolism</em>), pulmonary abscess \n",
       "or<br>"
      ],
      "text/plain": [
       "<IPython.core.display.HTML object>"
      ]
     },
     "metadata": {},
     "output_type": "display_data"
    },
    {
     "data": {
      "text/html": [
       "Case 33:  <em>embolism</em>. \n",
       "\n",
       "4. What can be inferred from the absence of focal c^mptoms? That there are \n",
       "\n",
       "probably no<br>"
      ],
      "text/plain": [
       "<IPython.core.display.HTML object>"
      ]
     },
     "metadata": {},
     "output_type": "display_data"
    },
    {
     "data": {
      "text/html": [
       "Case 29: , may result in pulmonary \n",
       "<em>embolism</em>. Septic or bland emboli are occasionally washed into the lungs \n",
       "from<br>"
      ],
      "text/plain": [
       "<IPython.core.display.HTML object>"
      ]
     },
     "metadata": {},
     "output_type": "display_data"
    },
    {
     "data": {
      "text/html": [
       "Case 40:  of <em>embolism</em>, commonest in the spleen and kidney, rarer in brain, \n",
       "extremities, or subcutaneous<br>"
      ],
      "text/plain": [
       "<IPython.core.display.HTML object>"
      ]
     },
     "metadata": {},
     "output_type": "display_data"
    }
   ],
   "source": [
    "results = solr.search('case:embolism', **{\n",
    "        'hl': 'true',\n",
    "        'hl.fragsize': 100,\n",
    "        'hl.fl': 'case'\n",
    "    })\n",
    "\n",
    "print(\"Found {0} documents\".format(len(results)))\n",
    "\n",
    "for result in results:\n",
    "    display(HTML(\"Case {0}: {1}<br>\".format(result['id'], results.highlighting[result['id']]['case'][0])))"
   ]
  },
  {
   "cell_type": "markdown",
   "metadata": {},
   "source": [
    "## Boolean Operators"
   ]
  },
  {
   "cell_type": "code",
   "execution_count": 11,
   "metadata": {},
   "outputs": [
    {
     "name": "stdout",
     "output_type": "stream",
     "text": [
      "Found 2 documents\n"
     ]
    },
    {
     "data": {
      "text/html": [
       "Case 29:  \n",
       "turns, and the tenninal coma of hemipl^pa, are results of cerebral <em>arterio</em>- \n",
       "<em>sclerosis</em> with final hemorrhage. No other diagnosis is plausible, provided \n",
       "the urine remained normal and provided syphilis can tie excluded. \n",
       "Treatment: The advance of <em>arterio</em>-<em>sclerosis</em> can perhaps be checked if life is \n",
       "lived<br>"
      ],
      "text/plain": [
       "<IPython.core.display.HTML object>"
      ]
     },
     "metadata": {},
     "output_type": "display_data"
    },
    {
     "data": {
      "text/html": [
       "Case 66:  may live many yeara, but any exertion \n",
       "or excitement may prove fatal and the advance of the <em>arterio</em>-<em>sclerosis</em> lesions \n",
       "in heart, brain, or kidney may kill at any time. \n",
       "\n",
       "Treatment: Avoid mental and physical strain. Use nitroglycerine in attacks \n",
       "and KI st«adily. <br>"
      ],
      "text/plain": [
       "<IPython.core.display.HTML object>"
      ]
     },
     "metadata": {},
     "output_type": "display_data"
    }
   ],
   "source": [
    "results = solr.search('case:\"arterio sclerosis\" AND case:embolism', **{\n",
    "        'hl': 'true',\n",
    "        'hl.fragsize': 300,\n",
    "        'hl.fl': 'case'\n",
    "    })\n",
    "\n",
    "print(\"Found {0} documents\".format(len(results)))\n",
    "\n",
    "for result in results:\n",
    "    display(HTML(\"Case {0}: {1}<br>\".format(result['id'], results.highlighting[result['id']]['case'][0])))"
   ]
  },
  {
   "cell_type": "markdown",
   "metadata": {},
   "source": [
    "## Wildcard matching"
   ]
  },
  {
   "cell_type": "code",
   "execution_count": 12,
   "metadata": {},
   "outputs": [
    {
     "name": "stdout",
     "output_type": "stream",
     "text": [
      "Found 9 documents\n"
     ]
    },
    {
     "data": {
      "text/html": [
       "Case 8:  later puhnonary symptoms \n",
       "(sudden onset of ds^ncea and cyanosis) as pulmonary <em>embolism</em> from the<br>"
      ],
      "text/plain": [
       "<IPython.core.display.HTML object>"
      ]
     },
     "metadata": {},
     "output_type": "display_data"
    },
    {
     "data": {
      "text/html": [
       "Case 27:  reaction should be \n",
       "tried. Against septic endocarditis is the leucocyte count and the absence of \n",
       "<em>embolic</em><br>"
      ],
      "text/plain": [
       "<IPython.core.display.HTML object>"
      ]
     },
     "metadata": {},
     "output_type": "display_data"
    },
    {
     "data": {
      "text/html": [
       "Case 29: , may result in pulmonary \n",
       "<em>embolism</em>. Septic or bland <em>emboli</em> are occasionally washed into the lungs \n",
       "from<br>"
      ],
      "text/plain": [
       "<IPython.core.display.HTML object>"
      ]
     },
     "metadata": {},
     "output_type": "display_data"
    },
    {
     "data": {
      "text/html": [
       "Case 40:  of <em>embolism</em>, commonest in the spleen and kidney, rarer in brain, \n",
       "extremities, or subcutaneous<br>"
      ],
      "text/plain": [
       "<IPython.core.display.HTML object>"
      ]
     },
     "metadata": {},
     "output_type": "display_data"
    },
    {
     "data": {
      "text/html": [
       "Case 63:  long-continued fever with chills, <em>embolic</em> phenomena, and a car- \n",
       "diac murmur suggest at once an<br>"
      ],
      "text/plain": [
       "<IPython.core.display.HTML object>"
      ]
     },
     "metadata": {},
     "output_type": "display_data"
    },
    {
     "data": {
      "text/html": [
       "Case 33:  <em>embolism</em>. \n",
       "\n",
       "4. What can be inferred from the absence of focal c^mptoms? That there are \n",
       "\n",
       "probably no<br>"
      ],
      "text/plain": [
       "<IPython.core.display.HTML object>"
      ]
     },
     "metadata": {},
     "output_type": "display_data"
    },
    {
     "data": {
      "text/html": [
       "Case 38:  (including cerebral hemorrfjage, throm- \n",
       "\n",
       "boeiB and <em>embolism</em>), unemia and hepatic toxsmia, diabetes, cerebral<br>"
      ],
      "text/plain": [
       "<IPython.core.display.HTML object>"
      ]
     },
     "metadata": {},
     "output_type": "display_data"
    },
    {
     "data": {
      "text/html": [
       "Case 55:  \n",
       "<em>embolism</em>. The presystolic murmur has disappeared owing to cardiac weak- \n",
       "ness. Cerebral syphilis is<br>"
      ],
      "text/plain": [
       "<IPython.core.display.HTML object>"
      ]
     },
     "metadata": {},
     "output_type": "display_data"
    },
    {
     "data": {
      "text/html": [
       "Case 66:  of the lung \n",
       "\n",
       "due to congestion (as in mitral disease or from <em>embolism</em>), pulmonary abscess \n",
       "or<br>"
      ],
      "text/plain": [
       "<IPython.core.display.HTML object>"
      ]
     },
     "metadata": {},
     "output_type": "display_data"
    }
   ],
   "source": [
    "results = solr.search('case:emboli*', **{\n",
    "        'hl': 'true',\n",
    "        'hl.fragsize': 100,\n",
    "        'hl.fl': 'case'\n",
    "    })\n",
    "\n",
    "print(\"Found {0} documents\".format(len(results)))\n",
    "\n",
    "for result in results:\n",
    "    display(HTML(\"Case {0}: {1}<br>\".format(result['id'], results.highlighting[result['id']]['case'][0])))"
   ]
  },
  {
   "cell_type": "markdown",
   "metadata": {},
   "source": [
    "## Proximity matching\n",
    "\n",
    "Search for \"heart attack\" within 4 words from each other."
   ]
  },
  {
   "cell_type": "code",
   "execution_count": 13,
   "metadata": {},
   "outputs": [
    {
     "name": "stdout",
     "output_type": "stream",
     "text": [
      "Found 1 documents\n"
     ]
    },
    {
     "data": {
      "text/html": [
       "Case 18:  this <em>attack</em> and succumb later to increasing <em>heart</em> weakness. \n",
       "Treatment: Absolute rest; vigorous<br>"
      ],
      "text/plain": [
       "<IPython.core.display.HTML object>"
      ]
     },
     "metadata": {},
     "output_type": "display_data"
    }
   ],
   "source": [
    "results = solr.search('case:\"heart attack\"~7', **{\n",
    "        'hl': 'true',\n",
    "        'hl.fragsize': 100,\n",
    "        'hl.fl': 'case'\n",
    "    })\n",
    "\n",
    "print(\"Found {0} documents\".format(len(results)))\n",
    "\n",
    "for result in results:\n",
    "    display(HTML(\"Case {0}: {1}<br>\".format(result['id'], results.highlighting[result['id']]['case'][0])))"
   ]
  },
  {
   "cell_type": "markdown",
   "metadata": {},
   "source": [
    "## Fuzzy Search\n",
    "\n",
    "Using *Levenshtein Distance* to find approximate and misspelled sentences concerning arteriosclerosis."
   ]
  },
  {
   "cell_type": "code",
   "execution_count": 24,
   "metadata": {},
   "outputs": [
    {
     "name": "stdout",
     "output_type": "stream",
     "text": [
      "Found 10 documents\n"
     ]
    },
    {
     "data": {
      "text/html": [
       "Case 66:  prove fatal and the advance of the <em>arterio</em>-<em>sclerosis</em> lesions \n",
       "in heart, brain, or kidney may kill at any<br>"
      ],
      "text/plain": [
       "<IPython.core.display.HTML object>"
      ]
     },
     "metadata": {},
     "output_type": "display_data"
    },
    {
     "data": {
      "text/html": [
       "Case 29:  results of cerebral <em>arterio</em>- \n",
       "<em>sclerosis</em> with final hemorrhage. No other diagnosis is plausible, provided<br>"
      ],
      "text/plain": [
       "<IPython.core.display.HTML object>"
      ]
     },
     "metadata": {},
     "output_type": "display_data"
    },
    {
     "data": {
      "text/html": [
       "Case 78:  djrspnixa, however, continued, and a year latflr autopsy showed general \n",
       "<em>arterio</em>-<em>sclerosis</em> with cardiac<br>"
      ],
      "text/plain": [
       "<IPython.core.display.HTML object>"
      ]
     },
     "metadata": {},
     "output_type": "display_data"
    },
    {
     "data": {
      "text/html": [
       "Case 51: , \n",
       "<em>arterio</em>-<em>scleroais</em> and the attendant changes of old age, loss of sleep, malignaDt \n",
       "disease. \n",
       "\n",
       "2. Causes of<br>"
      ],
      "text/plain": [
       "<IPython.core.display.HTML object>"
      ]
     },
     "metadata": {},
     "output_type": "display_data"
    },
    {
     "data": {
      "text/html": [
       "Case 59:  poor heart action. He is at the age for <em>arterio</em>-<em>sclerosis</em> and so for \n",
       "mjrocardial weakneos, but we have<br>"
      ],
      "text/plain": [
       "<IPython.core.display.HTML object>"
      ]
     },
     "metadata": {},
     "output_type": "display_data"
    },
    {
     "data": {
      "text/html": [
       "Case 76: : The important signs are: paralysis of the left vocal cord, <em>arterio</em>- \n",
       "<em>Bclerosis</em> with resulting cardiac<br>"
      ],
      "text/plain": [
       "<IPython.core.display.HTML object>"
      ]
     },
     "metadata": {},
     "output_type": "display_data"
    },
    {
     "data": {
      "text/html": [
       "Case 16:  stigmata of hj'ateria, <em>arterio</em>-<em>aclerosis</em>, the signs of tabes or \n",
       "dementia paralytica (pupils, knee-jerks<br>"
      ],
      "text/plain": [
       "<IPython.core.display.HTML object>"
      ]
     },
     "metadata": {},
     "output_type": "display_data"
    },
    {
     "data": {
      "text/html": [
       "Case 5:  *Gout and <em>arterio</em>- \n",
       "\n",
       "sderoMs are often closely aaBOciated. <em>Arterio</em>-sclerofiia is one of the diagnoaes<br>"
      ],
      "text/plain": [
       "<IPython.core.display.HTML object>"
      ]
     },
     "metadata": {},
     "output_type": "display_data"
    },
    {
     "data": {
      "text/html": [
       "Case 67:  convulsions — as in ursmia. \n",
       "\n",
       "4. When a patient ages rapidly what disease is probable? <em>Arterio</em>-<em>scleros'is</em><br>"
      ],
      "text/plain": [
       "<IPython.core.display.HTML object>"
      ]
     },
     "metadata": {},
     "output_type": "display_data"
    },
    {
     "data": {
      "text/html": [
       "Case 65:  29? (b) Id old \n",
       "\n",
       "ageT (c) In a baby? (a) Alcoholiaro. (b) <em>Arterio</em>-<em>BclerOBis</em> and its consequences<br>"
      ],
      "text/plain": [
       "<IPython.core.display.HTML object>"
      ]
     },
     "metadata": {},
     "output_type": "display_data"
    }
   ],
   "source": [
    "results = solr.search('case:arterio AND case:sclerosis~', **{\n",
    "        'hl': 'true',\n",
    "        'hl.fragsize': 100,\n",
    "        'hl.fl': 'case'\n",
    "    })\n",
    "\n",
    "print(\"Found {0} documents\".format(len(results)))\n",
    "\n",
    "for result in results:\n",
    "    display(HTML(\"Case {0}: {1}<br>\".format(result['id'], results.highlighting[result['id']]['case'][0])))"
   ]
  }
 ],
 "metadata": {
  "kernelspec": {
   "display_name": "Python 3 (ipykernel)",
   "language": "python",
   "name": "python3"
  },
  "language_info": {
   "codemirror_mode": {
    "name": "ipython",
    "version": 3
   },
   "file_extension": ".py",
   "mimetype": "text/x-python",
   "name": "python",
   "nbconvert_exporter": "python",
   "pygments_lexer": "ipython3",
   "version": "3.9.7"
  }
 },
 "nbformat": 4,
 "nbformat_minor": 4
}
