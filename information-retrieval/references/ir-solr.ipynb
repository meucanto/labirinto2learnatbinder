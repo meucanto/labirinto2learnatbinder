{
 "cells": [
  {
   "cell_type": "markdown",
   "metadata": {},
   "source": [
    "# Accessing Solr via [pysolr]()"
   ]
  },
  {
   "cell_type": "markdown",
   "metadata": {},
   "source": [
    "## Downloading, unziping and starting Solr in cluster mode"
   ]
  },
  {
   "cell_type": "code",
   "execution_count": 14,
   "metadata": {},
   "outputs": [
    {
     "name": "stdout",
     "output_type": "stream",
     "text": [
      "*** [WARN] *** Your open file limit is currently 1024.  \n",
      " It should be set to 65000 to avoid operational disruption. \n",
      " If you no longer wish to see this warning, set SOLR_ULIMIT_CHECKS to false in your profile or solr.in.sh\n",
      "*** [WARN] ***  Your Max Processes Limit is currently 61744. \n",
      " It should be set to 65000 to avoid operational disruption. \n",
      " If you no longer wish to see this warning, set SOLR_ULIMIT_CHECKS to false in your profile or solr.in.sh\n",
      "Waiting up to 180 seconds to see Solr running on port 8983 [|] [/] [-] [\\] [|] [/] [-] [\\] [|]  \n",
      "Started Solr server on port 8983 (pid=17576). Happy searching!\n",
      "\n",
      "  "
     ]
    }
   ],
   "source": [
    "! wget  http://ftp.unicamp.br/pub/apache/lucene/solr/8.1.1/solr-8.1.1.zip -q\n",
    "! unzip -qq solr-8.1.1.zip && rm solr-8.1.1.zip\n",
    "! ./solr-8.1.1/bin/solr start -c"
   ]
  },
  {
   "cell_type": "markdown",
   "metadata": {},
   "source": [
    "## Creating a collection"
   ]
  },
  {
   "cell_type": "code",
   "execution_count": 15,
   "metadata": {},
   "outputs": [
    {
     "name": "stdout",
     "output_type": "stream",
     "text": [
      "WARNING: Using _default configset with data driven schema functionality. NOT RECOMMENDED for production use.\n",
      "         To turn off: bin/solr config -c example -p 8983 -action set-user-property -property update.autoCreateFields -value false\n",
      "Created collection 'example' with 1 shard(s), 1 replica(s) with config-set 'example'\n"
     ]
    }
   ],
   "source": [
    "! ./solr-8.1.1/bin/solr create -c example -p 8983"
   ]
  },
  {
   "cell_type": "markdown",
   "metadata": {},
   "source": [
    "## Connecting to the Solr server"
   ]
  },
  {
   "cell_type": "code",
   "execution_count": 16,
   "metadata": {},
   "outputs": [],
   "source": [
    "import pysolr\n",
    "solr_server_url = 'http://localhost:8983/solr/'\n",
    "solr_collection = \"example\"\n",
    "solr = pysolr.Solr(solr_server_url + solr_collection)"
   ]
  },
  {
   "cell_type": "markdown",
   "metadata": {},
   "source": [
    "## Adding documents"
   ]
  },
  {
   "cell_type": "code",
   "execution_count": 17,
   "metadata": {},
   "outputs": [],
   "source": [
    "r = solr.add([\n",
    "                {\n",
    "                    \"id\": \"doc_1\",\n",
    "                    \"title\": \"Well, this is a test document\",\n",
    "                },\n",
    "                {\n",
    "                    \"id\": \"doc_2\",\n",
    "                    \"title\": \"Ha! Another document! :)\",\n",
    "                },\n",
    "    ], commit=True)"
   ]
  },
  {
   "cell_type": "markdown",
   "metadata": {},
   "source": [
    "## Searching documents"
   ]
  },
  {
   "cell_type": "code",
   "execution_count": 18,
   "metadata": {},
   "outputs": [
    {
     "name": "stdout",
     "output_type": "stream",
     "text": [
      "Found 2 documents\n",
      "The document doc_1 has the following 'title': ['Well, this is a test document']\n",
      "The document doc_2 has the following 'title': ['Ha! Another document! :)']\n"
     ]
    }
   ],
   "source": [
    "results = solr.search('*:*')\n",
    "\n",
    "print(\"Found {0} documents\".format(len(results)))\n",
    "\n",
    "for result in results:\n",
    "    print(\"The document {0} has the following 'title': {1}\".format(result['id'], result['title']))"
   ]
  },
  {
   "cell_type": "markdown",
   "metadata": {},
   "source": [
    "## Deleting Documents"
   ]
  },
  {
   "cell_type": "code",
   "execution_count": 19,
   "metadata": {},
   "outputs": [],
   "source": [
    "r = solr.delete(id='doc_1', commit=True)\n",
    "\n",
    "# deleting in batch mode\n",
    "#r = solr.delete(id=['doc_1', 'doc_2'], commit=True)\n",
    "\n",
    "# query based deleting\n",
    "#r = solr.delete(q='*:*', commit=True)"
   ]
  }
 ],
 "metadata": {
  "kernelspec": {
   "display_name": "Python 3",
   "language": "python",
   "name": "python3"
  },
  "language_info": {
   "codemirror_mode": {
    "name": "ipython",
    "version": 3
   },
   "file_extension": ".py",
   "mimetype": "text/x-python",
   "name": "python",
   "nbconvert_exporter": "python",
   "pygments_lexer": "ipython3",
   "version": "3.6.8"
  }
 },
 "nbformat": 4,
 "nbformat_minor": 2
}
