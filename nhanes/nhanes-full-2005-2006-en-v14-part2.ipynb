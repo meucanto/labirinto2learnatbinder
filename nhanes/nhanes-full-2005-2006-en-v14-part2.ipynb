{
 "cells": [
  {
   "cell_type": "code",
   "execution_count": 1,
   "metadata": {},
   "outputs": [],
   "source": [
    "%defaultDatasource jdbc:h2:mem:db"
   ]
  },
  {
   "cell_type": "code",
   "execution_count": 2,
   "metadata": {},
   "outputs": [],
   "source": [
    "CREATE TABLE ProfileCorrelation (\n",
    "  SEQN1 VARCHAR(8),\n",
    "  profile1 VARCHAR(18),\n",
    "  SEQN2 VARCHAR(8),\n",
    "  profile2 VARCHAR(18)\n",
    ") AS SELECT\n",
    "  SEQN1, profile1, SEQN2, profile2\n",
    "FROM CSVREAD('../data/nhanes2005-2006/profile-pair-correlation.csv');"
   ]
  },
  {
   "cell_type": "code",
   "execution_count": 3,
   "metadata": {},
   "outputs": [
    {
     "data": {
      "application/vnd.jupyter.widget-view+json": {
       "model_id": "1acdf2ff-5ce0-4bec-aeb7-3c361a22d652",
       "version_major": 2,
       "version_minor": 0
      },
      "method": "display_data"
     },
     "metadata": {},
     "output_type": "display_data"
    },
    {
     "data": {
      "application/vnd.jupyter.widget-view+json": {
       "model_id": "24955ca1-2ca7-47b2-b735-6c6015b53c23",
       "version_major": 2,
       "version_minor": 0
      },
      "method": "display_data"
     },
     "metadata": {},
     "output_type": "display_data"
    }
   ],
   "source": [
    "DROP VIEW IF EXISTS ProfileCorrelationNWeight;\n",
    "DROP VIEW IF EXISTS ProfileCorrelationUnique;\n",
    "\n",
    "CREATE VIEW ProfileCorrelationUnique AS\n",
    "  SELECT DISTINCT * FROM ProfileCorrelation;\n",
    "\n",
    "CREATE VIEW ProfileCorrelationNWeight AS\n",
    "  SELECT PC.profile1 AS source, PC.profile2 as target, COUNT(*) as weight\n",
    "  FROM ProfileCorrelationUnique PC\n",
    "  GROUP BY PC.profile1, PC.profile2;\n",
    "  \n",
    "SELECT COUNT(*), SUM(weight) FROM ProfileCorrelationNWeight;\n",
    "SELECT * FROM ProfileCorrelationNWeight;"
   ]
  },
  {
   "cell_type": "code",
   "execution_count": 4,
   "metadata": {},
   "outputs": [
    {
     "data": {
      "application/vnd.jupyter.widget-view+json": {
       "model_id": "d5aa4bcf-4fe5-4088-91d1-c80eb612715d",
       "version_major": 2,
       "version_minor": 0
      },
      "method": "display_data"
     },
     "metadata": {},
     "output_type": "display_data"
    },
    {
     "data": {
      "application/vnd.jupyter.widget-view+json": {
       "model_id": "049f4a8e-bf98-4431-8684-9afd45617723",
       "version_major": 2,
       "version_minor": 0
      },
      "method": "display_data"
     },
     "metadata": {},
     "output_type": "display_data"
    }
   ],
   "source": [
    "CREATE VIEW ProfileCorrNWeight AS\n",
    "SELECT source, target, weight w FROM ProfileCorrelationNWeight WHERE source < target\n",
    "UNION\n",
    "SELECT target, source, weight w FROM ProfileCorrelationNWeight WHERE source > target;\n",
    "\n",
    "CREATE VIEW ProfileCorrFinalNWeight AS\n",
    "SELECT source, target, SUM(w) AS weight\n",
    "FROM ProfileCorrNWeight\n",
    "GROUP BY source, target;\n",
    "\n",
    "SELECT * FROM ProfileCorrFinalNWeight;\n",
    "\n",
    "-- Gravação de pares de perfis com similaridade para rede\n",
    "CALL CSVWRITE('../data/nhanes2005-2006/profile-pair-correlation-number.csv', 'SELECT * FROM ProfileCorrFinalNWeight');"
   ]
  },
  {
   "cell_type": "code",
   "execution_count": 5,
   "metadata": {},
   "outputs": [
    {
     "data": {
      "application/vnd.jupyter.widget-view+json": {
       "model_id": "1a08ba58-83dd-4971-b0d8-f1b3d317847a",
       "version_major": 2,
       "version_minor": 0
      },
      "method": "display_data"
     },
     "metadata": {},
     "output_type": "display_data"
    },
    {
     "data": {
      "application/vnd.jupyter.widget-view+json": {
       "model_id": "acc84bae-4ef1-4285-bbd8-ec0b879496ab",
       "version_major": 2,
       "version_minor": 0
      },
      "method": "display_data"
     },
     "metadata": {},
     "output_type": "display_data"
    },
    {
     "data": {
      "application/vnd.jupyter.widget-view+json": {
       "model_id": "d7f671ac-ac02-4198-a41e-59b14883114d",
       "version_major": 2,
       "version_minor": 0
      },
      "method": "display_data"
     },
     "metadata": {},
     "output_type": "display_data"
    }
   ],
   "source": [
    "CREATE VIEW ProfileCorrelationSWeight AS\n",
    "  SELECT PC.profile1 AS source, PC.profile2 as target, COUNT(*) as weight\n",
    "  FROM ProfileCorrelation PC\n",
    "  GROUP BY PC.profile1, PC.profile2;\n",
    "  \n",
    "SELECT COUNT(*), SUM(weight) FROM ProfileCorrelationSWeight;\n",
    "SELECT * FROM ProfileCorrelationSWeight;\n",
    "\n",
    "-- Gravação de pares de perfis com similaridade para rede\n",
    "CALL CSVWRITE('../data/nhanes2005-2006/profile-pair-correlation-similarity.csv', 'SELECT * FROM ProfileCorrelationSWeight');"
   ]
  }
 ],
 "metadata": {
  "kernelspec": {
   "display_name": "SQL",
   "language": "SQL",
   "name": "sql"
  },
  "language_info": {
   "codemirror_mode": "sql",
   "file_extension": ".sql",
   "mimetype": "",
   "name": "SQL",
   "nbconverter_exporter": "",
   "version": ""
  }
 },
 "nbformat": 4,
 "nbformat_minor": 2
}
