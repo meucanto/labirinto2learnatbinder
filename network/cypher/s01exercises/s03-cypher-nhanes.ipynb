{
 "cells": [
  {
   "cell_type": "markdown",
   "metadata": {},
   "source": [
    "# Cypher e Análise em Redes"
   ]
  },
  {
   "cell_type": "markdown",
   "metadata": {},
   "source": [
    "Entre no Sandbox do Cypher: https://neo4j.com/\n",
    "\n",
    "Abaixo estão alguns comandos executados no laboratório de interação entre medicamentos:\n",
    "\n",
    "## Comandos Básicos Cypher\n",
    "\n",
    "~~~cypher\n",
    "CREATE ()\n",
    "\n",
    "MATCH (n)\n",
    "RETURN n\n",
    "\n",
    "CREATE ({name:\"Acetylsalicylic Acid\"})\n",
    "\n",
    "CREATE ({name:\"Dipyrone\"})\n",
    "\n",
    "MATCH (n {name:\"Dipyrone\"})\n",
    "RETURN n\n",
    "\n",
    "MATCH (n)\n",
    "DELETE n\n",
    "\n",
    "CREATE (:Drug {name:\"Acetylsalicylic Acid\"})\n",
    "\n",
    "CREATE (:Drug {name:\"Dipyrone\"})\n",
    "\n",
    "CREATE (:Pathology {name:\"Headache\"})\n",
    "\n",
    "MATCH (n)\n",
    "RETURN n\n",
    "\n",
    "MATCH (d:Drug)\n",
    "RETURN d\n",
    "\n",
    "CREATE (:Drug {name:\"Paracetamol\"})-[:Treats]->(:Pathology {name:\"Fever\"})\n",
    "\n",
    "MATCH (d:Drug {name:\"Dipyrone\"})\n",
    "MATCH (p:Pathology {name:\"Fever\"})\n",
    "CREATE (d)-[:Treats]->(p)\n",
    "\n",
    "MATCH (n1)-[e]->(n2)\n",
    "DELETE e\n",
    "\n",
    "MATCH (n)\n",
    "DELETE n\n",
    "~~~\n",
    "\n",
    "Comandos avançados Cypher:\n",
    "\n",
    "~~~cypher\n",
    "LOAD CSV WITH HEADERS FROM 'https://github.com/santanche/lab2learn/raw/master/data/faers-2017/drug.csv' AS line\n",
    "CREATE (:Drug { code: line.code, name: line.name})\n",
    "\n",
    "CREATE INDEX ON :Drug(code)\n",
    "\n",
    "LOAD CSV WITH HEADERS FROM 'https://github.com/santanche/lab2learn/raw/master/data/faers-2017/pathology.csv' AS line\n",
    "CREATE (:Pathology { code: line.code, name: line.name})\n",
    "\n",
    "CREATE INDEX ON :Pathology(code)\n",
    "\n",
    "LOAD CSV WITH HEADERS FROM 'https://github.com/santanche/lab2learn/raw/master/data/faers-2017/drug-use.csv' AS line\n",
    "MATCH (d:Drug {code: line.codedrug})\n",
    "MATCH (p:Pathology {code: line.codepathology})\n",
    "CREATE (d)-[:Treats {person: line.idperson}]->(p)\n",
    "\n",
    "MATCH (d)-[:Treats]->(p)\n",
    "RETURN d, p\n",
    "LIMIT 50\n",
    "\n",
    "MATCH (d:Drug)-[t:Treats]->(p:Pathology)\n",
    "DELETE t\n",
    "\n",
    "LOAD CSV WITH HEADERS FROM 'https://github.com/santanche/lab2learn/raw/master/data/faers-2017/drug-use.csv' AS line\n",
    "MATCH (d:Drug {code: line.codedrug})\n",
    "MATCH (p:Pathology {code: line.codepathology})\n",
    "MERGE (d)-[t:Treats]->(p)\n",
    "ON CREATE SET t.weight=1\n",
    "ON MATCH SET t.weight=t.weight+1\n",
    "\n",
    "MATCH (d)-[t:Treats]->(p)\n",
    "WHERE t.weight > 50\n",
    "RETURN d,p\n",
    "\n",
    "MATCH (d)-[t:Treats]->(p)\n",
    "WHERE t.weight > 20\n",
    "RETURN d,p\n",
    "\n",
    "MATCH (d1:Drug)-[a]->(p:Pathology)<-[b]-(d2:Drug)\n",
    "WHERE a.weight > 20 AND b.weight > 20\n",
    "MERGE (d1)<-[r:Relates]->(d2)\n",
    "ON CREATE SET r.weight=1\n",
    "ON MATCH SET r.weight=r.weight+1\n",
    "~~~"
   ]
  },
  {
   "cell_type": "markdown",
   "metadata": {},
   "source": [
    "# NHANES Analysis of Fishbone Variables\n",
    "\n",
    "In this notebook, we will analyze the correlation among variables and profiles of individuals examined in NHANES survey. The focus is on four variables known as Fishbone: WBC, Hgb, HCT, and PLT (see below).  This work is based on the research of Patrícia Raia Nogueira Cavoto.\n",
    "\n",
    "### Selecting the driver\n",
    "\n",
    "The sentence below defines the driver for the database."
   ]
  },
  {
   "cell_type": "code",
   "execution_count": 1,
   "metadata": {},
   "outputs": [],
   "source": [
    "%defaultDatasource jdbc:h2:mem:db"
   ]
  },
  {
   "cell_type": "markdown",
   "metadata": {},
   "source": [
    "# Reference values for NHANES for the 2005-2006 survey\n",
    "\n",
    "* Extracted from data of the NHANES Web site (https://wwwn.cdc.gov/nchs/nhanes/).\n",
    "\n",
    "## Importing normal ranges of values indicated in the NHANES documentation\n",
    "\n",
    "The following query imports the file `reference-ranges.csv` that contains reference ranges from NHANES.\n",
    "\n",
    "* For each variable it is indicated\n",
    "  - applicable gender\n",
    "  - age range (ageStart until ageEnd)\n",
    "\n",
    "* The range is indicated in the form of mininum and maximum values considered normal."
   ]
  },
  {
   "cell_type": "code",
   "execution_count": 2,
   "metadata": {},
   "outputs": [
    {
     "data": {
      "application/vnd.jupyter.widget-view+json": {
       "model_id": "43f5c5a3-c0c0-4ddf-8f80-c85becb2596c",
       "version_major": 2,
       "version_minor": 0
      },
      "method": "display_data"
     },
     "metadata": {},
     "output_type": "display_data"
    },
    {
     "data": {
      "application/vnd.jupyter.widget-view+json": {
       "model_id": "adb9c168-56c4-4ded-9a20-2d99a1c94e1c",
       "version_major": 2,
       "version_minor": 0
      },
      "method": "display_data"
     },
     "metadata": {},
     "output_type": "display_data"
    }
   ],
   "source": [
    "DROP TABLE IF EXISTS ReferenceRanges;\n",
    "CREATE TABLE ReferenceRanges (\n",
    "  variable VARCHAR(8),\n",
    "  gender VARCHAR(1),\n",
    "  ageStart SMALLINT,\n",
    "  ageEnd SMALLINT,\n",
    "  min DECIMAL(7,1),\n",
    "  max DECIMAL(7,1),\n",
    "  PRIMARY KEY(variable,gender,ageStart,ageEnd)\n",
    ") AS SELECT\n",
    "  variable,gender,ageStart,ageEnd,min,max\n",
    "FROM CSVREAD('../../data/nhanes2005-2006/reference-ranges.csv');\n",
    "\n",
    "SELECT DISTINCT variable FROM ReferenceRanges;\n",
    "SELECT * FROM ReferenceRanges;"
   ]
  },
  {
   "cell_type": "markdown",
   "metadata": {},
   "source": [
    "# Survey NHANES 2005-2006\n",
    "\n",
    "* Extracted from data of the NHANES Web site (https://wwwn.cdc.gov/nchs/nhanes/).\n",
    "\n",
    "## Importing data from the survey NHANES 2005-2006\n",
    "\n",
    "* The following query imports the `combined-selected-variables.csv` that contains a tuple for each individual, with a selected set of variables that are used do diagnose anemia, as mentioned in Figure 1. It was filtered only the individuals with values for all fields.\n",
    "\n",
    "* We selected four commonly used blood test variables (known as Fishbone)."
   ]
  },
  {
   "cell_type": "code",
   "execution_count": 3,
   "metadata": {},
   "outputs": [
    {
     "data": {
      "application/vnd.jupyter.widget-view+json": {
       "model_id": "cbc8880d-7786-429a-a0d7-f2c2b2b60c46",
       "version_major": 2,
       "version_minor": 0
      },
      "method": "display_data"
     },
     "metadata": {},
     "output_type": "display_data"
    },
    {
     "data": {
      "application/vnd.jupyter.widget-view+json": {
       "model_id": "188520cc-9cc1-40e8-a390-d6415c41598b",
       "version_major": 2,
       "version_minor": 0
      },
      "method": "display_data"
     },
     "metadata": {},
     "output_type": "display_data"
    }
   ],
   "source": [
    "DROP TABLE IF EXISTS Survey;\n",
    "\n",
    "CREATE TABLE Survey (\n",
    "  SEQN VARCHAR(8),\n",
    "  RIAGENDR VARCHAR(1),\n",
    "  RIDAGEYR SMALLINT,\n",
    "  LBXWBCSI DECIMAL(7,1),\n",
    "  LBXHGB DECIMAL(7,1),\n",
    "  LBXHCT DECIMAL(7,1),\n",
    "  LBXPLTSI DECIMAL(7,1),\n",
    "  PRIMARY KEY(SEQN)\n",
    ") AS SELECT\n",
    "  SEQN,RIAGENDR,RIDAGEYR,LBXWBCSI,LBXHGB,LBXHCT,LBXPLTSI\n",
    "FROM CSVREAD('../../data/nhanes2005-2006/combined-selected-variables.csv');\n",
    "\n",
    "SELECT COUNT(*) FROM Survey;\n",
    "SELECT * FROM Survey;"
   ]
  },
  {
   "cell_type": "markdown",
   "metadata": {},
   "source": [
    "# Codes and description of NHANES variables\n",
    "\n",
    "* The codes and description of variables are stored in a table."
   ]
  },
  {
   "cell_type": "code",
   "execution_count": 4,
   "metadata": {},
   "outputs": [
    {
     "data": {
      "application/vnd.jupyter.widget-view+json": {
       "model_id": "87dfb471-38c0-4e98-959a-f7aa689330eb",
       "version_major": 2,
       "version_minor": 0
      },
      "method": "display_data"
     },
     "metadata": {},
     "output_type": "display_data"
    }
   ],
   "source": [
    "DROP TABLE IF EXISTS VariableDescription;\n",
    "CREATE TABLE VariableDescription (\n",
    "  variable VARCHAR(8),\n",
    "  acronym VARCHAR(8),\n",
    "  name VARCHAR(50),\n",
    "  unit VARCHAR(30),\n",
    "  file VARCHAR(20),\n",
    "  ranges VARCHAR(100),\n",
    "  PRIMARY KEY(variable)\n",
    ") AS SELECT\n",
    "  variable,acronym,name,unit,file,ranges\n",
    "FROM CSVREAD('../../data/nhanes2005-2006/reference-ranges-variables.csv');\n",
    "\n",
    "SELECT * FROM VariableDescription;"
   ]
  },
  {
   "cell_type": "markdown",
   "metadata": {},
   "source": [
    "## Exercício\n",
    "\n",
    "Escreva sentenças em Cypher que importem a tabela de survey no Neo4J. Como você organizaria esses dados em um grafo para análise? Que métricas você extrairia?"
   ]
  }
 ],
 "metadata": {
  "kernelspec": {
   "display_name": "SQL",
   "language": "SQL",
   "name": "sql"
  },
  "language_info": {
   "codemirror_mode": "sql",
   "file_extension": ".sql",
   "mimetype": "",
   "name": "SQL",
   "nbconverter_exporter": "",
   "version": ""
  },
  "toc": {
   "base_numbering": 1,
   "nav_menu": {},
   "number_sections": false,
   "sideBar": false,
   "skip_h1_title": false,
   "title_cell": "Table of Contents",
   "title_sidebar": "Contents",
   "toc_cell": false,
   "toc_position": {},
   "toc_section_display": false,
   "toc_window_display": false
  }
 },
 "nbformat": 4,
 "nbformat_minor": 2
}
