{
 "cells": [
  {
   "cell_type": "markdown",
   "metadata": {},
   "source": [
    "# Comandos Avançados em Cypher\n",
    "\n",
    "Considere o arquivo CSV armazenado no endereço:\n",
    "https://github.com/santanche/lab2learn/blob/master/data/faers-2017-dron/drug.csv\n",
    "\n",
    "Ele é um arquivo que relaciona um conjunto de drogas combinando duas fontes de dados:\n",
    "* [FAERS (FDA Adverse Event Reporting System)](https://open.fda.gov/data/faers/) - a relação de drogas vem desta fonte, onde são relatados efeitos adversos do uso de drogas.\n",
    "* [DRON (The Drug Ontology)](https://bioportal.bioontology.org/ontologies/DRON) - o código de cada droga vem dessa fonte, onde as drogas são organizadas por categorias."
   ]
  },
  {
   "cell_type": "markdown",
   "metadata": {},
   "source": [
    "## `LOAD`\n",
    "\n",
    "É possível se realizar a leitura de arquivos CSV diretamente dentro de uma base Neo4j utilizando-se a sentença `LOAD` composta com o `CREATE`.\n",
    "\n",
    "O comando a seguir carrega o CSV e o coloca em um grafo Neo4j. Note que cada linha do arquivo CSV é colocado em uma instância de uma variável indicada (chamamos de `line`). As colunas (`code` e `name`) passam a ser um atributos dessa instância e podemos atribuí-los a propriedades do nó:\n",
    "\n",
    "~~~cypher\n",
    "LOAD CSV WITH HEADERS FROM 'https://raw.githubusercontent.com/santanche/lab2learn/master/data/faers-2017-dron/drug.csv' AS line\n",
    "CREATE (:Drug {code: line.code, name: line.name})\n",
    "~~~"
   ]
  },
  {
   "cell_type": "markdown",
   "metadata": {},
   "source": [
    "## `CREATE INDEX`\n",
    "\n",
    "Muitas operações serão realizadas usando-se o código da droga como chave, portanto, é interessante a criação de um índice sobre ele:\n",
    "\n",
    "~~~cypher\n",
    "CREATE INDEX ON :Drug(code)\n",
    "~~~\n",
    "\n",
    "Vale a pena olhar o resultado, mas recomendamos que você limite o número de nós a ser apresentados usando a cláusula `LIMIT`:\n",
    "\n",
    "~~~cypher\n",
    "MATCH (d)\n",
    "RETURN d\n",
    "LIMIT 50\n",
    "~~~"
   ]
  },
  {
   "cell_type": "markdown",
   "metadata": {},
   "source": [
    "## Hierarquia DRON\n",
    "\n",
    "O arquivo https://github.com/santanche/lab2learn/blob/master/data/faers-2017-dron/drughierarchy.csv estabelece uma relação de hierarquia entre drogas e categorias de drogas. Cada vez que uma droga ou categoria de droga é subordinada a outra, há um registro indicando a droga (`codedrug`) e a categoria a que ela está subordinada (`parent`).\n",
    "\n",
    "Por essa razão o arquivo de drogas visto anteriormente também tem categorias de drogas cadastradas."
   ]
  },
  {
   "cell_type": "markdown",
   "metadata": {},
   "source": [
    "## Exercício\n",
    "\n",
    "Escreva uma query Cypher que leia esse arquivo CSV e crie conexões representando essas relações de subordinação, ou seja, cada tupla irá gerar uma aresta rotulada como `:Parent` ligando a droga ou categoria àquela que ela é subordinada. Use a referência sem formato para o arquivo https://raw.githubusercontent.com/santanche/lab2learn/master/data/faers-2017-dron/drughierarchy.csv\n",
    "\n",
    "Você pode usar o `MATCH` composto com o `LOAD` e o `CREATE`."
   ]
  },
  {
   "cell_type": "markdown",
   "metadata": {},
   "source": [
    "### Resolução\n",
    "\n",
    "~~~cypher\n",
    "(escreva aqui a resolução em Cypher)\n",
    "~~~"
   ]
  },
  {
   "cell_type": "markdown",
   "metadata": {},
   "source": [
    "## Exercício\n",
    "\n",
    "Escreva um código que a categoria \"CHEMICAL ENTITY\" e todas as drogas subordinadas."
   ]
  },
  {
   "cell_type": "markdown",
   "metadata": {},
   "source": [
    "### Resolução\n",
    "\n",
    "~~~cypher\n",
    "(escreva aqui a resolução em Cypher)\n",
    "~~~"
   ]
  },
  {
   "cell_type": "markdown",
   "metadata": {},
   "source": [
    "## Funções de Agregação\n",
    "\n",
    "Funções como `COUNT`, `SUM`, `AVG`, `MIN` e `MAX` podem agregar o resultado retornado pelo `RETURN`. \n",
    "\n",
    "A query a seguir retorna o número de drogas:\n",
    "\n",
    "~~~cypher\n",
    "MATCH (d:Drug)\n",
    "RETURN COUNT(d)\n",
    "~~~"
   ]
  },
  {
   "cell_type": "markdown",
   "metadata": {},
   "source": [
    "## Exercício\n",
    "\n",
    "Escreva um código que conte quantas drogas estão subordinadas à \"CHEMICAL ENTITY\"."
   ]
  },
  {
   "cell_type": "markdown",
   "metadata": {},
   "source": [
    "### Resolução\n",
    "\n",
    "~~~cypher\n",
    "(escreva aqui a resolução em Cypher)\n",
    "~~~"
   ]
  }
 ],
 "metadata": {
  "kernelspec": {
   "display_name": "SQL",
   "language": "SQL",
   "name": "sql"
  },
  "language_info": {
   "codemirror_mode": "sql",
   "file_extension": ".sql",
   "mimetype": "",
   "name": "SQL",
   "nbconverter_exporter": "",
   "version": ""
  }
 },
 "nbformat": 4,
 "nbformat_minor": 2
}
