{
 "cells": [
  {
   "cell_type": "markdown",
   "metadata": {
    "toc-hr-collapsed": false
   },
   "source": [
    "# Neo4j e Cypher - Conceitos Básicos\n",
    "\n",
    "Entre no Sandbox do Cypher: https://neo4j.com/\n",
    "\n",
    "Há uma opção de se usar o Neo4j online através de um sandbox em: https://neo4j.com/sandbox-v2/\n",
    "\n",
    "Crie uma conta e abra um `Blank Sandbox`. Abaixo segue um tutorial a ser executado nesse sandbox."
   ]
  },
  {
   "cell_type": "markdown",
   "metadata": {
    "toc-hr-collapsed": false
   },
   "source": [
    "## `CREATE`\n",
    "\n",
    "Cria um nó e/ou aresta.\n",
    "\n",
    "Um par de parênteses representa um nó. O seguinte comando cria um nó:\n",
    "~~~cypher\n",
    "CREATE ()\n",
    "~~~"
   ]
  },
  {
   "cell_type": "markdown",
   "metadata": {
    "toc-hr-collapsed": false
   },
   "source": [
    "## Composição de sentenças\n",
    "Em Cypher sentenças podem ser compostas de diferentes maneiras."
   ]
  },
  {
   "cell_type": "markdown",
   "metadata": {
    "toc-hr-collapsed": false
   },
   "source": [
    "## `MATCH`\n",
    "\n",
    "Seleciona aqueles nós que atendem à expressão."
   ]
  },
  {
   "cell_type": "markdown",
   "metadata": {
    "toc-hr-collapsed": false
   },
   "source": [
    "## `RETURN`\n",
    "\n",
    "Pode se compor ao `MATCH` e retorna os valores por ele selecionados.\n",
    "\n",
    "A sentença a seguir seleciona todos os nós e os retorna, a partir da associação com a variável `n`.\n",
    "\n",
    "~~~cypher\n",
    "MATCH (n)\n",
    "RETURN n\n",
    "~~~"
   ]
  },
  {
   "cell_type": "markdown",
   "metadata": {
    "toc-hr-collapsed": false
   },
   "source": [
    "## Propriedades\n",
    "\n",
    "É possível a representação de propriedades relacionadas a um nó utilizando-se chaves. O seguinte comando cria dois nós com a propriedade `name` cujos valores são `\"Acetylsalicylic Acid\"` e `\"Dipyrone\"`:\n",
    "\n",
    "~~~cypher\n",
    "CREATE ({name:\"Acetylsalicylic Acid\"})\n",
    "\n",
    "CREATE ({name:\"Dipyrone\"})\n",
    "~~~\n",
    "\n",
    "Sentenças usadas para a criação de nós podem ser usadas para a sua seleção. A seguinte sentença seleciona e retorna o nó cujo `name` é `\"Dipyrone\"`:\n",
    "\n",
    "~~~cypher\n",
    "MATCH (n {name:\"Dipyrone\"})\n",
    "RETURN n\n",
    "~~~"
   ]
  },
  {
   "cell_type": "markdown",
   "metadata": {
    "toc-hr-collapsed": false
   },
   "source": [
    "## `DELETE`\n",
    "\n",
    "Exclui um conjunto de nós e/ou arestas. O `DELETE` pode ser composto com o `MATCH` da mesma maneira que o `RETURN`. A seguinte sentença exclui todos os nós:\n",
    "\n",
    "~~~cypher\n",
    "MATCH (n)\n",
    "DELETE n\n",
    "~~~"
   ]
  },
  {
   "cell_type": "markdown",
   "metadata": {
    "toc-hr-collapsed": false
   },
   "source": [
    "## Rótulos\n",
    "\n",
    "Nós e arestas similares podem ser classificados através de rótulos. Rótulos são caracterizados por dois pontos. Nos exemplos a seguir são criados nós rotulados como droga (`:Drug`) ou patologia (`:Pathology`):\n",
    "\n",
    "~~~cypher\n",
    "CREATE (:Drug {drugbank: \"DB00945\", name:\"Aspirin\"})\n",
    "\n",
    "CREATE (:Drug {drugbank: \"DB00945\", name:\"Acetylsalicylic Acid\"})\n",
    "\n",
    "CREATE (:Drug {drugbank: \"DB04817\", name:\"Dipyrone\"})\n",
    "\n",
    "CREATE (:Pathology {name:\"Headache\"})\n",
    "~~~\n",
    "\n",
    "Note que também foi acrescentada uma propriedade `drugbank` com o código do medicamento neste repositório (DrugBank: https://www.drugbank.ca).\n",
    "\n",
    "Baseado no que você aprendeu até agora, deduza o que fazem os comandos a seguir:\n",
    "\n",
    "~~~cypher\n",
    "MATCH (n)\n",
    "RETURN n\n",
    "\n",
    "MATCH (d:Drug)\n",
    "RETURN d\n",
    "~~~"
   ]
  },
  {
   "cell_type": "markdown",
   "metadata": {
    "toc-hr-collapsed": false
   },
   "source": [
    "## Exercício\n",
    "\n",
    "Escreva uma sentença em Cypher que crie o medicamento de nome `Metamizole`, código no DrugBank `DB04817`."
   ]
  },
  {
   "cell_type": "markdown",
   "metadata": {},
   "source": [
    "### Resolução\n",
    "~~~cypher\n",
    "(escreva aqui a resolução em Cypher)\n",
    "~~~"
   ]
  },
  {
   "cell_type": "markdown",
   "metadata": {
    "toc-hr-collapsed": false
   },
   "source": [
    "## Relacionamentos\n",
    "\n",
    "Um relacionamento é representado por uma seta direcionada. No meio da seta aparece um par de colchetes onde é definido o rótulo do relacionamento e onde podem ser definidos atributos. No exemplo a seguir são criados dois nós com um relacionamento rotulado como `:Treats` entre eles:\n",
    "\n",
    "~~~cypher\n",
    "CREATE (:Drug {name:\"Paracetamol\"})-[:Treats]->(:Pathology {name:\"Fever\"})\n",
    "~~~"
   ]
  },
  {
   "cell_type": "markdown",
   "metadata": {
    "toc-hr-collapsed": false
   },
   "source": [
    "## Concatenando `MATCHs`\n",
    "\n",
    "É possível se concatenar mais de um `MATCH`. Na setença a seguir é criada uma relação entre dois nós recuperados pelo `MATCH`, o medicamento `Dipyrone` e a patologia `Fever`:\n",
    "\n",
    "~~~cypher\n",
    "MATCH (d:Drug {name:\"Dipyrone\"})\n",
    "MATCH (p:Pathology {name:\"Fever\"})\n",
    "CREATE (d)-[:Treats]->(p)\n",
    "~~~"
   ]
  },
  {
   "cell_type": "markdown",
   "metadata": {
    "toc-hr-collapsed": false
   },
   "source": [
    "## Exercício\n",
    "\n",
    "Considerando que a `Dipyrone` e `Metamizole` são o mesmo medicamento com nomes diferentes, crie uma aresta com o rótulo `:SameAs` que ligue os dois."
   ]
  },
  {
   "cell_type": "markdown",
   "metadata": {},
   "source": [
    "### Resolução\n",
    "~~~cypher\n",
    "(escreva aqui a resolução em Cypher)\n",
    "~~~"
   ]
  },
  {
   "cell_type": "markdown",
   "metadata": {
    "toc-hr-collapsed": false
   },
   "source": [
    "## Exercício\n",
    "\n",
    "Use o `DELETE` para excluir o relacionamento que você criou (apenas ele)."
   ]
  },
  {
   "cell_type": "markdown",
   "metadata": {},
   "source": [
    "### Resolução\n",
    "~~~cypher\n",
    "(escreva aqui a resolução em Cypher)\n",
    "~~~"
   ]
  },
  {
   "cell_type": "markdown",
   "metadata": {},
   "source": [
    "## `WHERE`\n",
    "\n",
    "A Cláusula `WHERE` pode ser composta com as demais cláusulas para acrescentar-lhes condições que não podem ser atendidas diretamente no `MATCH`. Por exemplo, suponha que se deseje construir uma sentença ligar através de uma aresta rotulada como `:SameAs` todas as drogas que têm o mesmo código `drugbank`, o `WHERE` poderia ser usado para a associação de atributos de diferentes nós:\n",
    "\n",
    "~~~cypher\n",
    "MATCH (d1:Drug)\n",
    "MATCH (d2:Drug)\n",
    "WHERE d1.drugbank = d2.drugbank AND d1.name <> d2.name\n",
    "CREATE (d1)-[:SameAs]->(d2)\n",
    "~~~\n",
    "\n",
    "Veja o resultado:\n",
    "~~~cypher\n",
    "MATCH (n)\n",
    "RETURN n\n",
    "~~~\n",
    "\n",
    "Note que a aresta `:SameAs` aparece em ambas as direções porque a combinação dos nós em ambas as ordens atendem à condição."
   ]
  },
  {
   "cell_type": "markdown",
   "metadata": {
    "toc-hr-collapsed": false
   },
   "source": [
    "## Limpando a Base\n",
    "\n",
    "Vamos agora limpar a base para iniciarmos um novo ciclo de queries. Inicialmente, devem ser removidas todas as arestas:\n",
    "\n",
    "~~~cypher\n",
    "MATCH (n1)-[e]->(n2)\n",
    "DELETE e\n",
    "~~~\n",
    "\n",
    "Em seguida todos os nós:\n",
    "\n",
    "~~~cypher\n",
    "MATCH (n)\n",
    "DELETE n\n",
    "~~~\n",
    "\n",
    "Note que removemos primeiro as arestas porque um nó não se deixará remover se tiver arestas a ele ligadas."
   ]
  }
 ],
 "metadata": {
  "kernelspec": {
   "display_name": "SQL",
   "language": "SQL",
   "name": "sql"
  },
  "language_info": {
   "codemirror_mode": "sql",
   "file_extension": ".sql",
   "mimetype": "",
   "name": "SQL",
   "nbconverter_exporter": "",
   "version": ""
  }
 },
 "nbformat": 4,
 "nbformat_minor": 2
}
