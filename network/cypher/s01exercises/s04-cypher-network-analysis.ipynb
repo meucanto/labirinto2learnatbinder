{
 "cells": [
  {
   "cell_type": "markdown",
   "metadata": {},
   "source": [
    "# Neo4j e Cypher - Conceitos Básicos\n",
    "\n",
    "Entre no Sandbox do Cypher: https://neo4j.com/\n",
    "\n",
    "Há uma opção de se usar o Neo4j online através de um sandbox em: https://neo4j.com/sandbox-v2/\n",
    "\n",
    "Crie uma conta e abra um `Blank Sandbox`. Abaixo segue um tutorial a ser executado nesse sandbox."
   ]
  },
  {
   "cell_type": "markdown",
   "metadata": {},
   "source": [
    "## PageRank"
   ]
  },
  {
   "cell_type": "markdown",
   "metadata": {},
   "source": [
    "### Simple Example\n",
    "\n",
    "The `pagerank` directory has examples of the centrality algorithm PageRank.\n",
    "\n",
    "In the first example, you are invited to produce a Comma Separated Value (CSV) departing from the following graph:\n",
    "\n",
    "![Original Graph](../../pagerank/pagerank-simple-original.png).\n",
    "\n",
    "The produced file is like the following: [pagerank-simple.cvs](../../pagerank/pagerank-simple.csv). It is the starting point.\n",
    "\n",
    "The following loads the CSV into a Neo4J graph:\n",
    "\n",
    "~~~cypher\n",
    "LOAD CSV WITH HEADERS FROM 'https://raw.githubusercontent.com/santanche/lab2learn/master/network/pagerank/pagerank-simple.csv' AS line\n",
    "MERGE (p1:Page {name:line.Source})\n",
    "MERGE (p2:Page {name:line.Target})\n",
    "CREATE (p1)-[:LINKS]->(p2)\n",
    "~~~\n",
    "\n",
    "Showing the graph:\n",
    "\n",
    "~~~cypher\n",
    "MATCH (n)\n",
    "RETURN n\n",
    "~~~\n",
    "\n",
    "The following Pagerank algorithm can be applied in the graph. It is based on [The PageRank algorithm](https://neo4j.com/docs/graph-algorithms/3.5/algorithms/page-rank/).\n",
    "\n",
    "~~~cypher\n",
    "CALL algo.pageRank.stream('Page', 'LINKS', {iterations:20, dampingFactor:0.85})\n",
    "YIELD nodeId, score\n",
    "\n",
    "RETURN algo.asNode(nodeId).name AS name,score\n",
    "ORDER BY score DESC\n",
    "~~~\n",
    "\n",
    "It produces the following result:\n",
    "\n",
    "~~~csv\n",
    "name\tscore\n",
    "\"A\"\t0.5074781282804907\n",
    "\"C\"\t0.2743125001899898\n",
    "\"B\"\t0.19250000063329936\n",
    "\"D\"\t0.15000000000000002\n",
    "~~~\n",
    "\n",
    "![Simple PageRank](../../pagerank/pagerank-simple.png)"
   ]
  },
  {
   "cell_type": "markdown",
   "metadata": {},
   "source": [
    "### Exercise - Wikipedia Example\n",
    "\n",
    "Following the previous steps, you can depart from the file [pagerank-wikipedia.csv](../../pagerank/pagerank-wikipedia.csv) to create the example illustrated in Wikipedia: https://en.wikipedia.org/wiki/PageRank.\n",
    "\n",
    "![Wikipedia PageRank](../../pagerank/pagerank-wikipedia.png)\n",
    "\n",
    "Compute the Pagerank of the Wikipedia example in Cypher:"
   ]
  },
  {
   "cell_type": "markdown",
   "metadata": {},
   "source": [
    "~~~cypher\n",
    "=== response ===\n",
    "~~~"
   ]
  },
  {
   "cell_type": "markdown",
   "metadata": {},
   "source": [
    "## Community\n",
    "\n",
    "There are [Community Detection Algoritms in Neo4J](https://neo4j.com/docs/graph-algorithms/3.5/algorithms/community/) the you can use in the following data.\n",
    "\n",
    "### Exercise - Simple Comunity\n",
    "\n",
    "The following example (inside the `community` directory) shows data to compute communities in a simple graph.\n",
    "\n",
    "The graph is produced starting from the following CSV file: [community-simple.csv](../../community/community-simple.csv).\n",
    "\n",
    "The resulting expected graph can be seen in the illustration below.\n",
    "\n",
    "![Simple Community](../../community/community-simple.png)\n",
    "\n",
    "Detect this Comunity in Cypher:"
   ]
  },
  {
   "cell_type": "markdown",
   "metadata": {},
   "source": [
    "~~~cypher\n",
    "=== response ===\n",
    "~~~"
   ]
  },
  {
   "cell_type": "markdown",
   "metadata": {},
   "source": [
    "## Symptoms–disease network\n",
    "\n",
    "In the directory `symptoms-disease` congregates a CSV file from the following paper adapted for Gephi: [ncomms5212-s5_gephi.tsv](symptoms-disease/ncomms5212-s5_gephi.tsv).\n",
    "\n",
    "> Zhou, X., Menche, J., Barabási, A.-L., & Sharma, A. (2014). Human symptoms–disease network. Nature Communications, 5(1), 4212. https://doi.org/10.1038/ncomms5212\n",
    "\n",
    "You can try to run the comunity algorithm in this dataset.\n",
    "\n",
    "![Disease Network 1](../../symptoms-disease/disease-disease-01.png)\n",
    "![Disease Network 2](../../symptoms-disease/disease-disease-02.png)"
   ]
  }
 ],
 "metadata": {
  "kernelspec": {
   "display_name": "SQL",
   "language": "SQL",
   "name": "sql"
  },
  "language_info": {
   "codemirror_mode": "sql",
   "file_extension": ".sql",
   "mimetype": "",
   "name": "SQL",
   "nbconverter_exporter": "",
   "version": ""
  }
 },
 "nbformat": 4,
 "nbformat_minor": 2
}
