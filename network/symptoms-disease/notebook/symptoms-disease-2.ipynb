{
 "cells": [
  {
   "cell_type": "markdown",
   "metadata": {},
   "source": [
    "# Symptom Disease\n",
    "*Lab 17 May 2022*"
   ]
  },
  {
   "cell_type": "code",
   "execution_count": 1,
   "metadata": {},
   "outputs": [],
   "source": [
    "%defaultDatasource jdbc:h2:mem:db"
   ]
  },
  {
   "cell_type": "code",
   "execution_count": 2,
   "metadata": {},
   "outputs": [],
   "source": [
    "DROP TABLE IF EXISTS SD;\n",
    "\n",
    "CREATE TABLE SD(\n",
    "    source VARCHAR,\n",
    "    target VARCHAR,\n",
    "    weight FLOAT\n",
    ") AS SELECT source,target,weight\n",
    "FROM CSVREAD('ncomms5212-s5_network.csv');"
   ]
  },
  {
   "cell_type": "code",
   "execution_count": 3,
   "metadata": {},
   "outputs": [
    {
     "data": {
      "application/vnd.jupyter.widget-view+json": {
       "model_id": "dea28594-cc34-4062-851e-b53fde40c9fb",
       "version_major": 2,
       "version_minor": 0
      },
      "method": "display_data"
     },
     "metadata": {},
     "output_type": "display_data"
    }
   ],
   "source": [
    "SELECT * FROM SD LIMIT 5;"
   ]
  },
  {
   "cell_type": "code",
   "execution_count": 14,
   "metadata": {},
   "outputs": [
    {
     "data": {
      "text/plain": [
       "3248"
      ]
     },
     "execution_count": 14,
     "metadata": {},
     "output_type": "execute_result"
    }
   ],
   "source": [
    "CALL CSVWRITE('symptoms-disease-g08-edges.csv', 'SELECT * FROM SD WHERE weight>=0.7', 'fieldDelimiter=');"
   ]
  },
  {
   "cell_type": "code",
   "execution_count": 15,
   "metadata": {},
   "outputs": [],
   "source": [
    "DROP TABLE IF EXISTS Mesh;\n",
    "\n",
    "CREATE TABLE Mesh(\n",
    "    term VARCHAR,\n",
    "    tree VARCHAR,\n",
    "    l1 VARCHAR(3),\n",
    "    l2 VARCHAR(3),\n",
    "    l3 VARCHAR(3),\n",
    "    l4 VARCHAR(3),\n",
    "    l5 VARCHAR(3),\n",
    "    l6 VARCHAR(3),\n",
    "    l7 VARCHAR(3),\n",
    "    PRIMARY KEY (tree)\n",
    ") AS SELECT term,tree,l1,l2,l3,l4,l5,l6,l7\n",
    "FROM CSVREAD('mesh-code-tree.csv');"
   ]
  },
  {
   "cell_type": "code",
   "execution_count": 16,
   "metadata": {},
   "outputs": [
    {
     "data": {
      "application/vnd.jupyter.widget-view+json": {
       "model_id": "b3e186ef-1e0c-4816-85b7-3bb291cf4aeb",
       "version_major": 2,
       "version_minor": 0
      },
      "method": "display_data"
     },
     "metadata": {},
     "output_type": "display_data"
    }
   ],
   "source": [
    "SELECT * FROM Mesh;"
   ]
  },
  {
   "cell_type": "code",
   "execution_count": null,
   "metadata": {},
   "outputs": [],
   "source": []
  }
 ],
 "metadata": {
  "kernelspec": {
   "display_name": "SQL",
   "language": "SQL",
   "name": "sql"
  },
  "language_info": {
   "codemirror_mode": "sql",
   "file_extension": ".sql",
   "mimetype": "",
   "name": "SQL",
   "nbconverter_exporter": "",
   "version": ""
  },
  "toc": {
   "base_numbering": 1,
   "nav_menu": {},
   "number_sections": false,
   "sideBar": false,
   "skip_h1_title": false,
   "title_cell": "Table of Contents",
   "title_sidebar": "Contents",
   "toc_cell": false,
   "toc_position": {},
   "toc_section_display": false,
   "toc_window_display": false
  }
 },
 "nbformat": 4,
 "nbformat_minor": 2
}
