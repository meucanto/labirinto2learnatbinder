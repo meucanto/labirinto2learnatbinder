{
 "cells": [
  {
   "cell_type": "markdown",
   "metadata": {},
   "source": [
    "# Acesso ao banco em Java\n",
    "\n",
    "Esta rotina conecta o banco de camonhos, carrega a tabela de Tarefas e mostra."
   ]
  },
  {
   "cell_type": "code",
   "execution_count": 1,
   "metadata": {},
   "outputs": [
    {
     "data": {
      "application/vnd.jupyter.widget-view+json": {
       "model_id": "25c7365f-43af-4ffd-96ab-cb9f181ed57f",
       "version_major": 2,
       "version_minor": 0
      },
      "method": "display_data"
     },
     "metadata": {},
     "output_type": "display_data"
    },
    {
     "data": {
      "text/plain": [
       "com.twosigma.beaker.javash.bkr16654974.AppCronograma"
      ]
     },
     "execution_count": 1,
     "metadata": {},
     "output_type": "execute_result"
    }
   ],
   "source": [
    "%classpath add jar ../../lib/h2-1.4.197.jar\n",
    "\n",
    "import java.sql.Connection;\n",
    "import java.sql.DriverManager;\n",
    "import java.sql.ResultSet;\n",
    "import java.sql.SQLException;\n",
    "import java.sql.Statement;\n",
    "\n",
    "public class AppCronograma\n",
    "{\n",
    "      public static void listaTarefas()\n",
    "      {\n",
    "        try {\n",
    "            // carrega classe com implementacao para o driver\n",
    "            //   neste caso o driver MySQL\n",
    "            Class.forName(\"org.h2.Driver\");\n",
    "\n",
    "            // estabelece conexao com a base de dados\n",
    "            Connection conexao = DriverManager.getConnection(\"jdbc:h2:file:~/data/caminhos/caminhos\");\n",
    "\n",
    "            // cria um objeto de comandos SQL para a base\n",
    "            Statement comando = conexao.createStatement();\n",
    "\n",
    "            // aciona metodo que executa comando SQL (este metodo e especialmente usado para acesso)\n",
    "            ResultSet resultado = comando.executeQuery(\"SELECT * FROM Task\");\n",
    "            \n",
    "            System.out.println(\"===== Tarefas =====\");\n",
    "            System.out.println(\"id, name\");\n",
    "            \n",
    "            // lista o conteudo da tabela no console\n",
    "            boolean temConteudo = resultado.next();\n",
    "            while (temConteudo)\n",
    "            {\n",
    "              String id = resultado.getString(\"id\");\n",
    "              String name = resultado.getString(\"name\");\n",
    "              System.out.println(id + \", \" + name);\n",
    "              temConteudo = resultado.next();\n",
    "            }\n",
    "\n",
    "            comando.close();\n",
    "            conexao.close();\n",
    "        } catch (ClassNotFoundException erro) {\n",
    "            System.out.println(\"ClassNotFoundException: \" + erro.getMessage());\n",
    "        } catch (SQLException erro) {\n",
    "            System.out.println(\"Erro no SQL: \" + erro.getMessage());\n",
    "        }\n",
    "      }\n",
    "}"
   ]
  },
  {
   "cell_type": "code",
   "execution_count": 2,
   "metadata": {},
   "outputs": [
    {
     "name": "stdout",
     "output_type": "stream",
     "text": [
      "===== Tarefas =====\n",
      "id, name\n",
      "Começo, Começo do Processo\n",
      "Compra, Compra de Matéria Prima\n",
      "Preparação, Preparação de Equipamento\n",
      "Produção, Produção\n",
      "Pedido, Pedido de Produto\n",
      "Venda, Venda de Produto\n",
      "Despacho, Despacho de Produto Vendido\n",
      "Entrega, Entrega de Produto\n",
      "Fatura, Emissão da Fatura\n",
      "Cobrança, Cobrança do Produto\n",
      "Fim, Fim do Processo\n"
     ]
    },
    {
     "data": {
      "text/plain": [
       "null"
      ]
     },
     "execution_count": 2,
     "metadata": {},
     "output_type": "execute_result"
    }
   ],
   "source": [
    "AppCronograma.listaTarefas();"
   ]
  }
 ],
 "metadata": {
  "kernelspec": {
   "display_name": "Java",
   "language": "java",
   "name": "java"
  },
  "language_info": {
   "codemirror_mode": "text/x-java",
   "file_extension": ".java",
   "mimetype": "",
   "name": "Java",
   "nbconverter_exporter": "",
   "version": "1.8.0_152-release"
  },
  "toc": {
   "base_numbering": 1,
   "nav_menu": {},
   "number_sections": false,
   "sideBar": false,
   "skip_h1_title": false,
   "title_cell": "Table of Contents",
   "title_sidebar": "Contents",
   "toc_cell": false,
   "toc_position": {},
   "toc_section_display": false,
   "toc_window_display": false
  }
 },
 "nbformat": 4,
 "nbformat_minor": 2
}
