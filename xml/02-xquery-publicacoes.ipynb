{
 "cells": [
  {
   "cell_type": "markdown",
   "metadata": {},
   "source": [
    "# XPath e XQuery\n",
    "\n",
    "# XPath\n",
    "\n",
    "![XPath1](referencia-xpath1.png)\n",
    "![XPath2](referencia-xpath2.png)"
   ]
  },
  {
   "cell_type": "markdown",
   "metadata": {},
   "source": [
    "# XQuery\n",
    "```xquery\n",
    "FOR <variable bindings to individual nodes (elements)>\n",
    "  LET <variable bindings to collections of nodes (elements)>\n",
    "  WHERE <qualifier conditions>\n",
    "  RETURN <query result specification>\n",
    "```"
   ]
  },
  {
   "cell_type": "markdown",
   "metadata": {},
   "source": [
    "# Exercício sobre publicações\n",
    "\n",
    "Considere a representação gráfica a seguir de um esquema XML referente a publicação de artigos em conferências e revistas científicas (*journals*). O elemento `<publications>` define um título `<title>` geral, um conjunto de categorias `<categories>` (em que as publicações estão categorizadas) e as  publicações -- elementos `<publication>`. Diversos elementos, como o `<title>`, são definidos como `multiLangType`, que indica que além da string de conteúdo, têm um atributo `@lang` que define em que língua o conteúdo está.\n",
    "\n",
    "O conjunto de categorias define a chave que será usada para classificar as categorias `@catkey` e um título descritivo do conjunto de categorias `<title>`. Cada categoria `<category>` dentro do conjunto define uma chave de identificação `@key` e rótulo. Há um tipo de categoria especial year que será usada para agrupar publicações por ano.\n",
    "    \n",
    "Cada publicação `<publication>` define títul `title>`, um conjunto de autores `<author>`, mês `<month>` e ano `<year>` em que foi publicada e chaves `@key`, que associam a publicação a categorias. Uma publicação terá um elemento `<event>` se foi publicada em um evento (e.g., conferência ou workshop); para cada evento é definido o link `@href` para a sua página, onde ele aconteceu (`@location`) e qual os dias de início `@begin` e fim `@end`. Se, por outro lado, a publicação for em uma revista científica, um elemento `<journal>` indicará o link `@href` da revista, o volume `@vol` e número `@n` em que o artigo foi publicado. Quando as publicações estão disponíveis online, um ou mais links para os respectivos arquivos são providos pelo elemento `<online>` através do atributo `@href`.\n",
    "\n",
    "Responda as seguintes questões fazendo acesso ao arquivo XML disponível em: http://www.ic.unicamp.br/~santanch/publications/publications.xml\n",
    "\n",
    "Cujo esquema está disponível em: http://www.ic.unicamp.br/~santanch/publications/publications.xsd\n",
    "\n",
    "A seguir é apresentado um diagramas do esquema do arquivo:\n",
    "![XQueryS2](publications-schema2.png)\n",
    "\n",
    "Você deve testar as queries em: http://try.zorba.io/\n",
    "\n",
    "Para todas as queries a seguir considere a sentença que associa o arquivo XML à variável `$publicadoc`:\n",
    "\n",
    "```xquery\n",
    "let $publicadoc := doc('http://www.ic.unicamp.br/~santanch/publications/publications.xml')\n",
    "```"
   ]
  },
  {
   "cell_type": "markdown",
   "metadata": {},
   "source": [
    "## Questão 1\n",
    "Analise a query a seguir e descreva o que ela faz:\n",
    "```xquery\n",
    "return count($publicadoc//publication[year>2010])\n",
    "```"
   ]
  },
  {
   "cell_type": "markdown",
   "metadata": {},
   "source": [
    "**Resposta:** "
   ]
  },
  {
   "cell_type": "markdown",
   "metadata": {},
   "source": [
    "## Questão 2\n",
    "**a)** Analise a query a seguir e descreva o que ela faz:\n",
    "```xml\n",
    "for $c in ($publicadoc//categories/category)\n",
    "where $c/label[@lang='en-US'] = 'e-Science Domain'\n",
    "return $c\n",
    "```"
   ]
  },
  {
   "cell_type": "markdown",
   "metadata": {},
   "source": [
    "**Resposta:** "
   ]
  },
  {
   "cell_type": "markdown",
   "metadata": {},
   "source": [
    "**b)** Transforme a query da letra (a) em uma única sentença em XPath sem o `for` (dentro de um `return` do XQuery)."
   ]
  },
  {
   "cell_type": "markdown",
   "metadata": {},
   "source": [
    "**Resposta:**\n",
    "```xquery\n",
    "\n",
    "```"
   ]
  },
  {
   "cell_type": "markdown",
   "metadata": {},
   "source": [
    "## JOIN em XQuery\n",
    "\n",
    "Em XQuery é possível associar duas variáveis a dois caminhos que são percorridos em paralelo. No exemplo a seguir, a variável `$c` é associada ao caminho `$publicadoc//categories/category` e a variável `$p` ao caminho `$publicadoc//publication`. Quando o campo `key` de `$p` é associado ao atributo `@key` de `$c`, é realizado um JOIN ao modo SQL.\n",
    "\n",
    "A consulta a seguir retorna as publicações associadas à categoria cujo `<label>` em inglês é '`e-Science Domain`'. \n",
    "\n",
    "```xml\n",
    "for $c in ($publicadoc//categories/category),\n",
    "    $p in ($publicadoc//publication)\n",
    "where $c/label[@lang='en-US'] = 'e-Science Domain' and\n",
    "      $p/key = $c/@key\n",
    "return $p\n",
    "```\n",
    "\n",
    "Considere um segundo arquivo XML contendo dados de autores de livros:\n",
    "```xml\n",
    "<authors>\n",
    "    <author name=\"Hugo Alves\" country=\"Brazil\"/>\n",
    "    <author name=\"André Santanchè\" country=\"Italy\"/>\n",
    "    ...\n",
    "</authors>\n",
    "```\n",
    "\n",
    "O arquivo está disponível em: http://www.ic.unicamp.br/~santanch/publications/authors.xml"
   ]
  },
  {
   "cell_type": "markdown",
   "metadata": {},
   "source": [
    "# Questão 3\n",
    "\n",
    "*a)* Liste todos os autores que não são do Brasil:"
   ]
  },
  {
   "cell_type": "markdown",
   "metadata": {},
   "source": [
    "**Resposta:**\n",
    "```xquery\n",
    "\n",
    "```"
   ]
  },
  {
   "cell_type": "markdown",
   "metadata": {},
   "source": [
    "*b)* Liste todos os artigos publicados por pelo menos um autor que não é do Brasil."
   ]
  },
  {
   "cell_type": "markdown",
   "metadata": {},
   "source": [
    "**Resposta:**\n",
    "```xml\n",
    "\n",
    "```"
   ]
  },
  {
   "cell_type": "markdown",
   "metadata": {},
   "source": [
    "# Questão 4\n",
    "\n",
    "Analise a query a seguir e descreva o que ela faz.\n",
    "\n",
    "A sequência `&#10;` é para pular uma linha. Execute o codigo a seguir."
   ]
  },
  {
   "cell_type": "markdown",
   "metadata": {},
   "source": [
    "```xml\n",
    "let $publicadoc := doc('http://www.ic.unicamp.br/~santanch/publications/publications.xml')\n",
    "for $c in ($publicadoc//categories[@catkey = 'subject']/category)\n",
    "return {<group>&#10;\n",
    "         <category>{data($c/label[@lang='en-US'])}</category>&#10;\n",
    "         {for $p in ($publicadoc//publication)\n",
    "          where $p/key = $c/@key\n",
    "          return <ptitle>{data($p/title)}</ptitle>, '&#10;'}\n",
    "        </group>, '&#10;&#10;'}\n",
    "```"
   ]
  },
  {
   "cell_type": "markdown",
   "metadata": {},
   "source": [
    "**Resposta:**"
   ]
  }
 ],
 "metadata": {
  "kernelspec": {
   "display_name": "Python 3",
   "language": "python",
   "name": "python3"
  },
  "language_info": {
   "codemirror_mode": {
    "name": "ipython",
    "version": 3
   },
   "file_extension": ".py",
   "mimetype": "text/x-python",
   "name": "python",
   "nbconvert_exporter": "python",
   "pygments_lexer": "ipython3",
   "version": "3.7.3"
  }
 },
 "nbformat": 4,
 "nbformat_minor": 2
}
