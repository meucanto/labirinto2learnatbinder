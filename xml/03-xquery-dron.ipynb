{
 "cells": [
  {
   "cell_type": "markdown",
   "metadata": {},
   "source": [
    "# DRON - The Drug Ontology\n",
    "\n",
    "Dada a sequinte hierarquia de medicamentamentos em que cada medicamento ou categoria de medicamento é representado pelo elemento `<DRUG>`. Quando medicamento é suburdinado a uma categoria de medicamentos ele é subordinado no XML. A seguir um código em XQUERY que recupera ela.\n",
    "\n",
    "Você deve testar as queries em: http://try.zorba.io/"
   ]
  },
  {
   "cell_type": "code",
   "execution_count": null,
   "metadata": {},
   "outputs": [],
   "source": [
    "let $dron := doc('http://www.ic.unicamp.br/~santanch/lab/dron/dron.xml')\n",
    "return $dron"
   ]
  },
  {
   "cell_type": "markdown",
   "metadata": {},
   "source": [
    "## Exercício 1\n",
    "\n",
    "Escreva um código que conte quantas drogas estão subordinadas à \"CHEMICAL ENTITY\"."
   ]
  },
  {
   "cell_type": "code",
   "execution_count": null,
   "metadata": {},
   "outputs": [],
   "source": []
  },
  {
   "cell_type": "markdown",
   "metadata": {},
   "source": [
    "# Exercício 2\n",
    "\n",
    "Considere que os mesmos dados estão representados em CSV:\n",
    "* `drug.csv` - código e nome de cada droga ou categoria de droga\n",
    "* `drughierarchy.csv` - indica que uma droga é subordinada a uma categoria\n",
    "\n",
    "Como seria um código em SQL que realize a mesma contagem?"
   ]
  },
  {
   "cell_type": "code",
   "execution_count": 3,
   "metadata": {},
   "outputs": [],
   "source": [
    "%defaultDatasource jdbc:h2:mem:db"
   ]
  },
  {
   "cell_type": "code",
   "execution_count": 4,
   "metadata": {},
   "outputs": [
    {
     "data": {
      "application/vnd.jupyter.widget-view+json": {
       "model_id": "2a1a37c1-f763-4817-ad70-92b9e4c62074",
       "version_major": 2,
       "version_minor": 0
      },
      "method": "display_data"
     },
     "metadata": {},
     "output_type": "display_data"
    },
    {
     "data": {
      "application/vnd.jupyter.widget-view+json": {
       "model_id": "5d769990-0216-4242-9161-960a9b048765",
       "version_major": 2,
       "version_minor": 0
      },
      "method": "display_data"
     },
     "metadata": {},
     "output_type": "display_data"
    }
   ],
   "source": [
    "DROP TABLE IF EXISTS Drug;\n",
    "DROP TABLE IF EXISTS DrugHierarchy;\n",
    "\n",
    "CREATE TABLE Drug(\n",
    "  code VARCHAR(200) NOT NULL,\n",
    "  name VARCHAR(200) NOT NULL,\n",
    "  PRIMARY KEY(code)\n",
    ") AS SELECT code, name\n",
    "FROM CSVREAD('../data/faers-2017-dron/drug.csv');\n",
    "\n",
    "CREATE TABLE DrugHierarchy(\n",
    "  codeDrug VARCHAR(200) NOT NULL,\n",
    "  parent VARCHAR(200),\n",
    "  FOREIGN KEY(codeDrug)\n",
    "    REFERENCES Drug(code)\n",
    "      ON DELETE NO ACTION\n",
    "      ON UPDATE NO ACTION,\n",
    "  FOREIGN KEY(parent)\n",
    "    REFERENCES Drug(code)\n",
    "      ON DELETE NO ACTION\n",
    "      ON UPDATE NO ACTION\n",
    ") AS SELECT codedrug, parent\n",
    "FROM CSVREAD('../data/faers-2017-dron/drughierarchy.csv');\n",
    "\n",
    "SELECT * FROM Drug;\n",
    "SELECT * FROM DrugHierarchy;"
   ]
  },
  {
   "cell_type": "markdown",
   "metadata": {},
   "source": [
    "**Resposta:** "
   ]
  },
  {
   "cell_type": "markdown",
   "metadata": {},
   "source": [
    "# Trabalho\n",
    "\n",
    "Encontra um problema no seu trabalho que precise ser resolvido por uma linguagem de consulta hierárquica como o XQuery."
   ]
  },
  {
   "cell_type": "code",
   "execution_count": null,
   "metadata": {},
   "outputs": [],
   "source": []
  }
 ],
 "metadata": {
  "kernelspec": {
   "display_name": "SQL",
   "language": "SQL",
   "name": "sql"
  },
  "language_info": {
   "codemirror_mode": "sql",
   "file_extension": ".sql",
   "mimetype": "",
   "name": "SQL",
   "nbconverter_exporter": "",
   "version": ""
  }
 },
 "nbformat": 4,
 "nbformat_minor": 2
}
