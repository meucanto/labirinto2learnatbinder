{
 "cells": [
  {
   "cell_type": "markdown",
   "metadata": {},
   "source": [
    "# MeSH\n",
    "\n",
    "Medical Subject Headings (MeSH)\n",
    "\n",
    "## MeSH SPARQL endpoint\n",
    "Explore o endpoint em: http://id.nlm.nih.gov/mesh\n",
    "\n",
    "O primeiro passo é realizar a conexão com um endpoint (servidor que responderá as requisições em SPARQL) para o MeSH."
   ]
  },
  {
   "cell_type": "code",
   "execution_count": 1,
   "metadata": {},
   "outputs": [
    {
     "data": {
      "text/html": [
       "<div class=\"krn-spql\"><div class=\"magic\">Endpoint set to: http://id.nlm.nih.gov/mesh/sparql</div><div class=\"magic\">Display: table</div><div class=\"magic\">Result maximum size: unlimited</div></div>"
      ],
      "text/plain": [
       "Endpoint set to: http://id.nlm.nih.gov/mesh/sparql\n",
       "Display: table\n",
       "Result maximum size: unlimited\n"
      ]
     },
     "metadata": {},
     "output_type": "display_data"
    }
   ],
   "source": [
    "%endpoint http://id.nlm.nih.gov/mesh/sparql\n",
    "%display table\n",
    "%show all"
   ]
  },
  {
   "cell_type": "markdown",
   "metadata": {},
   "source": [
    "## MeSH Namespaces\n",
    "\n",
    "No caso do MeSH você precisa declarar explicitamente antes do SPARQL os mapeamentos de namespace usando o PREFIX.\n",
    "\n",
    "## Namespaces disponíveis\n",
    "~~~sparql\n",
    "PREFIX rdf: <http://www.w3.org/1999/02/22-rdf-syntax-ns#>\n",
    "PREFIX rdfs: <http://www.w3.org/2000/01/rdf-schema#>\n",
    "PREFIX xsd: <http://www.w3.org/2001/XMLSchema#>\n",
    "PREFIX owl: <http://www.w3.org/2002/07/owl#>\n",
    "PREFIX meshv: <http://id.nlm.nih.gov/mesh/vocab#>\n",
    "PREFIX mesh: <http://id.nlm.nih.gov/mesh/>\n",
    "PREFIX mesh2015: <http://id.nlm.nih.gov/mesh/2015/>\n",
    "PREFIX mesh2016: <http://id.nlm.nih.gov/mesh/2016/>\n",
    "PREFIX mesh2017: <http://id.nlm.nih.gov/mesh/2017/>\n",
    "PREFIX mesh2018: <http://id.nlm.nih.gov/mesh/2018/>\n",
    "~~~"
   ]
  },
  {
   "cell_type": "markdown",
   "metadata": {},
   "source": [
    "# Entities with the label Myocardial Infarction"
   ]
  },
  {
   "cell_type": "code",
   "execution_count": 10,
   "metadata": {},
   "outputs": [
    {
     "data": {
      "text/html": [
       "<div class=\"krn-spql\"><table><tr class=hdr><th>entity</th></tr><tr class=odd><td class=val><a href=\"http://id.nlm.nih.gov/mesh/D009203\" target=\"_other\">http://id.nlm.nih.gov/mesh/D009203</a></td></tr><tr class=even><td class=val><a href=\"http://id.nlm.nih.gov/mesh/M0014340\" target=\"_other\">http://id.nlm.nih.gov/mesh/M0014340</a></td></tr></table><div class=\"tinfo\">Total: 2, Shown: 2</div></div>"
      ]
     },
     "metadata": {},
     "output_type": "display_data"
    }
   ],
   "source": [
    "PREFIX rdfs: <http://www.w3.org/2000/01/rdf-schema#>\n",
    "\n",
    "SELECT ?entity\n",
    "FROM <http://id.nlm.nih.gov/mesh>\n",
    "WHERE {\n",
    "    ?entity rdfs:label \"Myocardial Infarction\"@en\n",
    "}"
   ]
  },
  {
   "cell_type": "code",
   "execution_count": 11,
   "metadata": {},
   "outputs": [
    {
     "data": {
      "text/html": [
       "<div class=\"krn-spql\"><table><tr class=hdr><th>concept</th></tr><tr class=odd><td class=val><a href=\"http://id.nlm.nih.gov/mesh/M0014340\" target=\"_other\">http://id.nlm.nih.gov/mesh/M0014340</a></td></tr></table><div class=\"tinfo\">Total: 1, Shown: 1</div></div>"
      ]
     },
     "metadata": {},
     "output_type": "display_data"
    }
   ],
   "source": [
    "PREFIX rdfs: <http://www.w3.org/2000/01/rdf-schema#>\n",
    "PREFIX meshv: <http://id.nlm.nih.gov/mesh/vocab#>\n",
    "\n",
    "SELECT ?concept\n",
    "FROM <http://id.nlm.nih.gov/mesh>\n",
    "WHERE {\n",
    "    ?concept a meshv:Concept.\n",
    "    ?concept rdfs:label \"Myocardial Infarction\"@en\n",
    "}"
   ]
  },
  {
   "cell_type": "code",
   "execution_count": 2,
   "metadata": {},
   "outputs": [
    {
     "data": {
      "text/html": [
       "<div class=\"krn-spql\"><table><tr class=hdr><th>concept</th></tr><tr class=odd><td class=val><a href=\"http://id.nlm.nih.gov/mesh/M0000001\" target=\"_other\">http://id.nlm.nih.gov/mesh/M0000001</a></td></tr><tr class=even><td class=val><a href=\"http://id.nlm.nih.gov/mesh/M0000002\" target=\"_other\">http://id.nlm.nih.gov/mesh/M0000002</a></td></tr><tr class=odd><td class=val><a href=\"http://id.nlm.nih.gov/mesh/M0000003\" target=\"_other\">http://id.nlm.nih.gov/mesh/M0000003</a></td></tr><tr class=even><td class=val><a href=\"http://id.nlm.nih.gov/mesh/M0000004\" target=\"_other\">http://id.nlm.nih.gov/mesh/M0000004</a></td></tr><tr class=odd><td class=val><a href=\"http://id.nlm.nih.gov/mesh/M0000005\" target=\"_other\">http://id.nlm.nih.gov/mesh/M0000005</a></td></tr><tr class=even><td class=val><a href=\"http://id.nlm.nih.gov/mesh/M0000006\" target=\"_other\">http://id.nlm.nih.gov/mesh/M0000006</a></td></tr><tr class=odd><td class=val><a href=\"http://id.nlm.nih.gov/mesh/M0000007\" target=\"_other\">http://id.nlm.nih.gov/mesh/M0000007</a></td></tr><tr class=even><td class=val><a href=\"http://id.nlm.nih.gov/mesh/M0000008\" target=\"_other\">http://id.nlm.nih.gov/mesh/M0000008</a></td></tr><tr class=odd><td class=val><a href=\"http://id.nlm.nih.gov/mesh/M0000009\" target=\"_other\">http://id.nlm.nih.gov/mesh/M0000009</a></td></tr><tr class=even><td class=val><a href=\"http://id.nlm.nih.gov/mesh/M0000010\" target=\"_other\">http://id.nlm.nih.gov/mesh/M0000010</a></td></tr></table><div class=\"tinfo\">Total: 10, Shown: 10</div></div>"
      ]
     },
     "metadata": {},
     "output_type": "display_data"
    }
   ],
   "source": [
    "PREFIX meshv: <http://id.nlm.nih.gov/mesh/vocab#>\n",
    "\n",
    "SELECT ?concept\n",
    "FROM <http://id.nlm.nih.gov/mesh>\n",
    "WHERE {\n",
    "    ?concept a meshv:Concept\n",
    "}\n",
    "ORDER BY ?concept\n",
    "LIMIT 10"
   ]
  },
  {
   "cell_type": "code",
   "execution_count": 19,
   "metadata": {},
   "outputs": [
    {
     "data": {
      "text/html": [
       "<div class=\"krn-spql\"><table><tr class=hdr><th>label</th></tr><tr class=odd><td class=val>Myocardial Infarction</td></tr></table><div class=\"tinfo\">Total: 1, Shown: 1</div></div>"
      ]
     },
     "metadata": {},
     "output_type": "display_data"
    }
   ],
   "source": [
    "PREFIX rdfs: <http://www.w3.org/2000/01/rdf-schema#>\n",
    "\n",
    "SELECT ?label\n",
    "FROM <http://id.nlm.nih.gov/mesh>\n",
    "WHERE {\n",
    "    <http://id.nlm.nih.gov/mesh/M0014340> rdfs:label ?label\n",
    "}\n",
    "ORDER BY ?label"
   ]
  },
  {
   "cell_type": "code",
   "execution_count": 9,
   "metadata": {},
   "outputs": [
    {
     "data": {
      "text/html": [
       "<div class=\"krn-spql\"><table><tr class=hdr><th>concept</th>\n",
       "<th>label</th></tr><tr class=odd><td class=val><a href=\"http://id.nlm.nih.gov/mesh/M0000001\" target=\"_other\">http://id.nlm.nih.gov/mesh/M0000001</a></td>\n",
       "<td class=val>Calcimycin</td></tr><tr class=even><td class=val><a href=\"http://id.nlm.nih.gov/mesh/M0000002\" target=\"_other\">http://id.nlm.nih.gov/mesh/M0000002</a></td>\n",
       "<td class=val>Temefos</td></tr><tr class=odd><td class=val><a href=\"http://id.nlm.nih.gov/mesh/M0000003\" target=\"_other\">http://id.nlm.nih.gov/mesh/M0000003</a></td>\n",
       "<td class=val>Abattoirs</td></tr><tr class=even><td class=val><a href=\"http://id.nlm.nih.gov/mesh/M0000004\" target=\"_other\">http://id.nlm.nih.gov/mesh/M0000004</a></td>\n",
       "<td class=val>Abbreviations as Topic</td></tr><tr class=odd><td class=val><a href=\"http://id.nlm.nih.gov/mesh/M0000005\" target=\"_other\">http://id.nlm.nih.gov/mesh/M0000005</a></td>\n",
       "<td class=val>Abdomen</td></tr><tr class=even><td class=val><a href=\"http://id.nlm.nih.gov/mesh/M0000006\" target=\"_other\">http://id.nlm.nih.gov/mesh/M0000006</a></td>\n",
       "<td class=val>Abdomen, Acute</td></tr><tr class=odd><td class=val><a href=\"http://id.nlm.nih.gov/mesh/M0000007\" target=\"_other\">http://id.nlm.nih.gov/mesh/M0000007</a></td>\n",
       "<td class=val>Abdominal Injuries</td></tr><tr class=even><td class=val><a href=\"http://id.nlm.nih.gov/mesh/M0000008\" target=\"_other\">http://id.nlm.nih.gov/mesh/M0000008</a></td>\n",
       "<td class=val>Abdominal Neoplasms</td></tr><tr class=odd><td class=val><a href=\"http://id.nlm.nih.gov/mesh/M0000009\" target=\"_other\">http://id.nlm.nih.gov/mesh/M0000009</a></td>\n",
       "<td class=val>Abdominal Muscles</td></tr><tr class=even><td class=val><a href=\"http://id.nlm.nih.gov/mesh/M0000010\" target=\"_other\">http://id.nlm.nih.gov/mesh/M0000010</a></td>\n",
       "<td class=val>Abducens Nerve</td></tr></table><div class=\"tinfo\">Total: 10, Shown: 10</div></div>"
      ]
     },
     "metadata": {},
     "output_type": "display_data"
    }
   ],
   "source": [
    "PREFIX rdfs: <http://www.w3.org/2000/01/rdf-schema#>\n",
    "PREFIX meshv: <http://id.nlm.nih.gov/mesh/vocab#>\n",
    "\n",
    "SELECT ?concept ?label\n",
    "FROM <http://id.nlm.nih.gov/mesh>\n",
    "WHERE {\n",
    "    ?concept a meshv:Concept.\n",
    "    ?concept rdfs:label ?label\n",
    "}\n",
    "ORDER BY ?concept\n",
    "LIMIT 10"
   ]
  },
  {
   "cell_type": "code",
   "execution_count": 4,
   "metadata": {},
   "outputs": [
    {
     "data": {
      "text/html": [
       "<div class=\"krn-spql\"><table><tr class=hdr><th>term</th></tr><tr class=odd><td class=val><a href=\"http://id.nlm.nih.gov/mesh/T000866941\" target=\"_other\">http://id.nlm.nih.gov/mesh/T000866941</a></td></tr><tr class=even><td class=val><a href=\"http://id.nlm.nih.gov/mesh/T027448\" target=\"_other\">http://id.nlm.nih.gov/mesh/T027448</a></td></tr><tr class=odd><td class=val><a href=\"http://id.nlm.nih.gov/mesh/T855594\" target=\"_other\">http://id.nlm.nih.gov/mesh/T855594</a></td></tr></table><div class=\"tinfo\">Total: 3, Shown: 3</div></div>"
      ]
     },
     "metadata": {},
     "output_type": "display_data"
    }
   ],
   "source": [
    "PREFIX rdfs: <http://www.w3.org/2000/01/rdf-schema#>\n",
    "PREFIX meshv: <http://id.nlm.nih.gov/mesh/vocab#>\n",
    "\n",
    "SELECT ?term\n",
    "FROM <http://id.nlm.nih.gov/mesh>\n",
    "WHERE {\n",
    "    ?concept a meshv:Concept.\n",
    "    ?concept rdfs:label \"Myocardial Infarction\"@en.\n",
    "    ?concept meshv:term ?term\n",
    "}"
   ]
  },
  {
   "cell_type": "code",
   "execution_count": 2,
   "metadata": {},
   "outputs": [
    {
     "data": {
      "text/html": [
       "<div class=\"krn-spql\"><table><tr class=hdr><th>term</th>\n",
       "<th>label</th></tr><tr class=odd><td class=val><a href=\"http://id.nlm.nih.gov/mesh/T000866941\" target=\"_other\">http://id.nlm.nih.gov/mesh/T000866941</a></td>\n",
       "<td class=val>Heart Attack</td></tr><tr class=even><td class=val><a href=\"http://id.nlm.nih.gov/mesh/T027448\" target=\"_other\">http://id.nlm.nih.gov/mesh/T027448</a></td>\n",
       "<td class=val>Myocardial Infarct</td></tr><tr class=odd><td class=val><a href=\"http://id.nlm.nih.gov/mesh/T855594\" target=\"_other\">http://id.nlm.nih.gov/mesh/T855594</a></td>\n",
       "<td class=val>Cardiovascular Stroke</td></tr></table><div class=\"tinfo\">Total: 3, Shown: 3</div></div>"
      ]
     },
     "metadata": {},
     "output_type": "display_data"
    }
   ],
   "source": [
    "PREFIX rdfs: <http://www.w3.org/2000/01/rdf-schema#>\n",
    "PREFIX meshv: <http://id.nlm.nih.gov/mesh/vocab#>\n",
    "\n",
    "SELECT ?term ?label\n",
    "FROM <http://id.nlm.nih.gov/mesh>\n",
    "WHERE {\n",
    "    ?concept a meshv:Concept.\n",
    "    ?concept rdfs:label \"Myocardial Infarction\"@en.\n",
    "    ?concept meshv:term ?term.\n",
    "    ?term meshv:prefLabel ?label\n",
    "}"
   ]
  },
  {
   "cell_type": "code",
   "execution_count": 5,
   "metadata": {},
   "outputs": [
    {
     "data": {
      "text/html": [
       "<div class=\"krn-spql\"><table><tr class=hdr><th>term</th>\n",
       "<th>prefLabel</th>\n",
       "<th>altLabel</th></tr><tr class=odd><td class=val><a href=\"http://id.nlm.nih.gov/mesh/T000866941\" target=\"_other\">http://id.nlm.nih.gov/mesh/T000866941</a></td>\n",
       "<td class=val>Heart Attack</td>\n",
       "<td class=val>Heart Attacks</td></tr><tr class=even><td class=val><a href=\"http://id.nlm.nih.gov/mesh/T027448\" target=\"_other\">http://id.nlm.nih.gov/mesh/T027448</a></td>\n",
       "<td class=val>Myocardial Infarct</td>\n",
       "<td class=val>Infarct, Myocardial</td></tr><tr class=odd><td class=val><a href=\"http://id.nlm.nih.gov/mesh/T027448\" target=\"_other\">http://id.nlm.nih.gov/mesh/T027448</a></td>\n",
       "<td class=val>Myocardial Infarct</td>\n",
       "<td class=val>Infarcts, Myocardial</td></tr><tr class=even><td class=val><a href=\"http://id.nlm.nih.gov/mesh/T027448\" target=\"_other\">http://id.nlm.nih.gov/mesh/T027448</a></td>\n",
       "<td class=val>Myocardial Infarct</td>\n",
       "<td class=val>Myocardial Infarcts</td></tr><tr class=odd><td class=val><a href=\"http://id.nlm.nih.gov/mesh/T855594\" target=\"_other\">http://id.nlm.nih.gov/mesh/T855594</a></td>\n",
       "<td class=val>Cardiovascular Stroke</td>\n",
       "<td class=val>Cardiovascular Strokes</td></tr><tr class=even><td class=val><a href=\"http://id.nlm.nih.gov/mesh/T855594\" target=\"_other\">http://id.nlm.nih.gov/mesh/T855594</a></td>\n",
       "<td class=val>Cardiovascular Stroke</td>\n",
       "<td class=val>Stroke, Cardiovascular</td></tr><tr class=odd><td class=val><a href=\"http://id.nlm.nih.gov/mesh/T855594\" target=\"_other\">http://id.nlm.nih.gov/mesh/T855594</a></td>\n",
       "<td class=val>Cardiovascular Stroke</td>\n",
       "<td class=val>Strokes, Cardiovascular</td></tr></table><div class=\"tinfo\">Total: 7, Shown: 7</div></div>"
      ]
     },
     "metadata": {},
     "output_type": "display_data"
    }
   ],
   "source": [
    "PREFIX rdfs: <http://www.w3.org/2000/01/rdf-schema#>\n",
    "PREFIX meshv: <http://id.nlm.nih.gov/mesh/vocab#>\n",
    "\n",
    "SELECT ?term ?prefLabel ?altLabel\n",
    "FROM <http://id.nlm.nih.gov/mesh>\n",
    "WHERE {\n",
    "    ?concept a meshv:Concept.\n",
    "    ?concept rdfs:label \"Myocardial Infarction\"@en.\n",
    "    ?concept meshv:term ?term.\n",
    "    ?term meshv:prefLabel ?prefLabel.\n",
    "    ?term meshv:altLabel ?altLabel\n",
    "}"
   ]
  }
 ],
 "metadata": {
  "kernelspec": {
   "display_name": "SPARQL",
   "language": "sparql",
   "name": "sparql"
  },
  "language_info": {
   "codemirror_mode": {
    "name": "sparql"
   },
   "mimetype": "application/sparql-query",
   "name": "sparql",
   "pygments_lexer": "sparql-nb"
  }
 },
 "nbformat": 4,
 "nbformat_minor": 2
}
