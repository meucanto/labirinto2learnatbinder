{
 "cells": [
  {
   "cell_type": "code",
   "execution_count": 2,
   "metadata": {},
   "outputs": [
    {
     "data": {
      "text/html": [
       "<div class=\"krn-spql\"><div class=\"magic\">Endpoint set to: http://dbpedia.org/sparql</div><div class=\"magic\">Display: table</div><div class=\"magic\">Result maximum size: unlimited</div></div>"
      ],
      "text/plain": [
       "Endpoint set to: http://dbpedia.org/sparql\n",
       "Display: table\n",
       "Result maximum size: unlimited\n"
      ]
     },
     "metadata": {},
     "output_type": "display_data"
    }
   ],
   "source": [
    "%endpoint http://dbpedia.org/sparql\n",
    "%display table\n",
    "%show all"
   ]
  },
  {
   "cell_type": "markdown",
   "metadata": {},
   "source": [
    "# SPARQL\n",
    "## Em todas as questões e exercícios a seguir você pode limitar a saída para 20 itens usando a cláusula LIMIT 20."
   ]
  },
  {
   "cell_type": "markdown",
   "metadata": {},
   "source": [
    "# Exemplo\n",
    "## Quem é autor de The Tin Drum?"
   ]
  },
  {
   "cell_type": "code",
   "execution_count": 2,
   "metadata": {},
   "outputs": [
    {
     "data": {
      "text/html": [
       "<div class=\"krn-spql\"><table><tr class=hdr><th>aut</th></tr><tr class=odd><td class=val><a href=\"http://dbpedia.org/resource/Günter_Grass\" target=\"_other\">http://dbpedia.org/resource/Günter_Grass</a></td></tr></table><div class=\"tinfo\">Total: 1, Shown: 1</div></div>"
      ]
     },
     "metadata": {},
     "output_type": "display_data"
    }
   ],
   "source": [
    "select ?aut\n",
    "  where {dbr:The_Tin_Drum dbo:author ?aut}"
   ]
  },
  {
   "cell_type": "markdown",
   "metadata": {},
   "source": [
    "# Questão\n",
    "## Quais os livros escritos por Günter Grass?"
   ]
  },
  {
   "cell_type": "code",
   "execution_count": 3,
   "metadata": {},
   "outputs": [
    {
     "data": {
      "text/html": [
       "<div class=\"krn-spql\"><table><tr class=hdr><th>book</th></tr><tr class=odd><td class=val><a href=\"http://dbpedia.org/resource/Cat_and_Mouse_(novella)\" target=\"_other\">http://dbpedia.org/resource/Cat_and_Mouse_(novella)</a></td></tr><tr class=even><td class=val><a href=\"http://dbpedia.org/resource/The_Rat_(novel)\" target=\"_other\">http://dbpedia.org/resource/The_Rat_(novel)</a></td></tr><tr class=odd><td class=val><a href=\"http://dbpedia.org/resource/The_Tin_Drum\" target=\"_other\">http://dbpedia.org/resource/The_Tin_Drum</a></td></tr><tr class=even><td class=val><a href=\"http://dbpedia.org/resource/Dog_Years_(novel)\" target=\"_other\">http://dbpedia.org/resource/Dog_Years_(novel)</a></td></tr><tr class=odd><td class=val><a href=\"http://dbpedia.org/resource/The_Meeting_at_Telgte\" target=\"_other\">http://dbpedia.org/resource/The_Meeting_at_Telgte</a></td></tr><tr class=even><td class=val><a href=\"http://dbpedia.org/resource/The_Box_(Grass_book)\" target=\"_other\">http://dbpedia.org/resource/The_Box_(Grass_book)</a></td></tr><tr class=odd><td class=val><a href=\"http://dbpedia.org/resource/Local_Anaesthetic_(novel)\" target=\"_other\">http://dbpedia.org/resource/Local_Anaesthetic_(novel)</a></td></tr><tr class=even><td class=val><a href=\"http://dbpedia.org/resource/Crabwalk\" target=\"_other\">http://dbpedia.org/resource/Crabwalk</a></td></tr><tr class=odd><td class=val><a href=\"http://dbpedia.org/resource/The_Call_of_the_Toad\" target=\"_other\">http://dbpedia.org/resource/The_Call_of_the_Toad</a></td></tr><tr class=even><td class=val><a href=\"http://dbpedia.org/resource/The_Flounder\" target=\"_other\">http://dbpedia.org/resource/The_Flounder</a></td></tr></table><div class=\"tinfo\">Total: 10, Shown: 10</div></div>"
      ]
     },
     "metadata": {},
     "output_type": "display_data"
    }
   ],
   "source": [
    "select distinct ?book\n",
    "  where {?book dbo:author dbr:Günter_Grass}"
   ]
  },
  {
   "cell_type": "markdown",
   "metadata": {},
   "source": [
    "# Questão\n",
    "## Qual a relação entre o livro The Tin Drum e o autor Günter Grass?"
   ]
  },
  {
   "cell_type": "code",
   "execution_count": 4,
   "metadata": {},
   "outputs": [
    {
     "data": {
      "text/html": [
       "<div class=\"krn-spql\"><table><tr class=hdr><th>rel</th></tr><tr class=odd><td class=val><a href=\"http://dbpedia.org/ontology/wikiPageWikiLink\" target=\"_other\">http://dbpedia.org/ontology/wikiPageWikiLink</a></td></tr><tr class=even><td class=val><a href=\"http://dbpedia.org/ontology/author\" target=\"_other\">http://dbpedia.org/ontology/author</a></td></tr><tr class=odd><td class=val><a href=\"http://dbpedia.org/ontology/coverArtist\" target=\"_other\">http://dbpedia.org/ontology/coverArtist</a></td></tr></table><div class=\"tinfo\">Total: 3, Shown: 3</div></div>"
      ]
     },
     "metadata": {},
     "output_type": "display_data"
    }
   ],
   "source": [
    "select distinct ?rel\n",
    "  where {dbr:The_Tin_Drum ?rel dbr:Günter_Grass}"
   ]
  },
  {
   "cell_type": "markdown",
   "metadata": {},
   "source": [
    "# Questão\n",
    "## Teste se há diferença na pergunta contrária: qual a relação entre o autor Günter Grass e o livro The Tin Drum?"
   ]
  },
  {
   "cell_type": "markdown",
   "metadata": {},
   "source": [
    "**Resposta:** há diferença já que a relação, propriedade, valor é direcionada."
   ]
  },
  {
   "cell_type": "code",
   "execution_count": 3,
   "metadata": {},
   "outputs": [
    {
     "data": {
      "text/html": [
       "<div class=\"krn-spql\"><table><tr class=hdr><th>rel</th></tr><tr class=odd><td class=val><a href=\"http://dbpedia.org/ontology/wikiPageWikiLink\" target=\"_other\">http://dbpedia.org/ontology/wikiPageWikiLink</a></td></tr><tr class=even><td class=val><a href=\"http://dbpedia.org/ontology/notableWork\" target=\"_other\">http://dbpedia.org/ontology/notableWork</a></td></tr></table><div class=\"tinfo\">Total: 2, Shown: 2</div></div>"
      ]
     },
     "metadata": {},
     "output_type": "display_data"
    }
   ],
   "source": [
    "select distinct ?rel\n",
    "  where {dbr:Günter_Grass ?rel dbr:The_Tin_Drum}"
   ]
  },
  {
   "cell_type": "markdown",
   "metadata": {},
   "source": [
    "# Exemplo\n",
    "## Quais os escritores?"
   ]
  },
  {
   "cell_type": "code",
   "execution_count": 6,
   "metadata": {},
   "outputs": [
    {
     "data": {
      "text/html": [
       "<div class=\"krn-spql\"><table><tr class=hdr><th>wri</th></tr><tr class=odd><td class=val><a href=\"http://dbpedia.org/resource/Abbie_Hoffman\" target=\"_other\">http://dbpedia.org/resource/Abbie_Hoffman</a></td></tr><tr class=even><td class=val><a href=\"http://dbpedia.org/resource/Adam_Oehlenschläger\" target=\"_other\">http://dbpedia.org/resource/Adam_Oehlenschläger</a></td></tr><tr class=odd><td class=val><a href=\"http://dbpedia.org/resource/Adam_Wiśniewski-Snerg\" target=\"_other\">http://dbpedia.org/resource/Adam_Wiśniewski-Snerg</a></td></tr><tr class=even><td class=val><a href=\"http://dbpedia.org/resource/Adrienne_Rich\" target=\"_other\">http://dbpedia.org/resource/Adrienne_Rich</a></td></tr><tr class=odd><td class=val><a href=\"http://dbpedia.org/resource/Alessandro_Manzoni\" target=\"_other\">http://dbpedia.org/resource/Alessandro_Manzoni</a></td></tr><tr class=even><td class=val><a href=\"http://dbpedia.org/resource/Alfred_Bester\" target=\"_other\">http://dbpedia.org/resource/Alfred_Bester</a></td></tr><tr class=odd><td class=val><a href=\"http://dbpedia.org/resource/Alice_Walker\" target=\"_other\">http://dbpedia.org/resource/Alice_Walker</a></td></tr><tr class=even><td class=val><a href=\"http://dbpedia.org/resource/Amy_Tan\" target=\"_other\">http://dbpedia.org/resource/Amy_Tan</a></td></tr><tr class=odd><td class=val><a href=\"http://dbpedia.org/resource/Andrew_Marvell\" target=\"_other\">http://dbpedia.org/resource/Andrew_Marvell</a></td></tr><tr class=even><td class=val><a href=\"http://dbpedia.org/resource/Andrew_Sarris\" target=\"_other\">http://dbpedia.org/resource/Andrew_Sarris</a></td></tr><tr class=odd><td class=val><a href=\"http://dbpedia.org/resource/André_Breton\" target=\"_other\">http://dbpedia.org/resource/André_Breton</a></td></tr><tr class=even><td class=val><a href=\"http://dbpedia.org/resource/André_Malraux\" target=\"_other\">http://dbpedia.org/resource/André_Malraux</a></td></tr><tr class=odd><td class=val><a href=\"http://dbpedia.org/resource/Anne_Desclos\" target=\"_other\">http://dbpedia.org/resource/Anne_Desclos</a></td></tr><tr class=even><td class=val><a href=\"http://dbpedia.org/resource/Anthony_Burgess\" target=\"_other\">http://dbpedia.org/resource/Anthony_Burgess</a></td></tr><tr class=odd><td class=val><a href=\"http://dbpedia.org/resource/Arthur_Machen\" target=\"_other\">http://dbpedia.org/resource/Arthur_Machen</a></td></tr><tr class=even><td class=val><a href=\"http://dbpedia.org/resource/Astrid_Lindgren\" target=\"_other\">http://dbpedia.org/resource/Astrid_Lindgren</a></td></tr><tr class=odd><td class=val><a href=\"http://dbpedia.org/resource/August_Strindberg\" target=\"_other\">http://dbpedia.org/resource/August_Strindberg</a></td></tr><tr class=even><td class=val><a href=\"http://dbpedia.org/resource/Augusto_Boal\" target=\"_other\">http://dbpedia.org/resource/Augusto_Boal</a></td></tr><tr class=odd><td class=val><a href=\"http://dbpedia.org/resource/Barry_Took\" target=\"_other\">http://dbpedia.org/resource/Barry_Took</a></td></tr><tr class=even><td class=val><a href=\"http://dbpedia.org/resource/Ben_Jonson\" target=\"_other\">http://dbpedia.org/resource/Ben_Jonson</a></td></tr></table><div class=\"tinfo\">Total: 20, Shown: 20</div></div>"
      ]
     },
     "metadata": {},
     "output_type": "display_data"
    }
   ],
   "source": [
    "select distinct ?wri\n",
    "  where {?wri rdf:type dbo:Writer}\n",
    "  limit 20"
   ]
  },
  {
   "cell_type": "markdown",
   "metadata": {},
   "source": [
    "# Questão\n",
    "## Quais as entidades de língua alemã?"
   ]
  },
  {
   "cell_type": "code",
   "execution_count": 7,
   "metadata": {},
   "outputs": [
    {
     "data": {
      "text/html": [
       "<div class=\"krn-spql\"><table><tr class=hdr><th>ent</th></tr><tr class=odd><td class=val><a href=\"http://dbpedia.org/resource/History_of_Germans_in_Russia,_Ukraine_and_the_Soviet_Union\" target=\"_other\">http://dbpedia.org/resource/History_of_Germans_in_Russia,_Ukraine_and_the_Soviet_Union</a></td></tr><tr class=even><td class=val><a href=\"http://dbpedia.org/resource/Independent_Media_Center\" target=\"_other\">http://dbpedia.org/resource/Independent_Media_Center</a></td></tr><tr class=odd><td class=val><a href=\"http://dbpedia.org/resource/Walloons\" target=\"_other\">http://dbpedia.org/resource/Walloons</a></td></tr><tr class=even><td class=val><a href=\"http://dbpedia.org/resource/Cat_and_Mouse_(novella)\" target=\"_other\">http://dbpedia.org/resource/Cat_and_Mouse_(novella)</a></td></tr><tr class=odd><td class=val><a href=\"http://dbpedia.org/resource/Coup_de_Grâce_(1976_film)\" target=\"_other\">http://dbpedia.org/resource/Coup_de_Grâce_(1976_film)</a></td></tr><tr class=even><td class=val><a href=\"http://dbpedia.org/resource/Divided_We_Fall_(film)\" target=\"_other\">http://dbpedia.org/resource/Divided_We_Fall_(film)</a></td></tr><tr class=odd><td class=val><a href=\"http://dbpedia.org/resource/Virago_(EP)\" target=\"_other\">http://dbpedia.org/resource/Virago_(EP)</a></td></tr><tr class=even><td class=val><a href=\"http://dbpedia.org/resource/Algol_(film)\" target=\"_other\">http://dbpedia.org/resource/Algol_(film)</a></td></tr><tr class=odd><td class=val><a href=\"http://dbpedia.org/resource/Andreas_Mand\" target=\"_other\">http://dbpedia.org/resource/Andreas_Mand</a></td></tr><tr class=even><td class=val><a href=\"http://dbpedia.org/resource/Brigitte_(magazine)\" target=\"_other\">http://dbpedia.org/resource/Brigitte_(magazine)</a></td></tr><tr class=odd><td class=val><a href=\"http://dbpedia.org/resource/Das_Haus_Anubis\" target=\"_other\">http://dbpedia.org/resource/Das_Haus_Anubis</a></td></tr><tr class=even><td class=val><a href=\"http://dbpedia.org/resource/Doodle.com\" target=\"_other\">http://dbpedia.org/resource/Doodle.com</a></td></tr><tr class=odd><td class=val><a href=\"http://dbpedia.org/resource/Faust_(1926_film)\" target=\"_other\">http://dbpedia.org/resource/Faust_(1926_film)</a></td></tr><tr class=even><td class=val><a href=\"http://dbpedia.org/resource/Heliopolis_(Jünger_novel)\" target=\"_other\">http://dbpedia.org/resource/Heliopolis_(Jünger_novel)</a></td></tr><tr class=odd><td class=val><a href=\"http://dbpedia.org/resource/Hungarian_Testing_Board\" target=\"_other\">http://dbpedia.org/resource/Hungarian_Testing_Board</a></td></tr><tr class=even><td class=val><a href=\"http://dbpedia.org/resource/King_of_Thieves_(film)\" target=\"_other\">http://dbpedia.org/resource/King_of_Thieves_(film)</a></td></tr><tr class=odd><td class=val><a href=\"http://dbpedia.org/resource/Knockin'_on_Heaven's_Door_(1997_film)\" target=\"_other\">http://dbpedia.org/resource/Knockin'_on_Heaven's_Door_(1997_film)</a></td></tr><tr class=even><td class=val><a href=\"http://dbpedia.org/resource/Madame_Bovary_(1937_film)\" target=\"_other\">http://dbpedia.org/resource/Madame_Bovary_(1937_film)</a></td></tr><tr class=odd><td class=val><a href=\"http://dbpedia.org/resource/Madame_Bovary_(1969_film)\" target=\"_other\">http://dbpedia.org/resource/Madame_Bovary_(1969_film)</a></td></tr><tr class=even><td class=val><a href=\"http://dbpedia.org/resource/Parallels_Desktop_for_Mac\" target=\"_other\">http://dbpedia.org/resource/Parallels_Desktop_for_Mac</a></td></tr></table><div class=\"tinfo\">Total: 20, Shown: 20</div></div>"
      ]
     },
     "metadata": {},
     "output_type": "display_data"
    }
   ],
   "source": [
    "select ?ent\n",
    "  where {\n",
    "   ?ent dbo:language dbr:German_language}\n",
    "  limit 20"
   ]
  },
  {
   "cell_type": "markdown",
   "metadata": {},
   "source": [
    "# Questão\n",
    "## Quais os autores de língua alemã?"
   ]
  },
  {
   "cell_type": "code",
   "execution_count": 8,
   "metadata": {},
   "outputs": [
    {
     "data": {
      "text/html": [
       "<div class=\"krn-spql\"><table><tr class=hdr><th>wri</th></tr><tr class=odd><td class=val><a href=\"http://dbpedia.org/resource/Andreas_Mand\" target=\"_other\">http://dbpedia.org/resource/Andreas_Mand</a></td></tr><tr class=even><td class=val><a href=\"http://dbpedia.org/resource/Franz_Hohler\" target=\"_other\">http://dbpedia.org/resource/Franz_Hohler</a></td></tr><tr class=odd><td class=val><a href=\"http://dbpedia.org/resource/Enver_Čolaković\" target=\"_other\">http://dbpedia.org/resource/Enver_Čolaković</a></td></tr><tr class=even><td class=val><a href=\"http://dbpedia.org/resource/Toti_Martínez_de_Lezea\" target=\"_other\">http://dbpedia.org/resource/Toti_Martínez_de_Lezea</a></td></tr><tr class=odd><td class=val><a href=\"http://dbpedia.org/resource/Christabel_Bielenberg\" target=\"_other\">http://dbpedia.org/resource/Christabel_Bielenberg</a></td></tr><tr class=even><td class=val><a href=\"http://dbpedia.org/resource/Marius_von_Mayenburg\" target=\"_other\">http://dbpedia.org/resource/Marius_von_Mayenburg</a></td></tr><tr class=odd><td class=val><a href=\"http://dbpedia.org/resource/John_Milton\" target=\"_other\">http://dbpedia.org/resource/John_Milton</a></td></tr><tr class=even><td class=val><a href=\"http://dbpedia.org/resource/Max_Frisch\" target=\"_other\">http://dbpedia.org/resource/Max_Frisch</a></td></tr><tr class=odd><td class=val><a href=\"http://dbpedia.org/resource/Ludwig_Hohl\" target=\"_other\">http://dbpedia.org/resource/Ludwig_Hohl</a></td></tr><tr class=even><td class=val><a href=\"http://dbpedia.org/resource/Ferdinand_Blumentritt\" target=\"_other\">http://dbpedia.org/resource/Ferdinand_Blumentritt</a></td></tr><tr class=odd><td class=val><a href=\"http://dbpedia.org/resource/Stefan_George\" target=\"_other\">http://dbpedia.org/resource/Stefan_George</a></td></tr><tr class=even><td class=val><a href=\"http://dbpedia.org/resource/Stanisław_Przybyszewski\" target=\"_other\">http://dbpedia.org/resource/Stanisław_Przybyszewski</a></td></tr><tr class=odd><td class=val><a href=\"http://dbpedia.org/resource/Liu_Banjiu\" target=\"_other\">http://dbpedia.org/resource/Liu_Banjiu</a></td></tr><tr class=even><td class=val><a href=\"http://dbpedia.org/resource/Urs_Widmer\" target=\"_other\">http://dbpedia.org/resource/Urs_Widmer</a></td></tr><tr class=odd><td class=val><a href=\"http://dbpedia.org/resource/Angela_Steinmüller\" target=\"_other\">http://dbpedia.org/resource/Angela_Steinmüller</a></td></tr><tr class=even><td class=val><a href=\"http://dbpedia.org/resource/Günther_Krupkat\" target=\"_other\">http://dbpedia.org/resource/Günther_Krupkat</a></td></tr><tr class=odd><td class=val><a href=\"http://dbpedia.org/resource/Leonhard_Ennen\" target=\"_other\">http://dbpedia.org/resource/Leonhard_Ennen</a></td></tr><tr class=even><td class=val><a href=\"http://dbpedia.org/resource/Arno_Camenisch\" target=\"_other\">http://dbpedia.org/resource/Arno_Camenisch</a></td></tr><tr class=odd><td class=val><a href=\"http://dbpedia.org/resource/Oscar_Peer\" target=\"_other\">http://dbpedia.org/resource/Oscar_Peer</a></td></tr><tr class=even><td class=val><a href=\"http://dbpedia.org/resource/Ernst_Weiss\" target=\"_other\">http://dbpedia.org/resource/Ernst_Weiss</a></td></tr><tr class=odd><td class=val><a href=\"http://dbpedia.org/resource/Monique_Laederach\" target=\"_other\">http://dbpedia.org/resource/Monique_Laederach</a></td></tr><tr class=even><td class=val><a href=\"http://dbpedia.org/resource/Rudolf_von_Scherer\" target=\"_other\">http://dbpedia.org/resource/Rudolf_von_Scherer</a></td></tr><tr class=odd><td class=val><a href=\"http://dbpedia.org/resource/Eric_Jarosinski\" target=\"_other\">http://dbpedia.org/resource/Eric_Jarosinski</a></td></tr><tr class=even><td class=val><a href=\"http://dbpedia.org/resource/Meredith_Haaf\" target=\"_other\">http://dbpedia.org/resource/Meredith_Haaf</a></td></tr><tr class=odd><td class=val><a href=\"http://dbpedia.org/resource/Nokë_Sinishtaj\" target=\"_other\">http://dbpedia.org/resource/Nokë_Sinishtaj</a></td></tr><tr class=even><td class=val><a href=\"http://dbpedia.org/resource/Qian_Chunqi\" target=\"_other\">http://dbpedia.org/resource/Qian_Chunqi</a></td></tr><tr class=odd><td class=val><a href=\"http://dbpedia.org/resource/Wang_Yizhu\" target=\"_other\">http://dbpedia.org/resource/Wang_Yizhu</a></td></tr><tr class=even><td class=val><a href=\"http://dbpedia.org/resource/François_E._Matthes\" target=\"_other\">http://dbpedia.org/resource/François_E._Matthes</a></td></tr><tr class=odd><td class=val><a href=\"http://dbpedia.org/resource/Xiao_San\" target=\"_other\">http://dbpedia.org/resource/Xiao_San</a></td></tr><tr class=even><td class=val><a href=\"http://dbpedia.org/resource/Peter_Baláž_(Esperantist)\" target=\"_other\">http://dbpedia.org/resource/Peter_Baláž_(Esperantist)</a></td></tr><tr class=odd><td class=val><a href=\"http://dbpedia.org/resource/Dževad_Karahasan\" target=\"_other\">http://dbpedia.org/resource/Dževad_Karahasan</a></td></tr><tr class=even><td class=val><a href=\"http://dbpedia.org/resource/Heinrich_Clauren\" target=\"_other\">http://dbpedia.org/resource/Heinrich_Clauren</a></td></tr><tr class=odd><td class=val><a href=\"http://dbpedia.org/resource/Sophie_von_Scherer\" target=\"_other\">http://dbpedia.org/resource/Sophie_von_Scherer</a></td></tr><tr class=even><td class=val><a href=\"http://dbpedia.org/resource/Friedrich_Dürrenmatt\" target=\"_other\">http://dbpedia.org/resource/Friedrich_Dürrenmatt</a></td></tr><tr class=odd><td class=val><a href=\"http://dbpedia.org/resource/Matthias_Claudius\" target=\"_other\">http://dbpedia.org/resource/Matthias_Claudius</a></td></tr><tr class=even><td class=val><a href=\"http://dbpedia.org/resource/Meinrad_Lienert\" target=\"_other\">http://dbpedia.org/resource/Meinrad_Lienert</a></td></tr><tr class=odd><td class=val><a href=\"http://dbpedia.org/resource/Václav_Bolemír_Nebeský\" target=\"_other\">http://dbpedia.org/resource/Václav_Bolemír_Nebeský</a></td></tr><tr class=even><td class=val><a href=\"http://dbpedia.org/resource/Rudolf_Friedrich_Kurz\" target=\"_other\">http://dbpedia.org/resource/Rudolf_Friedrich_Kurz</a></td></tr><tr class=odd><td class=val><a href=\"http://dbpedia.org/resource/Günter_Grass\" target=\"_other\">http://dbpedia.org/resource/Günter_Grass</a></td></tr><tr class=even><td class=val><a href=\"http://dbpedia.org/resource/Carl_Spitteler\" target=\"_other\">http://dbpedia.org/resource/Carl_Spitteler</a></td></tr><tr class=odd><td class=val><a href=\"http://dbpedia.org/resource/Michael_Szameit\" target=\"_other\">http://dbpedia.org/resource/Michael_Szameit</a></td></tr><tr class=even><td class=val><a href=\"http://dbpedia.org/resource/Norman_Ohler\" target=\"_other\">http://dbpedia.org/resource/Norman_Ohler</a></td></tr><tr class=odd><td class=val><a href=\"http://dbpedia.org/resource/Arno_Geiger\" target=\"_other\">http://dbpedia.org/resource/Arno_Geiger</a></td></tr><tr class=even><td class=val><a href=\"http://dbpedia.org/resource/Karl_Friedrich_Kurz\" target=\"_other\">http://dbpedia.org/resource/Karl_Friedrich_Kurz</a></td></tr><tr class=odd><td class=val><a href=\"http://dbpedia.org/resource/Fritz_Löhner-Beda\" target=\"_other\">http://dbpedia.org/resource/Fritz_Löhner-Beda</a></td></tr><tr class=even><td class=val><a href=\"http://dbpedia.org/resource/Jorge_Semprún\" target=\"_other\">http://dbpedia.org/resource/Jorge_Semprún</a></td></tr><tr class=odd><td class=val><a href=\"http://dbpedia.org/resource/Theodor_Körner_(author)\" target=\"_other\">http://dbpedia.org/resource/Theodor_Körner_(author)</a></td></tr><tr class=even><td class=val><a href=\"http://dbpedia.org/resource/Dea_Loher\" target=\"_other\">http://dbpedia.org/resource/Dea_Loher</a></td></tr><tr class=odd><td class=val><a href=\"http://dbpedia.org/resource/Henry_Winterfeld\" target=\"_other\">http://dbpedia.org/resource/Henry_Winterfeld</a></td></tr><tr class=even><td class=val><a href=\"http://dbpedia.org/resource/Die_Gstettensaga:_The_Rise_of_Echsenfriedl\" target=\"_other\">http://dbpedia.org/resource/Die_Gstettensaga:_The_Rise_of_Echsenfriedl</a></td></tr><tr class=odd><td class=val><a href=\"http://dbpedia.org/resource/Rolph_van_der_Hoeven\" target=\"_other\">http://dbpedia.org/resource/Rolph_van_der_Hoeven</a></td></tr><tr class=even><td class=val><a href=\"http://dbpedia.org/resource/Karlheinz_Steinmüller\" target=\"_other\">http://dbpedia.org/resource/Karlheinz_Steinmüller</a></td></tr><tr class=odd><td class=val><a href=\"http://dbpedia.org/resource/Stine_Andresen\" target=\"_other\">http://dbpedia.org/resource/Stine_Andresen</a></td></tr><tr class=even><td class=val><a href=\"http://dbpedia.org/resource/Pablo_Soler_Frost\" target=\"_other\">http://dbpedia.org/resource/Pablo_Soler_Frost</a></td></tr><tr class=odd><td class=val><a href=\"http://dbpedia.org/resource/Basil_Pandžić\" target=\"_other\">http://dbpedia.org/resource/Basil_Pandžić</a></td></tr></table><div class=\"tinfo\">Total: 55, Shown: 55</div></div>"
      ]
     },
     "metadata": {},
     "output_type": "display_data"
    }
   ],
   "source": [
    "select ?wri\n",
    "  where {\n",
    "   ?wri rdf:type dbo:Writer.\n",
    "   ?wri dbo:language dbr:German_language}"
   ]
  },
  {
   "cell_type": "markdown",
   "metadata": {},
   "source": [
    "# Questão\n",
    "## Quais os escritores traduzidos por Ralph Manheim?"
   ]
  },
  {
   "cell_type": "code",
   "execution_count": 9,
   "metadata": {},
   "outputs": [
    {
     "data": {
      "text/html": [
       "<div class=\"krn-spql\"><table><tr class=hdr><th>aut</th></tr><tr class=odd><td class=val><a href=\"http://dbpedia.org/resource/Peter_Handke\" target=\"_other\">http://dbpedia.org/resource/Peter_Handke</a></td></tr><tr class=even><td class=val><a href=\"http://dbpedia.org/resource/Erich_Maria_Remarque\" target=\"_other\">http://dbpedia.org/resource/Erich_Maria_Remarque</a></td></tr><tr class=odd><td class=val><a href=\"http://dbpedia.org/resource/Louis-Ferdinand_Céline\" target=\"_other\">http://dbpedia.org/resource/Louis-Ferdinand_Céline</a></td></tr><tr class=even><td class=val><a href=\"http://dbpedia.org/resource/Günter_Grass\" target=\"_other\">http://dbpedia.org/resource/Günter_Grass</a></td></tr><tr class=odd><td class=val><a href=\"http://dbpedia.org/resource/Michael_Ende\" target=\"_other\">http://dbpedia.org/resource/Michael_Ende</a></td></tr></table><div class=\"tinfo\">Total: 5, Shown: 5</div></div>"
      ]
     },
     "metadata": {},
     "output_type": "display_data"
    }
   ],
   "source": [
    "select distinct ?aut\n",
    "  where {\n",
    "   ?work dbo:translator dbr:Ralph_Manheim.\n",
    "   ?work dbo:author ?aut.\n",
    "   ?aut rdf:type dbo:Writer}"
   ]
  },
  {
   "cell_type": "markdown",
   "metadata": {},
   "source": [
    "# Exercício 1\n",
    "## Liste as cidades disponíveis na DBPedia."
   ]
  },
  {
   "cell_type": "markdown",
   "metadata": {},
   "source": [
    "**Parte 1:** Usando a propriedade Settlement."
   ]
  },
  {
   "cell_type": "code",
   "execution_count": 15,
   "metadata": {},
   "outputs": [
    {
     "data": {
      "text/html": [
       "<div class=\"krn-spql\"><table><tr class=hdr><th>sett</th></tr><tr class=odd><td class=val><a href=\"http://dbpedia.org/resource/Durolevum\" target=\"_other\">http://dbpedia.org/resource/Durolevum</a></td></tr><tr class=even><td class=val><a href=\"http://dbpedia.org/resource/1897\" target=\"_other\">http://dbpedia.org/resource/1897</a></td></tr><tr class=odd><td class=val><a href=\"http://dbpedia.org/resource/Acre,_Israel\" target=\"_other\">http://dbpedia.org/resource/Acre,_Israel</a></td></tr><tr class=even><td class=val><a href=\"http://dbpedia.org/resource/Advogato\" target=\"_other\">http://dbpedia.org/resource/Advogato</a></td></tr><tr class=odd><td class=val><a href=\"http://dbpedia.org/resource/Air_Ministry\" target=\"_other\">http://dbpedia.org/resource/Air_Ministry</a></td></tr><tr class=even><td class=val><a href=\"http://dbpedia.org/resource/Arctic\" target=\"_other\">http://dbpedia.org/resource/Arctic</a></td></tr><tr class=odd><td class=val><a href=\"http://dbpedia.org/resource/Ashkelon\" target=\"_other\">http://dbpedia.org/resource/Ashkelon</a></td></tr><tr class=even><td class=val><a href=\"http://dbpedia.org/resource/Atil\" target=\"_other\">http://dbpedia.org/resource/Atil</a></td></tr><tr class=odd><td class=val><a href=\"http://dbpedia.org/resource/Badakhshan\" target=\"_other\">http://dbpedia.org/resource/Badakhshan</a></td></tr><tr class=even><td class=val><a href=\"http://dbpedia.org/resource/Badenoch\" target=\"_other\">http://dbpedia.org/resource/Badenoch</a></td></tr><tr class=odd><td class=val><a href=\"http://dbpedia.org/resource/Basel-Landschaft\" target=\"_other\">http://dbpedia.org/resource/Basel-Landschaft</a></td></tr><tr class=even><td class=val><a href=\"http://dbpedia.org/resource/Broca's_area\" target=\"_other\">http://dbpedia.org/resource/Broca's_area</a></td></tr><tr class=odd><td class=val><a href=\"http://dbpedia.org/resource/Calabria\" target=\"_other\">http://dbpedia.org/resource/Calabria</a></td></tr><tr class=even><td class=val><a href=\"http://dbpedia.org/resource/Campania\" target=\"_other\">http://dbpedia.org/resource/Campania</a></td></tr><tr class=odd><td class=val><a href=\"http://dbpedia.org/resource/Castile_(historical_region)\" target=\"_other\">http://dbpedia.org/resource/Castile_(historical_region)</a></td></tr><tr class=even><td class=val><a href=\"http://dbpedia.org/resource/Cerebellum\" target=\"_other\">http://dbpedia.org/resource/Cerebellum</a></td></tr><tr class=odd><td class=val><a href=\"http://dbpedia.org/resource/Council_of_Ephesus\" target=\"_other\">http://dbpedia.org/resource/Council_of_Ephesus</a></td></tr><tr class=even><td class=val><a href=\"http://dbpedia.org/resource/County_Londonderry\" target=\"_other\">http://dbpedia.org/resource/County_Londonderry</a></td></tr><tr class=odd><td class=val><a href=\"http://dbpedia.org/resource/County_Tyrone\" target=\"_other\">http://dbpedia.org/resource/County_Tyrone</a></td></tr><tr class=even><td class=val><a href=\"http://dbpedia.org/resource/Dalmatia\" target=\"_other\">http://dbpedia.org/resource/Dalmatia</a></td></tr></table><div class=\"tinfo\">Total: 20, Shown: 20</div></div>"
      ]
     },
     "metadata": {},
     "output_type": "display_data"
    }
   ],
   "source": [
    "select distinct ?sett\n",
    "  where {?sett a dbo:Settlement}\n",
    "  limit 20"
   ]
  },
  {
   "cell_type": "markdown",
   "metadata": {},
   "source": [
    "**Parte 2:** Usando a propriedade City."
   ]
  },
  {
   "cell_type": "code",
   "execution_count": 4,
   "metadata": {},
   "outputs": [
    {
     "data": {
      "text/html": [
       "<div class=\"krn-spql\"><table><tr class=hdr><th>sett</th></tr><tr class=odd><td class=val><a href=\"http://dbpedia.org/resource/Acre,_Israel\" target=\"_other\">http://dbpedia.org/resource/Acre,_Israel</a></td></tr><tr class=even><td class=val><a href=\"http://dbpedia.org/resource/Antioch\" target=\"_other\">http://dbpedia.org/resource/Antioch</a></td></tr><tr class=odd><td class=val><a href=\"http://dbpedia.org/resource/Ashkelon\" target=\"_other\">http://dbpedia.org/resource/Ashkelon</a></td></tr><tr class=even><td class=val><a href=\"http://dbpedia.org/resource/Balanjar\" target=\"_other\">http://dbpedia.org/resource/Balanjar</a></td></tr><tr class=odd><td class=val><a href=\"http://dbpedia.org/resource/Ctesiphon\" target=\"_other\">http://dbpedia.org/resource/Ctesiphon</a></td></tr><tr class=even><td class=val><a href=\"http://dbpedia.org/resource/Espoo\" target=\"_other\">http://dbpedia.org/resource/Espoo</a></td></tr><tr class=odd><td class=val><a href=\"http://dbpedia.org/resource/Gaza_City\" target=\"_other\">http://dbpedia.org/resource/Gaza_City</a></td></tr><tr class=even><td class=val><a href=\"http://dbpedia.org/resource/Haifa\" target=\"_other\">http://dbpedia.org/resource/Haifa</a></td></tr><tr class=odd><td class=val><a href=\"http://dbpedia.org/resource/Hebron\" target=\"_other\">http://dbpedia.org/resource/Hebron</a></td></tr><tr class=even><td class=val><a href=\"http://dbpedia.org/resource/Independent_city\" target=\"_other\">http://dbpedia.org/resource/Independent_city</a></td></tr><tr class=odd><td class=val><a href=\"http://dbpedia.org/resource/Jenin\" target=\"_other\">http://dbpedia.org/resource/Jenin</a></td></tr><tr class=even><td class=val><a href=\"http://dbpedia.org/resource/Khazaran\" target=\"_other\">http://dbpedia.org/resource/Khazaran</a></td></tr><tr class=odd><td class=val><a href=\"http://dbpedia.org/resource/Leptis_Magna\" target=\"_other\">http://dbpedia.org/resource/Leptis_Magna</a></td></tr><tr class=even><td class=val><a href=\"http://dbpedia.org/resource/Lord_Mayor_of_London\" target=\"_other\">http://dbpedia.org/resource/Lord_Mayor_of_London</a></td></tr><tr class=odd><td class=val><a href=\"http://dbpedia.org/resource/Petra\" target=\"_other\">http://dbpedia.org/resource/Petra</a></td></tr><tr class=even><td class=val><a href=\"http://dbpedia.org/resource/Porvoo\" target=\"_other\">http://dbpedia.org/resource/Porvoo</a></td></tr><tr class=odd><td class=val><a href=\"http://dbpedia.org/resource/Ramallah\" target=\"_other\">http://dbpedia.org/resource/Ramallah</a></td></tr><tr class=even><td class=val><a href=\"http://dbpedia.org/resource/Samandar_(city)\" target=\"_other\">http://dbpedia.org/resource/Samandar_(city)</a></td></tr><tr class=odd><td class=val><a href=\"http://dbpedia.org/resource/Sardis\" target=\"_other\">http://dbpedia.org/resource/Sardis</a></td></tr><tr class=even><td class=val><a href=\"http://dbpedia.org/resource/Segesta\" target=\"_other\">http://dbpedia.org/resource/Segesta</a></td></tr></table><div class=\"tinfo\">Total: 20, Shown: 20</div></div>"
      ]
     },
     "metadata": {},
     "output_type": "display_data"
    }
   ],
   "source": [
    "select distinct ?sett\n",
    "  where {?sett a dbo:City}\n",
    "  limit 20"
   ]
  },
  {
   "cell_type": "markdown",
   "metadata": {},
   "source": [
    "**Parte 3:** Unindo as duas usando UNION."
   ]
  },
  {
   "cell_type": "code",
   "execution_count": 5,
   "metadata": {},
   "outputs": [
    {
     "data": {
      "text/html": [
       "<div class=\"krn-spql\"><table><tr class=hdr><th>sett</th></tr><tr class=odd><td class=val><a href=\"http://dbpedia.org/resource/Durolevum\" target=\"_other\">http://dbpedia.org/resource/Durolevum</a></td></tr><tr class=even><td class=val><a href=\"http://dbpedia.org/resource/1897\" target=\"_other\">http://dbpedia.org/resource/1897</a></td></tr><tr class=odd><td class=val><a href=\"http://dbpedia.org/resource/Acre,_Israel\" target=\"_other\">http://dbpedia.org/resource/Acre,_Israel</a></td></tr><tr class=even><td class=val><a href=\"http://dbpedia.org/resource/Advogato\" target=\"_other\">http://dbpedia.org/resource/Advogato</a></td></tr><tr class=odd><td class=val><a href=\"http://dbpedia.org/resource/Air_Ministry\" target=\"_other\">http://dbpedia.org/resource/Air_Ministry</a></td></tr><tr class=even><td class=val><a href=\"http://dbpedia.org/resource/Arctic\" target=\"_other\">http://dbpedia.org/resource/Arctic</a></td></tr><tr class=odd><td class=val><a href=\"http://dbpedia.org/resource/Ashkelon\" target=\"_other\">http://dbpedia.org/resource/Ashkelon</a></td></tr><tr class=even><td class=val><a href=\"http://dbpedia.org/resource/Atil\" target=\"_other\">http://dbpedia.org/resource/Atil</a></td></tr><tr class=odd><td class=val><a href=\"http://dbpedia.org/resource/Badakhshan\" target=\"_other\">http://dbpedia.org/resource/Badakhshan</a></td></tr><tr class=even><td class=val><a href=\"http://dbpedia.org/resource/Badenoch\" target=\"_other\">http://dbpedia.org/resource/Badenoch</a></td></tr><tr class=odd><td class=val><a href=\"http://dbpedia.org/resource/Basel-Landschaft\" target=\"_other\">http://dbpedia.org/resource/Basel-Landschaft</a></td></tr><tr class=even><td class=val><a href=\"http://dbpedia.org/resource/Broca's_area\" target=\"_other\">http://dbpedia.org/resource/Broca's_area</a></td></tr><tr class=odd><td class=val><a href=\"http://dbpedia.org/resource/Calabria\" target=\"_other\">http://dbpedia.org/resource/Calabria</a></td></tr><tr class=even><td class=val><a href=\"http://dbpedia.org/resource/Campania\" target=\"_other\">http://dbpedia.org/resource/Campania</a></td></tr><tr class=odd><td class=val><a href=\"http://dbpedia.org/resource/Castile_(historical_region)\" target=\"_other\">http://dbpedia.org/resource/Castile_(historical_region)</a></td></tr><tr class=even><td class=val><a href=\"http://dbpedia.org/resource/Cerebellum\" target=\"_other\">http://dbpedia.org/resource/Cerebellum</a></td></tr><tr class=odd><td class=val><a href=\"http://dbpedia.org/resource/Council_of_Ephesus\" target=\"_other\">http://dbpedia.org/resource/Council_of_Ephesus</a></td></tr><tr class=even><td class=val><a href=\"http://dbpedia.org/resource/County_Londonderry\" target=\"_other\">http://dbpedia.org/resource/County_Londonderry</a></td></tr><tr class=odd><td class=val><a href=\"http://dbpedia.org/resource/County_Tyrone\" target=\"_other\">http://dbpedia.org/resource/County_Tyrone</a></td></tr><tr class=even><td class=val><a href=\"http://dbpedia.org/resource/Dalmatia\" target=\"_other\">http://dbpedia.org/resource/Dalmatia</a></td></tr></table><div class=\"tinfo\">Total: 20, Shown: 20</div></div>"
      ]
     },
     "metadata": {},
     "output_type": "display_data"
    }
   ],
   "source": [
    "select distinct ?sett\n",
    "  where {\n",
    "      {?sett a dbo:Settlement}\n",
    "      UNION\n",
    "      {?sett a dbo:City}\n",
    "  }\n",
    "  limit 20"
   ]
  },
  {
   "cell_type": "markdown",
   "metadata": {},
   "source": [
    "# Exercício 2\n",
    "## Liste todas as cidades administradas pelo partido socialista francês."
   ]
  },
  {
   "cell_type": "code",
   "execution_count": 2,
   "metadata": {},
   "outputs": [
    {
     "data": {
      "text/html": [
       "<div class=\"krn-spql\"><table><tr class=hdr><th>organ</th></tr><tr class=odd><td class=val><a href=\"http://dbpedia.org/resource/Colomiers\" target=\"_other\">http://dbpedia.org/resource/Colomiers</a></td></tr><tr class=even><td class=val><a href=\"http://dbpedia.org/resource/Sotteville-lès-Rouen\" target=\"_other\">http://dbpedia.org/resource/Sotteville-lès-Rouen</a></td></tr><tr class=odd><td class=val><a href=\"http://dbpedia.org/resource/Canton_of_Rennes-Sud-Est\" target=\"_other\">http://dbpedia.org/resource/Canton_of_Rennes-Sud-Est</a></td></tr><tr class=even><td class=val><a href=\"http://dbpedia.org/resource/Paris\" target=\"_other\">http://dbpedia.org/resource/Paris</a></td></tr><tr class=odd><td class=val><a href=\"http://dbpedia.org/resource/Forcalquier\" target=\"_other\">http://dbpedia.org/resource/Forcalquier</a></td></tr><tr class=even><td class=val><a href=\"http://dbpedia.org/resource/Libourne\" target=\"_other\">http://dbpedia.org/resource/Libourne</a></td></tr><tr class=odd><td class=val><a href=\"http://dbpedia.org/resource/Canton_of_Olargues\" target=\"_other\">http://dbpedia.org/resource/Canton_of_Olargues</a></td></tr><tr class=even><td class=val><a href=\"http://dbpedia.org/resource/Canton_of_Saint-Gervais-sur-Mare\" target=\"_other\">http://dbpedia.org/resource/Canton_of_Saint-Gervais-sur-Mare</a></td></tr><tr class=odd><td class=val><a href=\"http://dbpedia.org/resource/Besançon\" target=\"_other\">http://dbpedia.org/resource/Besançon</a></td></tr><tr class=even><td class=val><a href=\"http://dbpedia.org/resource/Blois\" target=\"_other\">http://dbpedia.org/resource/Blois</a></td></tr><tr class=odd><td class=val><a href=\"http://dbpedia.org/resource/Boulogne-sur-Mer\" target=\"_other\">http://dbpedia.org/resource/Boulogne-sur-Mer</a></td></tr><tr class=even><td class=val><a href=\"http://dbpedia.org/resource/Brest,_France\" target=\"_other\">http://dbpedia.org/resource/Brest,_France</a></td></tr><tr class=odd><td class=val><a href=\"http://dbpedia.org/resource/Lille\" target=\"_other\">http://dbpedia.org/resource/Lille</a></td></tr><tr class=even><td class=val><a href=\"http://dbpedia.org/resource/Nantes\" target=\"_other\">http://dbpedia.org/resource/Nantes</a></td></tr><tr class=odd><td class=val><a href=\"http://dbpedia.org/resource/Rouen\" target=\"_other\">http://dbpedia.org/resource/Rouen</a></td></tr><tr class=even><td class=val><a href=\"http://dbpedia.org/resource/Strasbourg\" target=\"_other\">http://dbpedia.org/resource/Strasbourg</a></td></tr><tr class=odd><td class=val><a href=\"http://dbpedia.org/resource/Bron\" target=\"_other\">http://dbpedia.org/resource/Bron</a></td></tr><tr class=even><td class=val><a href=\"http://dbpedia.org/resource/Foix\" target=\"_other\">http://dbpedia.org/resource/Foix</a></td></tr><tr class=odd><td class=val><a href=\"http://dbpedia.org/resource/Laval,_Mayenne\" target=\"_other\">http://dbpedia.org/resource/Laval,_Mayenne</a></td></tr><tr class=even><td class=val><a href=\"http://dbpedia.org/resource/Villeurbanne\" target=\"_other\">http://dbpedia.org/resource/Villeurbanne</a></td></tr></table><div class=\"tinfo\">Total: 20, Shown: 20</div></div>"
      ]
     },
     "metadata": {},
     "output_type": "display_data"
    }
   ],
   "source": [
    "select distinct ?organ\n",
    "  where {?organ a dbo:Settlement .\n",
    "         ?organ dbp:party dbr:Socialist_Party_\\(France\\)}\n",
    "  limit 20"
   ]
  },
  {
   "cell_type": "markdown",
   "metadata": {},
   "source": [
    "# Exercício 3\n",
    "## Quem é o prefeito de Paris?"
   ]
  },
  {
   "cell_type": "code",
   "execution_count": null,
   "metadata": {},
   "outputs": [],
   "source": []
  },
  {
   "cell_type": "markdown",
   "metadata": {},
   "source": [
    "# Exercício 4\n",
    "## Liste todas as cidades administradas por um prefeito que nasceu em Paris."
   ]
  },
  {
   "cell_type": "code",
   "execution_count": null,
   "metadata": {},
   "outputs": [],
   "source": []
  },
  {
   "cell_type": "markdown",
   "metadata": {},
   "source": [
    "# Exercício 5\n",
    "## Liste todas as plantas que têm flores"
   ]
  },
  {
   "cell_type": "code",
   "execution_count": null,
   "metadata": {},
   "outputs": [],
   "source": [
    "SELECT ?fl\n",
    "WHERE {\n",
    "  ?fl rdf:type dbo:FloweringPlant\n",
    "}"
   ]
  },
  {
   "cell_type": "markdown",
   "metadata": {},
   "source": [
    "# MeSH SPARQL endpoint\n",
    "## Explore o endpoint em: http://id.nlm.nih.gov/mesh"
   ]
  },
  {
   "cell_type": "code",
   "execution_count": 1,
   "metadata": {},
   "outputs": [
    {
     "data": {
      "text/html": [
       "<div class=\"krn-spql\"><div class=\"magic\">Endpoint set to: http://id.nlm.nih.gov/mesh/sparql</div><div class=\"magic\">Display: table</div><div class=\"magic\">Result maximum size: unlimited</div></div>"
      ],
      "text/plain": [
       "Endpoint set to: http://id.nlm.nih.gov/mesh/sparql\n",
       "Display: table\n",
       "Result maximum size: unlimited\n"
      ]
     },
     "metadata": {},
     "output_type": "display_data"
    }
   ],
   "source": [
    "%endpoint http://id.nlm.nih.gov/mesh/sparql\n",
    "%display table\n",
    "%show all"
   ]
  },
  {
   "cell_type": "markdown",
   "metadata": {},
   "source": [
    "# Exemplo\n",
    "## Ações farmacológicas do medicamento Ofloxacin"
   ]
  },
  {
   "cell_type": "code",
   "execution_count": 2,
   "metadata": {},
   "outputs": [
    {
     "data": {
      "text/html": [
       "<div class=\"krn-spql\"><table><tr class=hdr><th>pa</th>\n",
       "<th>paLabel</th></tr><tr class=odd><td class=val><a href=\"http://id.nlm.nih.gov/mesh/D000892\" target=\"_other\">http://id.nlm.nih.gov/mesh/D000892</a></td>\n",
       "<td class=val>Anti-Infective Agents, Urinary</td></tr><tr class=even><td class=val><a href=\"http://id.nlm.nih.gov/mesh/D000900\" target=\"_other\">http://id.nlm.nih.gov/mesh/D000900</a></td>\n",
       "<td class=val>Anti-Bacterial Agents</td></tr><tr class=odd><td class=val><a href=\"http://id.nlm.nih.gov/mesh/D059005\" target=\"_other\">http://id.nlm.nih.gov/mesh/D059005</a></td>\n",
       "<td class=val>Topoisomerase II Inhibitors</td></tr><tr class=even><td class=val><a href=\"http://id.nlm.nih.gov/mesh/D065609\" target=\"_other\">http://id.nlm.nih.gov/mesh/D065609</a></td>\n",
       "<td class=val>Cytochrome P-450 CYP1A2 Inhibitors</td></tr></table><div class=\"tinfo\">Total: 4, Shown: 4</div></div>"
      ]
     },
     "metadata": {},
     "output_type": "display_data"
    }
   ],
   "source": [
    "PREFIX rdf: <http://www.w3.org/1999/02/22-rdf-syntax-ns#>\n",
    "PREFIX rdfs: <http://www.w3.org/2000/01/rdf-schema#>\n",
    "PREFIX xsd: <http://www.w3.org/2001/XMLSchema#>\n",
    "PREFIX owl: <http://www.w3.org/2002/07/owl#>\n",
    "PREFIX meshv: <http://id.nlm.nih.gov/mesh/vocab#>\n",
    "PREFIX mesh: <http://id.nlm.nih.gov/mesh/>\n",
    "PREFIX mesh2015: <http://id.nlm.nih.gov/mesh/2015/>\n",
    "PREFIX mesh2016: <http://id.nlm.nih.gov/mesh/2016/>\n",
    "PREFIX mesh2017: <http://id.nlm.nih.gov/mesh/2017/>\n",
    "PREFIX mesh2018: <http://id.nlm.nih.gov/mesh/2018/>\n",
    "\n",
    "SELECT * \n",
    "WHERE {\n",
    "  mesh:D015242 meshv:pharmacologicalAction ?pa .\n",
    "  ?pa rdfs:label ?paLabel .\n",
    "}"
   ]
  },
  {
   "cell_type": "markdown",
   "metadata": {},
   "source": [
    "# Exercício 6\n",
    "## Encontre todos os conceitos que recebem o rótulo Myocardial Infarction"
   ]
  },
  {
   "cell_type": "markdown",
   "metadata": {},
   "source": []
  }
 ],
 "metadata": {
  "kernelspec": {
   "display_name": "SPARQL",
   "language": "sparql",
   "name": "sparql"
  },
  "language_info": {
   "codemirror_mode": {
    "name": "sparql"
   },
   "mimetype": "application/sparql-query",
   "name": "sparql",
   "pygments_lexer": "sparql-nb"
  }
 },
 "nbformat": 4,
 "nbformat_minor": 2
}
