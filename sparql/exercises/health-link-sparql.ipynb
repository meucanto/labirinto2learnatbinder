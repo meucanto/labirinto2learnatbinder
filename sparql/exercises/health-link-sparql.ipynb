{
 "cells": [
  {
   "cell_type": "markdown",
   "metadata": {},
   "source": [
    "# Linking Ontologies\n",
    "\n",
    "## Ontobee\n",
    "http://www.ontobee.org/\n",
    "\n",
    "List of supported ontologies:\n",
    "http://www.ontobee.org/ontobeep\n",
    "\n",
    "Ontologies can be seen at:\n",
    "https://bioportal.bioontology.org/"
   ]
  },
  {
   "cell_type": "code",
   "execution_count": 1,
   "metadata": {},
   "outputs": [
    {
     "data": {
      "text/html": [
       "<div class=\"krn-spql\"><div class=\"magic\">Endpoint set to: http://sparql.hegroup.org/sparql/</div><div class=\"magic\">Display: table</div><div class=\"magic\">Return format: ANY</div><div class=\"magic\">Result maximum size: unlimited</div></div>"
      ],
      "text/plain": [
       "Endpoint set to: http://sparql.hegroup.org/sparql/\n",
       "Display: table\n",
       "Return format: ANY\n",
       "Result maximum size: unlimited\n"
      ]
     },
     "metadata": {},
     "output_type": "display_data"
    }
   ],
   "source": [
    "%endpoint http://sparql.hegroup.org/sparql/\n",
    "%display table\n",
    "%format any\n",
    "%show all"
   ]
  },
  {
   "cell_type": "code",
   "execution_count": 2,
   "metadata": {},
   "outputs": [
    {
     "data": {
      "text/html": [
       "<div class=\"krn-spql\"><table><tr class=hdr><th>disease</th></tr><tr class=odd><td class=val><a href=\"http://purl.obolibrary.org/obo/DOID_5844\" target=\"_other\">http://purl.obolibrary.org/obo/DOID_5844</a></td></tr></table><div class=\"tinfo\">Total: 1, Shown: 1</div></div>"
      ]
     },
     "metadata": {},
     "output_type": "display_data"
    }
   ],
   "source": [
    "PREFIX rdfs: <http://www.w3.org/2000/01/rdf-schema#>\n",
    "\n",
    "SELECT ?disease\n",
    "FROM <http://purl.obolibrary.org/obo/merged/DOID>\n",
    "WHERE {\n",
    "    ?disease rdfs:label \"myocardial infarction\"\n",
    "}"
   ]
  },
  {
   "cell_type": "code",
   "execution_count": 3,
   "metadata": {},
   "outputs": [
    {
     "data": {
      "text/html": [
       "<div class=\"krn-spql\"><table><tr class=hdr><th>disease</th>\n",
       "<th>property</th>\n",
       "<th>value</th></tr><tr class=odd><td class=val><a href=\"http://purl.obolibrary.org/obo/DOID_5844\" target=\"_other\">http://purl.obolibrary.org/obo/DOID_5844</a></td>\n",
       "<td class=val><a href=\"http://www.w3.org/1999/02/22-rdf-syntax-ns#type\" target=\"_other\">http://www.w3.org/1999/02/22-rdf-syntax-ns#type</a></td>\n",
       "<td class=val><a href=\"http://www.w3.org/2002/07/owl#Class\" target=\"_other\">http://www.w3.org/2002/07/owl#Class</a></td></tr><tr class=even><td class=val><a href=\"http://purl.obolibrary.org/obo/DOID_5844\" target=\"_other\">http://purl.obolibrary.org/obo/DOID_5844</a></td>\n",
       "<td class=val><a href=\"http://www.w3.org/2000/01/rdf-schema#label\" target=\"_other\">http://www.w3.org/2000/01/rdf-schema#label</a></td>\n",
       "<td class=val>myocardial infarction</td></tr><tr class=odd><td class=val><a href=\"http://purl.obolibrary.org/obo/DOID_5844\" target=\"_other\">http://purl.obolibrary.org/obo/DOID_5844</a></td>\n",
       "<td class=val><a href=\"http://www.w3.org/2000/01/rdf-schema#comment\" target=\"_other\">http://www.w3.org/2000/01/rdf-schema#comment</a></td>\n",
       "<td class=val>Xref MGI.</td></tr><tr class=even><td class=val><a href=\"http://purl.obolibrary.org/obo/DOID_5844\" target=\"_other\">http://purl.obolibrary.org/obo/DOID_5844</a></td>\n",
       "<td class=val><a href=\"http://www.w3.org/2000/01/rdf-schema#subClassOf\" target=\"_other\">http://www.w3.org/2000/01/rdf-schema#subClassOf</a></td>\n",
       "<td class=val><a href=\"http://purl.obolibrary.org/obo/DOID_3393\" target=\"_other\">http://purl.obolibrary.org/obo/DOID_3393</a></td></tr><tr class=odd><td class=val><a href=\"http://purl.obolibrary.org/obo/DOID_5844\" target=\"_other\">http://purl.obolibrary.org/obo/DOID_5844</a></td>\n",
       "<td class=val><a href=\"http://www.geneontology.org/formats/oboInOwl#inSubset\" target=\"_other\">http://www.geneontology.org/formats/oboInOwl#inSubset</a></td>\n",
       "<td class=val><a href=\"http://purl.obolibrary.org/obo/doid#NCIthesaurus\" target=\"_other\">http://purl.obolibrary.org/obo/doid#NCIthesaurus</a></td></tr><tr class=even><td class=val><a href=\"http://purl.obolibrary.org/obo/DOID_5844\" target=\"_other\">http://purl.obolibrary.org/obo/DOID_5844</a></td>\n",
       "<td class=val><a href=\"http://www.geneontology.org/formats/oboInOwl#hasDbXref\" target=\"_other\">http://www.geneontology.org/formats/oboInOwl#hasDbXref</a></td>\n",
       "<td class=val>ICD10CM:I21</td></tr><tr class=odd><td class=val><a href=\"http://purl.obolibrary.org/obo/DOID_5844\" target=\"_other\">http://purl.obolibrary.org/obo/DOID_5844</a></td>\n",
       "<td class=val><a href=\"http://www.geneontology.org/formats/oboInOwl#hasDbXref\" target=\"_other\">http://www.geneontology.org/formats/oboInOwl#hasDbXref</a></td>\n",
       "<td class=val>ICD10CM:I22</td></tr><tr class=even><td class=val><a href=\"http://purl.obolibrary.org/obo/DOID_5844\" target=\"_other\">http://purl.obolibrary.org/obo/DOID_5844</a></td>\n",
       "<td class=val><a href=\"http://www.geneontology.org/formats/oboInOwl#hasDbXref\" target=\"_other\">http://www.geneontology.org/formats/oboInOwl#hasDbXref</a></td>\n",
       "<td class=val>SNOMEDCT_US_2018_03_01:66514008</td></tr><tr class=odd><td class=val><a href=\"http://purl.obolibrary.org/obo/DOID_5844\" target=\"_other\">http://purl.obolibrary.org/obo/DOID_5844</a></td>\n",
       "<td class=val><a href=\"http://www.geneontology.org/formats/oboInOwl#hasDbXref\" target=\"_other\">http://www.geneontology.org/formats/oboInOwl#hasDbXref</a></td>\n",
       "<td class=val>CSP2005:1393-3417</td></tr><tr class=even><td class=val><a href=\"http://purl.obolibrary.org/obo/DOID_5844\" target=\"_other\">http://purl.obolibrary.org/obo/DOID_5844</a></td>\n",
       "<td class=val><a href=\"http://www.geneontology.org/formats/oboInOwl#hasDbXref\" target=\"_other\">http://www.geneontology.org/formats/oboInOwl#hasDbXref</a></td>\n",
       "<td class=val>EFO:0000612</td></tr><tr class=odd><td class=val><a href=\"http://purl.obolibrary.org/obo/DOID_5844\" target=\"_other\">http://purl.obolibrary.org/obo/DOID_5844</a></td>\n",
       "<td class=val><a href=\"http://www.geneontology.org/formats/oboInOwl#hasDbXref\" target=\"_other\">http://www.geneontology.org/formats/oboInOwl#hasDbXref</a></td>\n",
       "<td class=val>MESH:D009203</td></tr><tr class=even><td class=val><a href=\"http://purl.obolibrary.org/obo/DOID_5844\" target=\"_other\">http://purl.obolibrary.org/obo/DOID_5844</a></td>\n",
       "<td class=val><a href=\"http://www.geneontology.org/formats/oboInOwl#hasDbXref\" target=\"_other\">http://www.geneontology.org/formats/oboInOwl#hasDbXref</a></td>\n",
       "<td class=val>NCI:C27996</td></tr><tr class=odd><td class=val><a href=\"http://purl.obolibrary.org/obo/DOID_5844\" target=\"_other\">http://purl.obolibrary.org/obo/DOID_5844</a></td>\n",
       "<td class=val><a href=\"http://www.geneontology.org/formats/oboInOwl#hasDbXref\" target=\"_other\">http://www.geneontology.org/formats/oboInOwl#hasDbXref</a></td>\n",
       "<td class=val>OMIM:608557</td></tr><tr class=even><td class=val><a href=\"http://purl.obolibrary.org/obo/DOID_5844\" target=\"_other\">http://purl.obolibrary.org/obo/DOID_5844</a></td>\n",
       "<td class=val><a href=\"http://www.geneontology.org/formats/oboInOwl#hasDbXref\" target=\"_other\">http://www.geneontology.org/formats/oboInOwl#hasDbXref</a></td>\n",
       "<td class=val>SNOMEDCT_US_2018_03_01:22298006</td></tr><tr class=odd><td class=val><a href=\"http://purl.obolibrary.org/obo/DOID_5844\" target=\"_other\">http://purl.obolibrary.org/obo/DOID_5844</a></td>\n",
       "<td class=val><a href=\"http://www.geneontology.org/formats/oboInOwl#hasDbXref\" target=\"_other\">http://www.geneontology.org/formats/oboInOwl#hasDbXref</a></td>\n",
       "<td class=val>UMLS_CUI:C0027051</td></tr><tr class=even><td class=val><a href=\"http://purl.obolibrary.org/obo/DOID_5844\" target=\"_other\">http://purl.obolibrary.org/obo/DOID_5844</a></td>\n",
       "<td class=val><a href=\"http://www.geneontology.org/formats/oboInOwl#hasExactSynonym\" target=\"_other\">http://www.geneontology.org/formats/oboInOwl#hasExactSynonym</a></td>\n",
       "<td class=val>Myocardial infarct</td></tr><tr class=odd><td class=val><a href=\"http://purl.obolibrary.org/obo/DOID_5844\" target=\"_other\">http://purl.obolibrary.org/obo/DOID_5844</a></td>\n",
       "<td class=val><a href=\"http://www.geneontology.org/formats/oboInOwl#hasExactSynonym\" target=\"_other\">http://www.geneontology.org/formats/oboInOwl#hasExactSynonym</a></td>\n",
       "<td class=val>heart attack</td></tr><tr class=even><td class=val><a href=\"http://purl.obolibrary.org/obo/DOID_5844\" target=\"_other\">http://purl.obolibrary.org/obo/DOID_5844</a></td>\n",
       "<td class=val><a href=\"http://www.geneontology.org/formats/oboInOwl#hasOBONamespace\" target=\"_other\">http://www.geneontology.org/formats/oboInOwl#hasOBONamespace</a></td>\n",
       "<td class=val>disease_ontology</td></tr><tr class=odd><td class=val><a href=\"http://purl.obolibrary.org/obo/DOID_5844\" target=\"_other\">http://purl.obolibrary.org/obo/DOID_5844</a></td>\n",
       "<td class=val><a href=\"http://www.geneontology.org/formats/oboInOwl#id\" target=\"_other\">http://www.geneontology.org/formats/oboInOwl#id</a></td>\n",
       "<td class=val>DOID:5844</td></tr><tr class=even><td class=val><a href=\"http://purl.obolibrary.org/obo/DOID_5844\" target=\"_other\">http://purl.obolibrary.org/obo/DOID_5844</a></td>\n",
       "<td class=val><a href=\"http://purl.obolibrary.org/obo/IAO_0000115\" target=\"_other\">http://purl.obolibrary.org/obo/IAO_0000115</a></td>\n",
       "<td class=val>A coronary artery disease characterized by myocardial cell death (myocardial necrosis) due to prolonged ischaemia.</td></tr></table><div class=\"tinfo\">Total: 20, Shown: 20</div></div>"
      ]
     },
     "metadata": {},
     "output_type": "display_data"
    }
   ],
   "source": [
    "PREFIX rdfs: <http://www.w3.org/2000/01/rdf-schema#>\n",
    "\n",
    "SELECT ?disease ?property ?value\n",
    "FROM <http://purl.obolibrary.org/obo/merged/DOID>\n",
    "WHERE {\n",
    "    ?disease rdfs:label \"myocardial infarction\" .\n",
    "    ?disease ?property ?value .\n",
    "}"
   ]
  },
  {
   "cell_type": "code",
   "execution_count": 3,
   "metadata": {},
   "outputs": [
    {
     "data": {
      "text/html": [
       "<div class=\"krn-spql\"><table><tr class=hdr><th>disease</th></tr><tr class=odd><td class=val><a href=\"http://purl.obolibrary.org/obo/DOID_5844\" target=\"_other\">http://purl.obolibrary.org/obo/DOID_5844</a></td></tr></table><div class=\"tinfo\">Total: 1, Shown: 1</div></div>"
      ]
     },
     "metadata": {},
     "output_type": "display_data"
    }
   ],
   "source": [
    "PREFIX rdf: <http://www.w3.org/1999/02/22-rdf-syntax-ns#>\n",
    "PREFIX rdfs: <http://www.w3.org/2000/01/rdf-schema#>\n",
    "PREFIX obo: <http://www.geneontology.org/formats/oboInOwl>\n",
    "\n",
    "SELECT ?disease\n",
    "FROM <http://purl.obolibrary.org/obo/merged/ODAE>\n",
    "WHERE {\n",
    "    ?disease rdfs:label \"myocardial infarction\"^^xsd:string\n",
    "}"
   ]
  },
  {
   "cell_type": "code",
   "execution_count": 5,
   "metadata": {},
   "outputs": [
    {
     "data": {
      "text/html": [
       "<div class=\"krn-spql\"><table><tr class=hdr><th>disease</th>\n",
       "<th>property</th>\n",
       "<th>value</th></tr><tr class=odd><td class=val><a href=\"http://purl.obolibrary.org/obo/DOID_5844\" target=\"_other\">http://purl.obolibrary.org/obo/DOID_5844</a></td>\n",
       "<td class=val><a href=\"http://www.w3.org/1999/02/22-rdf-syntax-ns#type\" target=\"_other\">http://www.w3.org/1999/02/22-rdf-syntax-ns#type</a></td>\n",
       "<td class=val><a href=\"http://www.w3.org/2002/07/owl#Class\" target=\"_other\">http://www.w3.org/2002/07/owl#Class</a></td></tr><tr class=even><td class=val><a href=\"http://purl.obolibrary.org/obo/DOID_5844\" target=\"_other\">http://purl.obolibrary.org/obo/DOID_5844</a></td>\n",
       "<td class=val><a href=\"http://www.w3.org/2000/01/rdf-schema#label\" target=\"_other\">http://www.w3.org/2000/01/rdf-schema#label</a></td>\n",
       "<td class=val>myocardial infarction</td></tr><tr class=odd><td class=val><a href=\"http://purl.obolibrary.org/obo/DOID_5844\" target=\"_other\">http://purl.obolibrary.org/obo/DOID_5844</a></td>\n",
       "<td class=val><a href=\"http://www.w3.org/2000/01/rdf-schema#comment\" target=\"_other\">http://www.w3.org/2000/01/rdf-schema#comment</a></td>\n",
       "<td class=val>Xref MGI.</td></tr><tr class=even><td class=val><a href=\"http://purl.obolibrary.org/obo/DOID_5844\" target=\"_other\">http://purl.obolibrary.org/obo/DOID_5844</a></td>\n",
       "<td class=val><a href=\"http://www.w3.org/2000/01/rdf-schema#subClassOf\" target=\"_other\">http://www.w3.org/2000/01/rdf-schema#subClassOf</a></td>\n",
       "<td class=val><a href=\"http://purl.obolibrary.org/obo/DOID_3393\" target=\"_other\">http://purl.obolibrary.org/obo/DOID_3393</a></td></tr><tr class=odd><td class=val><a href=\"http://purl.obolibrary.org/obo/DOID_5844\" target=\"_other\">http://purl.obolibrary.org/obo/DOID_5844</a></td>\n",
       "<td class=val><a href=\"http://purl.obolibrary.org/obo/IAO_0000412\" target=\"_other\">http://purl.obolibrary.org/obo/IAO_0000412</a></td>\n",
       "<td class=val><a href=\"http://purl.obolibrary.org/obo/doid.owl\" target=\"_other\">http://purl.obolibrary.org/obo/doid.owl</a></td></tr><tr class=even><td class=val><a href=\"http://purl.obolibrary.org/obo/DOID_5844\" target=\"_other\">http://purl.obolibrary.org/obo/DOID_5844</a></td>\n",
       "<td class=val><a href=\"http://www.geneontology.org/formats/oboInOwl#hasDbXref\" target=\"_other\">http://www.geneontology.org/formats/oboInOwl#hasDbXref</a></td>\n",
       "<td class=val>ICD10CM:I21</td></tr><tr class=odd><td class=val><a href=\"http://purl.obolibrary.org/obo/DOID_5844\" target=\"_other\">http://purl.obolibrary.org/obo/DOID_5844</a></td>\n",
       "<td class=val><a href=\"http://www.geneontology.org/formats/oboInOwl#hasDbXref\" target=\"_other\">http://www.geneontology.org/formats/oboInOwl#hasDbXref</a></td>\n",
       "<td class=val>ICD10CM:I22</td></tr><tr class=even><td class=val><a href=\"http://purl.obolibrary.org/obo/DOID_5844\" target=\"_other\">http://purl.obolibrary.org/obo/DOID_5844</a></td>\n",
       "<td class=val><a href=\"http://www.geneontology.org/formats/oboInOwl#hasDbXref\" target=\"_other\">http://www.geneontology.org/formats/oboInOwl#hasDbXref</a></td>\n",
       "<td class=val>SNOMEDCT_US_2016_03_01:155304006</td></tr><tr class=odd><td class=val><a href=\"http://purl.obolibrary.org/obo/DOID_5844\" target=\"_other\">http://purl.obolibrary.org/obo/DOID_5844</a></td>\n",
       "<td class=val><a href=\"http://www.geneontology.org/formats/oboInOwl#hasDbXref\" target=\"_other\">http://www.geneontology.org/formats/oboInOwl#hasDbXref</a></td>\n",
       "<td class=val>SNOMEDCT_US_2016_03_01:194796000</td></tr><tr class=even><td class=val><a href=\"http://purl.obolibrary.org/obo/DOID_5844\" target=\"_other\">http://purl.obolibrary.org/obo/DOID_5844</a></td>\n",
       "<td class=val><a href=\"http://www.geneontology.org/formats/oboInOwl#hasDbXref\" target=\"_other\">http://www.geneontology.org/formats/oboInOwl#hasDbXref</a></td>\n",
       "<td class=val>SNOMEDCT_US_2016_03_01:266288001</td></tr><tr class=odd><td class=val><a href=\"http://purl.obolibrary.org/obo/DOID_5844\" target=\"_other\">http://purl.obolibrary.org/obo/DOID_5844</a></td>\n",
       "<td class=val><a href=\"http://www.geneontology.org/formats/oboInOwl#hasDbXref\" target=\"_other\">http://www.geneontology.org/formats/oboInOwl#hasDbXref</a></td>\n",
       "<td class=val>SNOMEDCT_US_2016_03_01:66514008</td></tr><tr class=even><td class=val><a href=\"http://purl.obolibrary.org/obo/DOID_5844\" target=\"_other\">http://purl.obolibrary.org/obo/DOID_5844</a></td>\n",
       "<td class=val><a href=\"http://www.geneontology.org/formats/oboInOwl#hasDbXref\" target=\"_other\">http://www.geneontology.org/formats/oboInOwl#hasDbXref</a></td>\n",
       "<td class=val>EFO:0000612</td></tr><tr class=odd><td class=val><a href=\"http://purl.obolibrary.org/obo/DOID_5844\" target=\"_other\">http://purl.obolibrary.org/obo/DOID_5844</a></td>\n",
       "<td class=val><a href=\"http://www.geneontology.org/formats/oboInOwl#hasDbXref\" target=\"_other\">http://www.geneontology.org/formats/oboInOwl#hasDbXref</a></td>\n",
       "<td class=val>MESH:D009203</td></tr><tr class=even><td class=val><a href=\"http://purl.obolibrary.org/obo/DOID_5844\" target=\"_other\">http://purl.obolibrary.org/obo/DOID_5844</a></td>\n",
       "<td class=val><a href=\"http://www.geneontology.org/formats/oboInOwl#hasDbXref\" target=\"_other\">http://www.geneontology.org/formats/oboInOwl#hasDbXref</a></td>\n",
       "<td class=val>NCI:C27996</td></tr><tr class=odd><td class=val><a href=\"http://purl.obolibrary.org/obo/DOID_5844\" target=\"_other\">http://purl.obolibrary.org/obo/DOID_5844</a></td>\n",
       "<td class=val><a href=\"http://www.geneontology.org/formats/oboInOwl#hasDbXref\" target=\"_other\">http://www.geneontology.org/formats/oboInOwl#hasDbXref</a></td>\n",
       "<td class=val>OMIM:608557</td></tr><tr class=even><td class=val><a href=\"http://purl.obolibrary.org/obo/DOID_5844\" target=\"_other\">http://purl.obolibrary.org/obo/DOID_5844</a></td>\n",
       "<td class=val><a href=\"http://www.geneontology.org/formats/oboInOwl#hasDbXref\" target=\"_other\">http://www.geneontology.org/formats/oboInOwl#hasDbXref</a></td>\n",
       "<td class=val>SNOMEDCT_US_2016_03_01:22298006</td></tr><tr class=odd><td class=val><a href=\"http://purl.obolibrary.org/obo/DOID_5844\" target=\"_other\">http://purl.obolibrary.org/obo/DOID_5844</a></td>\n",
       "<td class=val><a href=\"http://www.geneontology.org/formats/oboInOwl#hasDbXref\" target=\"_other\">http://www.geneontology.org/formats/oboInOwl#hasDbXref</a></td>\n",
       "<td class=val>SNOMEDCT_US_2016_03_01:233824008</td></tr><tr class=even><td class=val><a href=\"http://purl.obolibrary.org/obo/DOID_5844\" target=\"_other\">http://purl.obolibrary.org/obo/DOID_5844</a></td>\n",
       "<td class=val><a href=\"http://www.geneontology.org/formats/oboInOwl#hasDbXref\" target=\"_other\">http://www.geneontology.org/formats/oboInOwl#hasDbXref</a></td>\n",
       "<td class=val>UMLS_CUI:C0027051</td></tr><tr class=odd><td class=val><a href=\"http://purl.obolibrary.org/obo/DOID_5844\" target=\"_other\">http://purl.obolibrary.org/obo/DOID_5844</a></td>\n",
       "<td class=val><a href=\"http://www.geneontology.org/formats/oboInOwl#hasExactSynonym\" target=\"_other\">http://www.geneontology.org/formats/oboInOwl#hasExactSynonym</a></td>\n",
       "<td class=val>Myocardial infarct</td></tr><tr class=even><td class=val><a href=\"http://purl.obolibrary.org/obo/DOID_5844\" target=\"_other\">http://purl.obolibrary.org/obo/DOID_5844</a></td>\n",
       "<td class=val><a href=\"http://www.geneontology.org/formats/oboInOwl#hasExactSynonym\" target=\"_other\">http://www.geneontology.org/formats/oboInOwl#hasExactSynonym</a></td>\n",
       "<td class=val>heart attack</td></tr><tr class=odd><td class=val><a href=\"http://purl.obolibrary.org/obo/DOID_5844\" target=\"_other\">http://purl.obolibrary.org/obo/DOID_5844</a></td>\n",
       "<td class=val><a href=\"http://www.geneontology.org/formats/oboInOwl#hasOBONamespace\" target=\"_other\">http://www.geneontology.org/formats/oboInOwl#hasOBONamespace</a></td>\n",
       "<td class=val>disease_ontology</td></tr><tr class=even><td class=val><a href=\"http://purl.obolibrary.org/obo/DOID_5844\" target=\"_other\">http://purl.obolibrary.org/obo/DOID_5844</a></td>\n",
       "<td class=val><a href=\"http://www.geneontology.org/formats/oboInOwl#id\" target=\"_other\">http://www.geneontology.org/formats/oboInOwl#id</a></td>\n",
       "<td class=val>DOID:5844</td></tr><tr class=odd><td class=val><a href=\"http://purl.obolibrary.org/obo/DOID_5844\" target=\"_other\">http://purl.obolibrary.org/obo/DOID_5844</a></td>\n",
       "<td class=val><a href=\"http://purl.obolibrary.org/obo/IAO_0000115\" target=\"_other\">http://purl.obolibrary.org/obo/IAO_0000115</a></td>\n",
       "<td class=val>A coronary artery disease characterized by myocardial cell death (myocardial necrosis) due to prolonged ischaemia.</td></tr></table><div class=\"tinfo\">Total: 23, Shown: 23</div></div>"
      ]
     },
     "metadata": {},
     "output_type": "display_data"
    }
   ],
   "source": [
    "PREFIX rdf: <http://www.w3.org/1999/02/22-rdf-syntax-ns#>\n",
    "PREFIX rdfs: <http://www.w3.org/2000/01/rdf-schema#>\n",
    "PREFIX obo: <http://www.geneontology.org/formats/oboInOwl>\n",
    "\n",
    "SELECT ?disease ?property ?value\n",
    "FROM <http://purl.obolibrary.org/obo/merged/ODAE>\n",
    "WHERE {\n",
    "    ?disease rdfs:label \"myocardial infarction\"^^xsd:string .\n",
    "    ?disease ?property ?value .\n",
    "}"
   ]
  },
  {
   "cell_type": "code",
   "execution_count": 4,
   "metadata": {},
   "outputs": [
    {
     "data": {
      "text/html": [
       "<div class=\"krn-spql\"><table><tr class=hdr><th>disease_doid</th>\n",
       "<th>disease_odae</th></tr><tr class=odd><td class=val><a href=\"http://purl.obolibrary.org/obo/DOID_5844\" target=\"_other\">http://purl.obolibrary.org/obo/DOID_5844</a></td>\n",
       "<td class=val><a href=\"http://purl.obolibrary.org/obo/DOID_5844\" target=\"_other\">http://purl.obolibrary.org/obo/DOID_5844</a></td></tr></table><div class=\"tinfo\">Total: 1, Shown: 1</div></div>"
      ]
     },
     "metadata": {},
     "output_type": "display_data"
    }
   ],
   "source": [
    "PREFIX rdfs: <http://www.w3.org/2000/01/rdf-schema#>\n",
    "PREFIX oboowl: <http://www.geneontology.org/formats/oboInOwl#>\n",
    "\n",
    "SELECT DISTINCT ?disease_doid ?disease_odae\n",
    "FROM <http://purl.obolibrary.org/obo/merged/DOID>\n",
    "FROM <http://purl.obolibrary.org/obo/merged/ODAE>\n",
    "WHERE {\n",
    "    ?disease_doid rdfs:label \"myocardial infarction\" .\n",
    "    ?disease_doid oboowl:id ?id .\n",
    "    ?disease_odae oboowl:id ?id .\n",
    "}"
   ]
  }
 ],
 "metadata": {
  "kernelspec": {
   "display_name": "SPARQL",
   "language": "sparql",
   "name": "sparql"
  },
  "language_info": {
   "codemirror_mode": {
    "name": "sparql"
   },
   "mimetype": "application/sparql-query",
   "name": "sparql",
   "pygments_lexer": "sparql-nb"
  }
 },
 "nbformat": 4,
 "nbformat_minor": 2
}
