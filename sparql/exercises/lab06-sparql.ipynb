{
 "cells": [
  {
   "cell_type": "code",
   "execution_count": 1,
   "metadata": {},
   "outputs": [
    {
     "data": {
      "text/html": [
       "<div class=\"krn-spql\"><div class=\"magic\">Endpoint set to: http://dbpedia.org/sparql</div><div class=\"magic\">Display: table</div><div class=\"magic\">Result maximum size: unlimited</div></div>"
      ],
      "text/plain": [
       "Endpoint set to: http://dbpedia.org/sparql\n",
       "Display: table\n",
       "Result maximum size: unlimited\n"
      ]
     },
     "metadata": {},
     "output_type": "display_data"
    }
   ],
   "source": [
    "%endpoint http://dbpedia.org/sparql\n",
    "%display table\n",
    "%show all"
   ]
  },
  {
   "cell_type": "markdown",
   "metadata": {},
   "source": [
    "# SPARQL\n",
    "## Em todas as questões e exercícios a seguir você pode limitar a saída para 20 itens usando a cláusula LIMIT 20."
   ]
  },
  {
   "cell_type": "markdown",
   "metadata": {},
   "source": [
    "# Exemplo\n",
    "## Quem é autor de The Tin Drum?"
   ]
  },
  {
   "cell_type": "code",
   "execution_count": 2,
   "metadata": {},
   "outputs": [
    {
     "data": {
      "text/html": [
       "<div class=\"krn-spql\"><table><tr class=hdr><th>aut</th></tr><tr class=odd><td class=val><a href=\"http://dbpedia.org/resource/Günter_Grass\" target=\"_other\">http://dbpedia.org/resource/Günter_Grass</a></td></tr></table><div class=\"tinfo\">Total: 1, Shown: 1</div></div>"
      ]
     },
     "metadata": {},
     "output_type": "display_data"
    }
   ],
   "source": [
    "select ?aut\n",
    "  where {dbr:The_Tin_Drum dbo:author ?aut}"
   ]
  },
  {
   "cell_type": "markdown",
   "metadata": {},
   "source": [
    "# Questão\n",
    "## Quais os livros escritos por Günter Grass?"
   ]
  },
  {
   "cell_type": "code",
   "execution_count": null,
   "metadata": {},
   "outputs": [],
   "source": []
  },
  {
   "cell_type": "markdown",
   "metadata": {},
   "source": [
    "# Questão\n",
    "## Qual a relação entre o livro The Tin Drum e o autor Günter Grass?"
   ]
  },
  {
   "cell_type": "code",
   "execution_count": null,
   "metadata": {},
   "outputs": [],
   "source": []
  },
  {
   "cell_type": "markdown",
   "metadata": {},
   "source": [
    "# Questão\n",
    "## Teste se há diferença na pergunta contrária: qual a relação entre o autor Günter Grass e o livro The Tin Drum?"
   ]
  },
  {
   "cell_type": "code",
   "execution_count": null,
   "metadata": {},
   "outputs": [],
   "source": []
  },
  {
   "cell_type": "markdown",
   "metadata": {},
   "source": [
    "# Exemplo\n",
    "## Quais os escritores?"
   ]
  },
  {
   "cell_type": "code",
   "execution_count": 3,
   "metadata": {},
   "outputs": [
    {
     "data": {
      "text/html": [
       "<div class=\"krn-spql\"><table><tr class=hdr><th>wri</th></tr><tr class=odd><td class=val><a href=\"http://dbpedia.org/resource/Abbie_Hoffman\" target=\"_other\">http://dbpedia.org/resource/Abbie_Hoffman</a></td></tr><tr class=even><td class=val><a href=\"http://dbpedia.org/resource/Adam_Oehlenschläger\" target=\"_other\">http://dbpedia.org/resource/Adam_Oehlenschläger</a></td></tr><tr class=odd><td class=val><a href=\"http://dbpedia.org/resource/Adam_Wiśniewski-Snerg\" target=\"_other\">http://dbpedia.org/resource/Adam_Wiśniewski-Snerg</a></td></tr><tr class=even><td class=val><a href=\"http://dbpedia.org/resource/Adrienne_Rich\" target=\"_other\">http://dbpedia.org/resource/Adrienne_Rich</a></td></tr><tr class=odd><td class=val><a href=\"http://dbpedia.org/resource/Alessandro_Manzoni\" target=\"_other\">http://dbpedia.org/resource/Alessandro_Manzoni</a></td></tr><tr class=even><td class=val><a href=\"http://dbpedia.org/resource/Alfred_Bester\" target=\"_other\">http://dbpedia.org/resource/Alfred_Bester</a></td></tr><tr class=odd><td class=val><a href=\"http://dbpedia.org/resource/Alice_Walker\" target=\"_other\">http://dbpedia.org/resource/Alice_Walker</a></td></tr><tr class=even><td class=val><a href=\"http://dbpedia.org/resource/Amy_Tan\" target=\"_other\">http://dbpedia.org/resource/Amy_Tan</a></td></tr><tr class=odd><td class=val><a href=\"http://dbpedia.org/resource/Andrew_Marvell\" target=\"_other\">http://dbpedia.org/resource/Andrew_Marvell</a></td></tr><tr class=even><td class=val><a href=\"http://dbpedia.org/resource/Andrew_Sarris\" target=\"_other\">http://dbpedia.org/resource/Andrew_Sarris</a></td></tr><tr class=odd><td class=val><a href=\"http://dbpedia.org/resource/André_Breton\" target=\"_other\">http://dbpedia.org/resource/André_Breton</a></td></tr><tr class=even><td class=val><a href=\"http://dbpedia.org/resource/André_Malraux\" target=\"_other\">http://dbpedia.org/resource/André_Malraux</a></td></tr><tr class=odd><td class=val><a href=\"http://dbpedia.org/resource/Anne_Desclos\" target=\"_other\">http://dbpedia.org/resource/Anne_Desclos</a></td></tr><tr class=even><td class=val><a href=\"http://dbpedia.org/resource/Anthony_Burgess\" target=\"_other\">http://dbpedia.org/resource/Anthony_Burgess</a></td></tr><tr class=odd><td class=val><a href=\"http://dbpedia.org/resource/Arthur_Machen\" target=\"_other\">http://dbpedia.org/resource/Arthur_Machen</a></td></tr><tr class=even><td class=val><a href=\"http://dbpedia.org/resource/Astrid_Lindgren\" target=\"_other\">http://dbpedia.org/resource/Astrid_Lindgren</a></td></tr><tr class=odd><td class=val><a href=\"http://dbpedia.org/resource/August_Strindberg\" target=\"_other\">http://dbpedia.org/resource/August_Strindberg</a></td></tr><tr class=even><td class=val><a href=\"http://dbpedia.org/resource/Augusto_Boal\" target=\"_other\">http://dbpedia.org/resource/Augusto_Boal</a></td></tr><tr class=odd><td class=val><a href=\"http://dbpedia.org/resource/Barry_Took\" target=\"_other\">http://dbpedia.org/resource/Barry_Took</a></td></tr><tr class=even><td class=val><a href=\"http://dbpedia.org/resource/Ben_Jonson\" target=\"_other\">http://dbpedia.org/resource/Ben_Jonson</a></td></tr></table><div class=\"tinfo\">Total: 20, Shown: 20</div></div>"
      ]
     },
     "metadata": {},
     "output_type": "display_data"
    }
   ],
   "source": [
    "select distinct ?wri\n",
    "  where {?wri rdf:type dbo:Writer}\n",
    "  limit 20"
   ]
  },
  {
   "cell_type": "markdown",
   "metadata": {},
   "source": [
    "# Questão\n",
    "## Quais as entidades de língua alemã?"
   ]
  },
  {
   "cell_type": "code",
   "execution_count": null,
   "metadata": {},
   "outputs": [],
   "source": []
  },
  {
   "cell_type": "markdown",
   "metadata": {},
   "source": [
    "# Questão\n",
    "## Quais os autores de língua alemã?"
   ]
  },
  {
   "cell_type": "code",
   "execution_count": null,
   "metadata": {},
   "outputs": [],
   "source": []
  },
  {
   "cell_type": "markdown",
   "metadata": {},
   "source": [
    "# Questão\n",
    "## Quais os escritores traduzidos por Ralph Manheim?"
   ]
  },
  {
   "cell_type": "code",
   "execution_count": null,
   "metadata": {},
   "outputs": [],
   "source": []
  },
  {
   "cell_type": "markdown",
   "metadata": {},
   "source": [
    "# Exercício 1\n",
    "## Liste as cidades disponíveis na DBPedia."
   ]
  },
  {
   "cell_type": "code",
   "execution_count": null,
   "metadata": {},
   "outputs": [],
   "source": []
  },
  {
   "cell_type": "markdown",
   "metadata": {},
   "source": [
    "# Exercício 2\n",
    "## Liste todas as cidades administradas pelo partido socialista francês."
   ]
  },
  {
   "cell_type": "code",
   "execution_count": null,
   "metadata": {},
   "outputs": [],
   "source": []
  },
  {
   "cell_type": "markdown",
   "metadata": {},
   "source": [
    "# Exercício 3\n",
    "## Quem é o prefeito de Paris?"
   ]
  },
  {
   "cell_type": "code",
   "execution_count": null,
   "metadata": {},
   "outputs": [],
   "source": []
  },
  {
   "cell_type": "markdown",
   "metadata": {},
   "source": [
    "# Exercício 4\n",
    "## Liste todas as cidades administradas por um prefeito que nasceu em Paris."
   ]
  },
  {
   "cell_type": "code",
   "execution_count": null,
   "metadata": {},
   "outputs": [],
   "source": []
  },
  {
   "cell_type": "markdown",
   "metadata": {},
   "source": [
    "# Exercício 5\n",
    "## Liste todas as plantas que têm flores"
   ]
  },
  {
   "cell_type": "code",
   "execution_count": null,
   "metadata": {},
   "outputs": [],
   "source": []
  },
  {
   "cell_type": "markdown",
   "metadata": {},
   "source": [
    "# MeSH SPARQL endpoint\n",
    "## Explore o endpoint em: http://id.nlm.nih.gov/mesh"
   ]
  },
  {
   "cell_type": "code",
   "execution_count": 4,
   "metadata": {},
   "outputs": [
    {
     "data": {
      "text/html": [
       "<div class=\"krn-spql\"><div class=\"magic\">Endpoint set to: http://id.nlm.nih.gov/mesh/sparql</div><div class=\"magic\">Display: table</div><div class=\"magic\">Result maximum size: unlimited</div></div>"
      ],
      "text/plain": [
       "Endpoint set to: http://id.nlm.nih.gov/mesh/sparql\n",
       "Display: table\n",
       "Result maximum size: unlimited\n"
      ]
     },
     "metadata": {},
     "output_type": "display_data"
    }
   ],
   "source": [
    "%endpoint http://id.nlm.nih.gov/mesh/sparql\n",
    "%display table\n",
    "%show all"
   ]
  },
  {
   "cell_type": "markdown",
   "metadata": {},
   "source": [
    "# Exemplo\n",
    "## Ações farmacológicas do medicamento Ofloxacin"
   ]
  },
  {
   "cell_type": "code",
   "execution_count": 5,
   "metadata": {},
   "outputs": [
    {
     "data": {
      "text/html": [
       "<div class=\"krn-spql\"><table><tr class=hdr><th>pa</th>\n",
       "<th>paLabel</th></tr><tr class=odd><td class=val><a href=\"http://id.nlm.nih.gov/mesh/D000892\" target=\"_other\">http://id.nlm.nih.gov/mesh/D000892</a></td>\n",
       "<td class=val>Anti-Infective Agents, Urinary</td></tr><tr class=even><td class=val><a href=\"http://id.nlm.nih.gov/mesh/D000900\" target=\"_other\">http://id.nlm.nih.gov/mesh/D000900</a></td>\n",
       "<td class=val>Anti-Bacterial Agents</td></tr><tr class=odd><td class=val><a href=\"http://id.nlm.nih.gov/mesh/D059005\" target=\"_other\">http://id.nlm.nih.gov/mesh/D059005</a></td>\n",
       "<td class=val>Topoisomerase II Inhibitors</td></tr><tr class=even><td class=val><a href=\"http://id.nlm.nih.gov/mesh/D065609\" target=\"_other\">http://id.nlm.nih.gov/mesh/D065609</a></td>\n",
       "<td class=val>Cytochrome P-450 CYP1A2 Inhibitors</td></tr></table><div class=\"tinfo\">Total: 4, Shown: 4</div></div>"
      ]
     },
     "metadata": {},
     "output_type": "display_data"
    }
   ],
   "source": [
    "PREFIX rdf: <http://www.w3.org/1999/02/22-rdf-syntax-ns#>\n",
    "PREFIX rdfs: <http://www.w3.org/2000/01/rdf-schema#>\n",
    "PREFIX xsd: <http://www.w3.org/2001/XMLSchema#>\n",
    "PREFIX owl: <http://www.w3.org/2002/07/owl#>\n",
    "PREFIX meshv: <http://id.nlm.nih.gov/mesh/vocab#>\n",
    "PREFIX mesh: <http://id.nlm.nih.gov/mesh/>\n",
    "PREFIX mesh2015: <http://id.nlm.nih.gov/mesh/2015/>\n",
    "PREFIX mesh2016: <http://id.nlm.nih.gov/mesh/2016/>\n",
    "PREFIX mesh2017: <http://id.nlm.nih.gov/mesh/2017/>\n",
    "PREFIX mesh2018: <http://id.nlm.nih.gov/mesh/2018/>\n",
    "\n",
    "SELECT * \n",
    "WHERE {\n",
    "  mesh:D015242 meshv:pharmacologicalAction ?pa .\n",
    "  ?pa rdfs:label ?paLabel .\n",
    "}"
   ]
  },
  {
   "cell_type": "markdown",
   "metadata": {},
   "source": [
    "# Exercício 6\n",
    "## Encontre todos os conceitos que recebem o rótulo Myocardial Infarction"
   ]
  },
  {
   "cell_type": "markdown",
   "metadata": {},
   "source": []
  }
 ],
 "metadata": {
  "kernelspec": {
   "display_name": "SPARQL",
   "language": "sparql",
   "name": "sparql"
  },
  "language_info": {
   "codemirror_mode": {
    "name": "sparql"
   },
   "mimetype": "application/sparql-query",
   "name": "sparql",
   "pygments_lexer": "sparql-nb"
  }
 },
 "nbformat": 4,
 "nbformat_minor": 2
}
