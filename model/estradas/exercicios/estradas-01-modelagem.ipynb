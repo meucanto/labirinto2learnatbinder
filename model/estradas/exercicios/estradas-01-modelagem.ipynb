{
 "cells": [
  {
   "cell_type": "markdown",
   "metadata": {},
   "source": [
    "# Estradas e Trajetos\n",
    "\n",
    "## Exercícios de Modelagem\n",
    "\n",
    "Um sistema de mapeamento de estradas e trajetos precisa gerenciar e relacionar os seguintes elementos: cidades, estradas e trajetos entre cidades. A seguir a descrição o papel de cada elemento:\n",
    "* _Cidades_: mantém um cadastro de cidades.\n",
    "* _Estradas_: registra estradas que ligam uma cidade (cidade_origem) a outra (cidade_destino), bem como sua quilometragem.\n",
    "* _Trajeto_: cada registro da tabela Trajeto identifica um trajeto, que consiste em uma sequência ordenada de estradas que ligam duas cidades (cidade_origem e cidade_destino), por exemplo, um trajeto entre Salvador e Curitiba, pode envolver uma sequência de estradas: Salvador-Belo Horizonte, Belo Horizonte-São Paulo e São Paulo-Curitiba."
   ]
  },
  {
   "cell_type": "markdown",
   "metadata": {},
   "source": [
    "# Exercício 1\n",
    "\n",
    "Escreva um modelo ER que seja capaz de representar estes elementos e a relação entre eles."
   ]
  },
  {
   "cell_type": "code",
   "execution_count": null,
   "metadata": {},
   "outputs": [],
   "source": []
  },
  {
   "cell_type": "markdown",
   "metadata": {},
   "source": [
    "# Exercício 2\n",
    "\n",
    "Escreva um esquema Relacional mapeando o modelo ER da questão anterior. O esquema é representado pela listagem das tabelas, seus atributos (sem tipo) e chaves primárias. Abaixo de cada tabela liste quem são as chaves estrangeiras e a que tabela estão relacionadas, da sequinte maneira:\n",
    "~~~\n",
    "CHE <chaves estrangeiras> -> <Tabela relacionada>\n",
    "~~~"
   ]
  },
  {
   "cell_type": "code",
   "execution_count": null,
   "metadata": {},
   "outputs": [],
   "source": []
  }
 ],
 "metadata": {
  "kernelspec": {
   "display_name": "SQL",
   "language": "SQL",
   "name": "sql"
  },
  "language_info": {
   "codemirror_mode": "sql",
   "file_extension": ".sql",
   "mimetype": "",
   "name": "SQL",
   "nbconverter_exporter": "",
   "version": ""
  },
  "toc": {
   "base_numbering": 1,
   "nav_menu": {},
   "number_sections": false,
   "sideBar": false,
   "skip_h1_title": false,
   "title_cell": "Table of Contents",
   "title_sidebar": "Contents",
   "toc_cell": false,
   "toc_position": {},
   "toc_section_display": false,
   "toc_window_display": false
  }
 },
 "nbformat": 4,
 "nbformat_minor": 2
}
