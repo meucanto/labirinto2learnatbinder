{
 "cells": [
  {
   "cell_type": "markdown",
   "metadata": {},
   "source": [
    "# Estradas e Trajetos\n",
    "\n",
    "## Exercício com Álgebra Relacional\n",
    "\n",
    "Partindo do problema desenvolvido no notebook de modelagem (vide diretório `model/estradas`), um sistema de mapeamento de estradas e trajetos precisa gerenciar e relacionar os seguintes elementos: cidades, estradas e trajetos entre cidades. A seguir a descrição o papel de cada elemento:\n",
    "* _Cidades_: mantém um cadastro de cidades.\n",
    "* _Estradas_: registra estradas que ligam uma cidade (cidade_origem) a outra (cidade_destino), bem como sua quilometragem.\n",
    "* _Trajeto_: cada registro da tabela Trajeto identifica um trajeto, que consiste em uma sequência ordenada de estradas que ligam duas cidades (cidade_origem e cidade_destino), por exemplo, um trajeto entre Salvador e Curitiba, pode envolver uma sequência de estradas: Salvador-Belo Horizonte, Belo Horizonte-São Paulo e São Paulo-Curitiba.\n",
    "\n",
    "No notebook de modelagem foram concebidos os seguintes modelos ER e relacional:\n",
    "\n",
    "### Modelo ER\n",
    "\n",
    "![ER](er-estradas.png)\n",
    "\n",
    "### Esquema Relacional\n",
    "As chaves primárias têm underscore antes e depois `_chave_`:\n",
    "~~~\n",
    "Cidade(_nome_)\n",
    "\n",
    "Estrada(_nome_, km, origem, destino)\n",
    "  CHE (origem) -> Cidade\n",
    "  CHE (destino) -> Cidade\n",
    "\n",
    "Trajeto(_id_, origem, destino)\n",
    "  CHE (origem) -> Cidade\n",
    "  CHE (destino) -> Cidade\n",
    "\n",
    "Segmento(_idTrajeto_, _nomeEstrada_, ordem)\n",
    "  CHE (idTrajeto) -> Trajeto\n",
    "  CHE(nomeEstrada) -> Estrada\n",
    "~~~"
   ]
  },
  {
   "cell_type": "markdown",
   "metadata": {},
   "source": [
    "# Exercício\n",
    "\n",
    "Considere que há duas tabelas (relações) de `Trajeto` denominadas `TrajetoA` e `TrajetoB` e respectivas tabelas de segmento: `SegmentoA` e `SegmentoB`. Ambas estão associadas à mesma tabela `Estrada`. Há trajetos com o mesmo identificador em `TrajetoA` e `TrajetoB` que representam o mesmo trajeto.\n",
    "\n",
    "Escreva uma sentença em álgebra que retorne uma tabela (relação) com todos os trajetos em `TrajetoA` que estão inconsistentes com `TrajetoB`. Dois trajetos são inconsistentes quando eles têm o mesmo identificador e sequências de estradas diferentes, seja pela ordem, seja pelas estradas que aparecem no trajeto."
   ]
  },
  {
   "cell_type": "code",
   "execution_count": null,
   "metadata": {},
   "outputs": [],
   "source": []
  },
  {
   "cell_type": "markdown",
   "metadata": {},
   "source": [
    "## Desmembrando o Exercício\n",
    "\n",
    "Caso você não consiga pensar na solução de uma única vez, considere os passos a seguir."
   ]
  },
  {
   "cell_type": "markdown",
   "metadata": {},
   "source": [
    "## Exercício - Parte 1\n",
    "\n",
    "Quais são os trajetos em comum entre `TrajetoA` e `TrajetoB`?"
   ]
  },
  {
   "cell_type": "markdown",
   "metadata": {},
   "source": [
    "![Trajetos Comuns](algebra-parte1.png)"
   ]
  },
  {
   "cell_type": "markdown",
   "metadata": {},
   "source": [
    "## Exercício - Parte 2\n",
    "\n",
    "Quais são as estradas e sua ordem para cada um dos trajetos comuns, tanto em `TrajetoA`, quanto em `TrajetoB`?"
   ]
  },
  {
   "cell_type": "markdown",
   "metadata": {},
   "source": [
    "![Trajetos Estradas](algebra-parte2.png)"
   ]
  },
  {
   "cell_type": "markdown",
   "metadata": {},
   "source": [
    "## Exercício - Parte 3\n",
    "\n",
    "É possível definir uma operação de conjuntos que relacione inconsistências a partir do resultado da `Parte 2`?"
   ]
  },
  {
   "cell_type": "markdown",
   "metadata": {},
   "source": [
    "![Inconsistências](algebra-parte3.png)"
   ]
  },
  {
   "cell_type": "markdown",
   "metadata": {},
   "source": [
    "## Exercício - Parte 4\n",
    "\n",
    "Apresente somente o nome dos trajetos que apresentam a inconsistência."
   ]
  },
  {
   "cell_type": "markdown",
   "metadata": {},
   "source": [
    "![Projeção](algebra-parte4.png)"
   ]
  }
 ],
 "metadata": {
  "kernelspec": {
   "display_name": "SQL",
   "language": "SQL",
   "name": "sql"
  },
  "language_info": {
   "codemirror_mode": "sql",
   "file_extension": ".sql",
   "mimetype": "",
   "name": "SQL",
   "nbconverter_exporter": "",
   "version": ""
  },
  "toc": {
   "base_numbering": 1,
   "nav_menu": {},
   "number_sections": false,
   "sideBar": false,
   "skip_h1_title": false,
   "title_cell": "Table of Contents",
   "title_sidebar": "Contents",
   "toc_cell": false,
   "toc_position": {},
   "toc_section_display": false,
   "toc_window_display": false
  }
 },
 "nbformat": 4,
 "nbformat_minor": 2
}
