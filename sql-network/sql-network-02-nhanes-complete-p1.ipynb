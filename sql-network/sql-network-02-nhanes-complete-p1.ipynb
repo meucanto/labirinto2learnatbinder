{
 "cells": [
  {
   "cell_type": "markdown",
   "metadata": {},
   "source": [
    "# NHANES Analysis of Anemia Variables - Part 1\n",
    "\n",
    "In this notebook, we will analyze the correlation among variables and profiles of individuals examined in NHANES survey. The focus is on variables related to anemia diagnosis (see below). This work is based on the research of Patrícia Raia Nogueira Cavoto.\n",
    "\n",
    "## Selecting the driver\n",
    "The sentence below defines the driver for the database."
   ]
  },
  {
   "cell_type": "code",
   "execution_count": 1,
   "metadata": {},
   "outputs": [],
   "source": [
    "%defaultDatasource jdbc:h2:mem:db"
   ]
  },
  {
   "cell_type": "markdown",
   "metadata": {},
   "source": [
    "# Reference values for NHANES for the 2005-2006 survey\n",
    "\n",
    "* Extracted from data of the NHANES Web site (https://wwwn.cdc.gov/nchs/nhanes/).\n",
    "\n",
    "## Importing normal ranges of values indicated in the NHANES documentation\n",
    "\n",
    "The following query imports the file `reference-ranges.csv` that contains reference ranges from NHANES.\n",
    "\n",
    "* For each variable it is indicated\n",
    "  - applicable gender\n",
    "  - age range (ageStart until ageEnd)\n",
    "\n",
    "* The range is indicated in the form of mininum and maximum values considered normal."
   ]
  },
  {
   "cell_type": "code",
   "execution_count": 2,
   "metadata": {},
   "outputs": [
    {
     "data": {
      "application/vnd.jupyter.widget-view+json": {
       "model_id": "55fabb89-9aa1-4c93-b57c-2c906208134c",
       "version_major": 2,
       "version_minor": 0
      },
      "method": "display_data"
     },
     "metadata": {},
     "output_type": "display_data"
    },
    {
     "data": {
      "application/vnd.jupyter.widget-view+json": {
       "model_id": "b61363f8-39a2-4938-a1a6-df0f46cacd8a",
       "version_major": 2,
       "version_minor": 0
      },
      "method": "display_data"
     },
     "metadata": {},
     "output_type": "display_data"
    }
   ],
   "source": [
    "DROP TABLE IF EXISTS ReferenceRanges;\n",
    "CREATE TABLE ReferenceRanges (\n",
    "  variable VARCHAR(8),\n",
    "  gender VARCHAR(1),\n",
    "  ageStart SMALLINT,\n",
    "  ageEnd SMALLINT,\n",
    "  min DECIMAL(7,1),\n",
    "  max DECIMAL(7,1),\n",
    "  PRIMARY KEY(variable,gender,ageStart,ageEnd)\n",
    ") AS SELECT\n",
    "  variable,gender,ageStart,ageEnd,min,max\n",
    "FROM CSVREAD('../data/nhanes2005-2006/reference-ranges.csv');\n",
    "\n",
    "SELECT DISTINCT variable FROM ReferenceRanges;\n",
    "SELECT * FROM ReferenceRanges;"
   ]
  },
  {
   "cell_type": "markdown",
   "metadata": {},
   "source": [
    "# Survey NHANES 2005-2006\n",
    "\n",
    "* Extracted from data of the NHANES Web site (https://wwwn.cdc.gov/nchs/nhanes/).\n",
    "\n",
    "## Importing data from the survey NHANES 2005-2006\n",
    "\n",
    "* The following query imports the `combined-selected-variables.csv` that contains a tuple for each individual, with a selected set of variables that are used do diagnose anemia, as mentioned in Figure 1. It was filtered only the individuals with values for all fields.\n",
    "\n",
    "![evaluation of anemia](evaluation-of-anemia.gif \"Figure 1\")\n",
    "*Figure 1*: Evaluation of anemia in the adult according to the mean corpuscular volume. CBC: complete blood count; MCV: mean corpuscular volume; RBCs: red blood cells; Fe: iron; TIBC: total iron-binding capacity (transferrin); LDH: lactate dehydrogenase [6]."
   ]
  },
  {
   "cell_type": "code",
   "execution_count": 3,
   "metadata": {},
   "outputs": [
    {
     "data": {
      "application/vnd.jupyter.widget-view+json": {
       "model_id": "44719ad9-0e0e-4f93-96dd-f2da85b1feaf",
       "version_major": 2,
       "version_minor": 0
      },
      "method": "display_data"
     },
     "metadata": {},
     "output_type": "display_data"
    },
    {
     "data": {
      "application/vnd.jupyter.widget-view+json": {
       "model_id": "ee9420fe-b6fd-49ae-af04-0715f541af85",
       "version_major": 2,
       "version_minor": 0
      },
      "method": "display_data"
     },
     "metadata": {},
     "output_type": "display_data"
    }
   ],
   "source": [
    "DROP TABLE IF EXISTS Survey;\n",
    "CREATE TABLE Survey (\n",
    "  SEQN VARCHAR(8),\n",
    "  RIAGENDR VARCHAR(1),\n",
    "  RIDAGEYR SMALLINT,\n",
    "  LBXIRN DECIMAL(7,1),\n",
    "  LBXTIB DECIMAL(7,1),\n",
    "  LBXSLDSI DECIMAL(7,1),\n",
    "  LBXWBCSI DECIMAL(7,1),\n",
    "  LBXLYPCT DECIMAL(7,1),\n",
    "  LBXMOPCT DECIMAL(7,1),\n",
    "  LBXNEPCT DECIMAL(7,1),\n",
    "  LBXEOPCT DECIMAL(7,1),\n",
    "  LBXBAPCT DECIMAL(7,1),\n",
    "  LBXRBCSI DECIMAL(7,1),\n",
    "  LBXHGB DECIMAL(7,1),\n",
    "  LBXHCT DECIMAL(7,1),\n",
    "  LBXMCVSI DECIMAL(7,1),\n",
    "  LBXMCHSI DECIMAL(7,1),\n",
    "  LBXMC DECIMAL(7,1),\n",
    "  LBXRDW DECIMAL(7,1),\n",
    "  LBXPLTSI DECIMAL(7,1),\n",
    "  LBXMPSI DECIMAL(7,1),\n",
    "  PRIMARY KEY(SEQN)\n",
    ") AS SELECT\n",
    "  SEQN,RIAGENDR,RIDAGEYR,LBXIRN,LBXTIB,LBXSLDSI,LBXWBCSI,LBXLYPCT,LBXMOPCT,LBXNEPCT,LBXEOPCT,LBXBAPCT,LBXRBCSI,LBXHGB,LBXHCT,LBXMCVSI,LBXMCHSI,LBXMC,LBXRDW,LBXPLTSI,LBXMPSI\n",
    "FROM CSVREAD('../data/nhanes2005-2006/combined-selected-variables.csv');\n",
    "\n",
    "SELECT COUNT(*) FROM Survey;\n",
    "SELECT * FROM Survey;"
   ]
  },
  {
   "cell_type": "markdown",
   "metadata": {},
   "source": [
    "# Codes and description of NHANES variables\n",
    "\n",
    "* The following query imports the `reference-ranges-variables.csv` that contains codes and description of the variables adopted in this study."
   ]
  },
  {
   "cell_type": "code",
   "execution_count": 4,
   "metadata": {},
   "outputs": [
    {
     "data": {
      "application/vnd.jupyter.widget-view+json": {
       "model_id": "4f1c5aef-0194-4989-96b9-cf2346bcc5a6",
       "version_major": 2,
       "version_minor": 0
      },
      "method": "display_data"
     },
     "metadata": {},
     "output_type": "display_data"
    }
   ],
   "source": [
    "DROP TABLE IF EXISTS VariableDescription;\n",
    "CREATE TABLE VariableDescription (\n",
    "  variable VARCHAR(8),\n",
    "  acronym VARCHAR(8),\n",
    "  name VARCHAR(50),\n",
    "  unit VARCHAR(30),\n",
    "  file VARCHAR(20),\n",
    "  ranges VARCHAR(100),\n",
    "  PRIMARY KEY(variable)\n",
    ") AS SELECT\n",
    "  variable,acronym,name,unit,file,ranges\n",
    "FROM CSVREAD('../data/nhanes2005-2006/reference-ranges-variables.csv');\n",
    "\n",
    "SELECT * FROM VariableDescription;"
   ]
  },
  {
   "cell_type": "markdown",
   "metadata": {},
   "source": [
    "# Binary evaluation of individuals out of the normal ranges\n",
    "\n",
    "* For each variable, this table defines an extra binary column _b which is initialized with 0 and will receive 1 is the variable is out of the NHANES range."
   ]
  },
  {
   "cell_type": "markdown",
   "metadata": {},
   "source": [
    "## Generation of the starting matrix initialized with 0"
   ]
  },
  {
   "cell_type": "code",
   "execution_count": 5,
   "metadata": {},
   "outputs": [
    {
     "data": {
      "application/vnd.jupyter.widget-view+json": {
       "model_id": "55bbaee8-ad4c-413a-ae8d-24a802cfb2d0",
       "version_major": 2,
       "version_minor": 0
      },
      "method": "display_data"
     },
     "metadata": {},
     "output_type": "display_data"
    },
    {
     "data": {
      "application/vnd.jupyter.widget-view+json": {
       "model_id": "63637e60-4424-41e5-a082-ce5e74e95f3a",
       "version_major": 2,
       "version_minor": 0
      },
      "method": "display_data"
     },
     "metadata": {},
     "output_type": "display_data"
    }
   ],
   "source": [
    "DROP TABLE IF EXISTS SurveyB;\n",
    "CREATE TABLE SurveyB (\n",
    "  SEQN VARCHAR(8),\n",
    "  RIAGENDR VARCHAR(1),\n",
    "  RIDAGEYR SMALLINT,\n",
    "  LBXIRN DECIMAL(7,1),\n",
    "  LBXIRN_b SMALLINT DEFAULT 0,\n",
    "  LBXTIB DECIMAL(7,1),\n",
    "  LBXTIB_b SMALLINT DEFAULT 0,\n",
    "  LBXSLDSI DECIMAL(7,1),\n",
    "  LBXSLDSI_b SMALLINT DEFAULT 0,\n",
    "  LBXWBCSI DECIMAL(7,1),\n",
    "  LBXWBCSI_b SMALLINT DEFAULT 0,\n",
    "  LBXLYPCT DECIMAL(7,1),\n",
    "  LBXLYPCT_b SMALLINT DEFAULT 0,\n",
    "  LBXMOPCT DECIMAL(7,1),\n",
    "  LBXMOPCT_b SMALLINT DEFAULT 0,\n",
    "  LBXNEPCT DECIMAL(7,1),\n",
    "  LBXNEPCT_b SMALLINT DEFAULT 0,\n",
    "  LBXEOPCT DECIMAL(7,1),\n",
    "  LBXEOPCT_b SMALLINT DEFAULT 0,\n",
    "  LBXBAPCT DECIMAL(7,1),\n",
    "  LBXBAPCT_b SMALLINT DEFAULT 0,\n",
    "  LBXRBCSI DECIMAL(7,1),\n",
    "  LBXRBCSI_b SMALLINT DEFAULT 0,\n",
    "  LBXHGB DECIMAL(7,1),\n",
    "  LBXHGB_b SMALLINT DEFAULT 0,\n",
    "  LBXHCT DECIMAL(7,1),\n",
    "  LBXHCT_b SMALLINT DEFAULT 0,\n",
    "  LBXMCVSI DECIMAL(7,1),\n",
    "  LBXMCVSI_b SMALLINT DEFAULT 0,\n",
    "  LBXMCHSI DECIMAL(7,1),\n",
    "  LBXMCHSI_b SMALLINT DEFAULT 0,\n",
    "  LBXMC DECIMAL(7,1),\n",
    "  LBXMC_b SMALLINT DEFAULT 0,\n",
    "  LBXRDW DECIMAL(7,1),\n",
    "  LBXRDW_b SMALLINT DEFAULT 0,\n",
    "  LBXPLTSI DECIMAL(7,1),\n",
    "  LBXPLTSI_b SMALLINT DEFAULT 0,\n",
    "  LBXMPSI DECIMAL(7,1),\n",
    "  LBXMPSI_b SMALLINT DEFAULT 0,\n",
    "  PRIMARY KEY(SEQN)\n",
    ") AS SELECT\n",
    "  SEQN,RIAGENDR,RIDAGEYR,LBXIRN,0,LBXTIB,0,LBXSLDSI,0,LBXWBCSI,0,LBXLYPCT,0,LBXMOPCT,0,LBXNEPCT,0,LBXEOPCT,0,LBXBAPCT,0,LBXRBCSI,0,LBXHGB,0,LBXHCT,0,LBXMCVSI,0,LBXMCHSI,0,LBXMC,0,LBXRDW,0,LBXPLTSI,0,LBXMPSI,0\n",
    "FROM CSVREAD('../data/nhanes2005-2006/combined-selected-variables.csv');\n",
    "\n",
    "SELECT COUNT(*) FROM SurveyB;\n",
    "SELECT * FROM SurveyB;"
   ]
  },
  {
   "cell_type": "markdown",
   "metadata": {},
   "source": [
    "## Matrix building\n",
    "\n",
    "* Each variable is compared with the limits of the NHANES ranges, and the binary _b columns are updated."
   ]
  },
  {
   "cell_type": "code",
   "execution_count": 6,
   "metadata": {},
   "outputs": [],
   "source": [
    "-- Computing LBXIRN\n",
    "UPDATE SurveyB SB\n",
    "SET SB.LBXIRN_b = 1\n",
    "WHERE EXISTS\n",
    "(SELECT RRb.min\n",
    " FROM ReferenceRanges RRb\n",
    " WHERE RRb.variable='LBXIRN' AND SB.RIAGENDR=RRb.gender AND SB.RIDAGEYR>=RRb.ageStart AND SB.RIDAGEYR<=RRb.ageEnd AND SB.LBXIRN<RRb.min);\n",
    "UPDATE SurveyB SB\n",
    "SET SB.LBXIRN_b = 1\n",
    "WHERE SB.LBXIRN_b = 0 AND\n",
    "EXISTS (SELECT RRb.max\n",
    " FROM ReferenceRanges RRb\n",
    " WHERE RRb.variable='LBXIRN' AND SB.RIAGENDR=RRb.gender AND SB.RIDAGEYR>=RRb.ageStart AND SB.RIDAGEYR<=RRb.ageEnd AND SB.LBXIRN>RRb.max);\n",
    "\n",
    "-- Computing LBXTIB\n",
    "UPDATE SurveyB SB\n",
    "SET SB.LBXTIB_b = 1\n",
    "WHERE EXISTS\n",
    "(SELECT RRb.min\n",
    " FROM ReferenceRanges RRb\n",
    " WHERE RRb.variable='LBXTIB' AND SB.RIAGENDR=RRb.gender AND SB.RIDAGEYR>=RRb.ageStart AND SB.RIDAGEYR<=RRb.ageEnd AND SB.LBXTIB<RRb.min);\n",
    "UPDATE SurveyB SB\n",
    "SET SB.LBXTIB_b = 1\n",
    "WHERE SB.LBXTIB_b = 0 AND\n",
    "EXISTS (SELECT RRb.max\n",
    " FROM ReferenceRanges RRb\n",
    " WHERE RRb.variable='LBXTIB' AND SB.RIAGENDR=RRb.gender AND SB.RIDAGEYR>=RRb.ageStart AND SB.RIDAGEYR<=RRb.ageEnd AND SB.LBXTIB>RRb.max);\n",
    "\n",
    "-- Computing LBXSLDSI\n",
    "UPDATE SurveyB SB\n",
    "SET SB.LBXSLDSI_b = 1\n",
    "WHERE EXISTS\n",
    "(SELECT RRb.min\n",
    " FROM ReferenceRanges RRb\n",
    " WHERE RRb.variable='LBXSLDSI' AND SB.RIAGENDR=RRb.gender AND SB.RIDAGEYR>=RRb.ageStart AND SB.RIDAGEYR<=RRb.ageEnd AND SB.LBXSLDSI<RRb.min);\n",
    "UPDATE SurveyB SB\n",
    "SET SB.LBXSLDSI_b = 1\n",
    "WHERE SB.LBXSLDSI_b = 0 AND\n",
    "EXISTS (SELECT RRb.max\n",
    " FROM ReferenceRanges RRb\n",
    " WHERE RRb.variable='LBXSLDSI' AND SB.RIAGENDR=RRb.gender AND SB.RIDAGEYR>=RRb.ageStart AND SB.RIDAGEYR<=RRb.ageEnd AND SB.LBXSLDSI>RRb.max);\n",
    "\n",
    "-- Computing LBXWBCSI\n",
    "UPDATE SurveyB SB\n",
    "SET SB.LBXWBCSI_b = 1\n",
    "WHERE EXISTS\n",
    "(SELECT RRb.min\n",
    " FROM ReferenceRanges RRb\n",
    " WHERE RRb.variable='LBXWBCSI' AND SB.RIAGENDR=RRb.gender AND SB.RIDAGEYR>=RRb.ageStart AND SB.RIDAGEYR<=RRb.ageEnd AND SB.LBXWBCSI<RRb.min);\n",
    "UPDATE SurveyB SB\n",
    "SET SB.LBXWBCSI_b = 1\n",
    "WHERE SB.LBXWBCSI_b = 0 AND\n",
    "EXISTS (SELECT RRb.max\n",
    " FROM ReferenceRanges RRb\n",
    " WHERE RRb.variable='LBXWBCSI' AND SB.RIAGENDR=RRb.gender AND SB.RIDAGEYR>=RRb.ageStart AND SB.RIDAGEYR<=RRb.ageEnd AND SB.LBXWBCSI>RRb.max);\n",
    "\n",
    "-- Computing LBXLYPCT\n",
    "UPDATE SurveyB SB\n",
    "SET SB.LBXLYPCT_b = 1\n",
    "WHERE EXISTS\n",
    "(SELECT RRb.min\n",
    " FROM ReferenceRanges RRb\n",
    " WHERE RRb.variable='LBXLYPCT' AND SB.RIAGENDR=RRb.gender AND SB.RIDAGEYR>=RRb.ageStart AND SB.RIDAGEYR<=RRb.ageEnd AND SB.LBXLYPCT<RRb.min);\n",
    "UPDATE SurveyB SB\n",
    "SET SB.LBXLYPCT_b =1\n",
    "WHERE SB.LBXLYPCT_b = 0 AND\n",
    "EXISTS (SELECT RRb.max\n",
    " FROM ReferenceRanges RRb\n",
    " WHERE RRb.variable='LBXLYPCT' AND SB.RIAGENDR=RRb.gender AND SB.RIDAGEYR>=RRb.ageStart AND SB.RIDAGEYR<=RRb.ageEnd AND SB.LBXLYPCT>RRb.max);\n",
    "\n",
    "-- Computing LBXMOPCT\n",
    "UPDATE SurveyB SB\n",
    "SET SB.LBXMOPCT_b = 1\n",
    "WHERE EXISTS\n",
    "(SELECT RRb.min\n",
    " FROM ReferenceRanges RRb\n",
    " WHERE RRb.variable='LBXMOPCT' AND SB.RIAGENDR=RRb.gender AND SB.RIDAGEYR>=RRb.ageStart AND SB.RIDAGEYR<=RRb.ageEnd AND SB.LBXMOPCT<RRb.min);\n",
    "UPDATE SurveyB SB\n",
    "SET SB.LBXMOPCT_b = 1\n",
    "WHERE SB.LBXMOPCT_b = 0 AND\n",
    "EXISTS (SELECT RRb.max\n",
    " FROM ReferenceRanges RRb\n",
    " WHERE RRb.variable='LBXMOPCT' AND SB.RIAGENDR=RRb.gender AND SB.RIDAGEYR>=RRb.ageStart AND SB.RIDAGEYR<=RRb.ageEnd AND SB.LBXMOPCT>RRb.max);\n",
    "\n",
    "-- Computing LBXNEPCT\n",
    "UPDATE SurveyB SB\n",
    "SET SB.LBXNEPCT_b = 1\n",
    "WHERE EXISTS\n",
    "(SELECT RRb.min\n",
    " FROM ReferenceRanges RRb\n",
    " WHERE RRb.variable='LBXNEPCT' AND SB.RIAGENDR=RRb.gender AND SB.RIDAGEYR>=RRb.ageStart AND SB.RIDAGEYR<=RRb.ageEnd AND SB.LBXNEPCT<RRb.min);\n",
    "UPDATE SurveyB SB\n",
    "SET SB.LBXNEPCT_b = 1\n",
    "WHERE SB.LBXNEPCT_b = 0 AND\n",
    "EXISTS (SELECT RRb.max\n",
    " FROM ReferenceRanges RRb\n",
    " WHERE RRb.variable='LBXNEPCT' AND SB.RIAGENDR=RRb.gender AND SB.RIDAGEYR>=RRb.ageStart AND SB.RIDAGEYR<=RRb.ageEnd AND SB.LBXNEPCT>RRb.max);\n",
    "\n",
    "-- Computing LBXEOPCT\n",
    "UPDATE SurveyB SB\n",
    "SET SB.LBXEOPCT_b = 1\n",
    "WHERE EXISTS\n",
    "(SELECT RRb.min\n",
    " FROM ReferenceRanges RRb\n",
    " WHERE RRb.variable='LBXEOPCT' AND SB.RIAGENDR=RRb.gender AND SB.RIDAGEYR>=RRb.ageStart AND SB.RIDAGEYR<=RRb.ageEnd AND SB.LBXEOPCT<RRb.min);\n",
    "UPDATE SurveyB SB\n",
    "SET SB.LBXEOPCT_b = 1\n",
    "WHERE SB.LBXEOPCT_b = 0 AND\n",
    "EXISTS (SELECT RRb.max\n",
    " FROM ReferenceRanges RRb\n",
    " WHERE RRb.variable='LBXEOPCT' AND SB.RIAGENDR=RRb.gender AND SB.RIDAGEYR>=RRb.ageStart AND SB.RIDAGEYR<=RRb.ageEnd AND SB.LBXEOPCT>RRb.max);\n",
    "\n",
    "-- Computing LBXBAPCT\n",
    "UPDATE SurveyB SB\n",
    "SET SB.LBXBAPCT_b = 1\n",
    "WHERE EXISTS\n",
    "(SELECT RRb.min\n",
    " FROM ReferenceRanges RRb\n",
    " WHERE RRb.variable='LBXBAPCT' AND SB.RIAGENDR=RRb.gender AND SB.RIDAGEYR>=RRb.ageStart AND SB.RIDAGEYR<=RRb.ageEnd AND SB.LBXBAPCT<RRb.min);\n",
    "UPDATE SurveyB SB\n",
    "SET SB.LBXBAPCT_b = 1\n",
    "WHERE SB.LBXBAPCT_b = 0 AND\n",
    "EXISTS (SELECT RRb.max\n",
    " FROM ReferenceRanges RRb\n",
    " WHERE RRb.variable='LBXBAPCT' AND SB.RIAGENDR=RRb.gender AND SB.RIDAGEYR>=RRb.ageStart AND SB.RIDAGEYR<=RRb.ageEnd AND SB.LBXBAPCT>RRb.max);\n",
    "\n",
    "-- Computing LBXRBCSI\n",
    "UPDATE SurveyB SB\n",
    "SET SB.LBXRBCSI_b = 1\n",
    "WHERE EXISTS\n",
    "(SELECT RRb.min\n",
    " FROM ReferenceRanges RRb\n",
    " WHERE RRb.variable='LBXRBCSI' AND SB.RIAGENDR=RRb.gender AND SB.RIDAGEYR>=RRb.ageStart AND SB.RIDAGEYR<=RRb.ageEnd AND SB.LBXRBCSI<RRb.min);\n",
    "UPDATE SurveyB SB\n",
    "SET SB.LBXRBCSI_b = 1\n",
    "WHERE SB.LBXRBCSI_b = 0 AND\n",
    "EXISTS (SELECT RRb.max\n",
    " FROM ReferenceRanges RRb\n",
    " WHERE RRb.variable='LBXRBCSI' AND SB.RIAGENDR=RRb.gender AND SB.RIDAGEYR>=RRb.ageStart AND SB.RIDAGEYR<=RRb.ageEnd AND SB.LBXRBCSI>RRb.max);\n",
    "\n",
    "-- Computing LBXHGB\n",
    "UPDATE SurveyB SB\n",
    "SET SB.LBXHGB_b = 1\n",
    "WHERE EXISTS\n",
    "(SELECT RRb.min\n",
    " FROM ReferenceRanges RRb\n",
    " WHERE RRb.variable='LBXHGB' AND SB.RIAGENDR=RRb.gender AND SB.RIDAGEYR>=RRb.ageStart AND SB.RIDAGEYR<=RRb.ageEnd AND SB.LBXHGB<RRb.min);\n",
    "UPDATE SurveyB SB\n",
    "SET SB.LBXHGB_b = 1\n",
    "WHERE SB.LBXHGB_b = 0 AND\n",
    "EXISTS (SELECT RRb.max\n",
    " FROM ReferenceRanges RRb\n",
    " WHERE RRb.variable='LBXHGB' AND SB.RIAGENDR=RRb.gender AND SB.RIDAGEYR>=RRb.ageStart AND SB.RIDAGEYR<=RRb.ageEnd AND SB.LBXHGB>RRb.max);\n",
    "\n",
    "-- Computing LBXHCT\n",
    "UPDATE SurveyB SB\n",
    "SET SB.LBXHCT_b = 1\n",
    "WHERE EXISTS\n",
    "(SELECT RRb.min\n",
    " FROM ReferenceRanges RRb\n",
    " WHERE RRb.variable='LBXHCT' AND SB.RIAGENDR=RRb.gender AND SB.RIDAGEYR>=RRb.ageStart AND SB.RIDAGEYR<=RRb.ageEnd AND SB.LBXHCT<RRb.min);\n",
    "UPDATE SurveyB SB\n",
    "SET SB.LBXHCT_b = 1\n",
    "WHERE SB.LBXHCT_b = 0 AND\n",
    "EXISTS (SELECT RRb.max\n",
    " FROM ReferenceRanges RRb\n",
    " WHERE RRb.variable='LBXHCT' AND SB.RIAGENDR=RRb.gender AND SB.RIDAGEYR>=RRb.ageStart AND SB.RIDAGEYR<=RRb.ageEnd AND SB.LBXHCT>RRb.max);\n",
    "\n",
    "-- Computing LBXMCVSI\n",
    "UPDATE SurveyB SB\n",
    "SET SB.LBXMCVSI_b = 1\n",
    "WHERE EXISTS\n",
    "(SELECT RRb.min\n",
    " FROM ReferenceRanges RRb\n",
    " WHERE RRb.variable='LBXMCVSI' AND SB.RIAGENDR=RRb.gender AND SB.RIDAGEYR>=RRb.ageStart AND SB.RIDAGEYR<=RRb.ageEnd AND SB.LBXMCVSI<RRb.min);\n",
    "UPDATE SurveyB SB\n",
    "SET SB.LBXMCVSI_b = 1\n",
    "WHERE SB.LBXMCVSI_b = 0 AND\n",
    "EXISTS (SELECT RRb.max\n",
    " FROM ReferenceRanges RRb\n",
    " WHERE RRb.variable='LBXMCVSI' AND SB.RIAGENDR=RRb.gender AND SB.RIDAGEYR>=RRb.ageStart AND SB.RIDAGEYR<=RRb.ageEnd AND SB.LBXMCVSI>RRb.max);\n",
    "\n",
    "-- Computing LBXMCHSI\n",
    "UPDATE SurveyB SB\n",
    "SET SB.LBXMCHSI_b = 1\n",
    "WHERE EXISTS\n",
    "(SELECT RRb.min\n",
    " FROM ReferenceRanges RRb\n",
    " WHERE RRb.variable='LBXMCHSI' AND SB.RIAGENDR=RRb.gender AND SB.RIDAGEYR>=RRb.ageStart AND SB.RIDAGEYR<=RRb.ageEnd AND SB.LBXMCHSI<RRb.min);\n",
    "UPDATE SurveyB SB\n",
    "SET SB.LBXMCHSI_b = 1\n",
    "WHERE SB.LBXMCHSI_b = 0 AND\n",
    "EXISTS (SELECT RRb.max\n",
    " FROM ReferenceRanges RRb\n",
    " WHERE RRb.variable='LBXMCHSI' AND SB.RIAGENDR=RRb.gender AND SB.RIDAGEYR>=RRb.ageStart AND SB.RIDAGEYR<=RRb.ageEnd AND SB.LBXMCHSI>RRb.max);\n",
    "\n",
    "-- Computing LBXMC\n",
    "UPDATE SurveyB SB\n",
    "SET SB.LBXMC_b = 1\n",
    "WHERE EXISTS\n",
    "(SELECT RRb.min\n",
    " FROM ReferenceRanges RRb\n",
    " WHERE RRb.variable='LBXMC' AND SB.RIAGENDR=RRb.gender AND SB.RIDAGEYR>=RRb.ageStart AND SB.RIDAGEYR<=RRb.ageEnd AND SB.LBXMC<RRb.min);\n",
    "UPDATE SurveyB SB\n",
    "SET SB.LBXMC_b = 1\n",
    "WHERE SB.LBXMC_b = 0 AND\n",
    "EXISTS (SELECT RRb.max\n",
    " FROM ReferenceRanges RRb\n",
    " WHERE RRb.variable='LBXMC' AND SB.RIAGENDR=RRb.gender AND SB.RIDAGEYR>=RRb.ageStart AND SB.RIDAGEYR<=RRb.ageEnd AND SB.LBXMC>RRb.max);\n",
    "\n",
    "-- Computing LBXRDW\n",
    "UPDATE SurveyB SB\n",
    "SET SB.LBXRDW_b = 1\n",
    "WHERE EXISTS\n",
    "(SELECT RRb.min\n",
    " FROM ReferenceRanges RRb\n",
    " WHERE RRb.variable='LBXRDW' AND SB.RIAGENDR=RRb.gender AND SB.RIDAGEYR>=RRb.ageStart AND SB.RIDAGEYR<=RRb.ageEnd AND SB.LBXRDW<RRb.min);\n",
    "UPDATE SurveyB SB\n",
    "SET SB.LBXRDW_b = 1\n",
    "WHERE SB.LBXRDW_b = 0 AND\n",
    "EXISTS (SELECT RRb.max\n",
    " FROM ReferenceRanges RRb\n",
    " WHERE RRb.variable='LBXRDW' AND SB.RIAGENDR=RRb.gender AND SB.RIDAGEYR>=RRb.ageStart AND SB.RIDAGEYR<=RRb.ageEnd AND SB.LBXRDW>RRb.max);\n",
    "\n",
    "-- Computing LBXPLTSI\n",
    "UPDATE SurveyB SB\n",
    "SET SB.LBXPLTSI_b = 1\n",
    "WHERE EXISTS\n",
    "(SELECT RRb.min\n",
    " FROM ReferenceRanges RRb\n",
    " WHERE RRb.variable='LBXPLTSI' AND SB.RIAGENDR=RRb.gender AND SB.RIDAGEYR>=RRb.ageStart AND SB.RIDAGEYR<=RRb.ageEnd AND SB.LBXPLTSI<RRb.min);\n",
    "UPDATE SurveyB SB\n",
    "SET SB.LBXPLTSI_b = 1\n",
    "WHERE SB.LBXPLTSI_b = 0 AND\n",
    "EXISTS (SELECT RRb.max\n",
    " FROM ReferenceRanges RRb\n",
    " WHERE RRb.variable='LBXPLTSI' AND SB.RIAGENDR=RRb.gender AND SB.RIDAGEYR>=RRb.ageStart AND SB.RIDAGEYR<=RRb.ageEnd AND SB.LBXPLTSI>RRb.max);\n",
    "\n",
    "-- Computing LBXMPSI\n",
    "UPDATE SurveyB SB\n",
    "SET SB.LBXMPSI_b = 1\n",
    "WHERE EXISTS\n",
    "(SELECT RRb.min\n",
    " FROM ReferenceRanges RRb\n",
    " WHERE RRb.variable='LBXMPSI' AND SB.RIAGENDR=RRb.gender AND SB.RIDAGEYR>=RRb.ageStart AND SB.RIDAGEYR<=RRb.ageEnd AND SB.LBXMPSI<RRb.min);\n",
    "UPDATE SurveyB SB\n",
    "SET SB.LBXMPSI_b = 1\n",
    "WHERE SB.LBXMPSI_b = 0 AND\n",
    "EXISTS (SELECT RRb.max\n",
    " FROM ReferenceRanges RRb\n",
    " WHERE RRb.variable='LBXMPSI' AND SB.RIAGENDR=RRb.gender AND SB.RIDAGEYR>=RRb.ageStart AND SB.RIDAGEYR<=RRb.ageEnd AND SB.LBXMPSI>RRb.max);"
   ]
  },
  {
   "cell_type": "markdown",
   "metadata": {},
   "source": [
    "## Final Matrix\n",
    "\n",
    "* Building of the final matrix that has the identification of the person, a binary _b matrix, and a profile built by the concatenation of lines in the binary matrix.\n",
    "* The profile represents the in a binary form what is out of the ranges in each person.\n",
    "* Only anormal persons are filtered.\n",
    "\n",
    "* The resulting matrix produces a CSV file."
   ]
  },
  {
   "cell_type": "code",
   "execution_count": 7,
   "metadata": {},
   "outputs": [
    {
     "data": {
      "application/vnd.jupyter.widget-view+json": {
       "model_id": "ae718073-c90f-4ca7-a927-ae70f55011dc",
       "version_major": 2,
       "version_minor": 0
      },
      "method": "display_data"
     },
     "metadata": {},
     "output_type": "display_data"
    },
    {
     "data": {
      "application/vnd.jupyter.widget-view+json": {
       "model_id": "9e828249-95bd-4503-9cee-080c804493a5",
       "version_major": 2,
       "version_minor": 0
      },
      "method": "display_data"
     },
     "metadata": {},
     "output_type": "display_data"
    },
    {
     "data": {
      "application/vnd.jupyter.widget-view+json": {
       "model_id": "7c2a870e-af8b-4c6e-a2f2-41e028832bc9",
       "version_major": 2,
       "version_minor": 0
      },
      "method": "display_data"
     },
     "metadata": {},
     "output_type": "display_data"
    }
   ],
   "source": [
    "DROP VIEW IF EXISTS DeviationProfiles;\n",
    "DROP VIEW IF EXISTS CorrelationMatrix;\n",
    "\n",
    "CREATE VIEW CorrelationMatrix AS\n",
    "SELECT DISTINCT SB.SEQN, \n",
    "  CONCAT(SB.LBXIRN_b, SB.LBXTIB_b, SB.LBXSLDSI_b, SB.LBXWBCSI_b, SB.LBXLYPCT_b, SB.LBXMOPCT_b, SB.LBXNEPCT_b, SB.LBXEOPCT_b, SB.LBXBAPCT_b, SB.LBXRBCSI_b, SB.LBXHGB_b, SB.LBXHCT_b, SB.LBXMCVSI_b, SB.LBXMCHSI_b, SB.LBXMC_b, SB.LBXRDW_b, SB.LBXPLTSI_b, SB.LBXMPSI_b) AS profile,\n",
    "  SB.LBXIRN_b, SB.LBXTIB_b, SB.LBXSLDSI_b, SB.LBXWBCSI_b, SB.LBXLYPCT_b, SB.LBXMOPCT_b, SB.LBXNEPCT_b, SB.LBXEOPCT_b, SB.LBXBAPCT_b, SB.LBXRBCSI_b, SB.LBXHGB_b, SB.LBXHCT_b, SB.LBXMCVSI_b, SB.LBXMCHSI_b, SB.LBXMC_b, SB.LBXRDW_b, SB.LBXPLTSI_b, SB.LBXMPSI_b\n",
    "FROM SurveyB SB, ReferenceRanges RR\n",
    "WHERE SB.RIAGENDR=RR.gender AND SB.RIDAGEYR>=RR.ageStart AND SB.RIDAGEYR<=RR.ageEnd AND\n",
    "(LBXIRN_b>0 OR LBXTIB_b>0 OR LBXSLDSI_b>0 OR LBXWBCSI_b>0 OR LBXLYPCT_b>0 OR LBXMOPCT_b>0 OR LBXNEPCT_b>0 OR LBXEOPCT_b>0 OR LBXBAPCT_b>0 OR LBXRBCSI_b>0 OR LBXHGB_b>0 OR LBXHCT_b>0 OR LBXMCVSI_b>0 OR LBXMCHSI_b>0 OR LBXMC_b>0 OR LBXRDW_b>0 OR LBXPLTSI_b>0 OR LBXMPSI_b>0);\n",
    "\n",
    "SELECT COUNT(*) FROM CorrelationMatrix;\n",
    "SELECT * FROM CorrelationMatrix;\n",
    "\n",
    "CALL CSVWRITE('../data/nhanes2005-2006/correlation-matrix.csv', 'SELECT * FROM CorrelationMatrix');"
   ]
  },
  {
   "cell_type": "markdown",
   "metadata": {},
   "source": [
    "# Profiles network\n",
    "\n",
    "* Persons are here related from their binary profiles, producing a profiles network."
   ]
  },
  {
   "cell_type": "markdown",
   "metadata": {},
   "source": [
    "## Grouping profiles\n",
    "\n",
    "* Profiles are grouped according ro a binary pattern and people with the same profile are aggregated."
   ]
  },
  {
   "cell_type": "code",
   "execution_count": 8,
   "metadata": {},
   "outputs": [
    {
     "data": {
      "application/vnd.jupyter.widget-view+json": {
       "model_id": "22fdcfe6-2874-462d-86b6-fdbc12e7c846",
       "version_major": 2,
       "version_minor": 0
      },
      "method": "display_data"
     },
     "metadata": {},
     "output_type": "display_data"
    },
    {
     "data": {
      "application/vnd.jupyter.widget-view+json": {
       "model_id": "57e95f42-ae7c-4d4a-99e8-2dec59bf18db",
       "version_major": 2,
       "version_minor": 0
      },
      "method": "display_data"
     },
     "metadata": {},
     "output_type": "display_data"
    },
    {
     "data": {
      "application/vnd.jupyter.widget-view+json": {
       "model_id": "432d1876-ec44-4ee5-90c0-673253119dd0",
       "version_major": 2,
       "version_minor": 0
      },
      "method": "display_data"
     },
     "metadata": {},
     "output_type": "display_data"
    }
   ],
   "source": [
    "DROP VIEW IF EXISTS DeviationProfiles;\n",
    "\n",
    "CREATE VIEW DeviationProfiles AS\n",
    "SELECT CM.profile, COUNT(*) AS individuals\n",
    "FROM CorrelationMatrix CM\n",
    "GROUP BY CM.profile;\n",
    "\n",
    "SELECT SUM(individuals) FROM DeviationProfiles;\n",
    "SELECT * FROM DeviationProfiles;\n",
    "\n",
    "CALL CSVWRITE('../data/nhanes2005-2006/profile-number-deviation.csv', 'SELECT DP.profile AS id, DP.individuals AS weight FROM DeviationProfiles DP');"
   ]
  },
  {
   "cell_type": "markdown",
   "metadata": {},
   "source": [
    "# Matrix with deviation intensity\n",
    "\n",
    "* This second matrix records the deviation of variables that overcomes the limits and how much the overcome."
   ]
  },
  {
   "cell_type": "markdown",
   "metadata": {},
   "source": [
    "## Generation of the starting matrix initialized with 0"
   ]
  },
  {
   "cell_type": "code",
   "execution_count": 9,
   "metadata": {},
   "outputs": [],
   "source": [
    "DROP TABLE IF EXISTS SurveyD;\n",
    "CREATE TABLE SurveyD (\n",
    "  SEQN VARCHAR(8),\n",
    "  RIAGENDR VARCHAR(1),\n",
    "  RIDAGEYR SMALLINT,\n",
    "  LBXIRN DECIMAL(7,1),\n",
    "  LBXIRN_d DECIMAL(7,1) DEFAULT 0,\n",
    "  LBXTIB DECIMAL(7,1),\n",
    "  LBXTIB_d DECIMAL(7,1) DEFAULT 0,\n",
    "  LBXSLDSI DECIMAL(7,1),\n",
    "  LBXSLDSI_d DECIMAL(7,1) DEFAULT 0,\n",
    "  LBXWBCSI DECIMAL(7,1),\n",
    "  LBXWBCSI_d DECIMAL(7,1) DEFAULT 0,\n",
    "  LBXLYPCT DECIMAL(7,1),\n",
    "  LBXLYPCT_d DECIMAL(7,1) DEFAULT 0,\n",
    "  LBXMOPCT DECIMAL(7,1),\n",
    "  LBXMOPCT_d DECIMAL(7,1) DEFAULT 0,\n",
    "  LBXNEPCT DECIMAL(7,1),\n",
    "  LBXNEPCT_d DECIMAL(7,1) DEFAULT 0,\n",
    "  LBXEOPCT DECIMAL(7,1),\n",
    "  LBXEOPCT_d DECIMAL(7,1) DEFAULT 0,\n",
    "  LBXBAPCT DECIMAL(7,1),\n",
    "  LBXBAPCT_d DECIMAL(7,1) DEFAULT 0,\n",
    "  LBXRBCSI DECIMAL(7,1),\n",
    "  LBXRBCSI_d DECIMAL(7,1) DEFAULT 0,\n",
    "  LBXHGB DECIMAL(7,1),\n",
    "  LBXHGB_d DECIMAL(7,1) DEFAULT 0,\n",
    "  LBXHCT DECIMAL(7,1),\n",
    "  LBXHCT_d DECIMAL(7,1) DEFAULT 0,\n",
    "  LBXMCVSI DECIMAL(7,1),\n",
    "  LBXMCVSI_d DECIMAL(7,1) DEFAULT 0,\n",
    "  LBXMCHSI DECIMAL(7,1),\n",
    "  LBXMCHSI_d DECIMAL(7,1) DEFAULT 0,\n",
    "  LBXMC DECIMAL(7,1),\n",
    "  LBXMC_d DECIMAL(7,1) DEFAULT 0,\n",
    "  LBXRDW DECIMAL(7,1),\n",
    "  LBXRDW_d DECIMAL(7,1) DEFAULT 0,\n",
    "  LBXPLTSI DECIMAL(7,1),\n",
    "  LBXPLTSI_d DECIMAL(7,1) DEFAULT 0,\n",
    "  LBXMPSI DECIMAL(7,1),\n",
    "  LBXMPSI_d DECIMAL(7,1) DEFAULT 0,\n",
    "  PRIMARY KEY(SEQN)\n",
    ") AS SELECT\n",
    "  SEQN,RIAGENDR,RIDAGEYR,LBXIRN,0,LBXTIB,0,LBXSLDSI,0,LBXWBCSI,0,LBXLYPCT,0,LBXMOPCT,0,LBXNEPCT,0,LBXEOPCT,0,LBXBAPCT,0,LBXRBCSI,0,LBXHGB,0,LBXHCT,0,LBXMCVSI,0,LBXMCHSI,0,LBXMC,0,LBXRDW,0,LBXPLTSI,0,LBXMPSI,0\n",
    "FROM CSVREAD('../data/nhanes2005-2006/combined-selected-variables.csv');"
   ]
  },
  {
   "cell_type": "markdown",
   "metadata": {},
   "source": [
    "## Matrix building\n",
    "\n",
    "* Each variable is compared with the limits of the NHANES ranges, and the deviation _d columns receive the difference."
   ]
  },
  {
   "cell_type": "code",
   "execution_count": 10,
   "metadata": {},
   "outputs": [],
   "source": [
    "-- Computing LBXIRN\n",
    "UPDATE SurveyD SD\n",
    "SET SD.LBXIRN_d =\n",
    "(SELECT RRa.min-SD.LBXIRN\n",
    " FROM ReferenceRanges RRa\n",
    " WHERE RRa.variable='LBXIRN' AND SD.RIAGENDR=RRa.gender AND SD.RIDAGEYR>=RRa.ageStart AND SD.RIDAGEYR<=RRa.ageEnd AND SD.LBXIRN<RRa.min)\n",
    "WHERE EXISTS\n",
    "(SELECT RRb.min\n",
    " FROM ReferenceRanges RRb\n",
    " WHERE RRb.variable='LBXIRN' AND SD.RIAGENDR=RRb.gender AND SD.RIDAGEYR>=RRb.ageStart AND SD.RIDAGEYR<=RRb.ageEnd AND SD.LBXIRN<RRb.min);\n",
    "UPDATE SurveyD SD\n",
    "SET SD.LBXIRN_d =\n",
    "(SELECT SD.LBXIRN-RRa.max\n",
    " FROM ReferenceRanges RRa\n",
    " WHERE RRa.variable='LBXIRN' AND SD.RIAGENDR=RRa.gender AND SD.RIDAGEYR>=RRa.ageStart AND SD.RIDAGEYR<=RRa.ageEnd AND SD.LBXIRN>RRa.max)\n",
    "WHERE SD.LBXIRN_d = 0 AND\n",
    "EXISTS (SELECT RRb.max\n",
    " FROM ReferenceRanges RRb\n",
    " WHERE RRb.variable='LBXIRN' AND SD.RIAGENDR=RRb.gender AND SD.RIDAGEYR>=RRb.ageStart AND SD.RIDAGEYR<=RRb.ageEnd AND SD.LBXIRN>RRb.max);\n",
    "\n",
    "-- Computing LBXTIB\n",
    "UPDATE SurveyD SD\n",
    "SET SD.LBXTIB_d =\n",
    "(SELECT RRa.min-SD.LBXTIB\n",
    " FROM ReferenceRanges RRa\n",
    " WHERE RRa.variable='LBXTIB' AND SD.RIAGENDR=RRa.gender AND SD.RIDAGEYR>=RRa.ageStart AND SD.RIDAGEYR<=RRa.ageEnd AND SD.LBXTIB<RRa.min)\n",
    "WHERE EXISTS\n",
    "(SELECT RRb.min\n",
    " FROM ReferenceRanges RRb\n",
    " WHERE RRb.variable='LBXTIB' AND SD.RIAGENDR=RRb.gender AND SD.RIDAGEYR>=RRb.ageStart AND SD.RIDAGEYR<=RRb.ageEnd AND SD.LBXTIB<RRb.min);\n",
    "UPDATE SurveyD SD\n",
    "SET SD.LBXTIB_d =\n",
    "(SELECT SD.LBXTIB-RRa.max\n",
    " FROM ReferenceRanges RRa\n",
    " WHERE RRa.variable='LBXTIB' AND SD.RIAGENDR=RRa.gender AND SD.RIDAGEYR>=RRa.ageStart AND SD.RIDAGEYR<=RRa.ageEnd AND SD.LBXTIB>RRa.max)\n",
    "WHERE SD.LBXTIB_d = 0 AND\n",
    "EXISTS (SELECT RRb.max\n",
    " FROM ReferenceRanges RRb\n",
    " WHERE RRb.variable='LBXTIB' AND SD.RIAGENDR=RRb.gender AND SD.RIDAGEYR>=RRb.ageStart AND SD.RIDAGEYR<=RRb.ageEnd AND SD.LBXTIB>RRb.max);\n",
    "\n",
    "-- Computing LBXSLDSI\n",
    "UPDATE SurveyD SD\n",
    "SET SD.LBXSLDSI_d =\n",
    "(SELECT RRa.min-SD.LBXSLDSI\n",
    " FROM ReferenceRanges RRa\n",
    " WHERE RRa.variable='LBXSLDSI' AND SD.RIAGENDR=RRa.gender AND SD.RIDAGEYR>=RRa.ageStart AND SD.RIDAGEYR<=RRa.ageEnd AND SD.LBXSLDSI<RRa.min)\n",
    "WHERE EXISTS\n",
    "(SELECT RRb.min\n",
    " FROM ReferenceRanges RRb\n",
    " WHERE RRb.variable='LBXSLDSI' AND SD.RIAGENDR=RRb.gender AND SD.RIDAGEYR>=RRb.ageStart AND SD.RIDAGEYR<=RRb.ageEnd AND SD.LBXSLDSI<RRb.min);\n",
    "UPDATE SurveyD SD\n",
    "SET SD.LBXSLDSI_d =\n",
    "(SELECT SD.LBXSLDSI-RRa.max\n",
    " FROM ReferenceRanges RRa\n",
    " WHERE RRa.variable='LBXSLDSI' AND SD.RIAGENDR=RRa.gender AND SD.RIDAGEYR>=RRa.ageStart AND SD.RIDAGEYR<=RRa.ageEnd AND SD.LBXSLDSI>RRa.max)\n",
    "WHERE SD.LBXSLDSI_d = 0 AND\n",
    "EXISTS (SELECT RRb.max\n",
    " FROM ReferenceRanges RRb\n",
    " WHERE RRb.variable='LBXSLDSI' AND SD.RIAGENDR=RRb.gender AND SD.RIDAGEYR>=RRb.ageStart AND SD.RIDAGEYR<=RRb.ageEnd AND SD.LBXSLDSI>RRb.max);\n",
    "\n",
    "-- Computing LBXWBCSI\n",
    "UPDATE SurveyD SD\n",
    "SET SD.LBXWBCSI_d =\n",
    "(SELECT RRa.min-SD.LBXWBCSI\n",
    " FROM ReferenceRanges RRa\n",
    " WHERE RRa.variable='LBXWBCSI' AND SD.RIAGENDR=RRa.gender AND SD.RIDAGEYR>=RRa.ageStart AND SD.RIDAGEYR<=RRa.ageEnd AND SD.LBXWBCSI<RRa.min)\n",
    "WHERE EXISTS\n",
    "(SELECT RRb.min\n",
    " FROM ReferenceRanges RRb\n",
    " WHERE RRb.variable='LBXWBCSI' AND SD.RIAGENDR=RRb.gender AND SD.RIDAGEYR>=RRb.ageStart AND SD.RIDAGEYR<=RRb.ageEnd AND SD.LBXWBCSI<RRb.min);\n",
    "UPDATE SurveyD SD\n",
    "SET SD.LBXWBCSI_d =\n",
    "(SELECT SD.LBXWBCSI-RRa.max\n",
    " FROM ReferenceRanges RRa\n",
    " WHERE RRa.variable='LBXWBCSI' AND SD.RIAGENDR=RRa.gender AND SD.RIDAGEYR>=RRa.ageStart AND SD.RIDAGEYR<=RRa.ageEnd AND SD.LBXWBCSI>RRa.max)\n",
    "WHERE SD.LBXWBCSI_d = 0 AND\n",
    "EXISTS (SELECT RRb.max\n",
    " FROM ReferenceRanges RRb\n",
    " WHERE RRb.variable='LBXWBCSI' AND SD.RIAGENDR=RRb.gender AND SD.RIDAGEYR>=RRb.ageStart AND SD.RIDAGEYR<=RRb.ageEnd AND SD.LBXWBCSI>RRb.max);\n",
    "\n",
    "-- Computing LBXLYPCT\n",
    "UPDATE SurveyD SD\n",
    "SET SD.LBXLYPCT_d =\n",
    "(SELECT RRa.min-SD.LBXLYPCT\n",
    " FROM ReferenceRanges RRa\n",
    " WHERE RRa.variable='LBXLYPCT' AND SD.RIAGENDR=RRa.gender AND SD.RIDAGEYR>=RRa.ageStart AND SD.RIDAGEYR<=RRa.ageEnd AND SD.LBXLYPCT<RRa.min)\n",
    "WHERE EXISTS\n",
    "(SELECT RRb.min\n",
    " FROM ReferenceRanges RRb\n",
    " WHERE RRb.variable='LBXLYPCT' AND SD.RIAGENDR=RRb.gender AND SD.RIDAGEYR>=RRb.ageStart AND SD.RIDAGEYR<=RRb.ageEnd AND SD.LBXLYPCT<RRb.min);\n",
    "UPDATE SurveyD SD\n",
    "SET SD.LBXLYPCT_d =\n",
    "(SELECT SD.LBXLYPCT-RRa.max\n",
    " FROM ReferenceRanges RRa\n",
    " WHERE RRa.variable='LBXLYPCT' AND SD.RIAGENDR=RRa.gender AND SD.RIDAGEYR>=RRa.ageStart AND SD.RIDAGEYR<=RRa.ageEnd AND SD.LBXLYPCT>RRa.max)\n",
    "WHERE SD.LBXLYPCT_d = 0 AND\n",
    "EXISTS (SELECT RRb.max\n",
    " FROM ReferenceRanges RRb\n",
    " WHERE RRb.variable='LBXLYPCT' AND SD.RIAGENDR=RRb.gender AND SD.RIDAGEYR>=RRb.ageStart AND SD.RIDAGEYR<=RRb.ageEnd AND SD.LBXLYPCT>RRb.max);\n",
    "\n",
    "-- Computing LBXMOPCT\n",
    "UPDATE SurveyD SD\n",
    "SET SD.LBXMOPCT_d =\n",
    "(SELECT RRa.min-SD.LBXMOPCT\n",
    " FROM ReferenceRanges RRa\n",
    " WHERE RRa.variable='LBXMOPCT' AND SD.RIAGENDR=RRa.gender AND SD.RIDAGEYR>=RRa.ageStart AND SD.RIDAGEYR<=RRa.ageEnd AND SD.LBXMOPCT<RRa.min)\n",
    "WHERE EXISTS\n",
    "(SELECT RRb.min\n",
    " FROM ReferenceRanges RRb\n",
    " WHERE RRb.variable='LBXMOPCT' AND SD.RIAGENDR=RRb.gender AND SD.RIDAGEYR>=RRb.ageStart AND SD.RIDAGEYR<=RRb.ageEnd AND SD.LBXMOPCT<RRb.min);\n",
    "UPDATE SurveyD SD\n",
    "SET SD.LBXMOPCT_d =\n",
    "(SELECT SD.LBXMOPCT-RRa.max\n",
    " FROM ReferenceRanges RRa\n",
    " WHERE RRa.variable='LBXMOPCT' AND SD.RIAGENDR=RRa.gender AND SD.RIDAGEYR>=RRa.ageStart AND SD.RIDAGEYR<=RRa.ageEnd AND SD.LBXMOPCT>RRa.max)\n",
    "WHERE SD.LBXMOPCT_d = 0 AND\n",
    "EXISTS (SELECT RRb.max\n",
    " FROM ReferenceRanges RRb\n",
    " WHERE RRb.variable='LBXMOPCT' AND SD.RIAGENDR=RRb.gender AND SD.RIDAGEYR>=RRb.ageStart AND SD.RIDAGEYR<=RRb.ageEnd AND SD.LBXMOPCT>RRb.max);\n",
    "\n",
    "-- Computing LBXNEPCT\n",
    "UPDATE SurveyD SD\n",
    "SET SD.LBXNEPCT_d =\n",
    "(SELECT RRa.min-SD.LBXNEPCT\n",
    " FROM ReferenceRanges RRa\n",
    " WHERE RRa.variable='LBXNEPCT' AND SD.RIAGENDR=RRa.gender AND SD.RIDAGEYR>=RRa.ageStart AND SD.RIDAGEYR<=RRa.ageEnd AND SD.LBXNEPCT<RRa.min)\n",
    "WHERE EXISTS\n",
    "(SELECT RRb.min\n",
    " FROM ReferenceRanges RRb\n",
    " WHERE RRb.variable='LBXNEPCT' AND SD.RIAGENDR=RRb.gender AND SD.RIDAGEYR>=RRb.ageStart AND SD.RIDAGEYR<=RRb.ageEnd AND SD.LBXNEPCT<RRb.min);\n",
    "UPDATE SurveyD SD\n",
    "SET SD.LBXNEPCT_d =\n",
    "(SELECT SD.LBXNEPCT-RRa.max\n",
    " FROM ReferenceRanges RRa\n",
    " WHERE RRa.variable='LBXNEPCT' AND SD.RIAGENDR=RRa.gender AND SD.RIDAGEYR>=RRa.ageStart AND SD.RIDAGEYR<=RRa.ageEnd AND SD.LBXNEPCT>RRa.max)\n",
    "WHERE SD.LBXNEPCT_d = 0 AND\n",
    "EXISTS (SELECT RRb.max\n",
    " FROM ReferenceRanges RRb\n",
    " WHERE RRb.variable='LBXNEPCT' AND SD.RIAGENDR=RRb.gender AND SD.RIDAGEYR>=RRb.ageStart AND SD.RIDAGEYR<=RRb.ageEnd AND SD.LBXNEPCT>RRb.max);\n",
    "\n",
    "-- Computing LBXEOPCT\n",
    "UPDATE SurveyD SD\n",
    "SET SD.LBXEOPCT_d =\n",
    "(SELECT RRa.min-SD.LBXEOPCT\n",
    " FROM ReferenceRanges RRa\n",
    " WHERE RRa.variable='LBXEOPCT' AND SD.RIAGENDR=RRa.gender AND SD.RIDAGEYR>=RRa.ageStart AND SD.RIDAGEYR<=RRa.ageEnd AND SD.LBXEOPCT<RRa.min)\n",
    "WHERE EXISTS\n",
    "(SELECT RRb.min\n",
    " FROM ReferenceRanges RRb\n",
    " WHERE RRb.variable='LBXEOPCT' AND SD.RIAGENDR=RRb.gender AND SD.RIDAGEYR>=RRb.ageStart AND SD.RIDAGEYR<=RRb.ageEnd AND SD.LBXEOPCT<RRb.min);\n",
    "UPDATE SurveyD SD\n",
    "SET SD.LBXEOPCT_d =\n",
    "(SELECT SD.LBXEOPCT-RRa.max\n",
    " FROM ReferenceRanges RRa\n",
    " WHERE RRa.variable='LBXEOPCT' AND SD.RIAGENDR=RRa.gender AND SD.RIDAGEYR>=RRa.ageStart AND SD.RIDAGEYR<=RRa.ageEnd AND SD.LBXEOPCT>RRa.max)\n",
    "WHERE SD.LBXEOPCT_d = 0 AND\n",
    "EXISTS (SELECT RRb.max\n",
    " FROM ReferenceRanges RRb\n",
    " WHERE RRb.variable='LBXEOPCT' AND SD.RIAGENDR=RRb.gender AND SD.RIDAGEYR>=RRb.ageStart AND SD.RIDAGEYR<=RRb.ageEnd AND SD.LBXEOPCT>RRb.max);\n",
    "\n",
    "-- Computing LBXBAPCT\n",
    "UPDATE SurveyD SD\n",
    "SET SD.LBXBAPCT_d =\n",
    "(SELECT RRa.min-SD.LBXBAPCT\n",
    " FROM ReferenceRanges RRa\n",
    " WHERE RRa.variable='LBXBAPCT' AND SD.RIAGENDR=RRa.gender AND SD.RIDAGEYR>=RRa.ageStart AND SD.RIDAGEYR<=RRa.ageEnd AND SD.LBXBAPCT<RRa.min)\n",
    "WHERE EXISTS\n",
    "(SELECT RRb.min\n",
    " FROM ReferenceRanges RRb\n",
    " WHERE RRb.variable='LBXBAPCT' AND SD.RIAGENDR=RRb.gender AND SD.RIDAGEYR>=RRb.ageStart AND SD.RIDAGEYR<=RRb.ageEnd AND SD.LBXBAPCT<RRb.min);\n",
    "UPDATE SurveyD SD\n",
    "SET SD.LBXBAPCT_d =\n",
    "(SELECT SD.LBXBAPCT-RRa.max\n",
    " FROM ReferenceRanges RRa\n",
    " WHERE RRa.variable='LBXBAPCT' AND SD.RIAGENDR=RRa.gender AND SD.RIDAGEYR>=RRa.ageStart AND SD.RIDAGEYR<=RRa.ageEnd AND SD.LBXBAPCT>RRa.max)\n",
    "WHERE SD.LBXBAPCT_d = 0 AND\n",
    "EXISTS (SELECT RRb.max\n",
    " FROM ReferenceRanges RRb\n",
    " WHERE RRb.variable='LBXBAPCT' AND SD.RIAGENDR=RRb.gender AND SD.RIDAGEYR>=RRb.ageStart AND SD.RIDAGEYR<=RRb.ageEnd AND SD.LBXBAPCT>RRb.max);\n",
    "\n",
    "-- Computing LBXRBCSI\n",
    "UPDATE SurveyD SD\n",
    "SET SD.LBXRBCSI_d =\n",
    "(SELECT RRa.min-SD.LBXRBCSI\n",
    " FROM ReferenceRanges RRa\n",
    " WHERE RRa.variable='LBXRBCSI' AND SD.RIAGENDR=RRa.gender AND SD.RIDAGEYR>=RRa.ageStart AND SD.RIDAGEYR<=RRa.ageEnd AND SD.LBXRBCSI<RRa.min)\n",
    "WHERE EXISTS\n",
    "(SELECT RRb.min\n",
    " FROM ReferenceRanges RRb\n",
    " WHERE RRb.variable='LBXRBCSI' AND SD.RIAGENDR=RRb.gender AND SD.RIDAGEYR>=RRb.ageStart AND SD.RIDAGEYR<=RRb.ageEnd AND SD.LBXRBCSI<RRb.min);\n",
    "UPDATE SurveyD SD\n",
    "SET SD.LBXRBCSI_d =\n",
    "(SELECT SD.LBXRBCSI-RRa.max\n",
    " FROM ReferenceRanges RRa\n",
    " WHERE RRa.variable='LBXRBCSI' AND SD.RIAGENDR=RRa.gender AND SD.RIDAGEYR>=RRa.ageStart AND SD.RIDAGEYR<=RRa.ageEnd AND SD.LBXRBCSI>RRa.max)\n",
    "WHERE SD.LBXRBCSI_d = 0 AND\n",
    "EXISTS (SELECT RRb.max\n",
    " FROM ReferenceRanges RRb\n",
    " WHERE RRb.variable='LBXRBCSI' AND SD.RIAGENDR=RRb.gender AND SD.RIDAGEYR>=RRb.ageStart AND SD.RIDAGEYR<=RRb.ageEnd AND SD.LBXRBCSI>RRb.max);\n",
    "\n",
    "-- Computing LBXHGB\n",
    "UPDATE SurveyD SD\n",
    "SET SD.LBXHGB_d =\n",
    "(SELECT RRa.min-SD.LBXHGB\n",
    " FROM ReferenceRanges RRa\n",
    " WHERE RRa.variable='LBXHGB' AND SD.RIAGENDR=RRa.gender AND SD.RIDAGEYR>=RRa.ageStart AND SD.RIDAGEYR<=RRa.ageEnd AND SD.LBXHGB<RRa.min)\n",
    "WHERE EXISTS\n",
    "(SELECT RRb.min\n",
    " FROM ReferenceRanges RRb\n",
    " WHERE RRb.variable='LBXHGB' AND SD.RIAGENDR=RRb.gender AND SD.RIDAGEYR>=RRb.ageStart AND SD.RIDAGEYR<=RRb.ageEnd AND SD.LBXHGB<RRb.min);\n",
    "UPDATE SurveyD SD\n",
    "SET SD.LBXHGB_d =\n",
    "(SELECT SD.LBXHGB-RRa.max\n",
    " FROM ReferenceRanges RRa\n",
    " WHERE RRa.variable='LBXHGB' AND SD.RIAGENDR=RRa.gender AND SD.RIDAGEYR>=RRa.ageStart AND SD.RIDAGEYR<=RRa.ageEnd AND SD.LBXHGB>RRa.max)\n",
    "WHERE SD.LBXHGB_d = 0 AND\n",
    "EXISTS (SELECT RRb.max\n",
    " FROM ReferenceRanges RRb\n",
    " WHERE RRb.variable='LBXHGB' AND SD.RIAGENDR=RRb.gender AND SD.RIDAGEYR>=RRb.ageStart AND SD.RIDAGEYR<=RRb.ageEnd AND SD.LBXHGB>RRb.max);\n",
    "\n",
    "-- Computing LBXHCT\n",
    "UPDATE SurveyD SD\n",
    "SET SD.LBXHCT_d =\n",
    "(SELECT RRa.min-SD.LBXHCT\n",
    " FROM ReferenceRanges RRa\n",
    " WHERE RRa.variable='LBXHCT' AND SD.RIAGENDR=RRa.gender AND SD.RIDAGEYR>=RRa.ageStart AND SD.RIDAGEYR<=RRa.ageEnd AND SD.LBXHCT<RRa.min)\n",
    "WHERE EXISTS\n",
    "(SELECT RRb.min\n",
    " FROM ReferenceRanges RRb\n",
    " WHERE RRb.variable='LBXHCT' AND SD.RIAGENDR=RRb.gender AND SD.RIDAGEYR>=RRb.ageStart AND SD.RIDAGEYR<=RRb.ageEnd AND SD.LBXHCT<RRb.min);\n",
    "UPDATE SurveyD SD\n",
    "SET SD.LBXHCT_d =\n",
    "(SELECT SD.LBXHCT-RRa.max\n",
    " FROM ReferenceRanges RRa\n",
    " WHERE RRa.variable='LBXHCT' AND SD.RIAGENDR=RRa.gender AND SD.RIDAGEYR>=RRa.ageStart AND SD.RIDAGEYR<=RRa.ageEnd AND SD.LBXHCT>RRa.max)\n",
    "WHERE SD.LBXHCT_d = 0 AND\n",
    "EXISTS (SELECT RRb.max\n",
    " FROM ReferenceRanges RRb\n",
    " WHERE RRb.variable='LBXHCT' AND SD.RIAGENDR=RRb.gender AND SD.RIDAGEYR>=RRb.ageStart AND SD.RIDAGEYR<=RRb.ageEnd AND SD.LBXHCT>RRb.max);\n",
    "\n",
    "-- Computing LBXMCVSI\n",
    "UPDATE SurveyD SD\n",
    "SET SD.LBXMCVSI_d =\n",
    "(SELECT RRa.min-SD.LBXMCVSI\n",
    " FROM ReferenceRanges RRa\n",
    " WHERE RRa.variable='LBXMCVSI' AND SD.RIAGENDR=RRa.gender AND SD.RIDAGEYR>=RRa.ageStart AND SD.RIDAGEYR<=RRa.ageEnd AND SD.LBXMCVSI<RRa.min)\n",
    "WHERE EXISTS\n",
    "(SELECT RRb.min\n",
    " FROM ReferenceRanges RRb\n",
    " WHERE RRb.variable='LBXMCVSI' AND SD.RIAGENDR=RRb.gender AND SD.RIDAGEYR>=RRb.ageStart AND SD.RIDAGEYR<=RRb.ageEnd AND SD.LBXMCVSI<RRb.min);\n",
    "UPDATE SurveyD SD\n",
    "SET SD.LBXMCVSI_d =\n",
    "(SELECT SD.LBXMCVSI-RRa.max\n",
    " FROM ReferenceRanges RRa\n",
    " WHERE RRa.variable='LBXMCVSI' AND SD.RIAGENDR=RRa.gender AND SD.RIDAGEYR>=RRa.ageStart AND SD.RIDAGEYR<=RRa.ageEnd AND SD.LBXMCVSI>RRa.max)\n",
    "WHERE SD.LBXMCVSI_d = 0 AND\n",
    "EXISTS (SELECT RRb.max\n",
    " FROM ReferenceRanges RRb\n",
    " WHERE RRb.variable='LBXMCVSI' AND SD.RIAGENDR=RRb.gender AND SD.RIDAGEYR>=RRb.ageStart AND SD.RIDAGEYR<=RRb.ageEnd AND SD.LBXMCVSI>RRb.max);\n",
    "\n",
    "-- Computing LBXMCHSI\n",
    "UPDATE SurveyD SD\n",
    "SET SD.LBXMCHSI_d =\n",
    "(SELECT RRa.min-SD.LBXMCHSI\n",
    " FROM ReferenceRanges RRa\n",
    " WHERE RRa.variable='LBXMCHSI' AND SD.RIAGENDR=RRa.gender AND SD.RIDAGEYR>=RRa.ageStart AND SD.RIDAGEYR<=RRa.ageEnd AND SD.LBXMCHSI<RRa.min)\n",
    "WHERE EXISTS\n",
    "(SELECT RRb.min\n",
    " FROM ReferenceRanges RRb\n",
    " WHERE RRb.variable='LBXMCHSI' AND SD.RIAGENDR=RRb.gender AND SD.RIDAGEYR>=RRb.ageStart AND SD.RIDAGEYR<=RRb.ageEnd AND SD.LBXMCHSI<RRb.min);\n",
    "UPDATE SurveyD SD\n",
    "SET SD.LBXMCHSI_d =\n",
    "(SELECT SD.LBXMCHSI-RRa.max\n",
    " FROM ReferenceRanges RRa\n",
    " WHERE RRa.variable='LBXMCHSI' AND SD.RIAGENDR=RRa.gender AND SD.RIDAGEYR>=RRa.ageStart AND SD.RIDAGEYR<=RRa.ageEnd AND SD.LBXMCHSI>RRa.max)\n",
    "WHERE SD.LBXMCHSI_d = 0 AND\n",
    "EXISTS (SELECT RRb.max\n",
    " FROM ReferenceRanges RRb\n",
    " WHERE RRb.variable='LBXMCHSI' AND SD.RIAGENDR=RRb.gender AND SD.RIDAGEYR>=RRb.ageStart AND SD.RIDAGEYR<=RRb.ageEnd AND SD.LBXMCHSI>RRb.max);\n",
    "\n",
    "-- Computing LBXMC\n",
    "UPDATE SurveyD SD\n",
    "SET SD.LBXMC_d =\n",
    "(SELECT RRa.min-SD.LBXMC\n",
    " FROM ReferenceRanges RRa\n",
    " WHERE RRa.variable='LBXMC' AND SD.RIAGENDR=RRa.gender AND SD.RIDAGEYR>=RRa.ageStart AND SD.RIDAGEYR<=RRa.ageEnd AND SD.LBXMC<RRa.min)\n",
    "WHERE EXISTS\n",
    "(SELECT RRb.min\n",
    " FROM ReferenceRanges RRb\n",
    " WHERE RRb.variable='LBXMC' AND SD.RIAGENDR=RRb.gender AND SD.RIDAGEYR>=RRb.ageStart AND SD.RIDAGEYR<=RRb.ageEnd AND SD.LBXMC<RRb.min);\n",
    "UPDATE SurveyD SD\n",
    "SET SD.LBXMC_d =\n",
    "(SELECT SD.LBXMC-RRa.max\n",
    " FROM ReferenceRanges RRa\n",
    " WHERE RRa.variable='LBXMC' AND SD.RIAGENDR=RRa.gender AND SD.RIDAGEYR>=RRa.ageStart AND SD.RIDAGEYR<=RRa.ageEnd AND SD.LBXMC>RRa.max)\n",
    "WHERE SD.LBXMC_d = 0 AND\n",
    "EXISTS (SELECT RRb.max\n",
    " FROM ReferenceRanges RRb\n",
    " WHERE RRb.variable='LBXMC' AND SD.RIAGENDR=RRb.gender AND SD.RIDAGEYR>=RRb.ageStart AND SD.RIDAGEYR<=RRb.ageEnd AND SD.LBXMC>RRb.max);\n",
    "\n",
    "-- Computing LBXRDW\n",
    "UPDATE SurveyD SD\n",
    "SET SD.LBXRDW_d =\n",
    "(SELECT RRa.min-SD.LBXRDW\n",
    " FROM ReferenceRanges RRa\n",
    " WHERE RRa.variable='LBXRDW' AND SD.RIAGENDR=RRa.gender AND SD.RIDAGEYR>=RRa.ageStart AND SD.RIDAGEYR<=RRa.ageEnd AND SD.LBXRDW<RRa.min)\n",
    "WHERE EXISTS\n",
    "(SELECT RRb.min\n",
    " FROM ReferenceRanges RRb\n",
    " WHERE RRb.variable='LBXRDW' AND SD.RIAGENDR=RRb.gender AND SD.RIDAGEYR>=RRb.ageStart AND SD.RIDAGEYR<=RRb.ageEnd AND SD.LBXRDW<RRb.min);\n",
    "UPDATE SurveyD SD\n",
    "SET SD.LBXRDW_d =\n",
    "(SELECT SD.LBXRDW-RRa.max\n",
    " FROM ReferenceRanges RRa\n",
    " WHERE RRa.variable='LBXRDW' AND SD.RIAGENDR=RRa.gender AND SD.RIDAGEYR>=RRa.ageStart AND SD.RIDAGEYR<=RRa.ageEnd AND SD.LBXRDW>RRa.max)\n",
    "WHERE SD.LBXRDW_d = 0 AND\n",
    "EXISTS (SELECT RRb.max\n",
    " FROM ReferenceRanges RRb\n",
    " WHERE RRb.variable='LBXRDW' AND SD.RIAGENDR=RRb.gender AND SD.RIDAGEYR>=RRb.ageStart AND SD.RIDAGEYR<=RRb.ageEnd AND SD.LBXRDW>RRb.max);\n",
    "\n",
    "-- Computing LBXPLTSI\n",
    "UPDATE SurveyD SD\n",
    "SET SD.LBXPLTSI_d =\n",
    "(SELECT RRa.min-SD.LBXPLTSI\n",
    " FROM ReferenceRanges RRa\n",
    " WHERE RRa.variable='LBXPLTSI' AND SD.RIAGENDR=RRa.gender AND SD.RIDAGEYR>=RRa.ageStart AND SD.RIDAGEYR<=RRa.ageEnd AND SD.LBXPLTSI<RRa.min)\n",
    "WHERE EXISTS\n",
    "(SELECT RRb.min\n",
    " FROM ReferenceRanges RRb\n",
    " WHERE RRb.variable='LBXPLTSI' AND SD.RIAGENDR=RRb.gender AND SD.RIDAGEYR>=RRb.ageStart AND SD.RIDAGEYR<=RRb.ageEnd AND SD.LBXPLTSI<RRb.min);\n",
    "UPDATE SurveyD SD\n",
    "SET SD.LBXPLTSI_d =\n",
    "(SELECT SD.LBXPLTSI-RRa.max\n",
    " FROM ReferenceRanges RRa\n",
    " WHERE RRa.variable='LBXPLTSI' AND SD.RIAGENDR=RRa.gender AND SD.RIDAGEYR>=RRa.ageStart AND SD.RIDAGEYR<=RRa.ageEnd AND SD.LBXPLTSI>RRa.max)\n",
    "WHERE SD.LBXPLTSI_d = 0 AND\n",
    "EXISTS (SELECT RRb.max\n",
    " FROM ReferenceRanges RRb\n",
    " WHERE RRb.variable='LBXPLTSI' AND SD.RIAGENDR=RRb.gender AND SD.RIDAGEYR>=RRb.ageStart AND SD.RIDAGEYR<=RRb.ageEnd AND SD.LBXPLTSI>RRb.max);\n",
    "\n",
    "-- Computing LBXMPSI\n",
    "UPDATE SurveyD SD\n",
    "SET SD.LBXMPSI_d =\n",
    "(SELECT RRa.min-SD.LBXMPSI\n",
    " FROM ReferenceRanges RRa\n",
    " WHERE RRa.variable='LBXMPSI' AND SD.RIAGENDR=RRa.gender AND SD.RIDAGEYR>=RRa.ageStart AND SD.RIDAGEYR<=RRa.ageEnd AND SD.LBXMPSI<RRa.min)\n",
    "WHERE EXISTS\n",
    "(SELECT RRb.min\n",
    " FROM ReferenceRanges RRb\n",
    " WHERE RRb.variable='LBXMPSI' AND SD.RIAGENDR=RRb.gender AND SD.RIDAGEYR>=RRb.ageStart AND SD.RIDAGEYR<=RRb.ageEnd AND SD.LBXMPSI<RRb.min);\n",
    "UPDATE SurveyD SD\n",
    "SET SD.LBXMPSI_d =\n",
    "(SELECT SD.LBXMPSI-RRa.max\n",
    " FROM ReferenceRanges RRa\n",
    " WHERE RRa.variable='LBXMPSI' AND SD.RIAGENDR=RRa.gender AND SD.RIDAGEYR>=RRa.ageStart AND SD.RIDAGEYR<=RRa.ageEnd AND SD.LBXMPSI>RRa.max)\n",
    "WHERE SD.LBXMPSI_d = 0 AND\n",
    "EXISTS (SELECT RRb.max\n",
    " FROM ReferenceRanges RRb\n",
    " WHERE RRb.variable='LBXMPSI' AND SD.RIAGENDR=RRb.gender AND SD.RIDAGEYR>=RRb.ageStart AND SD.RIDAGEYR<=RRb.ageEnd AND SD.LBXMPSI>RRb.max);"
   ]
  },
  {
   "cell_type": "markdown",
   "metadata": {},
   "source": [
    "## Final Matrix\n",
    "\n",
    "* Building of the final matrix that has the identification of the person and a deviation _d matrix.\n",
    "* Only anormal persons are filtered."
   ]
  },
  {
   "cell_type": "code",
   "execution_count": 11,
   "metadata": {},
   "outputs": [
    {
     "data": {
      "application/vnd.jupyter.widget-view+json": {
       "model_id": "5ba89559-c3f4-46b1-990b-109801834cfa",
       "version_major": 2,
       "version_minor": 0
      },
      "method": "display_data"
     },
     "metadata": {},
     "output_type": "display_data"
    },
    {
     "data": {
      "application/vnd.jupyter.widget-view+json": {
       "model_id": "7630cc49-ead1-495e-a586-bbe7206e6cc7",
       "version_major": 2,
       "version_minor": 0
      },
      "method": "display_data"
     },
     "metadata": {},
     "output_type": "display_data"
    },
    {
     "data": {
      "application/vnd.jupyter.widget-view+json": {
       "model_id": "770e9a9e-709f-4f99-931a-afc959177cd5",
       "version_major": 2,
       "version_minor": 0
      },
      "method": "display_data"
     },
     "metadata": {},
     "output_type": "display_data"
    }
   ],
   "source": [
    "DROP VIEW IF EXISTS CorrelationMatrixWeighted;\n",
    "\n",
    "CREATE VIEW CorrelationMatrixWeighted AS\n",
    "SELECT DISTINCT SD.SEQN, SD.LBXIRN_d, SD.LBXTIB_d, SD.LBXSLDSI_d, SD.LBXWBCSI_d, SD.LBXLYPCT_d, SD.LBXMOPCT_d, SD.LBXNEPCT_d, SD.LBXEOPCT_d, SD.LBXBAPCT_d, SD.LBXRBCSI_d, SD.LBXHGB_d, SD.LBXHCT_d, SD.LBXMCVSI_d, SD.LBXMCHSI_d, SD.LBXMC_d, SD.LBXRDW_d, SD.LBXPLTSI_d, SD.LBXMPSI_d\n",
    "FROM SurveyD SD, ReferenceRanges RR\n",
    "WHERE SD.RIAGENDR=RR.gender AND SD.RIDAGEYR>=RR.ageStart AND SD.RIDAGEYR<=RR.ageEnd AND\n",
    "(LBXIRN_d>0 OR LBXTIB_d>0 OR LBXSLDSI_d>0 OR LBXWBCSI_d>0 OR LBXLYPCT_d>0 OR LBXMOPCT_d>0 OR LBXNEPCT_d>0 OR LBXEOPCT_d>0 OR LBXBAPCT_d>0 OR LBXRBCSI_d>0 OR LBXHGB_d>0 OR LBXHCT_d>0 OR LBXMCVSI_d>0 OR LBXMCHSI_d>0 OR LBXMC_d>0 OR LBXRDW_d>0 OR LBXPLTSI_d>0 OR LBXMPSI_d>0);\n",
    "\n",
    "SELECT COUNT(*) FROM CorrelationMatrixWeighted;\n",
    "SELECT * FROM CorrelationMatrixWeighted;\n",
    "\n",
    "CALL CSVWRITE('../data/nhanes2005-2006/correlation-matrix-weighted.csv', 'SELECT * FROM CorrelationMatrixWeighted');"
   ]
  },
  {
   "cell_type": "markdown",
   "metadata": {},
   "source": [
    "# Variables Network\n",
    "\n",
    "* In this network each node is a variable and each edge indicates that two variables are correlated in a certain intensity."
   ]
  },
  {
   "cell_type": "markdown",
   "metadata": {},
   "source": [
    "## List of the variable pairs\n",
    "\n",
    "* This view prepares the list of correlation pairs initialized with 0."
   ]
  },
  {
   "cell_type": "code",
   "execution_count": 12,
   "metadata": {},
   "outputs": [],
   "source": [
    "DROP VIEW IF EXISTS VariablesCorrelation;\n",
    "DROP VIEW IF EXISTS Variables;\n",
    "\n",
    "CREATE VIEW Variables AS\n",
    "SELECT DISTINCT variable AS var1 FROM ReferenceRanges;\n",
    "\n",
    "CREATE VIEW VariablesCorrelation AS\n",
    "SELECT DISTINCT Variables.var1, ReferenceRanges.variable AS var2, 0 AS correlation\n",
    "FROM Variables, ReferenceRanges\n",
    "WHERE Variables.var1 < ReferenceRanges.variable;"
   ]
  },
  {
   "cell_type": "markdown",
   "metadata": {},
   "source": [
    "## Survey verticalization\n",
    "\n",
    "* Persons and variables that are originally presented as a matrix are transformed in a list: person, variable and value. This list will facilitate the subsequent analyses."
   ]
  },
  {
   "cell_type": "code",
   "execution_count": 13,
   "metadata": {},
   "outputs": [
    {
     "data": {
      "text/plain": [
       "47970"
      ]
     },
     "execution_count": 13,
     "metadata": {},
     "output_type": "execute_result"
    }
   ],
   "source": [
    "DROP VIEW IF EXISTS VerticalSurvey;\n",
    "\n",
    "CREATE VIEW VerticalSurvey AS\n",
    "  SELECT SU.SEQN, RR.variable, SU.LBXIRN AS value, 0 AS deviation\n",
    "  FROM Survey SU, ReferenceRanges RR\n",
    "  WHERE RR.variable='LBXIRN'\n",
    "UNION\n",
    "  SELECT SU.SEQN, RR.variable, SU.LBXTIB AS value, 0 AS deviation\n",
    "  FROM Survey SU, ReferenceRanges RR\n",
    "  WHERE RR.variable='LBXTIB'\n",
    "UNION\n",
    "  SELECT SU.SEQN, RR.variable, SU.LBXSLDSI AS value, 0 AS deviation\n",
    "  FROM Survey SU, ReferenceRanges RR\n",
    "  WHERE RR.variable='LBXSLDSI'\n",
    "UNION\n",
    "  SELECT SU.SEQN, RR.variable, SU.LBXWBCSI AS value, 0 AS deviation\n",
    "  FROM Survey SU, ReferenceRanges RR\n",
    "  WHERE RR.variable='LBXWBCSI'\n",
    "UNION\n",
    "  SELECT SU.SEQN, RR.variable, SU.LBXLYPCT AS value, 0 AS deviation\n",
    "  FROM Survey SU, ReferenceRanges RR\n",
    "  WHERE RR.variable='LBXLYPCT'\n",
    "UNION\n",
    "  SELECT SU.SEQN, RR.variable, SU.LBXMOPCT AS value, 0 AS deviation\n",
    "  FROM Survey SU, ReferenceRanges RR\n",
    "  WHERE RR.variable='LBXMOPCT'\n",
    "UNION\n",
    "  SELECT SU.SEQN, RR.variable, SU.LBXNEPCT AS value, 0 AS deviation\n",
    "  FROM Survey SU, ReferenceRanges RR\n",
    "  WHERE RR.variable='LBXNEPCT'\n",
    "UNION\n",
    "  SELECT SU.SEQN, RR.variable, SU.LBXEOPCT AS value, 0 AS deviation\n",
    "  FROM Survey SU, ReferenceRanges RR\n",
    "  WHERE RR.variable='LBXEOPCT'\n",
    "UNION\n",
    "  SELECT SU.SEQN, RR.variable, SU.LBXBAPCT AS value, 0 AS deviation\n",
    "  FROM Survey SU, ReferenceRanges RR\n",
    "  WHERE RR.variable='LBXBAPCT'\n",
    "UNION\n",
    "  SELECT SU.SEQN, RR.variable, SU.LBXRBCSI AS value, 0 AS deviation\n",
    "  FROM Survey SU, ReferenceRanges RR\n",
    "  WHERE RR.variable='LBXRBCSI'\n",
    "UNION\n",
    "  SELECT SU.SEQN, RR.variable, SU.LBXHGB AS value, 0 AS deviation\n",
    "  FROM Survey SU, ReferenceRanges RR\n",
    "  WHERE RR.variable='LBXHGB'\n",
    "UNION\n",
    "  SELECT SU.SEQN, RR.variable, SU.LBXHCT AS value, 0 AS deviation\n",
    "  FROM Survey SU, ReferenceRanges RR\n",
    "  WHERE RR.variable='LBXHCT'\n",
    "UNION\n",
    "  SELECT SU.SEQN, RR.variable, SU.LBXMCVSI AS value, 0 AS deviation\n",
    "  FROM Survey SU, ReferenceRanges RR\n",
    "  WHERE RR.variable='LBXMCVSI'\n",
    "UNION\n",
    "  SELECT SU.SEQN, RR.variable, SU.LBXMCHSI AS value, 0 AS deviation\n",
    "  FROM Survey SU, ReferenceRanges RR\n",
    "  WHERE RR.variable='LBXMCHSI'\n",
    "UNION\n",
    "  SELECT SU.SEQN, RR.variable, SU.LBXMC AS value, 0 AS deviation\n",
    "  FROM Survey SU, ReferenceRanges RR\n",
    "  WHERE RR.variable='LBXMC'\n",
    "UNION\n",
    "  SELECT SU.SEQN, RR.variable, SU.LBXRDW AS value, 0 AS deviation\n",
    "  FROM Survey SU, ReferenceRanges RR\n",
    "  WHERE RR.variable='LBXRDW'\n",
    "UNION\n",
    "  SELECT SU.SEQN, RR.variable, SU.LBXPLTSI AS value, 0 AS deviation\n",
    "  FROM Survey SU, ReferenceRanges RR\n",
    "  WHERE RR.variable='LBXPLTSI'\n",
    "UNION\n",
    "  SELECT SU.SEQN, RR.variable, SU.LBXMPSI AS value, 0 AS deviation\n",
    "  FROM Survey SU, ReferenceRanges RR\n",
    "  WHERE RR.variable='LBXMPSI'\n",
    ";\n",
    "\n",
    "-- transformation of the view in a table to enable updates\n",
    "DROP TABLE IF EXISTS VerticalSurveyD;\n",
    "CREATE TABLE VerticalSurveyD (\n",
    "  SEQN VARCHAR(8),\n",
    "  variable VARCHAR(8),\n",
    "  value DECIMAL(7,1),\n",
    "  deviation DECIMAL(7,1),\n",
    "  PRIMARY KEY(SEQN, variable)\n",
    ") AS SELECT * FROM VerticalSurvey;\n",
    "\n",
    "CALL CSVWRITE('../data/nhanes2005-2006/vertical-survey.csv', 'SELECT SEQN,variable,value FROM VerticalSurvey');"
   ]
  },
  {
   "cell_type": "markdown",
   "metadata": {},
   "source": [
    "## Computation of the deviation value for the variables that are out of the limits"
   ]
  },
  {
   "cell_type": "code",
   "execution_count": 14,
   "metadata": {},
   "outputs": [
    {
     "data": {
      "application/vnd.jupyter.widget-view+json": {
       "model_id": "13e78e3d-792b-4430-b94e-cd910fe2394c",
       "version_major": 2,
       "version_minor": 0
      },
      "method": "display_data"
     },
     "metadata": {},
     "output_type": "display_data"
    },
    {
     "data": {
      "application/vnd.jupyter.widget-view+json": {
       "model_id": "da91e38c-0e5e-4bd3-95b0-9b7cf3045fdc",
       "version_major": 2,
       "version_minor": 0
      },
      "method": "display_data"
     },
     "metadata": {},
     "output_type": "display_data"
    }
   ],
   "source": [
    "UPDATE VerticalSurveyD VS\n",
    "SET VS.deviation =\n",
    "(SELECT RRa.min-VS.value\n",
    " FROM Survey SUa, ReferenceRanges RRa\n",
    " WHERE RRa.variable=VS.variable AND SUa.SEQN=VS.SEQN AND SUa.RIAGENDR=RRa.gender AND SUa.RIDAGEYR>=RRa.ageStart AND SUa.RIDAGEYR<=RRa.ageEnd AND VS.value<RRa.min)\n",
    "WHERE EXISTS\n",
    "(SELECT RRb.min\n",
    " FROM Survey SUb, ReferenceRanges RRb\n",
    " WHERE RRb.variable=VS.variable AND SUb.SEQN=VS.SEQN AND SUb.RIAGENDR=RRb.gender AND SUb.RIDAGEYR>=RRb.ageStart AND SUb.RIDAGEYR<=RRb.ageEnd AND VS.value<RRb.min);\n",
    "\n",
    "UPDATE VerticalSurveyD VS\n",
    "SET VS.deviation =\n",
    "(SELECT VS.value-RRa.max\n",
    " FROM Survey SUa, ReferenceRanges RRa\n",
    " WHERE RRa.variable=VS.variable AND SUa.SEQN=VS.SEQN AND SUa.RIAGENDR=RRa.gender AND SUa.RIDAGEYR>=RRa.ageStart AND SUa.RIDAGEYR<=RRa.ageEnd AND VS.value>RRa.max)\n",
    "WHERE EXISTS\n",
    "(SELECT RRb.max\n",
    " FROM Survey SUb, ReferenceRanges RRb\n",
    " WHERE RRb.variable=VS.variable AND SUb.SEQN=VS.SEQN AND SUb.RIAGENDR=RRb.gender AND SUb.RIDAGEYR>=RRb.ageStart AND SUb.RIDAGEYR<=RRb.ageEnd AND VS.value>RRb.max);\n",
    " \n",
    "SELECT * FROM VerticalSurveyD WHERE deviation > 0;\n",
    "\n",
    "CALL CSVWRITE('../data/nhanes2005-2006/vertical-survey-deviation.csv', 'SELECT * FROM VerticalSurveyD WHERE deviation > 0');"
   ]
  },
  {
   "cell_type": "markdown",
   "metadata": {},
   "source": [
    "## Number of abnormalities by variable"
   ]
  },
  {
   "cell_type": "code",
   "execution_count": 15,
   "metadata": {},
   "outputs": [
    {
     "data": {
      "application/vnd.jupyter.widget-view+json": {
       "model_id": "550de87e-3183-426d-b6e1-6795e7e9b72b",
       "version_major": 2,
       "version_minor": 0
      },
      "method": "display_data"
     },
     "metadata": {},
     "output_type": "display_data"
    },
    {
     "data": {
      "application/vnd.jupyter.widget-view+json": {
       "model_id": "be93c81d-1a7d-4776-9686-d32bca906ccd",
       "version_major": 2,
       "version_minor": 0
      },
      "method": "display_data"
     },
     "metadata": {},
     "output_type": "display_data"
    }
   ],
   "source": [
    "SELECT variable as id, COUNT(*) as weight FROM VerticalSurveyD VS WHERE deviation>0 GROUP BY variable;\n",
    "\n",
    "CALL CSVWRITE('../data/nhanes2005-2006/variable-number-deviation.csv', 'SELECT variable as id, COUNT(*) as weight FROM VerticalSurveyD VS WHERE deviation>0 GROUP BY variable');"
   ]
  },
  {
   "cell_type": "markdown",
   "metadata": {},
   "source": [
    "## Variable correlation by person\n",
    "\n",
    "* Pairwise correlation of variables that cooccur in the same person."
   ]
  },
  {
   "cell_type": "code",
   "execution_count": 16,
   "metadata": {},
   "outputs": [
    {
     "data": {
      "application/vnd.jupyter.widget-view+json": {
       "model_id": "9d331ff0-d3ec-41e8-a6be-496b94fe5754",
       "version_major": 2,
       "version_minor": 0
      },
      "method": "display_data"
     },
     "metadata": {},
     "output_type": "display_data"
    }
   ],
   "source": [
    "DROP VIEW IF EXISTS VariablePairCorrelation;\n",
    "DROP VIEW IF EXISTS IndividualVariablesCorrelation;\n",
    "\n",
    "CREATE VIEW IndividualVariablesCorrelation AS\n",
    "SELECT VS1.SEQN, CM.profile, VC.var1, VC.var2\n",
    "FROM VariablesCorrelation VC, VerticalSurveyD VS1, VerticalSurveyD VS2, CorrelationMatrix CM\n",
    "WHERE VS1.SEQN = VS2.SEQN AND VS1.variable = VC.var1 AND VS2.variable = VC.var2 AND \n",
    "      VS1.deviation > 0 AND VS2.deviation > 0 AND\n",
    "      VS1.SEQN = CM.SEQN;\n",
    "\n",
    "SELECT * FROM IndividualVariablesCorrelation\n",
    "ORDER BY var1, var2;"
   ]
  },
  {
   "cell_type": "markdown",
   "metadata": {},
   "source": [
    "## Correlation of variable pairs\n",
    "\n",
    "* Aggregation of correlations of variable pairs.\n",
    "* Preparation to build a network where variables are vertices and edges connect variables that surpassed the limits together for the same person."
   ]
  },
  {
   "cell_type": "code",
   "execution_count": 17,
   "metadata": {},
   "outputs": [
    {
     "data": {
      "application/vnd.jupyter.widget-view+json": {
       "model_id": "b96c7059-9a62-429d-8409-f9661e85bfce",
       "version_major": 2,
       "version_minor": 0
      },
      "method": "display_data"
     },
     "metadata": {},
     "output_type": "display_data"
    },
    {
     "data": {
      "application/vnd.jupyter.widget-view+json": {
       "model_id": "473b2256-6705-4266-92b7-6965c7d692cf",
       "version_major": 2,
       "version_minor": 0
      },
      "method": "display_data"
     },
     "metadata": {},
     "output_type": "display_data"
    }
   ],
   "source": [
    "DROP VIEW IF EXISTS VariablePairCorrelation;\n",
    "CREATE VIEW VariablePairCorrelation AS\n",
    "SELECT var1 AS source, var2 as TARGET, COUNT(*) AS weight\n",
    "FROM IndividualVariablesCorrelation\n",
    "GROUP BY var1, var2;\n",
    "\n",
    "SELECT * FROM VariablePairCorrelation;\n",
    "\n",
    "CALL CSVWRITE('../data/nhanes2005-2006/variable-pair-correlation.csv', 'SELECT * FROM VariablePairCorrelation');"
   ]
  },
  {
   "cell_type": "markdown",
   "metadata": {},
   "source": [
    "# Exercise\n",
    "\n",
    "Import the file previously created `/data/nhanes2005-2006/variable-pair-correlation.csv` in the Gephi. Which analyses can you do? Insert in the cell below an image of your analyses and a brief description of the result."
   ]
  },
  {
   "cell_type": "markdown",
   "metadata": {},
   "source": []
  },
  {
   "cell_type": "markdown",
   "metadata": {},
   "source": [
    "## Finishing Part 1\n",
    "\n",
    "* This notebook is divided into three parts due to memory constraints. The next part is the notebook `sql-network-02-nhanes-complete-p2`."
   ]
  }
 ],
 "metadata": {
  "kernelspec": {
   "display_name": "SQL",
   "language": "SQL",
   "name": "sql"
  },
  "language_info": {
   "codemirror_mode": "sql",
   "file_extension": ".sql",
   "mimetype": "",
   "name": "SQL",
   "nbconverter_exporter": "",
   "version": ""
  },
  "toc": {
   "base_numbering": 1,
   "nav_menu": {},
   "number_sections": false,
   "sideBar": false,
   "skip_h1_title": false,
   "title_cell": "Table of Contents",
   "title_sidebar": "Contents",
   "toc_cell": false,
   "toc_position": {},
   "toc_section_display": false,
   "toc_window_display": false
  }
 },
 "nbformat": 4,
 "nbformat_minor": 2
}
