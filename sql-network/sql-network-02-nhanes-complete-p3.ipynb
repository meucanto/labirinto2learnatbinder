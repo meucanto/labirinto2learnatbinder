{
 "cells": [
  {
   "cell_type": "markdown",
   "metadata": {},
   "source": [
    "# NHANES Analysis of Anemia Variables - Part 3\n",
    "\n",
    "In this sequence of notebooks, we will analyze the correlation among variables and profiles of individuals examined in NHANES survey. The focus is on variables related to anemia diagnosis. This work is based on the research of Patrícia Raia Nogueira Cavoto.\n",
    "\n",
    "\n",
    "## Selecting the driver\n",
    "The sentence below defines the driver for the database."
   ]
  },
  {
   "cell_type": "code",
   "execution_count": 1,
   "metadata": {},
   "outputs": [],
   "source": [
    "%defaultDatasource jdbc:h2:mem:db"
   ]
  },
  {
   "cell_type": "markdown",
   "metadata": {},
   "source": [
    "# Profiles Network\n",
    "\n",
    "* In this network each node is a profile and each edge indicates that two profiles are correlated in a certain intensity.\n",
    "\n",
    "## Starting Part 3\n",
    "\n",
    "* This notebook is divided into three parts due to memory constraints. The queries below retrieve files produced in the previous part (`sql-network-02-nhanes-complete-p2`)."
   ]
  },
  {
   "cell_type": "code",
   "execution_count": 2,
   "metadata": {},
   "outputs": [],
   "source": [
    "DROP TABLE IF EXISTS ProfileCorrelation;\n",
    "CREATE TABLE ProfileCorrelation (\n",
    "  SEQN1 VARCHAR(8),\n",
    "  profile1 VARCHAR(18),\n",
    "  SEQN2 VARCHAR(8),\n",
    "  profile2 VARCHAR(18)\n",
    ") AS SELECT\n",
    "  SEQN1, profile1, SEQN2, profile2\n",
    "FROM CSVREAD('../data/nhanes2005-2006/profile-pair-correlation.csv');"
   ]
  },
  {
   "cell_type": "markdown",
   "metadata": {},
   "source": [
    "## Correlation with counting\n",
    "\n",
    "In the following query, the weight of correlation between two profiles is based on the number of individuals sharing variables out of ranges. If two individuals share more than one variable, it is computed as one correlation (the number of shared variables does not affect the weight of the correlation among profiles)."
   ]
  },
  {
   "cell_type": "code",
   "execution_count": 3,
   "metadata": {},
   "outputs": [
    {
     "data": {
      "application/vnd.jupyter.widget-view+json": {
       "model_id": "eeb26414-6f61-498e-a5e9-f4f869f4f974",
       "version_major": 2,
       "version_minor": 0
      },
      "method": "display_data"
     },
     "metadata": {},
     "output_type": "display_data"
    },
    {
     "data": {
      "application/vnd.jupyter.widget-view+json": {
       "model_id": "cdd33520-dd91-48f2-a5a9-a9fd221063a6",
       "version_major": 2,
       "version_minor": 0
      },
      "method": "display_data"
     },
     "metadata": {},
     "output_type": "display_data"
    }
   ],
   "source": [
    "DROP VIEW IF EXISTS ProfileCorrFinalNWeight;\n",
    "DROP VIEW IF EXISTS ProfileCorrNWeight;\n",
    "DROP VIEW IF EXISTS ProfileCorrelationNWeight;\n",
    "DROP VIEW IF EXISTS ProfileCorrelationUnique;\n",
    "\n",
    "CREATE VIEW ProfileCorrelationUnique AS\n",
    "  SELECT DISTINCT * FROM ProfileCorrelation;\n",
    "\n",
    "CREATE VIEW ProfileCorrelationNWeight AS\n",
    "  SELECT PC.profile1 AS source, PC.profile2 as target, COUNT(*) as weight\n",
    "  FROM ProfileCorrelationUnique PC\n",
    "  GROUP BY PC.profile1, PC.profile2;\n",
    "  \n",
    "CREATE VIEW ProfileCorrNWeight AS\n",
    "SELECT source, target, weight w FROM ProfileCorrelationNWeight WHERE source < target\n",
    "UNION\n",
    "SELECT target, source, weight w FROM ProfileCorrelationNWeight WHERE source > target;\n",
    "\n",
    "CREATE VIEW ProfileCorrFinalNWeight AS\n",
    "SELECT source, target, SUM(w) AS weight\n",
    "FROM ProfileCorrNWeight\n",
    "GROUP BY source, target;\n",
    "\n",
    "SELECT * FROM ProfileCorrFinalNWeight;\n",
    "\n",
    "-- Gravação de pares de perfis com similaridade para rede\n",
    "CALL CSVWRITE('../data/nhanes2005-2006/profile-pair-correlation-number.csv', 'SELECT * FROM ProfileCorrFinalNWeight');"
   ]
  },
  {
   "cell_type": "markdown",
   "metadata": {},
   "source": [
    "# Exercise\n",
    "\n",
    "Import the file previously created `/data/nhanes2005-2006/profile-pair-correlation-number.csv` in the Gephi. Which analyses can you do? Insert in the cell below an image of your analyses and a brief description of the result."
   ]
  },
  {
   "cell_type": "markdown",
   "metadata": {},
   "source": []
  }
 ],
 "metadata": {
  "kernelspec": {
   "display_name": "SQL",
   "language": "SQL",
   "name": "sql"
  },
  "language_info": {
   "codemirror_mode": "sql",
   "file_extension": ".sql",
   "mimetype": "",
   "name": "SQL",
   "nbconverter_exporter": "",
   "version": ""
  },
  "toc": {
   "base_numbering": 1,
   "nav_menu": {},
   "number_sections": false,
   "sideBar": false,
   "skip_h1_title": false,
   "title_cell": "Table of Contents",
   "title_sidebar": "Contents",
   "toc_cell": false,
   "toc_position": {},
   "toc_section_display": false,
   "toc_window_display": false
  }
 },
 "nbformat": 4,
 "nbformat_minor": 2
}
