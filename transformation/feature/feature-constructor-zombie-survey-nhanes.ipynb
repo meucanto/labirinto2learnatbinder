{
 "cells": [
  {
   "cell_type": "code",
   "execution_count": 1,
   "metadata": {},
   "outputs": [],
   "source": [
    "%defaultDatasource jdbc:h2:mem:db"
   ]
  },
  {
   "cell_type": "markdown",
   "metadata": {},
   "source": [
    "# Zombie Survey Dataset (`zombies-survey.csv`)\n",
    "* name - Zombie name\n",
    "* type - biological, chemical or technological\n",
    "* gender - the gender before becoming a zombie\n",
    "* weight - weight in kg\n",
    "* height - height in m\n",
    "* GBC - Green Blood Cells (million cells per microliter - mcL)\n",
    "* GS - Green Substance (g/dL - grams per deciliter)\n",
    "* PBC - Purple Blood Cells (million cells per microliter - mcL)\n",
    "* SP - Sticky Paste (g/dL - grams per deciliter)"
   ]
  },
  {
   "cell_type": "code",
   "execution_count": 2,
   "metadata": {},
   "outputs": [],
   "source": [
    "DROP TABLE IF EXISTS Survey;\n",
    "\n",
    "CREATE TABLE Survey (\n",
    "  name VARCHAR(50),\n",
    "  type VARCHAR(13) NOT NULL,\n",
    "  gender VARCHAR(6) NOT NULL,\n",
    "  height DECIMAL(4,1),\n",
    "  weight DECIMAL(6,2),\n",
    "  gbc DECIMAL(4,1),\n",
    "  gs INTEGER,\n",
    "  pbc DECIMAL(4,1),\n",
    "  sp DECIMAL(4,1),\n",
    "  stature VARCHAR(7),\n",
    "  PRIMARY KEY(name)\n",
    ") AS SELECT\n",
    "  name,type,gender,height,weight,gbc,gs,pbc,sp,'regular'\n",
    "FROM CSVREAD('../../data/zombie/zombie-health/zombies-survey.csv');"
   ]
  },
  {
   "cell_type": "code",
   "execution_count": 3,
   "metadata": {},
   "outputs": [
    {
     "data": {
      "application/vnd.jupyter.widget-view+json": {
       "model_id": "3b992615-d24f-4c34-9240-ae04524376b8",
       "version_major": 2,
       "version_minor": 0
      },
      "method": "display_data"
     },
     "metadata": {},
     "output_type": "display_data"
    }
   ],
   "source": [
    "SELECT * FROM Survey;"
   ]
  },
  {
   "cell_type": "markdown",
   "metadata": {},
   "source": [
    "## Caracterização (Feature)\n",
    "\n",
    "### Estatura: alta, média e baixa"
   ]
  },
  {
   "cell_type": "code",
   "execution_count": 4,
   "metadata": {},
   "outputs": [],
   "source": [
    "UPDATE Survey\n",
    "SET stature = 'short' WHERE height < 1.6;\n",
    "\n",
    "UPDATE Survey\n",
    "SET stature = 'tall' WHERE height > 1.85;"
   ]
  },
  {
   "cell_type": "code",
   "execution_count": 5,
   "metadata": {},
   "outputs": [
    {
     "data": {
      "application/vnd.jupyter.widget-view+json": {
       "model_id": "1d0ecb1a-85b2-491d-9156-e7123b11f711",
       "version_major": 2,
       "version_minor": 0
      },
      "method": "display_data"
     },
     "metadata": {},
     "output_type": "display_data"
    }
   ],
   "source": [
    "SELECT * FROM Survey;"
   ]
  },
  {
   "cell_type": "markdown",
   "metadata": {},
   "source": [
    "## Pergunta: *Há alteração sigficativa da média do peso de acordo com a estatura?*"
   ]
  },
  {
   "cell_type": "code",
   "execution_count": 6,
   "metadata": {},
   "outputs": [
    {
     "data": {
      "application/vnd.jupyter.widget-view+json": {
       "model_id": "a888c56e-4dd2-4398-9092-475da2f25e0c",
       "version_major": 2,
       "version_minor": 0
      },
      "method": "display_data"
     },
     "metadata": {},
     "output_type": "display_data"
    }
   ],
   "source": [
    "SELECT stature, AVG(weight) FROM Survey GROUP BY stature ORDER BY AVG(weight);"
   ]
  },
  {
   "cell_type": "markdown",
   "metadata": {},
   "source": [
    "## Pergunta: *O tipo de zumbi afeta na distribuição das alturas?*"
   ]
  },
  {
   "cell_type": "code",
   "execution_count": 7,
   "metadata": {},
   "outputs": [
    {
     "data": {
      "application/vnd.jupyter.widget-view+json": {
       "model_id": "46654c75-1075-4f9e-bcb0-26d94c410996",
       "version_major": 2,
       "version_minor": 0
      },
      "method": "display_data"
     },
     "metadata": {},
     "output_type": "display_data"
    }
   ],
   "source": [
    "SELECT type, stature, COUNT(*) FROM Survey GROUP BY type, stature ORDER BY type, stature;"
   ]
  },
  {
   "cell_type": "markdown",
   "metadata": {},
   "source": [
    "## Pergunta: *Há diferença de altura entre zumbis masculinos e femininos?*"
   ]
  },
  {
   "cell_type": "code",
   "execution_count": 8,
   "metadata": {},
   "outputs": [
    {
     "data": {
      "application/vnd.jupyter.widget-view+json": {
       "model_id": "4f09940e-93d1-4bdd-881c-dbbd93830ffc",
       "version_major": 2,
       "version_minor": 0
      },
      "method": "display_data"
     },
     "metadata": {},
     "output_type": "display_data"
    }
   ],
   "source": [
    "SELECT gender, stature, COUNT(*) FROM Survey GROUP BY gender, stature ORDER BY gender, stature;"
   ]
  },
  {
   "cell_type": "markdown",
   "metadata": {},
   "source": [
    "# National Health and Nutrition Examination Survey\n",
    "[https://wwwn.cdc.gov/nchs/nhanes/](https://wwwn.cdc.gov/nchs/nhanes/)\n",
    "\n",
    "## NHANES datasets from 2013-2014\n",
    "\n",
    "This dataset was extracted from [NHANES 2013-2014](https://wwwn.cdc.gov/nchs/nhanes/continuousnhanes/default.aspx?BeginYear=2013). The following tables are available:\n",
    "\n",
    "### `demographic-person.csv`\n",
    "\n",
    "Persons who participated in the survey.\n",
    "\n",
    "| field | description | domain |\n",
    "|-------|-------------|--------|\n",
    "| `id` | id of a participant | number |\n",
    "| `gender` | gender of the participant | `1` - male; `2` - female |\n",
    "| `age` | age of the participant | number |\n",
    "\n",
    "### `medications-drug.csv`\n",
    "\n",
    "Drugs catalog.\n",
    "\n",
    "| field | description | domain |\n",
    "|-------|-------------|--------|\n",
    "| `code` | code of the drug | string |\n",
    "| `name` | name of the drug | string |\n",
    "\n",
    "### `medications-use.csv`\n",
    "\n",
    "Records drugs used by participants in the survey and how many days they are continuously using the drug.\n",
    "\n",
    "| field | description | domain |\n",
    "|-------|-------------|--------|\n",
    "| `person_id` | id of a participant in the survey | number |\n",
    "| `drug_code` | code of a drug in the catalog | string |\n",
    "| `days_use` | number of days of use |"
   ]
  },
  {
   "cell_type": "code",
   "execution_count": 9,
   "metadata": {},
   "outputs": [],
   "source": [
    "DROP TABLE IF EXISTS Pessoa;\n",
    "DROP TABLE IF EXISTS Medicamento;\n",
    "DROP TABLE IF EXISTS UsoMedicamento;\n",
    "\n",
    "CREATE TABLE Pessoa (\n",
    "  Id VARCHAR(5) NOT NULL,\n",
    "  Genero INTEGER,\n",
    "  Idade INTEGER,\n",
    "  FaixaEtaria VARCHAR(11),\n",
    "  NumeroMedicamentos FLOAT,\n",
    "  MedPoucos BOOLEAN,\n",
    "  MedMuitos BOOLEAN,\n",
    "  MedAcimaMedia BOOLEAN,\n",
    "  PRIMARY KEY(Id)\n",
    ") AS SELECT\n",
    "    id,\n",
    "    gender,\n",
    "    age,\n",
    "    'adulto',\n",
    "    0,\n",
    "    NULL,\n",
    "    NULL,\n",
    "    FALSE\n",
    "FROM CSVREAD('../../data/nhanes/demographic-person.csv');\n",
    "\n",
    "CREATE TABLE Medicamento (\n",
    "  Codigo VARCHAR(6) NOT NULL,\n",
    "  NomeMedicamento VARCHAR(100) NOT NULL,\n",
    "  PRIMARY KEY(Codigo)\n",
    ") AS SELECT\n",
    "    code,\n",
    "    name\n",
    "FROM CSVREAD('../../data/nhanes/medications-drug.csv');\n",
    "\n",
    "CREATE TABLE UsoMedicamento (\n",
    "  IdPessoa VARCHAR(5) NOT NULL,\n",
    "  CodMedicamento VARCHAR(6) NOT NULL,\n",
    "  DiasUso INTEGER,\n",
    "  FOREIGN KEY(IdPessoa)\n",
    "    REFERENCES Pessoa(Id)\n",
    "      ON DELETE NO ACTION\n",
    "      ON UPDATE NO ACTION,\n",
    "  FOREIGN KEY(CodMedicamento)\n",
    "    REFERENCES Medicamento(Codigo)\n",
    "      ON DELETE NO ACTION\n",
    "      ON UPDATE NO ACTION\n",
    ") AS SELECT\n",
    "    person_id,\n",
    "    drug_code,\n",
    "    days_use\n",
    "FROM CSVREAD('../../data/nhanes/medications-use.csv');"
   ]
  },
  {
   "cell_type": "code",
   "execution_count": 10,
   "metadata": {},
   "outputs": [
    {
     "data": {
      "application/vnd.jupyter.widget-view+json": {
       "model_id": "5de14e37-349c-4262-b1b2-84c889abd47f",
       "version_major": 2,
       "version_minor": 0
      },
      "method": "display_data"
     },
     "metadata": {},
     "output_type": "display_data"
    },
    {
     "data": {
      "application/vnd.jupyter.widget-view+json": {
       "model_id": "0dda58eb-63ea-485a-aeae-12d7994a0e13",
       "version_major": 2,
       "version_minor": 0
      },
      "method": "display_data"
     },
     "metadata": {},
     "output_type": "display_data"
    },
    {
     "data": {
      "application/vnd.jupyter.widget-view+json": {
       "model_id": "c49616fe-9b2a-4d3c-ae95-c6a7e12ab532",
       "version_major": 2,
       "version_minor": 0
      },
      "method": "display_data"
     },
     "metadata": {},
     "output_type": "display_data"
    }
   ],
   "source": [
    "SELECT * FROM Pessoa;\n",
    "SELECT * FROM Medicamento;\n",
    "SELECT * FROM UsoMedicamento;"
   ]
  },
  {
   "cell_type": "markdown",
   "metadata": {},
   "source": [
    "## Caracterizações (features) para Análise de comportamento estatístico\n",
    "* **NumeroMedicamentos** - número de medicamentos tomados por pessoa\n",
    "* **MedPoucos** - pessoas que tomam poucos medicamentos (até um medicamento)\n",
    "* **MedMuitos** - pessoas que tomam muitos medicamentos (três ou mais medicamentos)\n",
    "* **MedAcimaMedia** - pessoas que tomam mais medicamentos do que a média"
   ]
  },
  {
   "cell_type": "code",
   "execution_count": 11,
   "metadata": {},
   "outputs": [],
   "source": [
    "Update Pessoa p\n",
    "SET NumeroMedicamentos = (SELECT COUNT(CodMedicamento) NumeroMedicamentos\n",
    "                          FROM UsoMedicamento um\n",
    "                          WHERE um.IdPessoa = p.Id);"
   ]
  },
  {
   "cell_type": "code",
   "execution_count": 12,
   "metadata": {},
   "outputs": [
    {
     "data": {
      "application/vnd.jupyter.widget-view+json": {
       "model_id": "ab2f2464-2ba3-463c-a94e-6d9a28bbb53a",
       "version_major": 2,
       "version_minor": 0
      },
      "method": "display_data"
     },
     "metadata": {},
     "output_type": "display_data"
    }
   ],
   "source": [
    "SELECT * FROM Pessoa;"
   ]
  },
  {
   "cell_type": "code",
   "execution_count": 13,
   "metadata": {},
   "outputs": [
    {
     "data": {
      "text/plain": [
       "3.4753285395487232"
      ]
     },
     "execution_count": 13,
     "metadata": {},
     "output_type": "execute_result"
    }
   ],
   "source": [
    "SELECT AVG(NumeroMedicamentos) FROM Pessoa WHERE NumeroMedicamentos > 0;"
   ]
  },
  {
   "cell_type": "code",
   "execution_count": 14,
   "metadata": {},
   "outputs": [],
   "source": [
    "Update Pessoa\n",
    "SET FaixaEtaria = 'crianca'\n",
    "WHERE Idade <= 10;\n",
    "\n",
    "Update Pessoa\n",
    "SET FaixaEtaria = 'adolescente'\n",
    "WHERE Idade > 10 AND Idade <= 17;\n",
    "\n",
    "Update Pessoa\n",
    "SET FaixaEtaria = 'meia-idade'\n",
    "WHERE Idade >= 40 AND Idade <= 64;\n",
    "\n",
    "Update Pessoa\n",
    "SET FaixaEtaria = 'idoso'\n",
    "WHERE Idade > 64;"
   ]
  },
  {
   "cell_type": "code",
   "execution_count": 15,
   "metadata": {},
   "outputs": [],
   "source": [
    "Update Pessoa\n",
    "SET MedPoucos = TRUE\n",
    "WHERE NumeroMedicamentos <= 1;\n",
    "\n",
    "Update Pessoa\n",
    "SET MedMuitos = TRUE\n",
    "WHERE NumeroMedicamentos >= 3;\n",
    "\n",
    "Update Pessoa\n",
    "SET MedAcimaMedia = TRUE\n",
    "WHERE NumeroMedicamentos > (SELECT AVG(NumeroMedicamentos) FROM Pessoa WHERE NumeroMedicamentos > 0);"
   ]
  },
  {
   "cell_type": "code",
   "execution_count": 16,
   "metadata": {},
   "outputs": [
    {
     "data": {
      "application/vnd.jupyter.widget-view+json": {
       "model_id": "73855b13-de8e-4940-a515-a378d678ab70",
       "version_major": 2,
       "version_minor": 0
      },
      "method": "display_data"
     },
     "metadata": {},
     "output_type": "display_data"
    }
   ],
   "source": [
    "SELECT * FROM Pessoa;"
   ]
  },
  {
   "cell_type": "markdown",
   "metadata": {},
   "source": [
    "## Pergunta: *Qual a distribuição de uso de número de medicamentos por faixa etária?*"
   ]
  },
  {
   "cell_type": "code",
   "execution_count": 17,
   "metadata": {},
   "outputs": [
    {
     "data": {
      "application/vnd.jupyter.widget-view+json": {
       "model_id": "2dfee3e8-9941-4cf5-84d2-6929f3460fc9",
       "version_major": 2,
       "version_minor": 0
      },
      "method": "display_data"
     },
     "metadata": {},
     "output_type": "display_data"
    }
   ],
   "source": [
    "SELECT FaixaEtaria, AVG(NumeroMedicamentos) Media\n",
    "FROM Pessoa WHERE NumeroMedicamentos > 0\n",
    "GROUP BY FaixaEtaria ORDER BY FaixaEtaria;"
   ]
  },
  {
   "cell_type": "markdown",
   "metadata": {},
   "source": [
    "## Discriminação de Dados\n",
    "\n",
    "### Muitos Medicamentos x Poucos Medicamentos\n",
    "\n",
    "* 96.5% das pessoas que tomam poucos medicamentos não é idoso\n",
    "* 85.7% das pessoas que tomam muitos medicamentos é de meia idade ou idoso."
   ]
  },
  {
   "cell_type": "code",
   "execution_count": 18,
   "metadata": {},
   "outputs": [
    {
     "data": {
      "text/plain": [
       "3636"
      ]
     },
     "execution_count": 18,
     "metadata": {},
     "output_type": "execute_result"
    }
   ],
   "source": [
    "SELECT COUNT(*) FROM Pessoa WHERE MedPoucos = TRUE AND Idade >= 18;"
   ]
  },
  {
   "cell_type": "code",
   "execution_count": 19,
   "metadata": {},
   "outputs": [
    {
     "data": {
      "text/plain": [
       "2013"
      ]
     },
     "execution_count": 19,
     "metadata": {},
     "output_type": "execute_result"
    }
   ],
   "source": [
    "SELECT COUNT(*) FROM Pessoa WHERE MedMuitos = TRUE;"
   ]
  },
  {
   "cell_type": "code",
   "execution_count": 20,
   "metadata": {},
   "outputs": [
    {
     "data": {
      "text/plain": [
       "96.48484848484848"
      ]
     },
     "execution_count": 20,
     "metadata": {},
     "output_type": "execute_result"
    }
   ],
   "source": [
    "SELECT\n",
    "(SELECT CAST(COUNT(*) AS FLOAT) FROM Pessoa WHERE MedPoucos = TRUE AND (FaixaEtaria <> 'idoso')) /\n",
    "(SELECT COUNT(*) FROM Pessoa WHERE MedPoucos = TRUE) * 100;"
   ]
  },
  {
   "cell_type": "code",
   "execution_count": 21,
   "metadata": {},
   "outputs": [
    {
     "data": {
      "text/plain": [
       "85.6929955290611"
      ]
     },
     "execution_count": 21,
     "metadata": {},
     "output_type": "execute_result"
    }
   ],
   "source": [
    "SELECT\n",
    "(SELECT CAST(COUNT(*) AS FLOAT) FROM Pessoa WHERE MedMuitos = TRUE AND\n",
    "                                                  (FaixaEtaria = 'meia-idade' OR FaixaEtaria = 'idoso')) /\n",
    "(SELECT COUNT(*) FROM Pessoa WHERE MedMuitos = TRUE) * 100;"
   ]
  },
  {
   "cell_type": "markdown",
   "metadata": {},
   "source": [
    "## Pergunta: *Qual a proporção de pessoas que tomam poucos medicamentos versus que tomam muitos medicamentos por faixa etária?*"
   ]
  },
  {
   "cell_type": "code",
   "execution_count": 22,
   "metadata": {},
   "outputs": [
    {
     "data": {
      "application/vnd.jupyter.widget-view+json": {
       "model_id": "6d352ccc-eb7a-43d2-b0ec-81c29ee88b3a",
       "version_major": 2,
       "version_minor": 0
      },
      "method": "display_data"
     },
     "metadata": {},
     "output_type": "display_data"
    }
   ],
   "source": [
    "SELECT FaixaEtaria, COUNT(MedPoucos) Poucos, COUNT(MedMuitos) Muitos,\n",
    "       Cast(COUNT(MedPoucos) AS FLOAT) / COUNT(MedMuitos) Proportion\n",
    "FROM Pessoa GROUP BY FaixaEtaria;"
   ]
  },
  {
   "cell_type": "markdown",
   "metadata": {},
   "source": [
    "## Pergunta: *Há diferença significativa de média de uso de medicamentos de acordo com o gênero, dentro das faixas etárias?*"
   ]
  },
  {
   "cell_type": "code",
   "execution_count": 23,
   "metadata": {},
   "outputs": [
    {
     "data": {
      "application/vnd.jupyter.widget-view+json": {
       "model_id": "424ec853-1ad7-4ae8-aa2c-b41e6ae0ad22",
       "version_major": 2,
       "version_minor": 0
      },
      "method": "display_data"
     },
     "metadata": {},
     "output_type": "display_data"
    }
   ],
   "source": [
    "SELECT FaixaEtaria, Genero, AVG(NumeroMedicamentos) Media\n",
    "FROM Pessoa WHERE NumeroMedicamentos > 0\n",
    "GROUP BY FaixaEtaria, Genero ORDER BY FaixaEtaria, Genero;"
   ]
  },
  {
   "cell_type": "code",
   "execution_count": 24,
   "metadata": {},
   "outputs": [],
   "source": [
    "DROP VIEW FaixaIdade IF EXISTS;\n",
    "\n",
    "CREATE VIEW FaixaIdadeMed AS\n",
    "SELECT NumeroMedicamentos, MIN(Idade) Minima, MAX(Idade) Maxima\n",
    "FROM Pessoa\n",
    "GROUP BY NumeroMedicamentos ORDER BY NumeroMedicamentos;"
   ]
  },
  {
   "cell_type": "code",
   "execution_count": 25,
   "metadata": {},
   "outputs": [
    {
     "data": {
      "application/vnd.jupyter.widget-view+json": {
       "model_id": "4a630fb5-121f-4c13-a688-e48dc2ab3d1b",
       "version_major": 2,
       "version_minor": 0
      },
      "method": "display_data"
     },
     "metadata": {},
     "output_type": "display_data"
    }
   ],
   "source": [
    "SELECT * FROM FaixaIdadeMed;"
   ]
  },
  {
   "cell_type": "code",
   "execution_count": 26,
   "metadata": {},
   "outputs": [
    {
     "data": {
      "application/vnd.jupyter.widget-view+json": {
       "model_id": "ccade44f-4a10-4dd3-9b9f-cacc78b6bb38",
       "version_major": 2,
       "version_minor": 0
      },
      "method": "display_data"
     },
     "metadata": {},
     "output_type": "display_data"
    }
   ],
   "source": [
    "SELECT AVG(Minima) MediaMinima, AVG(Maxima) MediaMaxima\n",
    "FROM FaixaIdadeMed\n",
    "WHERE NumeroMedicamentos <= 10;"
   ]
  },
  {
   "cell_type": "code",
   "execution_count": 27,
   "metadata": {},
   "outputs": [
    {
     "data": {
      "application/vnd.jupyter.widget-view+json": {
       "model_id": "6ff36921-d864-4c10-8961-82afd529920c",
       "version_major": 2,
       "version_minor": 0
      },
      "method": "display_data"
     },
     "metadata": {},
     "output_type": "display_data"
    }
   ],
   "source": [
    "SELECT AVG(Minima) MediaMinima, AVG(Maxima) MediaMaxima\n",
    "FROM FaixaIdadeMed\n",
    "WHERE NumeroMedicamentos > 10;"
   ]
  },
  {
   "cell_type": "markdown",
   "metadata": {},
   "source": [
    "## Exportando tabela em CSV para Análise no Orange"
   ]
  },
  {
   "cell_type": "code",
   "execution_count": 28,
   "metadata": {},
   "outputs": [],
   "source": [
    "UPDATE Pessoa\n",
    "SET MedPoucos = FALSE\n",
    "WHERE MedPoucos IS NULL;\n",
    "\n",
    "UPDATE Pessoa\n",
    "SET MedMuitos = FALSE\n",
    "WHERE MedMuitos IS NULL;"
   ]
  },
  {
   "cell_type": "code",
   "execution_count": 29,
   "metadata": {},
   "outputs": [
    {
     "data": {
      "text/plain": [
       "10175"
      ]
     },
     "execution_count": 29,
     "metadata": {},
     "output_type": "execute_result"
    }
   ],
   "source": [
    "CALL CSVWRITE('../../data/nhanes/demographic-person-enriched.csv', 'SELECT * FROM Pessoa');"
   ]
  }
 ],
 "metadata": {
  "kernelspec": {
   "display_name": "SQL",
   "language": "SQL",
   "name": "sql"
  },
  "language_info": {
   "codemirror_mode": "sql",
   "file_extension": ".sql",
   "mimetype": "",
   "name": "SQL",
   "nbconverter_exporter": "",
   "version": ""
  },
  "toc": {
   "base_numbering": 1,
   "nav_menu": {},
   "number_sections": false,
   "sideBar": false,
   "skip_h1_title": false,
   "title_cell": "Table of Contents",
   "title_sidebar": "Contents",
   "toc_cell": false,
   "toc_position": {},
   "toc_section_display": false,
   "toc_window_display": false
  }
 },
 "nbformat": 4,
 "nbformat_minor": 2
}
